{
 "cells": [
  {
   "cell_type": "code",
   "execution_count": 1,
   "id": "bbdda67f",
   "metadata": {
    "_cell_guid": "b1076dfc-b9ad-4769-8c92-a6c4dae69d19",
    "_uuid": "8f2839f25d086af736a60e9eeb907d3b93b6e0e5",
    "execution": {
     "iopub.execute_input": "2022-02-11T17:48:27.744109Z",
     "iopub.status.busy": "2022-02-11T17:48:27.743479Z",
     "iopub.status.idle": "2022-02-11T17:48:27.752872Z",
     "shell.execute_reply": "2022-02-11T17:48:27.753566Z",
     "shell.execute_reply.started": "2022-02-11T17:40:47.263928Z"
    },
    "papermill": {
     "duration": 0.049227,
     "end_time": "2022-02-11T17:48:27.753956",
     "exception": false,
     "start_time": "2022-02-11T17:48:27.704729",
     "status": "completed"
    },
    "tags": []
   },
   "outputs": [
    {
     "name": "stdout",
     "output_type": "stream",
     "text": [
      "/kaggle/input/titanic/train.csv\n",
      "/kaggle/input/titanic/test.csv\n",
      "/kaggle/input/titanic/gender_submission.csv\n"
     ]
    }
   ],
   "source": [
    "# This Python 3 environment comes with many helpful analytics libraries installed\n",
    "# It is defined by the kaggle/python Docker image: https://github.com/kaggle/docker-python\n",
    "# For example, here's several helpful packages to load\n",
    "\n",
    "import numpy as np # linear algebra\n",
    "import pandas as pd # data processing, CSV file I/O (e.g. pd.read_csv)\n",
    "\n",
    "# Input data files are available in the read-only \"../input/\" directory\n",
    "# For example, running this (by clicking run or pressing Shift+Enter) will list all files under the input directory\n",
    "\n",
    "import os\n",
    "for dirname, _, filenames in os.walk('/kaggle/input'):\n",
    "    for filename in filenames:\n",
    "        print(os.path.join(dirname, filename))\n",
    "\n",
    "# You can write up to 20GB to the current directory (/kaggle/working/) that gets preserved as output when you create a version using \"Save & Run All\" \n",
    "# You can also write temporary files to /kaggle/temp/, but they won't be saved outside of the current session"
   ]
  },
  {
   "cell_type": "code",
   "execution_count": 2,
   "id": "714b47ad",
   "metadata": {
    "execution": {
     "iopub.execute_input": "2022-02-11T17:48:27.818803Z",
     "iopub.status.busy": "2022-02-11T17:48:27.818056Z",
     "iopub.status.idle": "2022-02-11T17:48:27.851701Z",
     "shell.execute_reply": "2022-02-11T17:48:27.852305Z",
     "shell.execute_reply.started": "2022-02-11T17:40:47.519259Z"
    },
    "papermill": {
     "duration": 0.063415,
     "end_time": "2022-02-11T17:48:27.852493",
     "exception": false,
     "start_time": "2022-02-11T17:48:27.789078",
     "status": "completed"
    },
    "tags": []
   },
   "outputs": [
    {
     "data": {
      "text/html": [
       "<div>\n",
       "<style scoped>\n",
       "    .dataframe tbody tr th:only-of-type {\n",
       "        vertical-align: middle;\n",
       "    }\n",
       "\n",
       "    .dataframe tbody tr th {\n",
       "        vertical-align: top;\n",
       "    }\n",
       "\n",
       "    .dataframe thead th {\n",
       "        text-align: right;\n",
       "    }\n",
       "</style>\n",
       "<table border=\"1\" class=\"dataframe\">\n",
       "  <thead>\n",
       "    <tr style=\"text-align: right;\">\n",
       "      <th></th>\n",
       "      <th>PassengerId</th>\n",
       "      <th>Survived</th>\n",
       "      <th>Pclass</th>\n",
       "      <th>Name</th>\n",
       "      <th>Sex</th>\n",
       "      <th>Age</th>\n",
       "      <th>SibSp</th>\n",
       "      <th>Parch</th>\n",
       "      <th>Ticket</th>\n",
       "      <th>Fare</th>\n",
       "      <th>Cabin</th>\n",
       "      <th>Embarked</th>\n",
       "    </tr>\n",
       "  </thead>\n",
       "  <tbody>\n",
       "    <tr>\n",
       "      <th>0</th>\n",
       "      <td>1</td>\n",
       "      <td>0</td>\n",
       "      <td>3</td>\n",
       "      <td>Braund, Mr. Owen Harris</td>\n",
       "      <td>male</td>\n",
       "      <td>22.0</td>\n",
       "      <td>1</td>\n",
       "      <td>0</td>\n",
       "      <td>A/5 21171</td>\n",
       "      <td>7.2500</td>\n",
       "      <td>NaN</td>\n",
       "      <td>S</td>\n",
       "    </tr>\n",
       "    <tr>\n",
       "      <th>1</th>\n",
       "      <td>2</td>\n",
       "      <td>1</td>\n",
       "      <td>1</td>\n",
       "      <td>Cumings, Mrs. John Bradley (Florence Briggs Th...</td>\n",
       "      <td>female</td>\n",
       "      <td>38.0</td>\n",
       "      <td>1</td>\n",
       "      <td>0</td>\n",
       "      <td>PC 17599</td>\n",
       "      <td>71.2833</td>\n",
       "      <td>C85</td>\n",
       "      <td>C</td>\n",
       "    </tr>\n",
       "    <tr>\n",
       "      <th>2</th>\n",
       "      <td>3</td>\n",
       "      <td>1</td>\n",
       "      <td>3</td>\n",
       "      <td>Heikkinen, Miss. Laina</td>\n",
       "      <td>female</td>\n",
       "      <td>26.0</td>\n",
       "      <td>0</td>\n",
       "      <td>0</td>\n",
       "      <td>STON/O2. 3101282</td>\n",
       "      <td>7.9250</td>\n",
       "      <td>NaN</td>\n",
       "      <td>S</td>\n",
       "    </tr>\n",
       "    <tr>\n",
       "      <th>3</th>\n",
       "      <td>4</td>\n",
       "      <td>1</td>\n",
       "      <td>1</td>\n",
       "      <td>Futrelle, Mrs. Jacques Heath (Lily May Peel)</td>\n",
       "      <td>female</td>\n",
       "      <td>35.0</td>\n",
       "      <td>1</td>\n",
       "      <td>0</td>\n",
       "      <td>113803</td>\n",
       "      <td>53.1000</td>\n",
       "      <td>C123</td>\n",
       "      <td>S</td>\n",
       "    </tr>\n",
       "    <tr>\n",
       "      <th>4</th>\n",
       "      <td>5</td>\n",
       "      <td>0</td>\n",
       "      <td>3</td>\n",
       "      <td>Allen, Mr. William Henry</td>\n",
       "      <td>male</td>\n",
       "      <td>35.0</td>\n",
       "      <td>0</td>\n",
       "      <td>0</td>\n",
       "      <td>373450</td>\n",
       "      <td>8.0500</td>\n",
       "      <td>NaN</td>\n",
       "      <td>S</td>\n",
       "    </tr>\n",
       "  </tbody>\n",
       "</table>\n",
       "</div>"
      ],
      "text/plain": [
       "   PassengerId  Survived  Pclass  \\\n",
       "0            1         0       3   \n",
       "1            2         1       1   \n",
       "2            3         1       3   \n",
       "3            4         1       1   \n",
       "4            5         0       3   \n",
       "\n",
       "                                                Name     Sex   Age  SibSp  \\\n",
       "0                            Braund, Mr. Owen Harris    male  22.0      1   \n",
       "1  Cumings, Mrs. John Bradley (Florence Briggs Th...  female  38.0      1   \n",
       "2                             Heikkinen, Miss. Laina  female  26.0      0   \n",
       "3       Futrelle, Mrs. Jacques Heath (Lily May Peel)  female  35.0      1   \n",
       "4                           Allen, Mr. William Henry    male  35.0      0   \n",
       "\n",
       "   Parch            Ticket     Fare Cabin Embarked  \n",
       "0      0         A/5 21171   7.2500   NaN        S  \n",
       "1      0          PC 17599  71.2833   C85        C  \n",
       "2      0  STON/O2. 3101282   7.9250   NaN        S  \n",
       "3      0            113803  53.1000  C123        S  \n",
       "4      0            373450   8.0500   NaN        S  "
      ]
     },
     "execution_count": 2,
     "metadata": {},
     "output_type": "execute_result"
    }
   ],
   "source": [
    "train_data = pd.read_csv('/kaggle/input/titanic/train.csv')\n",
    "train_data.head()"
   ]
  },
  {
   "cell_type": "code",
   "execution_count": 3,
   "id": "a74bac53",
   "metadata": {
    "execution": {
     "iopub.execute_input": "2022-02-11T17:48:27.905750Z",
     "iopub.status.busy": "2022-02-11T17:48:27.905138Z",
     "iopub.status.idle": "2022-02-11T17:48:27.910463Z",
     "shell.execute_reply": "2022-02-11T17:48:27.911136Z",
     "shell.execute_reply.started": "2022-02-11T17:40:47.800802Z"
    },
    "papermill": {
     "duration": 0.033673,
     "end_time": "2022-02-11T17:48:27.911412",
     "exception": false,
     "start_time": "2022-02-11T17:48:27.877739",
     "status": "completed"
    },
    "tags": []
   },
   "outputs": [
    {
     "data": {
      "text/plain": [
       "(891, 12)"
      ]
     },
     "execution_count": 3,
     "metadata": {},
     "output_type": "execute_result"
    }
   ],
   "source": [
    "train_data.shape"
   ]
  },
  {
   "cell_type": "code",
   "execution_count": 4,
   "id": "e944f4fc",
   "metadata": {
    "execution": {
     "iopub.execute_input": "2022-02-11T17:48:27.967783Z",
     "iopub.status.busy": "2022-02-11T17:48:27.967070Z",
     "iopub.status.idle": "2022-02-11T17:48:29.368554Z",
     "shell.execute_reply": "2022-02-11T17:48:29.368008Z",
     "shell.execute_reply.started": "2022-02-11T17:40:48.316271Z"
    },
    "papermill": {
     "duration": 1.430574,
     "end_time": "2022-02-11T17:48:29.368708",
     "exception": false,
     "start_time": "2022-02-11T17:48:27.938134",
     "status": "completed"
    },
    "tags": []
   },
   "outputs": [],
   "source": [
    "# Algorithms\n",
    "from sklearn import linear_model\n",
    "from sklearn.linear_model import LogisticRegression\n",
    "from sklearn.ensemble import RandomForestClassifier\n",
    "from sklearn.linear_model import Perceptron\n",
    "from sklearn.linear_model import SGDClassifier\n",
    "from sklearn.tree import DecisionTreeClassifier\n",
    "from sklearn.neighbors import KNeighborsClassifier\n",
    "from sklearn.svm import SVC, LinearSVC\n",
    "from sklearn.naive_bayes import GaussianNB"
   ]
  },
  {
   "cell_type": "code",
   "execution_count": 5,
   "id": "c156e5fd",
   "metadata": {
    "execution": {
     "iopub.execute_input": "2022-02-11T17:48:29.423183Z",
     "iopub.status.busy": "2022-02-11T17:48:29.422585Z",
     "iopub.status.idle": "2022-02-11T17:48:29.434573Z",
     "shell.execute_reply": "2022-02-11T17:48:29.435052Z",
     "shell.execute_reply.started": "2022-02-11T17:40:48.494477Z"
    },
    "papermill": {
     "duration": 0.040147,
     "end_time": "2022-02-11T17:48:29.435220",
     "exception": false,
     "start_time": "2022-02-11T17:48:29.395073",
     "status": "completed"
    },
    "tags": []
   },
   "outputs": [],
   "source": [
    "test_data = pd.read_csv('/kaggle/input/titanic/test.csv')"
   ]
  },
  {
   "cell_type": "code",
   "execution_count": 6,
   "id": "75f66cf0",
   "metadata": {
    "execution": {
     "iopub.execute_input": "2022-02-11T17:48:29.491243Z",
     "iopub.status.busy": "2022-02-11T17:48:29.490651Z",
     "iopub.status.idle": "2022-02-11T17:48:29.504109Z",
     "shell.execute_reply": "2022-02-11T17:48:29.504626Z",
     "shell.execute_reply.started": "2022-02-11T17:40:48.650898Z"
    },
    "papermill": {
     "duration": 0.041954,
     "end_time": "2022-02-11T17:48:29.504798",
     "exception": false,
     "start_time": "2022-02-11T17:48:29.462844",
     "status": "completed"
    },
    "tags": []
   },
   "outputs": [
    {
     "data": {
      "text/html": [
       "<div>\n",
       "<style scoped>\n",
       "    .dataframe tbody tr th:only-of-type {\n",
       "        vertical-align: middle;\n",
       "    }\n",
       "\n",
       "    .dataframe tbody tr th {\n",
       "        vertical-align: top;\n",
       "    }\n",
       "\n",
       "    .dataframe thead th {\n",
       "        text-align: right;\n",
       "    }\n",
       "</style>\n",
       "<table border=\"1\" class=\"dataframe\">\n",
       "  <thead>\n",
       "    <tr style=\"text-align: right;\">\n",
       "      <th></th>\n",
       "      <th>PassengerId</th>\n",
       "      <th>Pclass</th>\n",
       "      <th>Name</th>\n",
       "      <th>Sex</th>\n",
       "      <th>Age</th>\n",
       "      <th>SibSp</th>\n",
       "      <th>Parch</th>\n",
       "      <th>Ticket</th>\n",
       "      <th>Fare</th>\n",
       "      <th>Cabin</th>\n",
       "      <th>Embarked</th>\n",
       "    </tr>\n",
       "  </thead>\n",
       "  <tbody>\n",
       "    <tr>\n",
       "      <th>0</th>\n",
       "      <td>892</td>\n",
       "      <td>3</td>\n",
       "      <td>Kelly, Mr. James</td>\n",
       "      <td>male</td>\n",
       "      <td>34.5</td>\n",
       "      <td>0</td>\n",
       "      <td>0</td>\n",
       "      <td>330911</td>\n",
       "      <td>7.8292</td>\n",
       "      <td>NaN</td>\n",
       "      <td>Q</td>\n",
       "    </tr>\n",
       "    <tr>\n",
       "      <th>1</th>\n",
       "      <td>893</td>\n",
       "      <td>3</td>\n",
       "      <td>Wilkes, Mrs. James (Ellen Needs)</td>\n",
       "      <td>female</td>\n",
       "      <td>47.0</td>\n",
       "      <td>1</td>\n",
       "      <td>0</td>\n",
       "      <td>363272</td>\n",
       "      <td>7.0000</td>\n",
       "      <td>NaN</td>\n",
       "      <td>S</td>\n",
       "    </tr>\n",
       "    <tr>\n",
       "      <th>2</th>\n",
       "      <td>894</td>\n",
       "      <td>2</td>\n",
       "      <td>Myles, Mr. Thomas Francis</td>\n",
       "      <td>male</td>\n",
       "      <td>62.0</td>\n",
       "      <td>0</td>\n",
       "      <td>0</td>\n",
       "      <td>240276</td>\n",
       "      <td>9.6875</td>\n",
       "      <td>NaN</td>\n",
       "      <td>Q</td>\n",
       "    </tr>\n",
       "    <tr>\n",
       "      <th>3</th>\n",
       "      <td>895</td>\n",
       "      <td>3</td>\n",
       "      <td>Wirz, Mr. Albert</td>\n",
       "      <td>male</td>\n",
       "      <td>27.0</td>\n",
       "      <td>0</td>\n",
       "      <td>0</td>\n",
       "      <td>315154</td>\n",
       "      <td>8.6625</td>\n",
       "      <td>NaN</td>\n",
       "      <td>S</td>\n",
       "    </tr>\n",
       "    <tr>\n",
       "      <th>4</th>\n",
       "      <td>896</td>\n",
       "      <td>3</td>\n",
       "      <td>Hirvonen, Mrs. Alexander (Helga E Lindqvist)</td>\n",
       "      <td>female</td>\n",
       "      <td>22.0</td>\n",
       "      <td>1</td>\n",
       "      <td>1</td>\n",
       "      <td>3101298</td>\n",
       "      <td>12.2875</td>\n",
       "      <td>NaN</td>\n",
       "      <td>S</td>\n",
       "    </tr>\n",
       "  </tbody>\n",
       "</table>\n",
       "</div>"
      ],
      "text/plain": [
       "   PassengerId  Pclass                                          Name     Sex  \\\n",
       "0          892       3                              Kelly, Mr. James    male   \n",
       "1          893       3              Wilkes, Mrs. James (Ellen Needs)  female   \n",
       "2          894       2                     Myles, Mr. Thomas Francis    male   \n",
       "3          895       3                              Wirz, Mr. Albert    male   \n",
       "4          896       3  Hirvonen, Mrs. Alexander (Helga E Lindqvist)  female   \n",
       "\n",
       "    Age  SibSp  Parch   Ticket     Fare Cabin Embarked  \n",
       "0  34.5      0      0   330911   7.8292   NaN        Q  \n",
       "1  47.0      1      0   363272   7.0000   NaN        S  \n",
       "2  62.0      0      0   240276   9.6875   NaN        Q  \n",
       "3  27.0      0      0   315154   8.6625   NaN        S  \n",
       "4  22.0      1      1  3101298  12.2875   NaN        S  "
      ]
     },
     "execution_count": 6,
     "metadata": {},
     "output_type": "execute_result"
    }
   ],
   "source": [
    "test_data.head()"
   ]
  },
  {
   "cell_type": "code",
   "execution_count": 7,
   "id": "fbb9037c",
   "metadata": {
    "execution": {
     "iopub.execute_input": "2022-02-11T17:48:29.569031Z",
     "iopub.status.busy": "2022-02-11T17:48:29.568226Z",
     "iopub.status.idle": "2022-02-11T17:48:29.570943Z",
     "shell.execute_reply": "2022-02-11T17:48:29.571400Z",
     "shell.execute_reply.started": "2022-02-11T17:40:48.906898Z"
    },
    "papermill": {
     "duration": 0.041183,
     "end_time": "2022-02-11T17:48:29.571568",
     "exception": false,
     "start_time": "2022-02-11T17:48:29.530385",
     "status": "completed"
    },
    "tags": []
   },
   "outputs": [
    {
     "name": "stdout",
     "output_type": "stream",
     "text": [
      "The percent of women who survived was 0.7420382165605095\n"
     ]
    }
   ],
   "source": [
    "women = train_data.loc[train_data['Sex']=='female']['Survived']\n",
    "rate_women = sum(women)/len(women)\n",
    "\n",
    "print('The percent of women who survived was ' + str(rate_women))"
   ]
  },
  {
   "cell_type": "code",
   "execution_count": 8,
   "id": "be44688d",
   "metadata": {
    "execution": {
     "iopub.execute_input": "2022-02-11T17:48:29.631109Z",
     "iopub.status.busy": "2022-02-11T17:48:29.630105Z",
     "iopub.status.idle": "2022-02-11T17:48:29.635035Z",
     "shell.execute_reply": "2022-02-11T17:48:29.634311Z",
     "shell.execute_reply.started": "2022-02-11T17:40:49.475402Z"
    },
    "papermill": {
     "duration": 0.037689,
     "end_time": "2022-02-11T17:48:29.635234",
     "exception": false,
     "start_time": "2022-02-11T17:48:29.597545",
     "status": "completed"
    },
    "tags": []
   },
   "outputs": [
    {
     "name": "stdout",
     "output_type": "stream",
     "text": [
      "The percent of men who survived was 0.18890814558058924\n"
     ]
    }
   ],
   "source": [
    "men = train_data.loc[train_data.Sex == 'male']['Survived']\n",
    "rate_men = sum(men)/len(men)\n",
    "\n",
    "print('The percent of men who survived was ' + str(rate_men))"
   ]
  },
  {
   "cell_type": "code",
   "execution_count": 9,
   "id": "bde4f81a",
   "metadata": {
    "execution": {
     "iopub.execute_input": "2022-02-11T17:48:29.695241Z",
     "iopub.status.busy": "2022-02-11T17:48:29.694549Z",
     "iopub.status.idle": "2022-02-11T17:48:29.697699Z",
     "shell.execute_reply": "2022-02-11T17:48:29.698242Z",
     "shell.execute_reply.started": "2022-02-11T17:40:49.652996Z"
    },
    "papermill": {
     "duration": 0.035728,
     "end_time": "2022-02-11T17:48:29.698446",
     "exception": false,
     "start_time": "2022-02-11T17:48:29.662718",
     "status": "completed"
    },
    "tags": []
   },
   "outputs": [
    {
     "name": "stdout",
     "output_type": "stream",
     "text": [
      "The percent of children who survived was 0.5398230088495575\n"
     ]
    }
   ],
   "source": [
    "children = train_data.loc[train_data['Age']<18]['Survived']\n",
    "rate_children = sum(children)/len(children)\n",
    "\n",
    "print('The percent of children who survived was ' + str(rate_children))"
   ]
  },
  {
   "cell_type": "code",
   "execution_count": 10,
   "id": "17ddbff4",
   "metadata": {
    "execution": {
     "iopub.execute_input": "2022-02-11T17:48:29.757907Z",
     "iopub.status.busy": "2022-02-11T17:48:29.757328Z",
     "iopub.status.idle": "2022-02-11T17:48:29.761252Z",
     "shell.execute_reply": "2022-02-11T17:48:29.760717Z",
     "shell.execute_reply.started": "2022-02-11T17:40:49.795858Z"
    },
    "papermill": {
     "duration": 0.036857,
     "end_time": "2022-02-11T17:48:29.761429",
     "exception": false,
     "start_time": "2022-02-11T17:48:29.724572",
     "status": "completed"
    },
    "tags": []
   },
   "outputs": [
    {
     "name": "stdout",
     "output_type": "stream",
     "text": [
      "The percent of adults who survived was 0.3810316139767055\n"
     ]
    }
   ],
   "source": [
    "adults = train_data.loc[train_data['Age']>=18]['Survived']\n",
    "rate_adults = sum(adults)/len(adults)\n",
    "\n",
    "print('The percent of adults who survived was ' + str(rate_adults))"
   ]
  },
  {
   "cell_type": "code",
   "execution_count": null,
   "id": "866585fb",
   "metadata": {
    "papermill": {
     "duration": 0.026241,
     "end_time": "2022-02-11T17:48:29.814796",
     "exception": false,
     "start_time": "2022-02-11T17:48:29.788555",
     "status": "completed"
    },
    "tags": []
   },
   "outputs": [],
   "source": []
  },
  {
   "cell_type": "code",
   "execution_count": null,
   "id": "1c4fc5c6",
   "metadata": {
    "papermill": {
     "duration": 0.0261,
     "end_time": "2022-02-11T17:48:29.867938",
     "exception": false,
     "start_time": "2022-02-11T17:48:29.841838",
     "status": "completed"
    },
    "tags": []
   },
   "outputs": [],
   "source": []
  },
  {
   "cell_type": "markdown",
   "id": "5309be70",
   "metadata": {
    "papermill": {
     "duration": 0.026257,
     "end_time": "2022-02-11T17:48:29.921076",
     "exception": false,
     "start_time": "2022-02-11T17:48:29.894819",
     "status": "completed"
    },
    "tags": []
   },
   "source": []
  },
  {
   "cell_type": "markdown",
   "id": "b521682e",
   "metadata": {
    "papermill": {
     "duration": 0.027663,
     "end_time": "2022-02-11T17:48:29.975890",
     "exception": false,
     "start_time": "2022-02-11T17:48:29.948227",
     "status": "completed"
    },
    "tags": []
   },
   "source": []
  },
  {
   "cell_type": "code",
   "execution_count": 11,
   "id": "866efbbb",
   "metadata": {
    "execution": {
     "iopub.execute_input": "2022-02-11T17:48:30.033636Z",
     "iopub.status.busy": "2022-02-11T17:48:30.033043Z",
     "iopub.status.idle": "2022-02-11T17:48:30.043855Z",
     "shell.execute_reply": "2022-02-11T17:48:30.044307Z",
     "shell.execute_reply.started": "2022-02-11T17:40:51.231416Z"
    },
    "papermill": {
     "duration": 0.041889,
     "end_time": "2022-02-11T17:48:30.044487",
     "exception": false,
     "start_time": "2022-02-11T17:48:30.002598",
     "status": "completed"
    },
    "tags": []
   },
   "outputs": [
    {
     "data": {
      "text/plain": [
       "B96 B98        4\n",
       "G6             4\n",
       "C23 C25 C27    4\n",
       "C22 C26        3\n",
       "F33            3\n",
       "              ..\n",
       "E34            1\n",
       "C7             1\n",
       "C54            1\n",
       "E36            1\n",
       "C148           1\n",
       "Name: Cabin, Length: 147, dtype: int64"
      ]
     },
     "execution_count": 11,
     "metadata": {},
     "output_type": "execute_result"
    }
   ],
   "source": [
    "train_data.Cabin.value_counts()"
   ]
  },
  {
   "cell_type": "code",
   "execution_count": 12,
   "id": "99f77fbc",
   "metadata": {
    "execution": {
     "iopub.execute_input": "2022-02-11T17:48:30.101160Z",
     "iopub.status.busy": "2022-02-11T17:48:30.100580Z",
     "iopub.status.idle": "2022-02-11T17:48:30.106478Z",
     "shell.execute_reply": "2022-02-11T17:48:30.106886Z",
     "shell.execute_reply.started": "2022-02-11T17:40:51.423309Z"
    },
    "papermill": {
     "duration": 0.035875,
     "end_time": "2022-02-11T17:48:30.107069",
     "exception": false,
     "start_time": "2022-02-11T17:48:30.071194",
     "status": "completed"
    },
    "tags": []
   },
   "outputs": [],
   "source": [
    "train_data['HasCabin'] = np.where(train_data.Cabin.isnull() == True, False, True)\n",
    "test_data['HasCabin'] = np.where(test_data.Cabin.isnull() == True, False, True)"
   ]
  },
  {
   "cell_type": "code",
   "execution_count": 13,
   "id": "7aff6d50",
   "metadata": {
    "execution": {
     "iopub.execute_input": "2022-02-11T17:48:30.166347Z",
     "iopub.status.busy": "2022-02-11T17:48:30.165716Z",
     "iopub.status.idle": "2022-02-11T17:48:30.169782Z",
     "shell.execute_reply": "2022-02-11T17:48:30.169343Z",
     "shell.execute_reply.started": "2022-02-11T17:40:51.572561Z"
    },
    "papermill": {
     "duration": 0.035965,
     "end_time": "2022-02-11T17:48:30.169934",
     "exception": false,
     "start_time": "2022-02-11T17:48:30.133969",
     "status": "completed"
    },
    "tags": []
   },
   "outputs": [
    {
     "data": {
      "text/plain": [
       "204"
      ]
     },
     "execution_count": 13,
     "metadata": {},
     "output_type": "execute_result"
    }
   ],
   "source": [
    "train_data.HasCabin.sum()"
   ]
  },
  {
   "cell_type": "code",
   "execution_count": 14,
   "id": "05d1966b",
   "metadata": {
    "execution": {
     "iopub.execute_input": "2022-02-11T17:48:30.232122Z",
     "iopub.status.busy": "2022-02-11T17:48:30.231485Z",
     "iopub.status.idle": "2022-02-11T17:48:30.234409Z",
     "shell.execute_reply": "2022-02-11T17:48:30.233889Z",
     "shell.execute_reply.started": "2022-02-11T17:40:51.721988Z"
    },
    "papermill": {
     "duration": 0.036953,
     "end_time": "2022-02-11T17:48:30.234553",
     "exception": false,
     "start_time": "2022-02-11T17:48:30.197600",
     "status": "completed"
    },
    "tags": []
   },
   "outputs": [],
   "source": [
    "features = ['Pclass', 'Sex', 'Age', 'SibSp', 'Parch', 'Fare', 'Embarked']\n",
    "\n",
    "y_train = train_data['Survived']\n",
    "train_data1 = train_data[features]\n",
    "test_data1 = test_data[features]"
   ]
  },
  {
   "cell_type": "code",
   "execution_count": 15,
   "id": "6feddcb2",
   "metadata": {
    "execution": {
     "iopub.execute_input": "2022-02-11T17:48:30.295123Z",
     "iopub.status.busy": "2022-02-11T17:48:30.294503Z",
     "iopub.status.idle": "2022-02-11T17:48:30.314623Z",
     "shell.execute_reply": "2022-02-11T17:48:30.315144Z",
     "shell.execute_reply.started": "2022-02-11T17:40:51.835940Z"
    },
    "papermill": {
     "duration": 0.051424,
     "end_time": "2022-02-11T17:48:30.315334",
     "exception": false,
     "start_time": "2022-02-11T17:48:30.263910",
     "status": "completed"
    },
    "tags": []
   },
   "outputs": [],
   "source": [
    "# Convert the categorical features in the train and test sets independently\n",
    "train_data_d = pd.get_dummies(train_data1)\n",
    "test_data_d = pd.get_dummies(test_data1)\n",
    "\n",
    "# Replace all missing values in age & Fare with mean value\n",
    "train_data_d['Age'] = train_data_d['Age'].fillna(train_data_d['Age'].median())\n",
    "test_data_d['Age'] = test_data_d['Age'].fillna(test_data_d['Age'].median())\n",
    "train_data_d['Fare'] = train_data_d['Fare'].fillna(train_data_d['Fare'].median())\n",
    "test_data_d['Fare'] = test_data_d['Fare'].fillna(test_data_d['Fare'].median())\n",
    "\n",
    "\n",
    "# Reindex the columns of the test set aligning with the train set\n",
    "test_data_d = test_data_d.reindex(columns=train_data_d.columns, fill_value=0)"
   ]
  },
  {
   "cell_type": "code",
   "execution_count": 16,
   "id": "7f037f64",
   "metadata": {
    "execution": {
     "iopub.execute_input": "2022-02-11T17:48:30.372351Z",
     "iopub.status.busy": "2022-02-11T17:48:30.371739Z",
     "iopub.status.idle": "2022-02-11T17:48:30.379265Z",
     "shell.execute_reply": "2022-02-11T17:48:30.379996Z",
     "shell.execute_reply.started": "2022-02-11T17:40:51.963640Z"
    },
    "papermill": {
     "duration": 0.037815,
     "end_time": "2022-02-11T17:48:30.380227",
     "exception": false,
     "start_time": "2022-02-11T17:48:30.342412",
     "status": "completed"
    },
    "tags": []
   },
   "outputs": [
    {
     "name": "stdout",
     "output_type": "stream",
     "text": [
      "(891, 10)\n",
      "Pclass        0\n",
      "Age           0\n",
      "SibSp         0\n",
      "Parch         0\n",
      "Fare          0\n",
      "Sex_female    0\n",
      "Sex_male      0\n",
      "Embarked_C    0\n",
      "Embarked_Q    0\n",
      "Embarked_S    0\n",
      "dtype: int64\n"
     ]
    }
   ],
   "source": [
    "print(train_data_d.shape)\n",
    "print(test_data_d.isnull().sum())"
   ]
  },
  {
   "cell_type": "code",
   "execution_count": 17,
   "id": "86d5c035",
   "metadata": {
    "execution": {
     "iopub.execute_input": "2022-02-11T17:48:30.439376Z",
     "iopub.status.busy": "2022-02-11T17:48:30.438747Z",
     "iopub.status.idle": "2022-02-11T17:48:30.450060Z",
     "shell.execute_reply": "2022-02-11T17:48:30.450586Z",
     "shell.execute_reply.started": "2022-02-11T17:40:52.113414Z"
    },
    "papermill": {
     "duration": 0.042221,
     "end_time": "2022-02-11T17:48:30.450757",
     "exception": false,
     "start_time": "2022-02-11T17:48:30.408536",
     "status": "completed"
    },
    "tags": []
   },
   "outputs": [],
   "source": [
    "# Import MinMaxScaler\n",
    "from sklearn.preprocessing import MinMaxScaler\n",
    "\n",
    "# Instantiate MinMaxScaler and use it to rescale X_train and X_test\n",
    "scaler = MinMaxScaler(feature_range=(0,1))\n",
    "train_data_rescaled = scaler.fit_transform(train_data_d)\n",
    "test_data_rescaled = scaler.fit_transform(test_data_d)"
   ]
  },
  {
   "cell_type": "code",
   "execution_count": null,
   "id": "4fd3412a",
   "metadata": {
    "papermill": {
     "duration": 0.026942,
     "end_time": "2022-02-11T17:48:30.505757",
     "exception": false,
     "start_time": "2022-02-11T17:48:30.478815",
     "status": "completed"
    },
    "tags": []
   },
   "outputs": [],
   "source": []
  },
  {
   "cell_type": "code",
   "execution_count": 18,
   "id": "add640d6",
   "metadata": {
    "execution": {
     "iopub.execute_input": "2022-02-11T17:48:30.564798Z",
     "iopub.status.busy": "2022-02-11T17:48:30.564175Z",
     "iopub.status.idle": "2022-02-11T17:48:30.570991Z",
     "shell.execute_reply": "2022-02-11T17:48:30.571438Z",
     "shell.execute_reply.started": "2022-02-11T17:40:52.390104Z"
    },
    "papermill": {
     "duration": 0.037863,
     "end_time": "2022-02-11T17:48:30.571631",
     "exception": false,
     "start_time": "2022-02-11T17:48:30.533768",
     "status": "completed"
    },
    "tags": []
   },
   "outputs": [
    {
     "data": {
      "text/plain": [
       "Pclass        0\n",
       "Age           0\n",
       "SibSp         0\n",
       "Parch         0\n",
       "Fare          0\n",
       "Sex_female    0\n",
       "Sex_male      0\n",
       "Embarked_C    0\n",
       "Embarked_Q    0\n",
       "Embarked_S    0\n",
       "dtype: int64"
      ]
     },
     "execution_count": 18,
     "metadata": {},
     "output_type": "execute_result"
    }
   ],
   "source": [
    "train_data_d.isnull().sum()"
   ]
  },
  {
   "cell_type": "code",
   "execution_count": 19,
   "id": "d38d6f38",
   "metadata": {
    "execution": {
     "iopub.execute_input": "2022-02-11T17:48:30.632418Z",
     "iopub.status.busy": "2022-02-11T17:48:30.631743Z",
     "iopub.status.idle": "2022-02-11T17:48:30.655185Z",
     "shell.execute_reply": "2022-02-11T17:48:30.655728Z",
     "shell.execute_reply.started": "2022-02-11T17:40:52.868007Z"
    },
    "papermill": {
     "duration": 0.056053,
     "end_time": "2022-02-11T17:48:30.655916",
     "exception": false,
     "start_time": "2022-02-11T17:48:30.599863",
     "status": "completed"
    },
    "tags": []
   },
   "outputs": [
    {
     "data": {
      "text/plain": [
       "LogisticRegression()"
      ]
     },
     "execution_count": 19,
     "metadata": {},
     "output_type": "execute_result"
    }
   ],
   "source": [
    "# Import LogisticRegression\n",
    "from sklearn.linear_model import LogisticRegression\n",
    "\n",
    "# Instantiate a LogisticRegression classifier with default parameter values\n",
    "logreg = LogisticRegression()\n",
    "\n",
    "# Fit logreg to the train set\n",
    "logreg.fit(train_data_rescaled, y_train)"
   ]
  },
  {
   "cell_type": "code",
   "execution_count": 20,
   "id": "27d0e40a",
   "metadata": {
    "execution": {
     "iopub.execute_input": "2022-02-11T17:48:30.716619Z",
     "iopub.status.busy": "2022-02-11T17:48:30.715969Z",
     "iopub.status.idle": "2022-02-11T17:48:30.720223Z",
     "shell.execute_reply": "2022-02-11T17:48:30.720732Z",
     "shell.execute_reply.started": "2022-02-11T17:40:53.485232Z"
    },
    "papermill": {
     "duration": 0.036972,
     "end_time": "2022-02-11T17:48:30.720910",
     "exception": false,
     "start_time": "2022-02-11T17:48:30.683938",
     "status": "completed"
    },
    "tags": []
   },
   "outputs": [],
   "source": [
    "# Import GridSearchCV\n",
    "from sklearn.model_selection import GridSearchCV\n",
    "\n",
    "# Define the grid of values for tol and max_iter\n",
    "tol = [0.01,0.001,0.0001]\n",
    "max_iter = [100,150,200]\n",
    "\n",
    "# Create a dictionary where tol and max_iter are keys and the lists of their values are corresponding values\n",
    "param_grid = dict(tol=tol, max_iter=max_iter)"
   ]
  },
  {
   "cell_type": "code",
   "execution_count": 21,
   "id": "8ad6d112",
   "metadata": {
    "execution": {
     "iopub.execute_input": "2022-02-11T17:48:30.783717Z",
     "iopub.status.busy": "2022-02-11T17:48:30.783042Z",
     "iopub.status.idle": "2022-02-11T17:48:31.283003Z",
     "shell.execute_reply": "2022-02-11T17:48:31.282501Z",
     "shell.execute_reply.started": "2022-02-11T17:40:53.960667Z"
    },
    "papermill": {
     "duration": 0.532938,
     "end_time": "2022-02-11T17:48:31.283155",
     "exception": false,
     "start_time": "2022-02-11T17:48:30.750217",
     "status": "completed"
    },
    "tags": []
   },
   "outputs": [
    {
     "name": "stdout",
     "output_type": "stream",
     "text": [
      "Best: 0.790126 using {'max_iter': 100, 'tol': 0.01}\n",
      "LogisticRegression(tol=0.01)\n"
     ]
    }
   ],
   "source": [
    "# Instantiate GridSearchCV with the required parameters\n",
    "grid_model = GridSearchCV(estimator=logreg, param_grid=param_grid, cv=5)\n",
    "\n",
    "# Fit grid_model to the data\n",
    "grid_model_result = grid_model.fit(train_data_rescaled, y_train)\n",
    "\n",
    "# Summarize results\n",
    "best_score, best_params = grid_model_result.best_score_, grid_model_result.best_params_\n",
    "print(\"Best: %f using %s\" % (best_score, best_params))\n",
    "\n",
    "# Extract the best model and evaluate it on the test set\n",
    "best_model = grid_model_result.best_estimator_\n",
    "print(best_model)\n",
    "#print(\"Accuracy of logistic regression classifier: \", best_model.score(rescaledX_test,y_test))"
   ]
  },
  {
   "cell_type": "code",
   "execution_count": 22,
   "id": "7b72a5ee",
   "metadata": {
    "execution": {
     "iopub.execute_input": "2022-02-11T17:48:31.346019Z",
     "iopub.status.busy": "2022-02-11T17:48:31.345124Z",
     "iopub.status.idle": "2022-02-11T17:48:31.352363Z",
     "shell.execute_reply": "2022-02-11T17:48:31.353013Z",
     "shell.execute_reply.started": "2022-02-11T17:40:54.576844Z"
    },
    "papermill": {
     "duration": 0.042094,
     "end_time": "2022-02-11T17:48:31.353248",
     "exception": false,
     "start_time": "2022-02-11T17:48:31.311154",
     "status": "completed"
    },
    "tags": []
   },
   "outputs": [
    {
     "name": "stdout",
     "output_type": "stream",
     "text": [
      "Your test submission was successfully saved!!\n"
     ]
    }
   ],
   "source": [
    "# Final for output\n",
    "predictions = best_model.predict(test_data_rescaled)\n",
    "\n",
    "output = pd.DataFrame({'PassengerId': test_data.PassengerId, 'Survived': predictions})\n",
    "\n",
    "output.to_csv('Submission-Logistic-Regression-Median.csv', index=False)\n",
    "print('Your test submission was successfully saved!!')"
   ]
  },
  {
   "cell_type": "code",
   "execution_count": 23,
   "id": "e82ab996",
   "metadata": {
    "execution": {
     "iopub.execute_input": "2022-02-11T17:48:31.416395Z",
     "iopub.status.busy": "2022-02-11T17:48:31.415604Z",
     "iopub.status.idle": "2022-02-11T17:48:31.417020Z",
     "shell.execute_reply": "2022-02-11T17:48:31.417455Z",
     "shell.execute_reply.started": "2022-02-11T17:41:23.815177Z"
    },
    "papermill": {
     "duration": 0.035255,
     "end_time": "2022-02-11T17:48:31.417615",
     "exception": false,
     "start_time": "2022-02-11T17:48:31.382360",
     "status": "completed"
    },
    "tags": []
   },
   "outputs": [],
   "source": [
    "X_train = train_data_rescaled\n",
    "X_test = test_data_rescaled\n",
    "Y_train = y_train"
   ]
  },
  {
   "cell_type": "code",
   "execution_count": 24,
   "id": "d900c877",
   "metadata": {
    "execution": {
     "iopub.execute_input": "2022-02-11T17:48:31.477563Z",
     "iopub.status.busy": "2022-02-11T17:48:31.476905Z",
     "iopub.status.idle": "2022-02-11T17:48:31.485937Z",
     "shell.execute_reply": "2022-02-11T17:48:31.486477Z",
     "shell.execute_reply.started": "2022-02-11T17:41:35.534402Z"
    },
    "papermill": {
     "duration": 0.040951,
     "end_time": "2022-02-11T17:48:31.486641",
     "exception": false,
     "start_time": "2022-02-11T17:48:31.445690",
     "status": "completed"
    },
    "tags": []
   },
   "outputs": [],
   "source": [
    "#Stochastic Gradient Descent (SGD):\n",
    "sgd = linear_model.SGDClassifier(max_iter=5, tol=None)\n",
    "sgd.fit(X_train, Y_train)\n",
    "Y_pred = sgd.predict(X_test)\n",
    "\n",
    "sgd.score(X_train, Y_train)\n",
    "\n",
    "acc_sgd = round(sgd.score(X_train, Y_train) * 100, 2)"
   ]
  },
  {
   "cell_type": "code",
   "execution_count": 25,
   "id": "677adc2b",
   "metadata": {
    "execution": {
     "iopub.execute_input": "2022-02-11T17:48:31.546354Z",
     "iopub.status.busy": "2022-02-11T17:48:31.545728Z",
     "iopub.status.idle": "2022-02-11T17:48:31.794557Z",
     "shell.execute_reply": "2022-02-11T17:48:31.794015Z",
     "shell.execute_reply.started": "2022-02-11T17:41:38.619508Z"
    },
    "papermill": {
     "duration": 0.279694,
     "end_time": "2022-02-11T17:48:31.794707",
     "exception": false,
     "start_time": "2022-02-11T17:48:31.515013",
     "status": "completed"
    },
    "tags": []
   },
   "outputs": [],
   "source": [
    "#Random Forest:\n",
    "random_forest = RandomForestClassifier(n_estimators=100)\n",
    "random_forest.fit(X_train, Y_train)\n",
    "\n",
    "Y_prediction = random_forest.predict(X_test)\n",
    "\n",
    "random_forest.score(X_train, Y_train)\n",
    "acc_random_forest = round(random_forest.score(X_train, Y_train) * 100, 2)"
   ]
  },
  {
   "cell_type": "code",
   "execution_count": 26,
   "id": "94f980a4",
   "metadata": {
    "execution": {
     "iopub.execute_input": "2022-02-11T17:48:31.855694Z",
     "iopub.status.busy": "2022-02-11T17:48:31.855035Z",
     "iopub.status.idle": "2022-02-11T17:48:31.871266Z",
     "shell.execute_reply": "2022-02-11T17:48:31.871744Z",
     "shell.execute_reply.started": "2022-02-11T17:41:39.181433Z"
    },
    "papermill": {
     "duration": 0.048796,
     "end_time": "2022-02-11T17:48:31.871923",
     "exception": false,
     "start_time": "2022-02-11T17:48:31.823127",
     "status": "completed"
    },
    "tags": []
   },
   "outputs": [],
   "source": [
    "#Logistic Regression\n",
    "logreg = LogisticRegression()\n",
    "logreg.fit(X_train, Y_train)\n",
    "\n",
    "Y_pred = logreg.predict(X_test)\n",
    "\n",
    "acc_log = round(logreg.score(X_train, Y_train) * 100, 2)"
   ]
  },
  {
   "cell_type": "code",
   "execution_count": 27,
   "id": "74fca182",
   "metadata": {
    "execution": {
     "iopub.execute_input": "2022-02-11T17:48:31.934130Z",
     "iopub.status.busy": "2022-02-11T17:48:31.933516Z",
     "iopub.status.idle": "2022-02-11T17:48:31.985260Z",
     "shell.execute_reply": "2022-02-11T17:48:31.984769Z",
     "shell.execute_reply.started": "2022-02-11T17:41:39.578804Z"
    },
    "papermill": {
     "duration": 0.085198,
     "end_time": "2022-02-11T17:48:31.985465",
     "exception": false,
     "start_time": "2022-02-11T17:48:31.900267",
     "status": "completed"
    },
    "tags": []
   },
   "outputs": [],
   "source": [
    "#K Nearest Neighbor:\n",
    "knn = KNeighborsClassifier(n_neighbors = 3) \n",
    "knn.fit(X_train, Y_train)  \n",
    "Y_pred = knn.predict(X_test)  \n",
    "acc_knn = round(knn.score(X_train, Y_train) * 100, 2)"
   ]
  },
  {
   "cell_type": "code",
   "execution_count": 28,
   "id": "0a3b7c9d",
   "metadata": {
    "execution": {
     "iopub.execute_input": "2022-02-11T17:48:32.048748Z",
     "iopub.status.busy": "2022-02-11T17:48:32.047678Z",
     "iopub.status.idle": "2022-02-11T17:48:32.052883Z",
     "shell.execute_reply": "2022-02-11T17:48:32.053387Z",
     "shell.execute_reply.started": "2022-02-11T17:41:40.005654Z"
    },
    "papermill": {
     "duration": 0.039628,
     "end_time": "2022-02-11T17:48:32.053559",
     "exception": false,
     "start_time": "2022-02-11T17:48:32.013931",
     "status": "completed"
    },
    "tags": []
   },
   "outputs": [],
   "source": [
    "# Gaussian Naive Bayes:\n",
    "gaussian = GaussianNB() \n",
    "gaussian.fit(X_train, Y_train)  \n",
    "Y_pred = gaussian.predict(X_test)  \n",
    "acc_gaussian = round(gaussian.score(X_train, Y_train) * 100, 2)"
   ]
  },
  {
   "cell_type": "code",
   "execution_count": 29,
   "id": "d9a6343e",
   "metadata": {
    "execution": {
     "iopub.execute_input": "2022-02-11T17:48:32.118740Z",
     "iopub.status.busy": "2022-02-11T17:48:32.118034Z",
     "iopub.status.idle": "2022-02-11T17:48:32.126675Z",
     "shell.execute_reply": "2022-02-11T17:48:32.127120Z",
     "shell.execute_reply.started": "2022-02-11T17:41:40.709908Z"
    },
    "papermill": {
     "duration": 0.044113,
     "end_time": "2022-02-11T17:48:32.127299",
     "exception": false,
     "start_time": "2022-02-11T17:48:32.083186",
     "status": "completed"
    },
    "tags": []
   },
   "outputs": [
    {
     "name": "stderr",
     "output_type": "stream",
     "text": [
      "/opt/conda/lib/python3.7/site-packages/sklearn/linear_model/_stochastic_gradient.py:573: ConvergenceWarning: Maximum number of iteration reached before convergence. Consider increasing max_iter to improve the fit.\n",
      "  ConvergenceWarning)\n"
     ]
    }
   ],
   "source": [
    "# Perceptron:\n",
    "perceptron = Perceptron(max_iter=5)\n",
    "perceptron.fit(X_train, Y_train)\n",
    "\n",
    "Y_pred = perceptron.predict(X_test)\n",
    "\n",
    "acc_perceptron = round(perceptron.score(X_train, Y_train) * 100, 2)"
   ]
  },
  {
   "cell_type": "code",
   "execution_count": 30,
   "id": "1ba7ea50",
   "metadata": {
    "execution": {
     "iopub.execute_input": "2022-02-11T17:48:32.188396Z",
     "iopub.status.busy": "2022-02-11T17:48:32.187475Z",
     "iopub.status.idle": "2022-02-11T17:48:32.198182Z",
     "shell.execute_reply": "2022-02-11T17:48:32.198667Z",
     "shell.execute_reply.started": "2022-02-11T17:41:49.137166Z"
    },
    "papermill": {
     "duration": 0.042926,
     "end_time": "2022-02-11T17:48:32.198847",
     "exception": false,
     "start_time": "2022-02-11T17:48:32.155921",
     "status": "completed"
    },
    "tags": []
   },
   "outputs": [],
   "source": [
    "#Linear Support Vector Machine:\n",
    "linear_svc = LinearSVC()\n",
    "linear_svc.fit(X_train, Y_train)\n",
    "\n",
    "Y_pred = linear_svc.predict(X_test)\n",
    "\n",
    "acc_linear_svc = round(linear_svc.score(X_train, Y_train) * 100, 2)"
   ]
  },
  {
   "cell_type": "code",
   "execution_count": 31,
   "id": "011a39ff",
   "metadata": {
    "execution": {
     "iopub.execute_input": "2022-02-11T17:48:32.259806Z",
     "iopub.status.busy": "2022-02-11T17:48:32.258855Z",
     "iopub.status.idle": "2022-02-11T17:48:32.267315Z",
     "shell.execute_reply": "2022-02-11T17:48:32.267791Z",
     "shell.execute_reply.started": "2022-02-11T17:41:49.712662Z"
    },
    "papermill": {
     "duration": 0.040459,
     "end_time": "2022-02-11T17:48:32.267982",
     "exception": false,
     "start_time": "2022-02-11T17:48:32.227523",
     "status": "completed"
    },
    "tags": []
   },
   "outputs": [],
   "source": [
    "#Decision Tree\n",
    "decision_tree = DecisionTreeClassifier() \n",
    "decision_tree.fit(X_train, Y_train)  \n",
    "Y_pred = decision_tree.predict(X_test)  \n",
    "acc_decision_tree = round(decision_tree.score(X_train, Y_train) * 100, 2)"
   ]
  },
  {
   "cell_type": "code",
   "execution_count": 32,
   "id": "e5477d8d",
   "metadata": {
    "execution": {
     "iopub.execute_input": "2022-02-11T17:48:32.328693Z",
     "iopub.status.busy": "2022-02-11T17:48:32.327770Z",
     "iopub.status.idle": "2022-02-11T17:48:32.341603Z",
     "shell.execute_reply": "2022-02-11T17:48:32.340987Z",
     "shell.execute_reply.started": "2022-02-11T17:41:50.260102Z"
    },
    "papermill": {
     "duration": 0.045203,
     "end_time": "2022-02-11T17:48:32.341747",
     "exception": false,
     "start_time": "2022-02-11T17:48:32.296544",
     "status": "completed"
    },
    "tags": []
   },
   "outputs": [
    {
     "data": {
      "text/html": [
       "<div>\n",
       "<style scoped>\n",
       "    .dataframe tbody tr th:only-of-type {\n",
       "        vertical-align: middle;\n",
       "    }\n",
       "\n",
       "    .dataframe tbody tr th {\n",
       "        vertical-align: top;\n",
       "    }\n",
       "\n",
       "    .dataframe thead th {\n",
       "        text-align: right;\n",
       "    }\n",
       "</style>\n",
       "<table border=\"1\" class=\"dataframe\">\n",
       "  <thead>\n",
       "    <tr style=\"text-align: right;\">\n",
       "      <th></th>\n",
       "      <th>Model</th>\n",
       "    </tr>\n",
       "    <tr>\n",
       "      <th>Score</th>\n",
       "      <th></th>\n",
       "    </tr>\n",
       "  </thead>\n",
       "  <tbody>\n",
       "    <tr>\n",
       "      <th>97.98</th>\n",
       "      <td>Decision Tree</td>\n",
       "    </tr>\n",
       "    <tr>\n",
       "      <th>97.87</th>\n",
       "      <td>Random Forest</td>\n",
       "    </tr>\n",
       "    <tr>\n",
       "      <th>87.54</th>\n",
       "      <td>KNN</td>\n",
       "    </tr>\n",
       "    <tr>\n",
       "      <th>80.02</th>\n",
       "      <td>Support Vector Machines</td>\n",
       "    </tr>\n",
       "    <tr>\n",
       "      <th>80.02</th>\n",
       "      <td>Logistic Regression</td>\n",
       "    </tr>\n",
       "    <tr>\n",
       "      <th>79.01</th>\n",
       "      <td>Naive Bayes</td>\n",
       "    </tr>\n",
       "    <tr>\n",
       "      <th>73.29</th>\n",
       "      <td>Perceptron</td>\n",
       "    </tr>\n",
       "    <tr>\n",
       "      <th>68.91</th>\n",
       "      <td>Stochastic Gradient Decent</td>\n",
       "    </tr>\n",
       "  </tbody>\n",
       "</table>\n",
       "</div>"
      ],
      "text/plain": [
       "                            Model\n",
       "Score                            \n",
       "97.98               Decision Tree\n",
       "97.87               Random Forest\n",
       "87.54                         KNN\n",
       "80.02     Support Vector Machines\n",
       "80.02         Logistic Regression\n",
       "79.01                 Naive Bayes\n",
       "73.29                  Perceptron\n",
       "68.91  Stochastic Gradient Decent"
      ]
     },
     "execution_count": 32,
     "metadata": {},
     "output_type": "execute_result"
    }
   ],
   "source": [
    "# which is best?\n",
    "results = pd.DataFrame({\n",
    "    'Model': ['Support Vector Machines', 'KNN', 'Logistic Regression', \n",
    "              'Random Forest', 'Naive Bayes', 'Perceptron', \n",
    "              'Stochastic Gradient Decent', \n",
    "              'Decision Tree'],\n",
    "    'Score': [acc_linear_svc, acc_knn, acc_log, \n",
    "              acc_random_forest, acc_gaussian, acc_perceptron, \n",
    "              acc_sgd, acc_decision_tree]})\n",
    "result_df = results.sort_values(by='Score', ascending=False)\n",
    "result_df = result_df.set_index('Score')\n",
    "result_df.head(9)"
   ]
  },
  {
   "cell_type": "code",
   "execution_count": null,
   "id": "d60ce1e7",
   "metadata": {
    "papermill": {
     "duration": 0.030938,
     "end_time": "2022-02-11T17:48:32.402637",
     "exception": false,
     "start_time": "2022-02-11T17:48:32.371699",
     "status": "completed"
    },
    "tags": []
   },
   "outputs": [],
   "source": []
  },
  {
   "cell_type": "code",
   "execution_count": 33,
   "id": "388209aa",
   "metadata": {
    "execution": {
     "iopub.execute_input": "2022-02-11T17:48:32.465735Z",
     "iopub.status.busy": "2022-02-11T17:48:32.465000Z",
     "iopub.status.idle": "2022-02-11T17:48:32.470666Z",
     "shell.execute_reply": "2022-02-11T17:48:32.471112Z",
     "shell.execute_reply.started": "2022-02-11T17:43:45.458529Z"
    },
    "papermill": {
     "duration": 0.039924,
     "end_time": "2022-02-11T17:48:32.471371",
     "exception": false,
     "start_time": "2022-02-11T17:48:32.431447",
     "status": "completed"
    },
    "tags": []
   },
   "outputs": [
    {
     "name": "stdout",
     "output_type": "stream",
     "text": [
      "Your test submission was successfully saved!!\n"
     ]
    }
   ],
   "source": [
    "# Final for output - Decsision Tree\n",
    "predictions = decision_tree.predict(X_test) \n",
    "\n",
    "output = pd.DataFrame({'PassengerId': test_data.PassengerId, 'Survived': predictions})\n",
    "\n",
    "output.to_csv('Submission-Decision-Tree.csv', index=False)\n",
    "print('Your test submission was successfully saved!!')"
   ]
  },
  {
   "cell_type": "code",
   "execution_count": 34,
   "id": "90bd75f3",
   "metadata": {
    "execution": {
     "iopub.execute_input": "2022-02-11T17:48:32.538898Z",
     "iopub.status.busy": "2022-02-11T17:48:32.537868Z",
     "iopub.status.idle": "2022-02-11T17:48:32.560256Z",
     "shell.execute_reply": "2022-02-11T17:48:32.559431Z",
     "shell.execute_reply.started": "2022-02-11T17:48:03.558140Z"
    },
    "papermill": {
     "duration": 0.057744,
     "end_time": "2022-02-11T17:48:32.560467",
     "exception": false,
     "start_time": "2022-02-11T17:48:32.502723",
     "status": "completed"
    },
    "tags": []
   },
   "outputs": [
    {
     "name": "stdout",
     "output_type": "stream",
     "text": [
      "Your test submission was successfully saved!!\n"
     ]
    }
   ],
   "source": [
    "# Final for output - Random Forest\n",
    "predictions = random_forest.predict(X_test) \n",
    "\n",
    "output = pd.DataFrame({'PassengerId': test_data.PassengerId, 'Survived': predictions})\n",
    "\n",
    "output.to_csv('Submission-Random-Forest.csv', index=False)\n",
    "print('Your test submission was successfully saved!!')"
   ]
  },
  {
   "cell_type": "code",
   "execution_count": null,
   "id": "6a9548d6",
   "metadata": {
    "papermill": {
     "duration": 0.028657,
     "end_time": "2022-02-11T17:48:32.619453",
     "exception": false,
     "start_time": "2022-02-11T17:48:32.590796",
     "status": "completed"
    },
    "tags": []
   },
   "outputs": [],
   "source": []
  },
  {
   "cell_type": "code",
   "execution_count": null,
   "id": "df602b4b",
   "metadata": {
    "papermill": {
     "duration": 0.029873,
     "end_time": "2022-02-11T17:48:32.678308",
     "exception": false,
     "start_time": "2022-02-11T17:48:32.648435",
     "status": "completed"
    },
    "tags": []
   },
   "outputs": [],
   "source": []
  }
 ],
 "metadata": {
  "kernelspec": {
   "display_name": "Python 3",
   "language": "python",
   "name": "python3"
  },
  "language_info": {
   "codemirror_mode": {
    "name": "ipython",
    "version": 3
   },
   "file_extension": ".py",
   "mimetype": "text/x-python",
   "name": "python",
   "nbconvert_exporter": "python",
   "pygments_lexer": "ipython3",
   "version": "3.7.12"
  },
  "papermill": {
   "default_parameters": {},
   "duration": 14.564577,
   "end_time": "2022-02-11T17:48:33.419468",
   "environment_variables": {},
   "exception": null,
   "input_path": "__notebook__.ipynb",
   "output_path": "__notebook__.ipynb",
   "parameters": {},
   "start_time": "2022-02-11T17:48:18.854891",
   "version": "2.3.3"
  }
 },
 "nbformat": 4,
 "nbformat_minor": 5
}
