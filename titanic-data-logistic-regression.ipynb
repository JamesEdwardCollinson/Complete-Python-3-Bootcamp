{
 "cells": [
  {
   "cell_type": "code",
   "execution_count": 1,
   "id": "ee72ee43",
   "metadata": {
    "_cell_guid": "b1076dfc-b9ad-4769-8c92-a6c4dae69d19",
    "_uuid": "8f2839f25d086af736a60e9eeb907d3b93b6e0e5",
    "execution": {
     "iopub.execute_input": "2022-02-11T16:46:53.495169Z",
     "iopub.status.busy": "2022-02-11T16:46:53.493942Z",
     "iopub.status.idle": "2022-02-11T16:46:53.509057Z",
     "shell.execute_reply": "2022-02-11T16:46:53.508459Z",
     "shell.execute_reply.started": "2022-02-11T16:35:38.867508Z"
    },
    "papermill": {
     "duration": 0.043548,
     "end_time": "2022-02-11T16:46:53.509235",
     "exception": false,
     "start_time": "2022-02-11T16:46:53.465687",
     "status": "completed"
    },
    "tags": []
   },
   "outputs": [
    {
     "name": "stdout",
     "output_type": "stream",
     "text": [
      "/kaggle/input/titanic/train.csv\n",
      "/kaggle/input/titanic/test.csv\n",
      "/kaggle/input/titanic/gender_submission.csv\n"
     ]
    }
   ],
   "source": [
    "# This Python 3 environment comes with many helpful analytics libraries installed\n",
    "# It is defined by the kaggle/python Docker image: https://github.com/kaggle/docker-python\n",
    "# For example, here's several helpful packages to load\n",
    "\n",
    "import numpy as np # linear algebra\n",
    "import pandas as pd # data processing, CSV file I/O (e.g. pd.read_csv)\n",
    "\n",
    "# Input data files are available in the read-only \"../input/\" directory\n",
    "# For example, running this (by clicking run or pressing Shift+Enter) will list all files under the input directory\n",
    "\n",
    "import os\n",
    "for dirname, _, filenames in os.walk('/kaggle/input'):\n",
    "    for filename in filenames:\n",
    "        print(os.path.join(dirname, filename))\n",
    "\n",
    "# You can write up to 20GB to the current directory (/kaggle/working/) that gets preserved as output when you create a version using \"Save & Run All\" \n",
    "# You can also write temporary files to /kaggle/temp/, but they won't be saved outside of the current session"
   ]
  },
  {
   "cell_type": "code",
   "execution_count": 2,
   "id": "0cc3a5d9",
   "metadata": {
    "execution": {
     "iopub.execute_input": "2022-02-11T16:46:53.561760Z",
     "iopub.status.busy": "2022-02-11T16:46:53.561124Z",
     "iopub.status.idle": "2022-02-11T16:46:53.597071Z",
     "shell.execute_reply": "2022-02-11T16:46:53.596546Z",
     "shell.execute_reply.started": "2022-02-11T16:35:39.412172Z"
    },
    "papermill": {
     "duration": 0.062824,
     "end_time": "2022-02-11T16:46:53.597204",
     "exception": false,
     "start_time": "2022-02-11T16:46:53.534380",
     "status": "completed"
    },
    "tags": []
   },
   "outputs": [
    {
     "data": {
      "text/html": [
       "<div>\n",
       "<style scoped>\n",
       "    .dataframe tbody tr th:only-of-type {\n",
       "        vertical-align: middle;\n",
       "    }\n",
       "\n",
       "    .dataframe tbody tr th {\n",
       "        vertical-align: top;\n",
       "    }\n",
       "\n",
       "    .dataframe thead th {\n",
       "        text-align: right;\n",
       "    }\n",
       "</style>\n",
       "<table border=\"1\" class=\"dataframe\">\n",
       "  <thead>\n",
       "    <tr style=\"text-align: right;\">\n",
       "      <th></th>\n",
       "      <th>PassengerId</th>\n",
       "      <th>Survived</th>\n",
       "      <th>Pclass</th>\n",
       "      <th>Name</th>\n",
       "      <th>Sex</th>\n",
       "      <th>Age</th>\n",
       "      <th>SibSp</th>\n",
       "      <th>Parch</th>\n",
       "      <th>Ticket</th>\n",
       "      <th>Fare</th>\n",
       "      <th>Cabin</th>\n",
       "      <th>Embarked</th>\n",
       "    </tr>\n",
       "  </thead>\n",
       "  <tbody>\n",
       "    <tr>\n",
       "      <th>0</th>\n",
       "      <td>1</td>\n",
       "      <td>0</td>\n",
       "      <td>3</td>\n",
       "      <td>Braund, Mr. Owen Harris</td>\n",
       "      <td>male</td>\n",
       "      <td>22.0</td>\n",
       "      <td>1</td>\n",
       "      <td>0</td>\n",
       "      <td>A/5 21171</td>\n",
       "      <td>7.2500</td>\n",
       "      <td>NaN</td>\n",
       "      <td>S</td>\n",
       "    </tr>\n",
       "    <tr>\n",
       "      <th>1</th>\n",
       "      <td>2</td>\n",
       "      <td>1</td>\n",
       "      <td>1</td>\n",
       "      <td>Cumings, Mrs. John Bradley (Florence Briggs Th...</td>\n",
       "      <td>female</td>\n",
       "      <td>38.0</td>\n",
       "      <td>1</td>\n",
       "      <td>0</td>\n",
       "      <td>PC 17599</td>\n",
       "      <td>71.2833</td>\n",
       "      <td>C85</td>\n",
       "      <td>C</td>\n",
       "    </tr>\n",
       "    <tr>\n",
       "      <th>2</th>\n",
       "      <td>3</td>\n",
       "      <td>1</td>\n",
       "      <td>3</td>\n",
       "      <td>Heikkinen, Miss. Laina</td>\n",
       "      <td>female</td>\n",
       "      <td>26.0</td>\n",
       "      <td>0</td>\n",
       "      <td>0</td>\n",
       "      <td>STON/O2. 3101282</td>\n",
       "      <td>7.9250</td>\n",
       "      <td>NaN</td>\n",
       "      <td>S</td>\n",
       "    </tr>\n",
       "    <tr>\n",
       "      <th>3</th>\n",
       "      <td>4</td>\n",
       "      <td>1</td>\n",
       "      <td>1</td>\n",
       "      <td>Futrelle, Mrs. Jacques Heath (Lily May Peel)</td>\n",
       "      <td>female</td>\n",
       "      <td>35.0</td>\n",
       "      <td>1</td>\n",
       "      <td>0</td>\n",
       "      <td>113803</td>\n",
       "      <td>53.1000</td>\n",
       "      <td>C123</td>\n",
       "      <td>S</td>\n",
       "    </tr>\n",
       "    <tr>\n",
       "      <th>4</th>\n",
       "      <td>5</td>\n",
       "      <td>0</td>\n",
       "      <td>3</td>\n",
       "      <td>Allen, Mr. William Henry</td>\n",
       "      <td>male</td>\n",
       "      <td>35.0</td>\n",
       "      <td>0</td>\n",
       "      <td>0</td>\n",
       "      <td>373450</td>\n",
       "      <td>8.0500</td>\n",
       "      <td>NaN</td>\n",
       "      <td>S</td>\n",
       "    </tr>\n",
       "  </tbody>\n",
       "</table>\n",
       "</div>"
      ],
      "text/plain": [
       "   PassengerId  Survived  Pclass  \\\n",
       "0            1         0       3   \n",
       "1            2         1       1   \n",
       "2            3         1       3   \n",
       "3            4         1       1   \n",
       "4            5         0       3   \n",
       "\n",
       "                                                Name     Sex   Age  SibSp  \\\n",
       "0                            Braund, Mr. Owen Harris    male  22.0      1   \n",
       "1  Cumings, Mrs. John Bradley (Florence Briggs Th...  female  38.0      1   \n",
       "2                             Heikkinen, Miss. Laina  female  26.0      0   \n",
       "3       Futrelle, Mrs. Jacques Heath (Lily May Peel)  female  35.0      1   \n",
       "4                           Allen, Mr. William Henry    male  35.0      0   \n",
       "\n",
       "   Parch            Ticket     Fare Cabin Embarked  \n",
       "0      0         A/5 21171   7.2500   NaN        S  \n",
       "1      0          PC 17599  71.2833   C85        C  \n",
       "2      0  STON/O2. 3101282   7.9250   NaN        S  \n",
       "3      0            113803  53.1000  C123        S  \n",
       "4      0            373450   8.0500   NaN        S  "
      ]
     },
     "execution_count": 2,
     "metadata": {},
     "output_type": "execute_result"
    }
   ],
   "source": [
    "train_data = pd.read_csv('/kaggle/input/titanic/train.csv')\n",
    "train_data.head()"
   ]
  },
  {
   "cell_type": "code",
   "execution_count": 3,
   "id": "c15a6c14",
   "metadata": {
    "execution": {
     "iopub.execute_input": "2022-02-11T16:46:53.650285Z",
     "iopub.status.busy": "2022-02-11T16:46:53.649655Z",
     "iopub.status.idle": "2022-02-11T16:46:53.654623Z",
     "shell.execute_reply": "2022-02-11T16:46:53.655130Z",
     "shell.execute_reply.started": "2022-02-11T16:35:39.506271Z"
    },
    "papermill": {
     "duration": 0.032869,
     "end_time": "2022-02-11T16:46:53.655304",
     "exception": false,
     "start_time": "2022-02-11T16:46:53.622435",
     "status": "completed"
    },
    "tags": []
   },
   "outputs": [
    {
     "data": {
      "text/plain": [
       "(891, 12)"
      ]
     },
     "execution_count": 3,
     "metadata": {},
     "output_type": "execute_result"
    }
   ],
   "source": [
    "train_data.shape"
   ]
  },
  {
   "cell_type": "code",
   "execution_count": 4,
   "id": "6eef5a60",
   "metadata": {
    "execution": {
     "iopub.execute_input": "2022-02-11T16:46:53.714776Z",
     "iopub.status.busy": "2022-02-11T16:46:53.714054Z",
     "iopub.status.idle": "2022-02-11T16:46:53.721406Z",
     "shell.execute_reply": "2022-02-11T16:46:53.720842Z",
     "shell.execute_reply.started": "2022-02-11T16:35:39.606971Z"
    },
    "papermill": {
     "duration": 0.041171,
     "end_time": "2022-02-11T16:46:53.721556",
     "exception": false,
     "start_time": "2022-02-11T16:46:53.680385",
     "status": "completed"
    },
    "tags": []
   },
   "outputs": [
    {
     "data": {
      "text/plain": [
       "347082      7\n",
       "CA. 2343    7\n",
       "1601        7\n",
       "3101295     6\n",
       "CA 2144     6\n",
       "           ..\n",
       "9234        1\n",
       "19988       1\n",
       "2693        1\n",
       "PC 17612    1\n",
       "370376      1\n",
       "Name: Ticket, Length: 681, dtype: int64"
      ]
     },
     "execution_count": 4,
     "metadata": {},
     "output_type": "execute_result"
    }
   ],
   "source": [
    "train_data.Ticket.value_counts()"
   ]
  },
  {
   "cell_type": "code",
   "execution_count": 5,
   "id": "d81c71f2",
   "metadata": {
    "execution": {
     "iopub.execute_input": "2022-02-11T16:46:53.777575Z",
     "iopub.status.busy": "2022-02-11T16:46:53.776916Z",
     "iopub.status.idle": "2022-02-11T16:46:53.781995Z",
     "shell.execute_reply": "2022-02-11T16:46:53.782603Z",
     "shell.execute_reply.started": "2022-02-11T16:35:39.708989Z"
    },
    "papermill": {
     "duration": 0.035744,
     "end_time": "2022-02-11T16:46:53.782769",
     "exception": false,
     "start_time": "2022-02-11T16:46:53.747025",
     "status": "completed"
    },
    "tags": []
   },
   "outputs": [
    {
     "data": {
      "text/plain": [
       "B96 B98        4\n",
       "G6             4\n",
       "C23 C25 C27    4\n",
       "C22 C26        3\n",
       "F33            3\n",
       "              ..\n",
       "E34            1\n",
       "C7             1\n",
       "C54            1\n",
       "E36            1\n",
       "C148           1\n",
       "Name: Cabin, Length: 147, dtype: int64"
      ]
     },
     "execution_count": 5,
     "metadata": {},
     "output_type": "execute_result"
    }
   ],
   "source": [
    "train_data.Cabin.value_counts()"
   ]
  },
  {
   "cell_type": "code",
   "execution_count": 6,
   "id": "564f79b1",
   "metadata": {
    "execution": {
     "iopub.execute_input": "2022-02-11T16:46:53.837625Z",
     "iopub.status.busy": "2022-02-11T16:46:53.836971Z",
     "iopub.status.idle": "2022-02-11T16:46:53.850684Z",
     "shell.execute_reply": "2022-02-11T16:46:53.851207Z",
     "shell.execute_reply.started": "2022-02-11T16:35:39.802286Z"
    },
    "papermill": {
     "duration": 0.043116,
     "end_time": "2022-02-11T16:46:53.851417",
     "exception": false,
     "start_time": "2022-02-11T16:46:53.808301",
     "status": "completed"
    },
    "tags": []
   },
   "outputs": [],
   "source": [
    "test_data = pd.read_csv('/kaggle/input/titanic/test.csv')"
   ]
  },
  {
   "cell_type": "code",
   "execution_count": 7,
   "id": "e245eaa6",
   "metadata": {
    "execution": {
     "iopub.execute_input": "2022-02-11T16:46:53.906534Z",
     "iopub.status.busy": "2022-02-11T16:46:53.905851Z",
     "iopub.status.idle": "2022-02-11T16:46:53.918900Z",
     "shell.execute_reply": "2022-02-11T16:46:53.919432Z",
     "shell.execute_reply.started": "2022-02-11T16:35:39.917950Z"
    },
    "papermill": {
     "duration": 0.042021,
     "end_time": "2022-02-11T16:46:53.919602",
     "exception": false,
     "start_time": "2022-02-11T16:46:53.877581",
     "status": "completed"
    },
    "tags": []
   },
   "outputs": [
    {
     "data": {
      "text/html": [
       "<div>\n",
       "<style scoped>\n",
       "    .dataframe tbody tr th:only-of-type {\n",
       "        vertical-align: middle;\n",
       "    }\n",
       "\n",
       "    .dataframe tbody tr th {\n",
       "        vertical-align: top;\n",
       "    }\n",
       "\n",
       "    .dataframe thead th {\n",
       "        text-align: right;\n",
       "    }\n",
       "</style>\n",
       "<table border=\"1\" class=\"dataframe\">\n",
       "  <thead>\n",
       "    <tr style=\"text-align: right;\">\n",
       "      <th></th>\n",
       "      <th>PassengerId</th>\n",
       "      <th>Pclass</th>\n",
       "      <th>Name</th>\n",
       "      <th>Sex</th>\n",
       "      <th>Age</th>\n",
       "      <th>SibSp</th>\n",
       "      <th>Parch</th>\n",
       "      <th>Ticket</th>\n",
       "      <th>Fare</th>\n",
       "      <th>Cabin</th>\n",
       "      <th>Embarked</th>\n",
       "    </tr>\n",
       "  </thead>\n",
       "  <tbody>\n",
       "    <tr>\n",
       "      <th>0</th>\n",
       "      <td>892</td>\n",
       "      <td>3</td>\n",
       "      <td>Kelly, Mr. James</td>\n",
       "      <td>male</td>\n",
       "      <td>34.5</td>\n",
       "      <td>0</td>\n",
       "      <td>0</td>\n",
       "      <td>330911</td>\n",
       "      <td>7.8292</td>\n",
       "      <td>NaN</td>\n",
       "      <td>Q</td>\n",
       "    </tr>\n",
       "    <tr>\n",
       "      <th>1</th>\n",
       "      <td>893</td>\n",
       "      <td>3</td>\n",
       "      <td>Wilkes, Mrs. James (Ellen Needs)</td>\n",
       "      <td>female</td>\n",
       "      <td>47.0</td>\n",
       "      <td>1</td>\n",
       "      <td>0</td>\n",
       "      <td>363272</td>\n",
       "      <td>7.0000</td>\n",
       "      <td>NaN</td>\n",
       "      <td>S</td>\n",
       "    </tr>\n",
       "    <tr>\n",
       "      <th>2</th>\n",
       "      <td>894</td>\n",
       "      <td>2</td>\n",
       "      <td>Myles, Mr. Thomas Francis</td>\n",
       "      <td>male</td>\n",
       "      <td>62.0</td>\n",
       "      <td>0</td>\n",
       "      <td>0</td>\n",
       "      <td>240276</td>\n",
       "      <td>9.6875</td>\n",
       "      <td>NaN</td>\n",
       "      <td>Q</td>\n",
       "    </tr>\n",
       "    <tr>\n",
       "      <th>3</th>\n",
       "      <td>895</td>\n",
       "      <td>3</td>\n",
       "      <td>Wirz, Mr. Albert</td>\n",
       "      <td>male</td>\n",
       "      <td>27.0</td>\n",
       "      <td>0</td>\n",
       "      <td>0</td>\n",
       "      <td>315154</td>\n",
       "      <td>8.6625</td>\n",
       "      <td>NaN</td>\n",
       "      <td>S</td>\n",
       "    </tr>\n",
       "    <tr>\n",
       "      <th>4</th>\n",
       "      <td>896</td>\n",
       "      <td>3</td>\n",
       "      <td>Hirvonen, Mrs. Alexander (Helga E Lindqvist)</td>\n",
       "      <td>female</td>\n",
       "      <td>22.0</td>\n",
       "      <td>1</td>\n",
       "      <td>1</td>\n",
       "      <td>3101298</td>\n",
       "      <td>12.2875</td>\n",
       "      <td>NaN</td>\n",
       "      <td>S</td>\n",
       "    </tr>\n",
       "  </tbody>\n",
       "</table>\n",
       "</div>"
      ],
      "text/plain": [
       "   PassengerId  Pclass                                          Name     Sex  \\\n",
       "0          892       3                              Kelly, Mr. James    male   \n",
       "1          893       3              Wilkes, Mrs. James (Ellen Needs)  female   \n",
       "2          894       2                     Myles, Mr. Thomas Francis    male   \n",
       "3          895       3                              Wirz, Mr. Albert    male   \n",
       "4          896       3  Hirvonen, Mrs. Alexander (Helga E Lindqvist)  female   \n",
       "\n",
       "    Age  SibSp  Parch   Ticket     Fare Cabin Embarked  \n",
       "0  34.5      0      0   330911   7.8292   NaN        Q  \n",
       "1  47.0      1      0   363272   7.0000   NaN        S  \n",
       "2  62.0      0      0   240276   9.6875   NaN        Q  \n",
       "3  27.0      0      0   315154   8.6625   NaN        S  \n",
       "4  22.0      1      1  3101298  12.2875   NaN        S  "
      ]
     },
     "execution_count": 7,
     "metadata": {},
     "output_type": "execute_result"
    }
   ],
   "source": [
    "test_data.head()"
   ]
  },
  {
   "cell_type": "code",
   "execution_count": 8,
   "id": "ddcef4fb",
   "metadata": {
    "execution": {
     "iopub.execute_input": "2022-02-11T16:46:53.975283Z",
     "iopub.status.busy": "2022-02-11T16:46:53.974610Z",
     "iopub.status.idle": "2022-02-11T16:46:53.982383Z",
     "shell.execute_reply": "2022-02-11T16:46:53.982877Z",
     "shell.execute_reply.started": "2022-02-11T16:35:40.013773Z"
    },
    "papermill": {
     "duration": 0.037133,
     "end_time": "2022-02-11T16:46:53.983041",
     "exception": false,
     "start_time": "2022-02-11T16:46:53.945908",
     "status": "completed"
    },
    "tags": []
   },
   "outputs": [
    {
     "name": "stdout",
     "output_type": "stream",
     "text": [
      "The percent of women who survived was 0.7420382165605095\n"
     ]
    }
   ],
   "source": [
    "women = train_data.loc[train_data['Sex']=='female']['Survived']\n",
    "rate_women = sum(women)/len(women)\n",
    "\n",
    "print('The percent of women who survived was ' + str(rate_women))"
   ]
  },
  {
   "cell_type": "code",
   "execution_count": 9,
   "id": "c15bc9e1",
   "metadata": {
    "execution": {
     "iopub.execute_input": "2022-02-11T16:46:54.042495Z",
     "iopub.status.busy": "2022-02-11T16:46:54.041801Z",
     "iopub.status.idle": "2022-02-11T16:46:54.044940Z",
     "shell.execute_reply": "2022-02-11T16:46:54.045473Z",
     "shell.execute_reply.started": "2022-02-11T16:35:40.158448Z"
    },
    "papermill": {
     "duration": 0.036076,
     "end_time": "2022-02-11T16:46:54.045640",
     "exception": false,
     "start_time": "2022-02-11T16:46:54.009564",
     "status": "completed"
    },
    "tags": []
   },
   "outputs": [
    {
     "name": "stdout",
     "output_type": "stream",
     "text": [
      "The percent of men who survived was 0.18890814558058924\n"
     ]
    }
   ],
   "source": [
    "men = train_data.loc[train_data.Sex == 'male']['Survived']\n",
    "rate_men = sum(men)/len(men)\n",
    "\n",
    "print('The percent of men who survived was ' + str(rate_men))"
   ]
  },
  {
   "cell_type": "code",
   "execution_count": 10,
   "id": "66584348",
   "metadata": {
    "execution": {
     "iopub.execute_input": "2022-02-11T16:46:54.106965Z",
     "iopub.status.busy": "2022-02-11T16:46:54.106286Z",
     "iopub.status.idle": "2022-02-11T16:46:54.109022Z",
     "shell.execute_reply": "2022-02-11T16:46:54.109563Z",
     "shell.execute_reply.started": "2022-02-11T16:35:40.203929Z"
    },
    "papermill": {
     "duration": 0.03689,
     "end_time": "2022-02-11T16:46:54.109734",
     "exception": false,
     "start_time": "2022-02-11T16:46:54.072844",
     "status": "completed"
    },
    "tags": []
   },
   "outputs": [
    {
     "name": "stdout",
     "output_type": "stream",
     "text": [
      "The percent of children who survived was 0.5398230088495575\n"
     ]
    }
   ],
   "source": [
    "children = train_data.loc[train_data['Age']<18]['Survived']\n",
    "rate_children = sum(children)/len(children)\n",
    "\n",
    "print('The percent of children who survived was ' + str(rate_children))"
   ]
  },
  {
   "cell_type": "code",
   "execution_count": 11,
   "id": "e88e6d99",
   "metadata": {
    "execution": {
     "iopub.execute_input": "2022-02-11T16:46:54.167045Z",
     "iopub.status.busy": "2022-02-11T16:46:54.166418Z",
     "iopub.status.idle": "2022-02-11T16:46:54.173124Z",
     "shell.execute_reply": "2022-02-11T16:46:54.173802Z",
     "shell.execute_reply.started": "2022-02-11T16:35:40.326693Z"
    },
    "papermill": {
     "duration": 0.037084,
     "end_time": "2022-02-11T16:46:54.174027",
     "exception": false,
     "start_time": "2022-02-11T16:46:54.136943",
     "status": "completed"
    },
    "tags": []
   },
   "outputs": [
    {
     "name": "stdout",
     "output_type": "stream",
     "text": [
      "The percent of adults who survived was 0.3810316139767055\n"
     ]
    }
   ],
   "source": [
    "adults = train_data.loc[train_data['Age']>=18]['Survived']\n",
    "rate_adults = sum(adults)/len(adults)\n",
    "\n",
    "print('The percent of adults who survived was ' + str(rate_adults))"
   ]
  },
  {
   "cell_type": "code",
   "execution_count": null,
   "id": "bba11868",
   "metadata": {
    "papermill": {
     "duration": 0.027069,
     "end_time": "2022-02-11T16:46:54.229676",
     "exception": false,
     "start_time": "2022-02-11T16:46:54.202607",
     "status": "completed"
    },
    "tags": []
   },
   "outputs": [],
   "source": []
  },
  {
   "cell_type": "code",
   "execution_count": null,
   "id": "bfc147e5",
   "metadata": {
    "papermill": {
     "duration": 0.027215,
     "end_time": "2022-02-11T16:46:54.284792",
     "exception": false,
     "start_time": "2022-02-11T16:46:54.257577",
     "status": "completed"
    },
    "tags": []
   },
   "outputs": [],
   "source": []
  },
  {
   "cell_type": "markdown",
   "id": "3017abdd",
   "metadata": {
    "papermill": {
     "duration": 0.027094,
     "end_time": "2022-02-11T16:46:54.340854",
     "exception": false,
     "start_time": "2022-02-11T16:46:54.313760",
     "status": "completed"
    },
    "tags": []
   },
   "source": []
  },
  {
   "cell_type": "markdown",
   "id": "fd064a9e",
   "metadata": {
    "papermill": {
     "duration": 0.026973,
     "end_time": "2022-02-11T16:46:54.395240",
     "exception": false,
     "start_time": "2022-02-11T16:46:54.368267",
     "status": "completed"
    },
    "tags": []
   },
   "source": []
  },
  {
   "cell_type": "code",
   "execution_count": 12,
   "id": "d543d4a7",
   "metadata": {
    "execution": {
     "iopub.execute_input": "2022-02-11T16:46:54.457944Z",
     "iopub.status.busy": "2022-02-11T16:46:54.457183Z",
     "iopub.status.idle": "2022-02-11T16:46:54.460207Z",
     "shell.execute_reply": "2022-02-11T16:46:54.460716Z",
     "shell.execute_reply.started": "2022-02-11T16:35:40.877188Z"
    },
    "papermill": {
     "duration": 0.038218,
     "end_time": "2022-02-11T16:46:54.460873",
     "exception": false,
     "start_time": "2022-02-11T16:46:54.422655",
     "status": "completed"
    },
    "tags": []
   },
   "outputs": [
    {
     "data": {
      "text/plain": [
       "B96 B98        4\n",
       "G6             4\n",
       "C23 C25 C27    4\n",
       "C22 C26        3\n",
       "F33            3\n",
       "              ..\n",
       "E34            1\n",
       "C7             1\n",
       "C54            1\n",
       "E36            1\n",
       "C148           1\n",
       "Name: Cabin, Length: 147, dtype: int64"
      ]
     },
     "execution_count": 12,
     "metadata": {},
     "output_type": "execute_result"
    }
   ],
   "source": [
    "train_data.Cabin.value_counts()"
   ]
  },
  {
   "cell_type": "code",
   "execution_count": 13,
   "id": "7e83b270",
   "metadata": {
    "execution": {
     "iopub.execute_input": "2022-02-11T16:46:54.520954Z",
     "iopub.status.busy": "2022-02-11T16:46:54.520314Z",
     "iopub.status.idle": "2022-02-11T16:46:54.522497Z",
     "shell.execute_reply": "2022-02-11T16:46:54.521868Z",
     "shell.execute_reply.started": "2022-02-11T16:35:40.913638Z"
    },
    "papermill": {
     "duration": 0.033995,
     "end_time": "2022-02-11T16:46:54.522637",
     "exception": false,
     "start_time": "2022-02-11T16:46:54.488642",
     "status": "completed"
    },
    "tags": []
   },
   "outputs": [],
   "source": [
    "#train_data['HasCabin'] = np.where(train_data.Cabin.isnull() == True, False, True)\n",
    "#test_data['HasCabin'] = np.where(test_data.Cabin.isnull() == True, False, True)"
   ]
  },
  {
   "cell_type": "code",
   "execution_count": 14,
   "id": "36330d52",
   "metadata": {
    "execution": {
     "iopub.execute_input": "2022-02-11T16:46:54.582157Z",
     "iopub.status.busy": "2022-02-11T16:46:54.581515Z",
     "iopub.status.idle": "2022-02-11T16:46:54.584092Z",
     "shell.execute_reply": "2022-02-11T16:46:54.584595Z",
     "shell.execute_reply.started": "2022-02-11T16:35:41.386149Z"
    },
    "papermill": {
     "duration": 0.033372,
     "end_time": "2022-02-11T16:46:54.584768",
     "exception": false,
     "start_time": "2022-02-11T16:46:54.551396",
     "status": "completed"
    },
    "tags": []
   },
   "outputs": [],
   "source": [
    "#train_data.HasCabin.sum()"
   ]
  },
  {
   "cell_type": "code",
   "execution_count": 15,
   "id": "bb7e9153",
   "metadata": {
    "execution": {
     "iopub.execute_input": "2022-02-11T16:46:54.644130Z",
     "iopub.status.busy": "2022-02-11T16:46:54.643480Z",
     "iopub.status.idle": "2022-02-11T16:46:54.649469Z",
     "shell.execute_reply": "2022-02-11T16:46:54.649943Z",
     "shell.execute_reply.started": "2022-02-11T16:35:41.616169Z"
    },
    "papermill": {
     "duration": 0.037095,
     "end_time": "2022-02-11T16:46:54.650118",
     "exception": false,
     "start_time": "2022-02-11T16:46:54.613023",
     "status": "completed"
    },
    "tags": []
   },
   "outputs": [],
   "source": [
    "features = ['Pclass', 'Sex', 'SibSp', 'Parch', 'Cabin', 'Embarked']\n",
    "\n",
    "y_train = train_data['Survived']\n",
    "train_data1 = train_data[features]\n",
    "test_data1 = test_data[features]"
   ]
  },
  {
   "cell_type": "code",
   "execution_count": 16,
   "id": "9136fb97",
   "metadata": {
    "execution": {
     "iopub.execute_input": "2022-02-11T16:46:54.709358Z",
     "iopub.status.busy": "2022-02-11T16:46:54.708657Z",
     "iopub.status.idle": "2022-02-11T16:46:54.728285Z",
     "shell.execute_reply": "2022-02-11T16:46:54.728827Z",
     "shell.execute_reply.started": "2022-02-11T16:35:41.855343Z"
    },
    "papermill": {
     "duration": 0.05095,
     "end_time": "2022-02-11T16:46:54.728996",
     "exception": false,
     "start_time": "2022-02-11T16:46:54.678046",
     "status": "completed"
    },
    "tags": []
   },
   "outputs": [],
   "source": [
    "# Convert the categorical features in the train and test sets independently\n",
    "train_data_d = pd.get_dummies(train_data1)\n",
    "test_data_d = pd.get_dummies(test_data1)\n",
    "\n",
    "# Replace all missing values in age & Fare with mean value\n",
    "#train_data_d['Age'] = train_data_d['Age'].fillna(train_data_d['Age'].mean())\n",
    "#test_data_d['Age'] = test_data_d['Age'].fillna(test_data_d['Age'].mean())\n",
    "#train_data_d['Fare'] = train_data_d['Fare'].fillna(train_data_d['Fare'].mean())\n",
    "#test_data_d['Fare'] = test_data_d['Fare'].fillna(test_data_d['Fare'].mean())\n",
    "\n",
    "\n",
    "# Reindex the columns of the test set aligning with the train set\n",
    "test_data_d = test_data_d.reindex(columns=train_data_d.columns, fill_value=0)"
   ]
  },
  {
   "cell_type": "code",
   "execution_count": 17,
   "id": "e1b55774",
   "metadata": {
    "execution": {
     "iopub.execute_input": "2022-02-11T16:46:54.788561Z",
     "iopub.status.busy": "2022-02-11T16:46:54.787907Z",
     "iopub.status.idle": "2022-02-11T16:46:54.796502Z",
     "shell.execute_reply": "2022-02-11T16:46:54.795955Z",
     "shell.execute_reply.started": "2022-02-11T16:35:42.041711Z"
    },
    "papermill": {
     "duration": 0.039254,
     "end_time": "2022-02-11T16:46:54.796652",
     "exception": false,
     "start_time": "2022-02-11T16:46:54.757398",
     "status": "completed"
    },
    "tags": []
   },
   "outputs": [
    {
     "name": "stdout",
     "output_type": "stream",
     "text": [
      "(891, 155)\n",
      "Pclass        0\n",
      "SibSp         0\n",
      "Parch         0\n",
      "Sex_female    0\n",
      "Sex_male      0\n",
      "             ..\n",
      "Cabin_G6      0\n",
      "Cabin_T       0\n",
      "Embarked_C    0\n",
      "Embarked_Q    0\n",
      "Embarked_S    0\n",
      "Length: 155, dtype: int64\n"
     ]
    }
   ],
   "source": [
    "print(train_data_d.shape)\n",
    "print(test_data_d.isnull().sum())"
   ]
  },
  {
   "cell_type": "code",
   "execution_count": 18,
   "id": "5b75b276",
   "metadata": {
    "execution": {
     "iopub.execute_input": "2022-02-11T16:46:54.856964Z",
     "iopub.status.busy": "2022-02-11T16:46:54.856358Z",
     "iopub.status.idle": "2022-02-11T16:46:55.755619Z",
     "shell.execute_reply": "2022-02-11T16:46:55.754952Z",
     "shell.execute_reply.started": "2022-02-11T16:35:42.374710Z"
    },
    "papermill": {
     "duration": 0.930017,
     "end_time": "2022-02-11T16:46:55.755774",
     "exception": false,
     "start_time": "2022-02-11T16:46:54.825757",
     "status": "completed"
    },
    "tags": []
   },
   "outputs": [],
   "source": [
    "# Import MinMaxScaler\n",
    "from sklearn.preprocessing import MinMaxScaler\n",
    "\n",
    "# Instantiate MinMaxScaler and use it to rescale X_train and X_test\n",
    "scaler = MinMaxScaler(feature_range=(0,1))\n",
    "train_data_rescaled = scaler.fit_transform(train_data_d)\n",
    "test_data_rescaled = scaler.fit_transform(test_data_d)"
   ]
  },
  {
   "cell_type": "code",
   "execution_count": null,
   "id": "f42ccea2",
   "metadata": {
    "papermill": {
     "duration": 0.028217,
     "end_time": "2022-02-11T16:46:55.812512",
     "exception": false,
     "start_time": "2022-02-11T16:46:55.784295",
     "status": "completed"
    },
    "tags": []
   },
   "outputs": [],
   "source": []
  },
  {
   "cell_type": "code",
   "execution_count": 19,
   "id": "65acdf99",
   "metadata": {
    "execution": {
     "iopub.execute_input": "2022-02-11T16:46:55.874099Z",
     "iopub.status.busy": "2022-02-11T16:46:55.873415Z",
     "iopub.status.idle": "2022-02-11T16:46:55.879813Z",
     "shell.execute_reply": "2022-02-11T16:46:55.880318Z",
     "shell.execute_reply.started": "2022-02-11T16:35:43.480068Z"
    },
    "papermill": {
     "duration": 0.039699,
     "end_time": "2022-02-11T16:46:55.880485",
     "exception": false,
     "start_time": "2022-02-11T16:46:55.840786",
     "status": "completed"
    },
    "tags": []
   },
   "outputs": [
    {
     "data": {
      "text/plain": [
       "Pclass        0\n",
       "SibSp         0\n",
       "Parch         0\n",
       "Sex_female    0\n",
       "Sex_male      0\n",
       "             ..\n",
       "Cabin_G6      0\n",
       "Cabin_T       0\n",
       "Embarked_C    0\n",
       "Embarked_Q    0\n",
       "Embarked_S    0\n",
       "Length: 155, dtype: int64"
      ]
     },
     "execution_count": 19,
     "metadata": {},
     "output_type": "execute_result"
    }
   ],
   "source": [
    "train_data_d.isnull().sum()"
   ]
  },
  {
   "cell_type": "code",
   "execution_count": 20,
   "id": "7fbd5981",
   "metadata": {
    "execution": {
     "iopub.execute_input": "2022-02-11T16:46:55.941750Z",
     "iopub.status.busy": "2022-02-11T16:46:55.941073Z",
     "iopub.status.idle": "2022-02-11T16:46:56.065592Z",
     "shell.execute_reply": "2022-02-11T16:46:56.066133Z",
     "shell.execute_reply.started": "2022-02-11T16:46:14.238539Z"
    },
    "papermill": {
     "duration": 0.156829,
     "end_time": "2022-02-11T16:46:56.066336",
     "exception": false,
     "start_time": "2022-02-11T16:46:55.909507",
     "status": "completed"
    },
    "tags": []
   },
   "outputs": [
    {
     "data": {
      "text/plain": [
       "LogisticRegression(solver='liblinear')"
      ]
     },
     "execution_count": 20,
     "metadata": {},
     "output_type": "execute_result"
    }
   ],
   "source": [
    "# Import LogisticRegression\n",
    "from sklearn.linear_model import LogisticRegression\n",
    "\n",
    "# Instantiate a LogisticRegression classifier with default parameter values\n",
    "logreg = LogisticRegression(solver='liblinear')\n",
    "\n",
    "# Fit logreg to the train set\n",
    "logreg.fit(train_data_rescaled, y_train)"
   ]
  },
  {
   "cell_type": "code",
   "execution_count": 21,
   "id": "c206ad9b",
   "metadata": {
    "execution": {
     "iopub.execute_input": "2022-02-11T16:46:56.130491Z",
     "iopub.status.busy": "2022-02-11T16:46:56.129729Z",
     "iopub.status.idle": "2022-02-11T16:46:56.132474Z",
     "shell.execute_reply": "2022-02-11T16:46:56.131968Z",
     "shell.execute_reply.started": "2022-02-11T16:46:14.406516Z"
    },
    "papermill": {
     "duration": 0.036968,
     "end_time": "2022-02-11T16:46:56.132614",
     "exception": false,
     "start_time": "2022-02-11T16:46:56.095646",
     "status": "completed"
    },
    "tags": []
   },
   "outputs": [],
   "source": [
    "# Import GridSearchCV\n",
    "from sklearn.model_selection import GridSearchCV\n",
    "\n",
    "# Define the grid of values for tol and max_iter\n",
    "tol = [0.01,0.001,0.0001]\n",
    "max_iter = [100,150,200]\n",
    "\n",
    "# Create a dictionary where tol and max_iter are keys and the lists of their values are corresponding values\n",
    "param_grid = dict(tol=tol, max_iter=max_iter)"
   ]
  },
  {
   "cell_type": "code",
   "execution_count": 22,
   "id": "e124ecc4",
   "metadata": {
    "execution": {
     "iopub.execute_input": "2022-02-11T16:46:56.197519Z",
     "iopub.status.busy": "2022-02-11T16:46:56.196699Z",
     "iopub.status.idle": "2022-02-11T16:46:56.477984Z",
     "shell.execute_reply": "2022-02-11T16:46:56.479550Z",
     "shell.execute_reply.started": "2022-02-11T16:46:15.084480Z"
    },
    "papermill": {
     "duration": 0.318714,
     "end_time": "2022-02-11T16:46:56.480018",
     "exception": false,
     "start_time": "2022-02-11T16:46:56.161304",
     "status": "completed"
    },
    "tags": []
   },
   "outputs": [
    {
     "name": "stdout",
     "output_type": "stream",
     "text": [
      "Best: 0.781144 using {'max_iter': 100, 'tol': 0.001}\n",
      "LogisticRegression(solver='liblinear', tol=0.001)\n"
     ]
    }
   ],
   "source": [
    "# Instantiate GridSearchCV with the required parameters\n",
    "grid_model = GridSearchCV(estimator=logreg, param_grid=param_grid, cv=5)\n",
    "\n",
    "# Fit grid_model to the data\n",
    "grid_model_result = grid_model.fit(train_data_rescaled, y_train)\n",
    "\n",
    "# Summarize results\n",
    "best_score, best_params = grid_model_result.best_score_, grid_model_result.best_params_\n",
    "print(\"Best: %f using %s\" % (best_score, best_params))\n",
    "\n",
    "# Extract the best model and evaluate it on the test set\n",
    "best_model = grid_model_result.best_estimator_\n",
    "print(best_model)\n",
    "#print(\"Accuracy of logistic regression classifier: \", best_model.score(rescaledX_test,y_test))"
   ]
  },
  {
   "cell_type": "code",
   "execution_count": 23,
   "id": "31ef6534",
   "metadata": {
    "execution": {
     "iopub.execute_input": "2022-02-11T16:46:56.596439Z",
     "iopub.status.busy": "2022-02-11T16:46:56.595351Z",
     "iopub.status.idle": "2022-02-11T16:46:56.606741Z",
     "shell.execute_reply": "2022-02-11T16:46:56.607556Z",
     "shell.execute_reply.started": "2022-02-11T16:46:28.626454Z"
    },
    "papermill": {
     "duration": 0.07398,
     "end_time": "2022-02-11T16:46:56.607836",
     "exception": false,
     "start_time": "2022-02-11T16:46:56.533856",
     "status": "completed"
    },
    "tags": []
   },
   "outputs": [
    {
     "name": "stdout",
     "output_type": "stream",
     "text": [
      "Your test submission was successfully saved!!\n"
     ]
    }
   ],
   "source": [
    "# Final for output\n",
    "predictions = best_model.predict(test_data_rescaled)\n",
    "\n",
    "output = pd.DataFrame({'PassengerId': test_data.PassengerId, 'Survived': predictions})\n",
    "\n",
    "output.to_csv('Submission-Logistic-Regression-Liblinear.csv', index=False)\n",
    "print('Your test submission was successfully saved!!')"
   ]
  },
  {
   "cell_type": "code",
   "execution_count": null,
   "id": "978cbabf",
   "metadata": {
    "papermill": {
     "duration": 0.052378,
     "end_time": "2022-02-11T16:46:56.715053",
     "exception": false,
     "start_time": "2022-02-11T16:46:56.662675",
     "status": "completed"
    },
    "tags": []
   },
   "outputs": [],
   "source": []
  },
  {
   "cell_type": "code",
   "execution_count": null,
   "id": "fbeba0f3",
   "metadata": {
    "papermill": {
     "duration": 0.029235,
     "end_time": "2022-02-11T16:46:56.774063",
     "exception": false,
     "start_time": "2022-02-11T16:46:56.744828",
     "status": "completed"
    },
    "tags": []
   },
   "outputs": [],
   "source": []
  },
  {
   "cell_type": "code",
   "execution_count": null,
   "id": "0c460544",
   "metadata": {
    "papermill": {
     "duration": 0.029282,
     "end_time": "2022-02-11T16:46:56.833310",
     "exception": false,
     "start_time": "2022-02-11T16:46:56.804028",
     "status": "completed"
    },
    "tags": []
   },
   "outputs": [],
   "source": []
  }
 ],
 "metadata": {
  "kernelspec": {
   "display_name": "Python 3",
   "language": "python",
   "name": "python3"
  },
  "language_info": {
   "codemirror_mode": {
    "name": "ipython",
    "version": 3
   },
   "file_extension": ".py",
   "mimetype": "text/x-python",
   "name": "python",
   "nbconvert_exporter": "python",
   "pygments_lexer": "ipython3",
   "version": "3.7.12"
  },
  "papermill": {
   "default_parameters": {},
   "duration": 13.596265,
   "end_time": "2022-02-11T16:46:57.572107",
   "environment_variables": {},
   "exception": null,
   "input_path": "__notebook__.ipynb",
   "output_path": "__notebook__.ipynb",
   "parameters": {},
   "start_time": "2022-02-11T16:46:43.975842",
   "version": "2.3.3"
  }
 },
 "nbformat": 4,
 "nbformat_minor": 5
}
