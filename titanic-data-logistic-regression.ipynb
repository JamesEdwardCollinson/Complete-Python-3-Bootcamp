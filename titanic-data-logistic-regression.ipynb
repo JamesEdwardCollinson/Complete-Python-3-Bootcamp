{
 "cells": [
  {
   "cell_type": "code",
   "execution_count": 1,
   "id": "6be4ed56",
   "metadata": {
    "_cell_guid": "b1076dfc-b9ad-4769-8c92-a6c4dae69d19",
    "_uuid": "8f2839f25d086af736a60e9eeb907d3b93b6e0e5",
    "execution": {
     "iopub.execute_input": "2022-02-16T22:04:19.261281Z",
     "iopub.status.busy": "2022-02-16T22:04:19.260746Z",
     "iopub.status.idle": "2022-02-16T22:04:19.266607Z",
     "shell.execute_reply": "2022-02-16T22:04:19.266094Z",
     "shell.execute_reply.started": "2022-02-16T21:58:00.956389Z"
    },
    "papermill": {
     "duration": 0.04788,
     "end_time": "2022-02-16T22:04:19.266730",
     "exception": false,
     "start_time": "2022-02-16T22:04:19.218850",
     "status": "completed"
    },
    "tags": []
   },
   "outputs": [
    {
     "name": "stdout",
     "output_type": "stream",
     "text": [
      "/kaggle/input/titanic/train.csv\n",
      "/kaggle/input/titanic/test.csv\n",
      "/kaggle/input/titanic/gender_submission.csv\n"
     ]
    }
   ],
   "source": [
    "# This Python 3 environment comes with many helpful analytics libraries installed\n",
    "# It is defined by the kaggle/python Docker image: https://github.com/kaggle/docker-python\n",
    "# For example, here's several helpful packages to load\n",
    "\n",
    "import numpy as np # linear algebra\n",
    "import pandas as pd # data processing, CSV file I/O (e.g. pd.read_csv)\n",
    "\n",
    "# Input data files are available in the read-only \"../input/\" directory\n",
    "# For example, running this (by clicking run or pressing Shift+Enter) will list all files under the input directory\n",
    "\n",
    "import os\n",
    "for dirname, _, filenames in os.walk('/kaggle/input'):\n",
    "    for filename in filenames:\n",
    "        print(os.path.join(dirname, filename))\n",
    "\n",
    "# You can write up to 20GB to the current directory (/kaggle/working/) that gets preserved as output when you create a version using \"Save & Run All\" \n",
    "# You can also write temporary files to /kaggle/temp/, but they won't be saved outside of the current session"
   ]
  },
  {
   "cell_type": "code",
   "execution_count": 2,
   "id": "8f4e16b2",
   "metadata": {
    "execution": {
     "iopub.execute_input": "2022-02-16T22:04:19.328190Z",
     "iopub.status.busy": "2022-02-16T22:04:19.327715Z",
     "iopub.status.idle": "2022-02-16T22:04:19.361183Z",
     "shell.execute_reply": "2022-02-16T22:04:19.360682Z",
     "shell.execute_reply.started": "2022-02-16T21:58:00.987873Z"
    },
    "papermill": {
     "duration": 0.064566,
     "end_time": "2022-02-16T22:04:19.361285",
     "exception": false,
     "start_time": "2022-02-16T22:04:19.296719",
     "status": "completed"
    },
    "tags": []
   },
   "outputs": [
    {
     "data": {
      "text/html": [
       "<div>\n",
       "<style scoped>\n",
       "    .dataframe tbody tr th:only-of-type {\n",
       "        vertical-align: middle;\n",
       "    }\n",
       "\n",
       "    .dataframe tbody tr th {\n",
       "        vertical-align: top;\n",
       "    }\n",
       "\n",
       "    .dataframe thead th {\n",
       "        text-align: right;\n",
       "    }\n",
       "</style>\n",
       "<table border=\"1\" class=\"dataframe\">\n",
       "  <thead>\n",
       "    <tr style=\"text-align: right;\">\n",
       "      <th></th>\n",
       "      <th>PassengerId</th>\n",
       "      <th>Survived</th>\n",
       "      <th>Pclass</th>\n",
       "      <th>Name</th>\n",
       "      <th>Sex</th>\n",
       "      <th>Age</th>\n",
       "      <th>SibSp</th>\n",
       "      <th>Parch</th>\n",
       "      <th>Ticket</th>\n",
       "      <th>Fare</th>\n",
       "      <th>Cabin</th>\n",
       "      <th>Embarked</th>\n",
       "    </tr>\n",
       "  </thead>\n",
       "  <tbody>\n",
       "    <tr>\n",
       "      <th>0</th>\n",
       "      <td>1</td>\n",
       "      <td>0</td>\n",
       "      <td>3</td>\n",
       "      <td>Braund, Mr. Owen Harris</td>\n",
       "      <td>male</td>\n",
       "      <td>22.0</td>\n",
       "      <td>1</td>\n",
       "      <td>0</td>\n",
       "      <td>A/5 21171</td>\n",
       "      <td>7.2500</td>\n",
       "      <td>NaN</td>\n",
       "      <td>S</td>\n",
       "    </tr>\n",
       "    <tr>\n",
       "      <th>1</th>\n",
       "      <td>2</td>\n",
       "      <td>1</td>\n",
       "      <td>1</td>\n",
       "      <td>Cumings, Mrs. John Bradley (Florence Briggs Th...</td>\n",
       "      <td>female</td>\n",
       "      <td>38.0</td>\n",
       "      <td>1</td>\n",
       "      <td>0</td>\n",
       "      <td>PC 17599</td>\n",
       "      <td>71.2833</td>\n",
       "      <td>C85</td>\n",
       "      <td>C</td>\n",
       "    </tr>\n",
       "    <tr>\n",
       "      <th>2</th>\n",
       "      <td>3</td>\n",
       "      <td>1</td>\n",
       "      <td>3</td>\n",
       "      <td>Heikkinen, Miss. Laina</td>\n",
       "      <td>female</td>\n",
       "      <td>26.0</td>\n",
       "      <td>0</td>\n",
       "      <td>0</td>\n",
       "      <td>STON/O2. 3101282</td>\n",
       "      <td>7.9250</td>\n",
       "      <td>NaN</td>\n",
       "      <td>S</td>\n",
       "    </tr>\n",
       "    <tr>\n",
       "      <th>3</th>\n",
       "      <td>4</td>\n",
       "      <td>1</td>\n",
       "      <td>1</td>\n",
       "      <td>Futrelle, Mrs. Jacques Heath (Lily May Peel)</td>\n",
       "      <td>female</td>\n",
       "      <td>35.0</td>\n",
       "      <td>1</td>\n",
       "      <td>0</td>\n",
       "      <td>113803</td>\n",
       "      <td>53.1000</td>\n",
       "      <td>C123</td>\n",
       "      <td>S</td>\n",
       "    </tr>\n",
       "    <tr>\n",
       "      <th>4</th>\n",
       "      <td>5</td>\n",
       "      <td>0</td>\n",
       "      <td>3</td>\n",
       "      <td>Allen, Mr. William Henry</td>\n",
       "      <td>male</td>\n",
       "      <td>35.0</td>\n",
       "      <td>0</td>\n",
       "      <td>0</td>\n",
       "      <td>373450</td>\n",
       "      <td>8.0500</td>\n",
       "      <td>NaN</td>\n",
       "      <td>S</td>\n",
       "    </tr>\n",
       "  </tbody>\n",
       "</table>\n",
       "</div>"
      ],
      "text/plain": [
       "   PassengerId  Survived  Pclass  \\\n",
       "0            1         0       3   \n",
       "1            2         1       1   \n",
       "2            3         1       3   \n",
       "3            4         1       1   \n",
       "4            5         0       3   \n",
       "\n",
       "                                                Name     Sex   Age  SibSp  \\\n",
       "0                            Braund, Mr. Owen Harris    male  22.0      1   \n",
       "1  Cumings, Mrs. John Bradley (Florence Briggs Th...  female  38.0      1   \n",
       "2                             Heikkinen, Miss. Laina  female  26.0      0   \n",
       "3       Futrelle, Mrs. Jacques Heath (Lily May Peel)  female  35.0      1   \n",
       "4                           Allen, Mr. William Henry    male  35.0      0   \n",
       "\n",
       "   Parch            Ticket     Fare Cabin Embarked  \n",
       "0      0         A/5 21171   7.2500   NaN        S  \n",
       "1      0          PC 17599  71.2833   C85        C  \n",
       "2      0  STON/O2. 3101282   7.9250   NaN        S  \n",
       "3      0            113803  53.1000  C123        S  \n",
       "4      0            373450   8.0500   NaN        S  "
      ]
     },
     "execution_count": 2,
     "metadata": {},
     "output_type": "execute_result"
    }
   ],
   "source": [
    "train_data = pd.read_csv('/kaggle/input/titanic/train.csv')\n",
    "train_data.head()"
   ]
  },
  {
   "cell_type": "code",
   "execution_count": 3,
   "id": "0eed7973",
   "metadata": {
    "execution": {
     "iopub.execute_input": "2022-02-16T22:04:19.426743Z",
     "iopub.status.busy": "2022-02-16T22:04:19.426314Z",
     "iopub.status.idle": "2022-02-16T22:04:19.428654Z",
     "shell.execute_reply": "2022-02-16T22:04:19.429038Z",
     "shell.execute_reply.started": "2022-02-16T21:58:01.031307Z"
    },
    "papermill": {
     "duration": 0.037803,
     "end_time": "2022-02-16T22:04:19.429153",
     "exception": false,
     "start_time": "2022-02-16T22:04:19.391350",
     "status": "completed"
    },
    "tags": []
   },
   "outputs": [
    {
     "data": {
      "text/plain": [
       "(891, 12)"
      ]
     },
     "execution_count": 3,
     "metadata": {},
     "output_type": "execute_result"
    }
   ],
   "source": [
    "train_data.shape"
   ]
  },
  {
   "cell_type": "code",
   "execution_count": 4,
   "id": "7361684a",
   "metadata": {
    "execution": {
     "iopub.execute_input": "2022-02-16T22:04:19.494176Z",
     "iopub.status.busy": "2022-02-16T22:04:19.493568Z",
     "iopub.status.idle": "2022-02-16T22:04:20.419105Z",
     "shell.execute_reply": "2022-02-16T22:04:20.418582Z",
     "shell.execute_reply.started": "2022-02-16T21:58:01.038191Z"
    },
    "papermill": {
     "duration": 0.960372,
     "end_time": "2022-02-16T22:04:20.419213",
     "exception": false,
     "start_time": "2022-02-16T22:04:19.458841",
     "status": "completed"
    },
    "tags": []
   },
   "outputs": [],
   "source": [
    "# Algorithms\n",
    "from sklearn import linear_model\n",
    "from sklearn.linear_model import LogisticRegression\n",
    "from sklearn.ensemble import RandomForestClassifier\n",
    "from sklearn.linear_model import Perceptron\n",
    "from sklearn.linear_model import SGDClassifier\n",
    "from sklearn.tree import DecisionTreeClassifier\n",
    "from sklearn.neighbors import KNeighborsClassifier\n",
    "from sklearn.svm import SVC, LinearSVC\n",
    "from sklearn.naive_bayes import GaussianNB"
   ]
  },
  {
   "cell_type": "code",
   "execution_count": 5,
   "id": "845a65b1",
   "metadata": {
    "execution": {
     "iopub.execute_input": "2022-02-16T22:04:20.482362Z",
     "iopub.status.busy": "2022-02-16T22:04:20.481910Z",
     "iopub.status.idle": "2022-02-16T22:04:20.492038Z",
     "shell.execute_reply": "2022-02-16T22:04:20.492483Z",
     "shell.execute_reply.started": "2022-02-16T21:58:02.452726Z"
    },
    "papermill": {
     "duration": 0.04377,
     "end_time": "2022-02-16T22:04:20.492599",
     "exception": false,
     "start_time": "2022-02-16T22:04:20.448829",
     "status": "completed"
    },
    "tags": []
   },
   "outputs": [],
   "source": [
    "test_data = pd.read_csv('/kaggle/input/titanic/test.csv')"
   ]
  },
  {
   "cell_type": "code",
   "execution_count": 6,
   "id": "4d0bea29",
   "metadata": {
    "execution": {
     "iopub.execute_input": "2022-02-16T22:04:20.553420Z",
     "iopub.status.busy": "2022-02-16T22:04:20.552974Z",
     "iopub.status.idle": "2022-02-16T22:04:20.567657Z",
     "shell.execute_reply": "2022-02-16T22:04:20.568105Z",
     "shell.execute_reply.started": "2022-02-16T21:58:02.469228Z"
    },
    "papermill": {
     "duration": 0.046009,
     "end_time": "2022-02-16T22:04:20.568221",
     "exception": false,
     "start_time": "2022-02-16T22:04:20.522212",
     "status": "completed"
    },
    "tags": []
   },
   "outputs": [
    {
     "data": {
      "text/html": [
       "<div>\n",
       "<style scoped>\n",
       "    .dataframe tbody tr th:only-of-type {\n",
       "        vertical-align: middle;\n",
       "    }\n",
       "\n",
       "    .dataframe tbody tr th {\n",
       "        vertical-align: top;\n",
       "    }\n",
       "\n",
       "    .dataframe thead th {\n",
       "        text-align: right;\n",
       "    }\n",
       "</style>\n",
       "<table border=\"1\" class=\"dataframe\">\n",
       "  <thead>\n",
       "    <tr style=\"text-align: right;\">\n",
       "      <th></th>\n",
       "      <th>PassengerId</th>\n",
       "      <th>Pclass</th>\n",
       "      <th>Name</th>\n",
       "      <th>Sex</th>\n",
       "      <th>Age</th>\n",
       "      <th>SibSp</th>\n",
       "      <th>Parch</th>\n",
       "      <th>Ticket</th>\n",
       "      <th>Fare</th>\n",
       "      <th>Cabin</th>\n",
       "      <th>Embarked</th>\n",
       "    </tr>\n",
       "  </thead>\n",
       "  <tbody>\n",
       "    <tr>\n",
       "      <th>0</th>\n",
       "      <td>892</td>\n",
       "      <td>3</td>\n",
       "      <td>Kelly, Mr. James</td>\n",
       "      <td>male</td>\n",
       "      <td>34.5</td>\n",
       "      <td>0</td>\n",
       "      <td>0</td>\n",
       "      <td>330911</td>\n",
       "      <td>7.8292</td>\n",
       "      <td>NaN</td>\n",
       "      <td>Q</td>\n",
       "    </tr>\n",
       "    <tr>\n",
       "      <th>1</th>\n",
       "      <td>893</td>\n",
       "      <td>3</td>\n",
       "      <td>Wilkes, Mrs. James (Ellen Needs)</td>\n",
       "      <td>female</td>\n",
       "      <td>47.0</td>\n",
       "      <td>1</td>\n",
       "      <td>0</td>\n",
       "      <td>363272</td>\n",
       "      <td>7.0000</td>\n",
       "      <td>NaN</td>\n",
       "      <td>S</td>\n",
       "    </tr>\n",
       "    <tr>\n",
       "      <th>2</th>\n",
       "      <td>894</td>\n",
       "      <td>2</td>\n",
       "      <td>Myles, Mr. Thomas Francis</td>\n",
       "      <td>male</td>\n",
       "      <td>62.0</td>\n",
       "      <td>0</td>\n",
       "      <td>0</td>\n",
       "      <td>240276</td>\n",
       "      <td>9.6875</td>\n",
       "      <td>NaN</td>\n",
       "      <td>Q</td>\n",
       "    </tr>\n",
       "    <tr>\n",
       "      <th>3</th>\n",
       "      <td>895</td>\n",
       "      <td>3</td>\n",
       "      <td>Wirz, Mr. Albert</td>\n",
       "      <td>male</td>\n",
       "      <td>27.0</td>\n",
       "      <td>0</td>\n",
       "      <td>0</td>\n",
       "      <td>315154</td>\n",
       "      <td>8.6625</td>\n",
       "      <td>NaN</td>\n",
       "      <td>S</td>\n",
       "    </tr>\n",
       "    <tr>\n",
       "      <th>4</th>\n",
       "      <td>896</td>\n",
       "      <td>3</td>\n",
       "      <td>Hirvonen, Mrs. Alexander (Helga E Lindqvist)</td>\n",
       "      <td>female</td>\n",
       "      <td>22.0</td>\n",
       "      <td>1</td>\n",
       "      <td>1</td>\n",
       "      <td>3101298</td>\n",
       "      <td>12.2875</td>\n",
       "      <td>NaN</td>\n",
       "      <td>S</td>\n",
       "    </tr>\n",
       "  </tbody>\n",
       "</table>\n",
       "</div>"
      ],
      "text/plain": [
       "   PassengerId  Pclass                                          Name     Sex  \\\n",
       "0          892       3                              Kelly, Mr. James    male   \n",
       "1          893       3              Wilkes, Mrs. James (Ellen Needs)  female   \n",
       "2          894       2                     Myles, Mr. Thomas Francis    male   \n",
       "3          895       3                              Wirz, Mr. Albert    male   \n",
       "4          896       3  Hirvonen, Mrs. Alexander (Helga E Lindqvist)  female   \n",
       "\n",
       "    Age  SibSp  Parch   Ticket     Fare Cabin Embarked  \n",
       "0  34.5      0      0   330911   7.8292   NaN        Q  \n",
       "1  47.0      1      0   363272   7.0000   NaN        S  \n",
       "2  62.0      0      0   240276   9.6875   NaN        Q  \n",
       "3  27.0      0      0   315154   8.6625   NaN        S  \n",
       "4  22.0      1      1  3101298  12.2875   NaN        S  "
      ]
     },
     "execution_count": 6,
     "metadata": {},
     "output_type": "execute_result"
    }
   ],
   "source": [
    "test_data.head()"
   ]
  },
  {
   "cell_type": "code",
   "execution_count": 7,
   "id": "5649221f",
   "metadata": {
    "execution": {
     "iopub.execute_input": "2022-02-16T22:04:20.629916Z",
     "iopub.status.busy": "2022-02-16T22:04:20.629471Z",
     "iopub.status.idle": "2022-02-16T22:04:20.639656Z",
     "shell.execute_reply": "2022-02-16T22:04:20.640027Z",
     "shell.execute_reply.started": "2022-02-16T21:58:02.488025Z"
    },
    "papermill": {
     "duration": 0.042496,
     "end_time": "2022-02-16T22:04:20.640145",
     "exception": false,
     "start_time": "2022-02-16T22:04:20.597649",
     "status": "completed"
    },
    "tags": []
   },
   "outputs": [
    {
     "name": "stdout",
     "output_type": "stream",
     "text": [
      "The percent of women who survived was 0.7420382165605095\n"
     ]
    }
   ],
   "source": [
    "women = train_data.loc[train_data['Sex']=='female']['Survived']\n",
    "rate_women = sum(women)/len(women)\n",
    "\n",
    "print('The percent of women who survived was ' + str(rate_women))"
   ]
  },
  {
   "cell_type": "code",
   "execution_count": 8,
   "id": "4ec65c6f",
   "metadata": {
    "execution": {
     "iopub.execute_input": "2022-02-16T22:04:20.705212Z",
     "iopub.status.busy": "2022-02-16T22:04:20.704749Z",
     "iopub.status.idle": "2022-02-16T22:04:20.708366Z",
     "shell.execute_reply": "2022-02-16T22:04:20.708781Z",
     "shell.execute_reply.started": "2022-02-16T21:58:02.502105Z"
    },
    "papermill": {
     "duration": 0.038763,
     "end_time": "2022-02-16T22:04:20.708910",
     "exception": false,
     "start_time": "2022-02-16T22:04:20.670147",
     "status": "completed"
    },
    "tags": []
   },
   "outputs": [
    {
     "name": "stdout",
     "output_type": "stream",
     "text": [
      "The percent of men who survived was 0.18890814558058924\n"
     ]
    }
   ],
   "source": [
    "men = train_data.loc[train_data.Sex == 'male']['Survived']\n",
    "rate_men = sum(men)/len(men)\n",
    "\n",
    "print('The percent of men who survived was ' + str(rate_men))"
   ]
  },
  {
   "cell_type": "code",
   "execution_count": 9,
   "id": "3d3d5a1f",
   "metadata": {
    "execution": {
     "iopub.execute_input": "2022-02-16T22:04:20.771043Z",
     "iopub.status.busy": "2022-02-16T22:04:20.770597Z",
     "iopub.status.idle": "2022-02-16T22:04:20.776768Z",
     "shell.execute_reply": "2022-02-16T22:04:20.777252Z",
     "shell.execute_reply.started": "2022-02-16T21:58:02.517812Z"
    },
    "papermill": {
     "duration": 0.038519,
     "end_time": "2022-02-16T22:04:20.777393",
     "exception": false,
     "start_time": "2022-02-16T22:04:20.738874",
     "status": "completed"
    },
    "tags": []
   },
   "outputs": [
    {
     "name": "stdout",
     "output_type": "stream",
     "text": [
      "The percent of children who survived was 0.5398230088495575\n"
     ]
    }
   ],
   "source": [
    "children = train_data.loc[train_data['Age']<18]['Survived']\n",
    "rate_children = sum(children)/len(children)\n",
    "\n",
    "print('The percent of children who survived was ' + str(rate_children))"
   ]
  },
  {
   "cell_type": "code",
   "execution_count": 10,
   "id": "3f5385d9",
   "metadata": {
    "execution": {
     "iopub.execute_input": "2022-02-16T22:04:20.883785Z",
     "iopub.status.busy": "2022-02-16T22:04:20.883198Z",
     "iopub.status.idle": "2022-02-16T22:04:20.888539Z",
     "shell.execute_reply": "2022-02-16T22:04:20.888173Z",
     "shell.execute_reply.started": "2022-02-16T21:58:02.534532Z"
    },
    "papermill": {
     "duration": 0.06097,
     "end_time": "2022-02-16T22:04:20.888649",
     "exception": false,
     "start_time": "2022-02-16T22:04:20.827679",
     "status": "completed"
    },
    "tags": []
   },
   "outputs": [
    {
     "name": "stdout",
     "output_type": "stream",
     "text": [
      "The percent of adults who survived was 0.3810316139767055\n"
     ]
    }
   ],
   "source": [
    "adults = train_data.loc[train_data['Age']>=18]['Survived']\n",
    "rate_adults = sum(adults)/len(adults)\n",
    "\n",
    "print('The percent of adults who survived was ' + str(rate_adults))"
   ]
  },
  {
   "cell_type": "code",
   "execution_count": null,
   "id": "fa940ba3",
   "metadata": {
    "papermill": {
     "duration": 0.03119,
     "end_time": "2022-02-16T22:04:20.951422",
     "exception": false,
     "start_time": "2022-02-16T22:04:20.920232",
     "status": "completed"
    },
    "tags": []
   },
   "outputs": [],
   "source": []
  },
  {
   "cell_type": "code",
   "execution_count": null,
   "id": "9f5001bf",
   "metadata": {
    "papermill": {
     "duration": 0.031176,
     "end_time": "2022-02-16T22:04:21.013357",
     "exception": false,
     "start_time": "2022-02-16T22:04:20.982181",
     "status": "completed"
    },
    "tags": []
   },
   "outputs": [],
   "source": []
  },
  {
   "cell_type": "markdown",
   "id": "60212519",
   "metadata": {
    "papermill": {
     "duration": 0.037194,
     "end_time": "2022-02-16T22:04:21.087330",
     "exception": false,
     "start_time": "2022-02-16T22:04:21.050136",
     "status": "completed"
    },
    "tags": []
   },
   "source": []
  },
  {
   "cell_type": "markdown",
   "id": "d583ad11",
   "metadata": {
    "papermill": {
     "duration": 0.032918,
     "end_time": "2022-02-16T22:04:21.155496",
     "exception": false,
     "start_time": "2022-02-16T22:04:21.122578",
     "status": "completed"
    },
    "tags": []
   },
   "source": []
  },
  {
   "cell_type": "code",
   "execution_count": 11,
   "id": "2ba6aa7e",
   "metadata": {
    "execution": {
     "iopub.execute_input": "2022-02-16T22:04:21.232169Z",
     "iopub.status.busy": "2022-02-16T22:04:21.231636Z",
     "iopub.status.idle": "2022-02-16T22:04:21.237564Z",
     "shell.execute_reply": "2022-02-16T22:04:21.238042Z",
     "shell.execute_reply.started": "2022-02-16T21:58:02.554965Z"
    },
    "papermill": {
     "duration": 0.049275,
     "end_time": "2022-02-16T22:04:21.238172",
     "exception": false,
     "start_time": "2022-02-16T22:04:21.188897",
     "status": "completed"
    },
    "tags": []
   },
   "outputs": [
    {
     "data": {
      "text/plain": [
       "B96 B98        4\n",
       "G6             4\n",
       "C23 C25 C27    4\n",
       "C22 C26        3\n",
       "F33            3\n",
       "              ..\n",
       "E34            1\n",
       "C7             1\n",
       "C54            1\n",
       "E36            1\n",
       "C148           1\n",
       "Name: Cabin, Length: 147, dtype: int64"
      ]
     },
     "execution_count": 11,
     "metadata": {},
     "output_type": "execute_result"
    }
   ],
   "source": [
    "train_data.Cabin.value_counts()"
   ]
  },
  {
   "cell_type": "code",
   "execution_count": 12,
   "id": "a53cfe94",
   "metadata": {
    "execution": {
     "iopub.execute_input": "2022-02-16T22:04:21.310864Z",
     "iopub.status.busy": "2022-02-16T22:04:21.310177Z",
     "iopub.status.idle": "2022-02-16T22:04:21.311767Z",
     "shell.execute_reply": "2022-02-16T22:04:21.312191Z",
     "shell.execute_reply.started": "2022-02-16T21:58:02.573608Z"
    },
    "papermill": {
     "duration": 0.039667,
     "end_time": "2022-02-16T22:04:21.312312",
     "exception": false,
     "start_time": "2022-02-16T22:04:21.272645",
     "status": "completed"
    },
    "tags": []
   },
   "outputs": [],
   "source": [
    "train_data['HasCabin'] = np.where(train_data.Cabin.isnull() == True, False, True)\n",
    "test_data['HasCabin'] = np.where(test_data.Cabin.isnull() == True, False, True)"
   ]
  },
  {
   "cell_type": "code",
   "execution_count": 13,
   "id": "e210073f",
   "metadata": {
    "execution": {
     "iopub.execute_input": "2022-02-16T22:04:21.381084Z",
     "iopub.status.busy": "2022-02-16T22:04:21.378745Z",
     "iopub.status.idle": "2022-02-16T22:04:21.383983Z",
     "shell.execute_reply": "2022-02-16T22:04:21.383579Z",
     "shell.execute_reply.started": "2022-02-16T21:58:02.589957Z"
    },
    "papermill": {
     "duration": 0.039983,
     "end_time": "2022-02-16T22:04:21.384090",
     "exception": false,
     "start_time": "2022-02-16T22:04:21.344107",
     "status": "completed"
    },
    "tags": []
   },
   "outputs": [
    {
     "data": {
      "text/plain": [
       "204"
      ]
     },
     "execution_count": 13,
     "metadata": {},
     "output_type": "execute_result"
    }
   ],
   "source": [
    "train_data.HasCabin.sum()"
   ]
  },
  {
   "cell_type": "code",
   "execution_count": 14,
   "id": "65306623",
   "metadata": {
    "execution": {
     "iopub.execute_input": "2022-02-16T22:04:21.455312Z",
     "iopub.status.busy": "2022-02-16T22:04:21.454772Z",
     "iopub.status.idle": "2022-02-16T22:04:21.457910Z",
     "shell.execute_reply": "2022-02-16T22:04:21.457349Z",
     "shell.execute_reply.started": "2022-02-16T21:58:02.601425Z"
    },
    "papermill": {
     "duration": 0.041583,
     "end_time": "2022-02-16T22:04:21.458051",
     "exception": false,
     "start_time": "2022-02-16T22:04:21.416468",
     "status": "completed"
    },
    "tags": []
   },
   "outputs": [],
   "source": [
    "features = ['Pclass', 'Sex', 'Age', 'SibSp', 'Parch', 'Fare', 'Embarked']\n",
    "\n",
    "y_train = train_data['Survived']\n",
    "train_data1 = train_data[features]\n",
    "test_data1 = test_data[features]"
   ]
  },
  {
   "cell_type": "code",
   "execution_count": 15,
   "id": "8788f1cc",
   "metadata": {
    "execution": {
     "iopub.execute_input": "2022-02-16T22:04:21.560200Z",
     "iopub.status.busy": "2022-02-16T22:04:21.559569Z",
     "iopub.status.idle": "2022-02-16T22:04:21.576411Z",
     "shell.execute_reply": "2022-02-16T22:04:21.576917Z",
     "shell.execute_reply.started": "2022-02-16T21:58:02.617670Z"
    },
    "papermill": {
     "duration": 0.068949,
     "end_time": "2022-02-16T22:04:21.577086",
     "exception": false,
     "start_time": "2022-02-16T22:04:21.508137",
     "status": "completed"
    },
    "tags": []
   },
   "outputs": [],
   "source": [
    "# Convert the categorical features in the train and test sets independently\n",
    "train_data_d = pd.get_dummies(train_data1)\n",
    "test_data_d = pd.get_dummies(test_data1)\n",
    "\n",
    "# Replace all missing values in age & Fare with mean value\n",
    "train_data_d['Age'] = train_data_d['Age'].fillna(train_data_d['Age'].median())\n",
    "test_data_d['Age'] = test_data_d['Age'].fillna(test_data_d['Age'].median())\n",
    "train_data_d['Fare'] = train_data_d['Fare'].fillna(train_data_d['Fare'].median())\n",
    "test_data_d['Fare'] = test_data_d['Fare'].fillna(test_data_d['Fare'].median())\n",
    "\n",
    "\n",
    "# Reindex the columns of the test set aligning with the train set\n",
    "test_data_d = test_data_d.reindex(columns=train_data_d.columns, fill_value=0)"
   ]
  },
  {
   "cell_type": "code",
   "execution_count": 16,
   "id": "dfc964f2",
   "metadata": {
    "execution": {
     "iopub.execute_input": "2022-02-16T22:04:21.678998Z",
     "iopub.status.busy": "2022-02-16T22:04:21.678368Z",
     "iopub.status.idle": "2022-02-16T22:04:21.683222Z",
     "shell.execute_reply": "2022-02-16T22:04:21.683786Z",
     "shell.execute_reply.started": "2022-02-16T21:58:02.650467Z"
    },
    "papermill": {
     "duration": 0.057273,
     "end_time": "2022-02-16T22:04:21.683997",
     "exception": false,
     "start_time": "2022-02-16T22:04:21.626724",
     "status": "completed"
    },
    "tags": []
   },
   "outputs": [
    {
     "name": "stdout",
     "output_type": "stream",
     "text": [
      "(891, 10)\n",
      "Pclass        0\n",
      "Age           0\n",
      "SibSp         0\n",
      "Parch         0\n",
      "Fare          0\n",
      "Sex_female    0\n",
      "Sex_male      0\n",
      "Embarked_C    0\n",
      "Embarked_Q    0\n",
      "Embarked_S    0\n",
      "dtype: int64\n"
     ]
    }
   ],
   "source": [
    "print(train_data_d.shape)\n",
    "print(test_data_d.isnull().sum())"
   ]
  },
  {
   "cell_type": "code",
   "execution_count": 17,
   "id": "5f1228e4",
   "metadata": {
    "execution": {
     "iopub.execute_input": "2022-02-16T22:04:21.794034Z",
     "iopub.status.busy": "2022-02-16T22:04:21.793360Z",
     "iopub.status.idle": "2022-02-16T22:04:21.799111Z",
     "shell.execute_reply": "2022-02-16T22:04:21.799590Z",
     "shell.execute_reply.started": "2022-02-16T21:58:02.661965Z"
    },
    "papermill": {
     "duration": 0.064107,
     "end_time": "2022-02-16T22:04:21.799756",
     "exception": false,
     "start_time": "2022-02-16T22:04:21.735649",
     "status": "completed"
    },
    "tags": []
   },
   "outputs": [],
   "source": [
    "# Import MinMaxScaler\n",
    "from sklearn.preprocessing import MinMaxScaler\n",
    "\n",
    "# Instantiate MinMaxScaler and use it to rescale X_train and X_test\n",
    "scaler = MinMaxScaler(feature_range=(0,1))\n",
    "train_data_rescaled = scaler.fit_transform(train_data_d)\n",
    "test_data_rescaled = scaler.fit_transform(test_data_d)"
   ]
  },
  {
   "cell_type": "code",
   "execution_count": null,
   "id": "8e86551c",
   "metadata": {
    "papermill": {
     "duration": 0.032651,
     "end_time": "2022-02-16T22:04:21.870999",
     "exception": false,
     "start_time": "2022-02-16T22:04:21.838348",
     "status": "completed"
    },
    "tags": []
   },
   "outputs": [],
   "source": []
  },
  {
   "cell_type": "code",
   "execution_count": 18,
   "id": "0e858cea",
   "metadata": {
    "execution": {
     "iopub.execute_input": "2022-02-16T22:04:21.939148Z",
     "iopub.status.busy": "2022-02-16T22:04:21.938655Z",
     "iopub.status.idle": "2022-02-16T22:04:21.943693Z",
     "shell.execute_reply": "2022-02-16T22:04:21.944170Z",
     "shell.execute_reply.started": "2022-02-16T21:58:02.677003Z"
    },
    "papermill": {
     "duration": 0.040261,
     "end_time": "2022-02-16T22:04:21.944297",
     "exception": false,
     "start_time": "2022-02-16T22:04:21.904036",
     "status": "completed"
    },
    "tags": []
   },
   "outputs": [
    {
     "data": {
      "text/plain": [
       "Pclass        0\n",
       "Age           0\n",
       "SibSp         0\n",
       "Parch         0\n",
       "Fare          0\n",
       "Sex_female    0\n",
       "Sex_male      0\n",
       "Embarked_C    0\n",
       "Embarked_Q    0\n",
       "Embarked_S    0\n",
       "dtype: int64"
      ]
     },
     "execution_count": 18,
     "metadata": {},
     "output_type": "execute_result"
    }
   ],
   "source": [
    "train_data_d.isnull().sum()"
   ]
  },
  {
   "cell_type": "code",
   "execution_count": 19,
   "id": "708ff209",
   "metadata": {
    "execution": {
     "iopub.execute_input": "2022-02-16T22:04:22.012530Z",
     "iopub.status.busy": "2022-02-16T22:04:22.012039Z",
     "iopub.status.idle": "2022-02-16T22:04:22.028719Z",
     "shell.execute_reply": "2022-02-16T22:04:22.029170Z",
     "shell.execute_reply.started": "2022-02-16T21:58:02.686847Z"
    },
    "papermill": {
     "duration": 0.05202,
     "end_time": "2022-02-16T22:04:22.029296",
     "exception": false,
     "start_time": "2022-02-16T22:04:21.977276",
     "status": "completed"
    },
    "tags": []
   },
   "outputs": [
    {
     "data": {
      "text/plain": [
       "LogisticRegression()"
      ]
     },
     "execution_count": 19,
     "metadata": {},
     "output_type": "execute_result"
    }
   ],
   "source": [
    "# Import LogisticRegression\n",
    "from sklearn.linear_model import LogisticRegression\n",
    "\n",
    "# Instantiate a LogisticRegression classifier with default parameter values\n",
    "logreg = LogisticRegression()\n",
    "\n",
    "# Fit logreg to the train set\n",
    "logreg.fit(train_data_rescaled, y_train)"
   ]
  },
  {
   "cell_type": "code",
   "execution_count": 20,
   "id": "ed0e64bc",
   "metadata": {
    "execution": {
     "iopub.execute_input": "2022-02-16T22:04:22.096255Z",
     "iopub.status.busy": "2022-02-16T22:04:22.095809Z",
     "iopub.status.idle": "2022-02-16T22:04:22.098996Z",
     "shell.execute_reply": "2022-02-16T22:04:22.099419Z",
     "shell.execute_reply.started": "2022-02-16T21:58:02.719819Z"
    },
    "papermill": {
     "duration": 0.038006,
     "end_time": "2022-02-16T22:04:22.099519",
     "exception": false,
     "start_time": "2022-02-16T22:04:22.061513",
     "status": "completed"
    },
    "tags": []
   },
   "outputs": [],
   "source": [
    "# Import GridSearchCV\n",
    "from sklearn.model_selection import GridSearchCV\n",
    "\n",
    "# Define the grid of values for tol and max_iter\n",
    "tol = [0.01,0.001,0.0001]\n",
    "max_iter = [100,150,200]\n",
    "\n",
    "# Create a dictionary where tol and max_iter are keys and the lists of their values are corresponding values\n",
    "param_grid = dict(tol=tol, max_iter=max_iter)"
   ]
  },
  {
   "cell_type": "code",
   "execution_count": 21,
   "id": "686cf2dc",
   "metadata": {
    "execution": {
     "iopub.execute_input": "2022-02-16T22:04:22.165505Z",
     "iopub.status.busy": "2022-02-16T22:04:22.165075Z",
     "iopub.status.idle": "2022-02-16T22:04:22.596024Z",
     "shell.execute_reply": "2022-02-16T22:04:22.596390Z",
     "shell.execute_reply.started": "2022-02-16T21:58:02.727174Z"
    },
    "papermill": {
     "duration": 0.465536,
     "end_time": "2022-02-16T22:04:22.596529",
     "exception": false,
     "start_time": "2022-02-16T22:04:22.130993",
     "status": "completed"
    },
    "tags": []
   },
   "outputs": [
    {
     "name": "stdout",
     "output_type": "stream",
     "text": [
      "Best: 0.790126 using {'max_iter': 100, 'tol': 0.01}\n",
      "LogisticRegression(tol=0.01)\n"
     ]
    }
   ],
   "source": [
    "# Instantiate GridSearchCV with the required parameters\n",
    "grid_model = GridSearchCV(estimator=logreg, param_grid=param_grid, cv=5)\n",
    "\n",
    "# Fit grid_model to the data\n",
    "grid_model_result = grid_model.fit(train_data_rescaled, y_train)\n",
    "\n",
    "# Summarize results\n",
    "best_score, best_params = grid_model_result.best_score_, grid_model_result.best_params_\n",
    "print(\"Best: %f using %s\" % (best_score, best_params))\n",
    "\n",
    "# Extract the best model and evaluate it on the test set\n",
    "best_model = grid_model_result.best_estimator_\n",
    "print(best_model)\n",
    "#print(\"Accuracy of logistic regression classifier: \", best_model.score(rescaledX_test,y_test))"
   ]
  },
  {
   "cell_type": "code",
   "execution_count": 22,
   "id": "21f619be",
   "metadata": {
    "execution": {
     "iopub.execute_input": "2022-02-16T22:04:22.667112Z",
     "iopub.status.busy": "2022-02-16T22:04:22.666590Z",
     "iopub.status.idle": "2022-02-16T22:04:22.671086Z",
     "shell.execute_reply": "2022-02-16T22:04:22.671444Z",
     "shell.execute_reply.started": "2022-02-16T21:58:03.358261Z"
    },
    "papermill": {
     "duration": 0.04173,
     "end_time": "2022-02-16T22:04:22.671558",
     "exception": false,
     "start_time": "2022-02-16T22:04:22.629828",
     "status": "completed"
    },
    "tags": []
   },
   "outputs": [
    {
     "name": "stdout",
     "output_type": "stream",
     "text": [
      "Your test submission was successfully saved!!\n"
     ]
    }
   ],
   "source": [
    "# Final for output\n",
    "predictions = best_model.predict(test_data_rescaled)\n",
    "\n",
    "output = pd.DataFrame({'PassengerId': test_data.PassengerId, 'Survived': predictions})\n",
    "\n",
    "output.to_csv('Submission-Logistic-Regression-Median.csv', index=False)\n",
    "print('Your test submission was successfully saved!!')"
   ]
  },
  {
   "cell_type": "code",
   "execution_count": 23,
   "id": "cb860a5b",
   "metadata": {
    "execution": {
     "iopub.execute_input": "2022-02-16T22:04:22.738087Z",
     "iopub.status.busy": "2022-02-16T22:04:22.737630Z",
     "iopub.status.idle": "2022-02-16T22:04:22.740266Z",
     "shell.execute_reply": "2022-02-16T22:04:22.740637Z",
     "shell.execute_reply.started": "2022-02-16T21:58:03.371702Z"
    },
    "papermill": {
     "duration": 0.03689,
     "end_time": "2022-02-16T22:04:22.740750",
     "exception": false,
     "start_time": "2022-02-16T22:04:22.703860",
     "status": "completed"
    },
    "tags": []
   },
   "outputs": [],
   "source": [
    "X_train = train_data_rescaled\n",
    "X_test = test_data_rescaled\n",
    "Y_train = y_train"
   ]
  },
  {
   "cell_type": "code",
   "execution_count": 24,
   "id": "e6a33755",
   "metadata": {
    "execution": {
     "iopub.execute_input": "2022-02-16T22:04:22.814552Z",
     "iopub.status.busy": "2022-02-16T22:04:22.811507Z",
     "iopub.status.idle": "2022-02-16T22:04:22.815765Z",
     "shell.execute_reply": "2022-02-16T22:04:22.816230Z",
     "shell.execute_reply.started": "2022-02-16T21:58:03.379721Z"
    },
    "papermill": {
     "duration": 0.043585,
     "end_time": "2022-02-16T22:04:22.816365",
     "exception": false,
     "start_time": "2022-02-16T22:04:22.772780",
     "status": "completed"
    },
    "tags": []
   },
   "outputs": [],
   "source": [
    "#Stochastic Gradient Descent (SGD):\n",
    "sgd = linear_model.SGDClassifier(max_iter=5, tol=None)\n",
    "sgd.fit(X_train, Y_train)\n",
    "Y_pred = sgd.predict(X_test)\n",
    "\n",
    "sgd.score(X_train, Y_train)\n",
    "\n",
    "acc_sgd = round(sgd.score(X_train, Y_train) * 100, 2)"
   ]
  },
  {
   "cell_type": "code",
   "execution_count": 25,
   "id": "683b43ae",
   "metadata": {
    "execution": {
     "iopub.execute_input": "2022-02-16T22:04:22.902950Z",
     "iopub.status.busy": "2022-02-16T22:04:22.902408Z",
     "iopub.status.idle": "2022-02-16T22:04:23.150963Z",
     "shell.execute_reply": "2022-02-16T22:04:23.150548Z",
     "shell.execute_reply.started": "2022-02-16T21:58:03.396467Z"
    },
    "papermill": {
     "duration": 0.294401,
     "end_time": "2022-02-16T22:04:23.151081",
     "exception": false,
     "start_time": "2022-02-16T22:04:22.856680",
     "status": "completed"
    },
    "tags": []
   },
   "outputs": [],
   "source": [
    "#Random Forest:\n",
    "random_forest = RandomForestClassifier(n_estimators=100)\n",
    "random_forest.fit(X_train, Y_train)\n",
    "\n",
    "Y_prediction = random_forest.predict(X_test)\n",
    "\n",
    "random_forest.score(X_train, Y_train)\n",
    "acc_random_forest = round(random_forest.score(X_train, Y_train) * 100, 2)"
   ]
  },
  {
   "cell_type": "code",
   "execution_count": 26,
   "id": "5c486d06",
   "metadata": {
    "execution": {
     "iopub.execute_input": "2022-02-16T22:04:23.222199Z",
     "iopub.status.busy": "2022-02-16T22:04:23.221713Z",
     "iopub.status.idle": "2022-02-16T22:04:23.241875Z",
     "shell.execute_reply": "2022-02-16T22:04:23.241447Z",
     "shell.execute_reply.started": "2022-02-16T21:58:03.702847Z"
    },
    "papermill": {
     "duration": 0.056719,
     "end_time": "2022-02-16T22:04:23.241986",
     "exception": false,
     "start_time": "2022-02-16T22:04:23.185267",
     "status": "completed"
    },
    "tags": []
   },
   "outputs": [],
   "source": [
    "#Logistic Regression\n",
    "logreg = LogisticRegression()\n",
    "logreg.fit(X_train, Y_train)\n",
    "\n",
    "Y_pred = logreg.predict(X_test)\n",
    "\n",
    "acc_log = round(logreg.score(X_train, Y_train) * 100, 2)"
   ]
  },
  {
   "cell_type": "code",
   "execution_count": 27,
   "id": "dec3f52b",
   "metadata": {
    "execution": {
     "iopub.execute_input": "2022-02-16T22:04:23.311891Z",
     "iopub.status.busy": "2022-02-16T22:04:23.309207Z",
     "iopub.status.idle": "2022-02-16T22:04:23.354004Z",
     "shell.execute_reply": "2022-02-16T22:04:23.354391Z",
     "shell.execute_reply.started": "2022-02-16T21:58:03.728503Z"
    },
    "papermill": {
     "duration": 0.079749,
     "end_time": "2022-02-16T22:04:23.354512",
     "exception": false,
     "start_time": "2022-02-16T22:04:23.274763",
     "status": "completed"
    },
    "tags": []
   },
   "outputs": [],
   "source": [
    "#K Nearest Neighbor:\n",
    "knn = KNeighborsClassifier(n_neighbors = 3) \n",
    "knn.fit(X_train, Y_train)  \n",
    "Y_pred = knn.predict(X_test)  \n",
    "acc_knn = round(knn.score(X_train, Y_train) * 100, 2)"
   ]
  },
  {
   "cell_type": "code",
   "execution_count": 28,
   "id": "6dbf471d",
   "metadata": {
    "execution": {
     "iopub.execute_input": "2022-02-16T22:04:23.421078Z",
     "iopub.status.busy": "2022-02-16T22:04:23.420626Z",
     "iopub.status.idle": "2022-02-16T22:04:23.424997Z",
     "shell.execute_reply": "2022-02-16T22:04:23.425410Z",
     "shell.execute_reply.started": "2022-02-16T21:58:03.810221Z"
    },
    "papermill": {
     "duration": 0.038655,
     "end_time": "2022-02-16T22:04:23.425515",
     "exception": false,
     "start_time": "2022-02-16T22:04:23.386860",
     "status": "completed"
    },
    "tags": []
   },
   "outputs": [],
   "source": [
    "# Gaussian Naive Bayes:\n",
    "gaussian = GaussianNB() \n",
    "gaussian.fit(X_train, Y_train)  \n",
    "Y_pred = gaussian.predict(X_test)  \n",
    "acc_gaussian = round(gaussian.score(X_train, Y_train) * 100, 2)"
   ]
  },
  {
   "cell_type": "code",
   "execution_count": 29,
   "id": "df9f3ed2",
   "metadata": {
    "execution": {
     "iopub.execute_input": "2022-02-16T22:04:23.491859Z",
     "iopub.status.busy": "2022-02-16T22:04:23.491385Z",
     "iopub.status.idle": "2022-02-16T22:04:23.499706Z",
     "shell.execute_reply": "2022-02-16T22:04:23.500177Z",
     "shell.execute_reply.started": "2022-02-16T21:58:03.821701Z"
    },
    "papermill": {
     "duration": 0.042691,
     "end_time": "2022-02-16T22:04:23.500292",
     "exception": false,
     "start_time": "2022-02-16T22:04:23.457601",
     "status": "completed"
    },
    "tags": []
   },
   "outputs": [
    {
     "name": "stderr",
     "output_type": "stream",
     "text": [
      "/opt/conda/lib/python3.7/site-packages/sklearn/linear_model/_stochastic_gradient.py:573: ConvergenceWarning: Maximum number of iteration reached before convergence. Consider increasing max_iter to improve the fit.\n",
      "  ConvergenceWarning)\n"
     ]
    }
   ],
   "source": [
    "# Perceptron:\n",
    "perceptron = Perceptron(max_iter=5)\n",
    "perceptron.fit(X_train, Y_train)\n",
    "\n",
    "Y_pred = perceptron.predict(X_test)\n",
    "\n",
    "acc_perceptron = round(perceptron.score(X_train, Y_train) * 100, 2)"
   ]
  },
  {
   "cell_type": "code",
   "execution_count": 30,
   "id": "763923e5",
   "metadata": {
    "execution": {
     "iopub.execute_input": "2022-02-16T22:04:23.567965Z",
     "iopub.status.busy": "2022-02-16T22:04:23.567512Z",
     "iopub.status.idle": "2022-02-16T22:04:23.576579Z",
     "shell.execute_reply": "2022-02-16T22:04:23.577008Z",
     "shell.execute_reply.started": "2022-02-16T21:58:03.844606Z"
    },
    "papermill": {
     "duration": 0.043899,
     "end_time": "2022-02-16T22:04:23.577134",
     "exception": false,
     "start_time": "2022-02-16T22:04:23.533235",
     "status": "completed"
    },
    "tags": []
   },
   "outputs": [],
   "source": [
    "#Linear Support Vector Machine:\n",
    "linear_svc = LinearSVC()\n",
    "linear_svc.fit(X_train, Y_train)\n",
    "\n",
    "Y_pred = linear_svc.predict(X_test)\n",
    "\n",
    "acc_linear_svc = round(linear_svc.score(X_train, Y_train) * 100, 2)"
   ]
  },
  {
   "cell_type": "code",
   "execution_count": 31,
   "id": "282df302",
   "metadata": {
    "execution": {
     "iopub.execute_input": "2022-02-16T22:04:23.648418Z",
     "iopub.status.busy": "2022-02-16T22:04:23.647961Z",
     "iopub.status.idle": "2022-02-16T22:04:23.653784Z",
     "shell.execute_reply": "2022-02-16T22:04:23.653393Z",
     "shell.execute_reply.started": "2022-02-16T21:58:03.858349Z"
    },
    "papermill": {
     "duration": 0.043174,
     "end_time": "2022-02-16T22:04:23.653941",
     "exception": false,
     "start_time": "2022-02-16T22:04:23.610767",
     "status": "completed"
    },
    "tags": []
   },
   "outputs": [],
   "source": [
    "#Decision Tree\n",
    "decision_tree = DecisionTreeClassifier() \n",
    "decision_tree.fit(X_train, Y_train)  \n",
    "Y_pred = decision_tree.predict(X_test)  \n",
    "acc_decision_tree = round(decision_tree.score(X_train, Y_train) * 100, 2)"
   ]
  },
  {
   "cell_type": "code",
   "execution_count": 32,
   "id": "dcfc1ed1",
   "metadata": {
    "execution": {
     "iopub.execute_input": "2022-02-16T22:04:23.731373Z",
     "iopub.status.busy": "2022-02-16T22:04:23.730872Z",
     "iopub.status.idle": "2022-02-16T22:04:23.732717Z",
     "shell.execute_reply": "2022-02-16T22:04:23.733185Z",
     "shell.execute_reply.started": "2022-02-16T21:58:03.873946Z"
    },
    "papermill": {
     "duration": 0.045769,
     "end_time": "2022-02-16T22:04:23.733309",
     "exception": false,
     "start_time": "2022-02-16T22:04:23.687540",
     "status": "completed"
    },
    "tags": []
   },
   "outputs": [
    {
     "data": {
      "text/html": [
       "<div>\n",
       "<style scoped>\n",
       "    .dataframe tbody tr th:only-of-type {\n",
       "        vertical-align: middle;\n",
       "    }\n",
       "\n",
       "    .dataframe tbody tr th {\n",
       "        vertical-align: top;\n",
       "    }\n",
       "\n",
       "    .dataframe thead th {\n",
       "        text-align: right;\n",
       "    }\n",
       "</style>\n",
       "<table border=\"1\" class=\"dataframe\">\n",
       "  <thead>\n",
       "    <tr style=\"text-align: right;\">\n",
       "      <th></th>\n",
       "      <th>Model</th>\n",
       "    </tr>\n",
       "    <tr>\n",
       "      <th>Score</th>\n",
       "      <th></th>\n",
       "    </tr>\n",
       "  </thead>\n",
       "  <tbody>\n",
       "    <tr>\n",
       "      <th>97.98</th>\n",
       "      <td>Random Forest</td>\n",
       "    </tr>\n",
       "    <tr>\n",
       "      <th>97.98</th>\n",
       "      <td>Decision Tree</td>\n",
       "    </tr>\n",
       "    <tr>\n",
       "      <th>87.54</th>\n",
       "      <td>KNN</td>\n",
       "    </tr>\n",
       "    <tr>\n",
       "      <th>80.25</th>\n",
       "      <td>Stochastic Gradient Decent</td>\n",
       "    </tr>\n",
       "    <tr>\n",
       "      <th>80.02</th>\n",
       "      <td>Support Vector Machines</td>\n",
       "    </tr>\n",
       "    <tr>\n",
       "      <th>80.02</th>\n",
       "      <td>Logistic Regression</td>\n",
       "    </tr>\n",
       "    <tr>\n",
       "      <th>79.01</th>\n",
       "      <td>Naive Bayes</td>\n",
       "    </tr>\n",
       "    <tr>\n",
       "      <th>73.29</th>\n",
       "      <td>Perceptron</td>\n",
       "    </tr>\n",
       "  </tbody>\n",
       "</table>\n",
       "</div>"
      ],
      "text/plain": [
       "                            Model\n",
       "Score                            \n",
       "97.98               Random Forest\n",
       "97.98               Decision Tree\n",
       "87.54                         KNN\n",
       "80.25  Stochastic Gradient Decent\n",
       "80.02     Support Vector Machines\n",
       "80.02         Logistic Regression\n",
       "79.01                 Naive Bayes\n",
       "73.29                  Perceptron"
      ]
     },
     "execution_count": 32,
     "metadata": {},
     "output_type": "execute_result"
    }
   ],
   "source": [
    "# which is best?\n",
    "results = pd.DataFrame({\n",
    "    'Model': ['Support Vector Machines', 'KNN', 'Logistic Regression', \n",
    "              'Random Forest', 'Naive Bayes', 'Perceptron', \n",
    "              'Stochastic Gradient Decent', \n",
    "              'Decision Tree'],\n",
    "    'Score': [acc_linear_svc, acc_knn, acc_log, \n",
    "              acc_random_forest, acc_gaussian, acc_perceptron, \n",
    "              acc_sgd, acc_decision_tree]})\n",
    "result_df = results.sort_values(by='Score', ascending=False)\n",
    "result_df = result_df.set_index('Score')\n",
    "result_df.head(9)"
   ]
  },
  {
   "cell_type": "code",
   "execution_count": 33,
   "id": "65eddf75",
   "metadata": {
    "execution": {
     "iopub.execute_input": "2022-02-16T22:04:23.803496Z",
     "iopub.status.busy": "2022-02-16T22:04:23.803042Z",
     "iopub.status.idle": "2022-02-16T22:04:23.807440Z",
     "shell.execute_reply": "2022-02-16T22:04:23.807871Z",
     "shell.execute_reply.started": "2022-02-16T22:02:15.940825Z"
    },
    "papermill": {
     "duration": 0.040583,
     "end_time": "2022-02-16T22:04:23.807999",
     "exception": false,
     "start_time": "2022-02-16T22:04:23.767416",
     "status": "completed"
    },
    "tags": []
   },
   "outputs": [],
   "source": [
    "#Stochastic Gradient Descent (SGD):\n",
    "sgd = linear_model.SGDClassifier(max_iter=5, tol=None)\n",
    "#Random Forest:\n",
    "random_forest = RandomForestClassifier(n_estimators=100)\n",
    "#Logistic Regression\n",
    "logreg = LogisticRegression()\n",
    "#K Nearest Neighbor:\n",
    "knn = KNeighborsClassifier(n_neighbors = 3) \n",
    "# Gaussian Naive Bayes:\n",
    "gaussian = GaussianNB()\n",
    "# Perceptron:\n",
    "perceptron = Perceptron(max_iter=10)\n",
    "#Linear Support Vector Machine:\n",
    "linear_svc = LinearSVC()\n",
    "#Decision Tree\n",
    "decision_tree = DecisionTreeClassifier() "
   ]
  },
  {
   "cell_type": "code",
   "execution_count": 34,
   "id": "8b734698",
   "metadata": {
    "execution": {
     "iopub.execute_input": "2022-02-16T22:04:23.879456Z",
     "iopub.status.busy": "2022-02-16T22:04:23.879034Z",
     "iopub.status.idle": "2022-02-16T22:04:23.881180Z",
     "shell.execute_reply": "2022-02-16T22:04:23.880809Z",
     "shell.execute_reply.started": "2022-02-16T22:02:16.559418Z"
    },
    "papermill": {
     "duration": 0.039339,
     "end_time": "2022-02-16T22:04:23.881268",
     "exception": false,
     "start_time": "2022-02-16T22:04:23.841929",
     "status": "completed"
    },
    "tags": []
   },
   "outputs": [],
   "source": [
    "#Ensemble Method\n",
    "\n",
    "classifiers = [('Stochastic Gradient Descent', sgd), ('Random Forest',random_forest),('Logistic Regression', logreg), ('K Nearest Neighbours', knn), ('Gaussian Naive Bayes', gaussian), ('Perceptron',perceptron),('Linear Support Vector Machine', linear_svc), ('Classification Tree', decision_tree)]"
   ]
  },
  {
   "cell_type": "code",
   "execution_count": 35,
   "id": "35d48852",
   "metadata": {
    "execution": {
     "iopub.execute_input": "2022-02-16T22:04:23.952482Z",
     "iopub.status.busy": "2022-02-16T22:04:23.952019Z",
     "iopub.status.idle": "2022-02-16T22:04:23.953931Z",
     "shell.execute_reply": "2022-02-16T22:04:23.953525Z",
     "shell.execute_reply.started": "2022-02-16T22:02:18.355841Z"
    },
    "papermill": {
     "duration": 0.038715,
     "end_time": "2022-02-16T22:04:23.954031",
     "exception": false,
     "start_time": "2022-02-16T22:04:23.915316",
     "status": "completed"
    },
    "tags": []
   },
   "outputs": [],
   "source": [
    "from sklearn.metrics import accuracy_score"
   ]
  },
  {
   "cell_type": "code",
   "execution_count": 36,
   "id": "44b36a3a",
   "metadata": {
    "execution": {
     "iopub.execute_input": "2022-02-16T22:04:24.024668Z",
     "iopub.status.busy": "2022-02-16T22:04:24.024238Z",
     "iopub.status.idle": "2022-02-16T22:04:24.261957Z",
     "shell.execute_reply": "2022-02-16T22:04:24.261528Z",
     "shell.execute_reply.started": "2022-02-16T22:02:18.746929Z"
    },
    "papermill": {
     "duration": 0.275059,
     "end_time": "2022-02-16T22:04:24.262065",
     "exception": false,
     "start_time": "2022-02-16T22:04:23.987006",
     "status": "completed"
    },
    "tags": []
   },
   "outputs": [
    {
     "name": "stdout",
     "output_type": "stream",
     "text": [
      "Stochastic Gradient Descent : 0.811\n",
      "Random Forest : 0.980\n",
      "Logistic Regression : 0.800\n",
      "K Nearest Neighbours : 0.875\n",
      "Gaussian Naive Bayes : 0.790\n",
      "Perceptron : 0.787\n",
      "Linear Support Vector Machine : 0.800\n",
      "Classification Tree : 0.980\n"
     ]
    }
   ],
   "source": [
    "# Iterate over the pre-defined list of classifiers\n",
    "for clf_name, clf in classifiers:    \n",
    " \n",
    "    # Fit clf to the training set\n",
    "    clf.fit(X_train, y_train)    \n",
    "   \n",
    "    # Predict y_pred\n",
    "    y_pred = clf.predict(X_train)\n",
    "    \n",
    "    # Calculate accuracy\n",
    "    accuracy = accuracy_score(y_pred, y_train) \n",
    "   \n",
    "    # Evaluate clf's accuracy on the test set\n",
    "    print('{:s} : {:.3f}'.format(clf_name, accuracy))"
   ]
  },
  {
   "cell_type": "code",
   "execution_count": 37,
   "id": "a04f39ae",
   "metadata": {
    "execution": {
     "iopub.execute_input": "2022-02-16T22:04:24.336213Z",
     "iopub.status.busy": "2022-02-16T22:04:24.335538Z",
     "iopub.status.idle": "2022-02-16T22:04:24.575302Z",
     "shell.execute_reply": "2022-02-16T22:04:24.575653Z",
     "shell.execute_reply.started": "2022-02-16T22:02:38.980036Z"
    },
    "papermill": {
     "duration": 0.279469,
     "end_time": "2022-02-16T22:04:24.575784",
     "exception": false,
     "start_time": "2022-02-16T22:04:24.296315",
     "status": "completed"
    },
    "tags": []
   },
   "outputs": [
    {
     "name": "stdout",
     "output_type": "stream",
     "text": [
      "Voting Classifier: 0.847\n"
     ]
    }
   ],
   "source": [
    "# Import VotingClassifier from sklearn.ensemble\n",
    "from sklearn.ensemble import VotingClassifier\n",
    "\n",
    "# Instantiate a VotingClassifier vc \n",
    "vc = VotingClassifier(estimators=classifiers)     \n",
    "\n",
    "# Fit vc to the training set\n",
    "vc.fit(X_train, y_train)   \n",
    "\n",
    "# Evaluate the test set predictions\n",
    "y_pred = vc.predict(X_train)\n",
    "\n",
    "# Calculate accuracy score\n",
    "accuracy = accuracy_score(y_train, y_pred)\n",
    "print('Voting Classifier: {:.3f}'.format(accuracy))"
   ]
  },
  {
   "cell_type": "code",
   "execution_count": null,
   "id": "21a13fad",
   "metadata": {
    "papermill": {
     "duration": 0.03474,
     "end_time": "2022-02-16T22:04:24.645475",
     "exception": false,
     "start_time": "2022-02-16T22:04:24.610735",
     "status": "completed"
    },
    "tags": []
   },
   "outputs": [],
   "source": []
  },
  {
   "cell_type": "code",
   "execution_count": null,
   "id": "85d7e105",
   "metadata": {
    "papermill": {
     "duration": 0.034066,
     "end_time": "2022-02-16T22:04:24.713691",
     "exception": false,
     "start_time": "2022-02-16T22:04:24.679625",
     "status": "completed"
    },
    "tags": []
   },
   "outputs": [],
   "source": []
  },
  {
   "cell_type": "code",
   "execution_count": 38,
   "id": "c88d2469",
   "metadata": {
    "execution": {
     "iopub.execute_input": "2022-02-16T22:04:24.786893Z",
     "iopub.status.busy": "2022-02-16T22:04:24.786223Z",
     "iopub.status.idle": "2022-02-16T22:04:24.823493Z",
     "shell.execute_reply": "2022-02-16T22:04:24.823079Z",
     "shell.execute_reply.started": "2022-02-16T22:03:51.116792Z"
    },
    "papermill": {
     "duration": 0.074465,
     "end_time": "2022-02-16T22:04:24.823598",
     "exception": false,
     "start_time": "2022-02-16T22:04:24.749133",
     "status": "completed"
    },
    "tags": []
   },
   "outputs": [
    {
     "name": "stdout",
     "output_type": "stream",
     "text": [
      "Your test submission was successfully saved!!\n"
     ]
    }
   ],
   "source": [
    "# Final for output - Decsision Tree\n",
    "predictions = vc.predict(X_test) \n",
    "\n",
    "output = pd.DataFrame({'PassengerId': test_data.PassengerId, 'Survived': predictions})\n",
    "\n",
    "output.to_csv('Submission-Voting-Classifier.csv', index=False)\n",
    "print('Your test submission was successfully saved!!')"
   ]
  },
  {
   "cell_type": "code",
   "execution_count": 39,
   "id": "9c09d3b3",
   "metadata": {
    "execution": {
     "iopub.execute_input": "2022-02-16T22:04:24.897984Z",
     "iopub.status.busy": "2022-02-16T22:04:24.897281Z",
     "iopub.status.idle": "2022-02-16T22:04:24.917429Z",
     "shell.execute_reply": "2022-02-16T22:04:24.917053Z",
     "shell.execute_reply.started": "2022-02-11T17:48:03.55814Z"
    },
    "papermill": {
     "duration": 0.058163,
     "end_time": "2022-02-16T22:04:24.917533",
     "exception": false,
     "start_time": "2022-02-16T22:04:24.859370",
     "status": "completed"
    },
    "tags": []
   },
   "outputs": [
    {
     "name": "stdout",
     "output_type": "stream",
     "text": [
      "Your test submission was successfully saved!!\n"
     ]
    }
   ],
   "source": [
    "# Final for output - Random Forest\n",
    "predictions = random_forest.predict(X_test) \n",
    "\n",
    "output = pd.DataFrame({'PassengerId': test_data.PassengerId, 'Survived': predictions})\n",
    "\n",
    "output.to_csv('Submission-Random-Forest.csv', index=False)\n",
    "print('Your test submission was successfully saved!!')"
   ]
  },
  {
   "cell_type": "code",
   "execution_count": null,
   "id": "4296cdc5",
   "metadata": {
    "papermill": {
     "duration": 0.035461,
     "end_time": "2022-02-16T22:04:24.988746",
     "exception": false,
     "start_time": "2022-02-16T22:04:24.953285",
     "status": "completed"
    },
    "tags": []
   },
   "outputs": [],
   "source": []
  },
  {
   "cell_type": "code",
   "execution_count": null,
   "id": "85104966",
   "metadata": {
    "papermill": {
     "duration": 0.035195,
     "end_time": "2022-02-16T22:04:25.059340",
     "exception": false,
     "start_time": "2022-02-16T22:04:25.024145",
     "status": "completed"
    },
    "tags": []
   },
   "outputs": [],
   "source": []
  }
 ],
 "metadata": {
  "kernelspec": {
   "display_name": "Python 3",
   "language": "python",
   "name": "python3"
  },
  "language_info": {
   "codemirror_mode": {
    "name": "ipython",
    "version": 3
   },
   "file_extension": ".py",
   "mimetype": "text/x-python",
   "name": "python",
   "nbconvert_exporter": "python",
   "pygments_lexer": "ipython3",
   "version": "3.7.12"
  },
  "papermill": {
   "default_parameters": {},
   "duration": 13.207288,
   "end_time": "2022-02-16T22:04:25.702917",
   "environment_variables": {},
   "exception": null,
   "input_path": "__notebook__.ipynb",
   "output_path": "__notebook__.ipynb",
   "parameters": {},
   "start_time": "2022-02-16T22:04:12.495629",
   "version": "2.3.3"
  }
 },
 "nbformat": 4,
 "nbformat_minor": 5
}
