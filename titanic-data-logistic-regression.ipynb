{
 "cells": [
  {
   "cell_type": "code",
   "execution_count": 1,
   "id": "8a190907",
   "metadata": {
    "_cell_guid": "b1076dfc-b9ad-4769-8c92-a6c4dae69d19",
    "_uuid": "8f2839f25d086af736a60e9eeb907d3b93b6e0e5",
    "execution": {
     "iopub.execute_input": "2022-02-11T16:51:10.578936Z",
     "iopub.status.busy": "2022-02-11T16:51:10.577905Z",
     "iopub.status.idle": "2022-02-11T16:51:10.588276Z",
     "shell.execute_reply": "2022-02-11T16:51:10.588773Z",
     "shell.execute_reply.started": "2022-02-11T16:50:38.818619Z"
    },
    "papermill": {
     "duration": 0.033674,
     "end_time": "2022-02-11T16:51:10.589076",
     "exception": false,
     "start_time": "2022-02-11T16:51:10.555402",
     "status": "completed"
    },
    "tags": []
   },
   "outputs": [
    {
     "name": "stdout",
     "output_type": "stream",
     "text": [
      "/kaggle/input/titanic/train.csv\n",
      "/kaggle/input/titanic/test.csv\n",
      "/kaggle/input/titanic/gender_submission.csv\n"
     ]
    }
   ],
   "source": [
    "# This Python 3 environment comes with many helpful analytics libraries installed\n",
    "# It is defined by the kaggle/python Docker image: https://github.com/kaggle/docker-python\n",
    "# For example, here's several helpful packages to load\n",
    "\n",
    "import numpy as np # linear algebra\n",
    "import pandas as pd # data processing, CSV file I/O (e.g. pd.read_csv)\n",
    "\n",
    "# Input data files are available in the read-only \"../input/\" directory\n",
    "# For example, running this (by clicking run or pressing Shift+Enter) will list all files under the input directory\n",
    "\n",
    "import os\n",
    "for dirname, _, filenames in os.walk('/kaggle/input'):\n",
    "    for filename in filenames:\n",
    "        print(os.path.join(dirname, filename))\n",
    "\n",
    "# You can write up to 20GB to the current directory (/kaggle/working/) that gets preserved as output when you create a version using \"Save & Run All\" \n",
    "# You can also write temporary files to /kaggle/temp/, but they won't be saved outside of the current session"
   ]
  },
  {
   "cell_type": "code",
   "execution_count": 2,
   "id": "82c9cc21",
   "metadata": {
    "execution": {
     "iopub.execute_input": "2022-02-11T16:51:10.629632Z",
     "iopub.status.busy": "2022-02-11T16:51:10.628703Z",
     "iopub.status.idle": "2022-02-11T16:51:10.665462Z",
     "shell.execute_reply": "2022-02-11T16:51:10.665960Z",
     "shell.execute_reply.started": "2022-02-11T16:50:39.399234Z"
    },
    "papermill": {
     "duration": 0.05826,
     "end_time": "2022-02-11T16:51:10.666140",
     "exception": false,
     "start_time": "2022-02-11T16:51:10.607880",
     "status": "completed"
    },
    "tags": []
   },
   "outputs": [
    {
     "data": {
      "text/html": [
       "<div>\n",
       "<style scoped>\n",
       "    .dataframe tbody tr th:only-of-type {\n",
       "        vertical-align: middle;\n",
       "    }\n",
       "\n",
       "    .dataframe tbody tr th {\n",
       "        vertical-align: top;\n",
       "    }\n",
       "\n",
       "    .dataframe thead th {\n",
       "        text-align: right;\n",
       "    }\n",
       "</style>\n",
       "<table border=\"1\" class=\"dataframe\">\n",
       "  <thead>\n",
       "    <tr style=\"text-align: right;\">\n",
       "      <th></th>\n",
       "      <th>PassengerId</th>\n",
       "      <th>Survived</th>\n",
       "      <th>Pclass</th>\n",
       "      <th>Name</th>\n",
       "      <th>Sex</th>\n",
       "      <th>Age</th>\n",
       "      <th>SibSp</th>\n",
       "      <th>Parch</th>\n",
       "      <th>Ticket</th>\n",
       "      <th>Fare</th>\n",
       "      <th>Cabin</th>\n",
       "      <th>Embarked</th>\n",
       "    </tr>\n",
       "  </thead>\n",
       "  <tbody>\n",
       "    <tr>\n",
       "      <th>0</th>\n",
       "      <td>1</td>\n",
       "      <td>0</td>\n",
       "      <td>3</td>\n",
       "      <td>Braund, Mr. Owen Harris</td>\n",
       "      <td>male</td>\n",
       "      <td>22.0</td>\n",
       "      <td>1</td>\n",
       "      <td>0</td>\n",
       "      <td>A/5 21171</td>\n",
       "      <td>7.2500</td>\n",
       "      <td>NaN</td>\n",
       "      <td>S</td>\n",
       "    </tr>\n",
       "    <tr>\n",
       "      <th>1</th>\n",
       "      <td>2</td>\n",
       "      <td>1</td>\n",
       "      <td>1</td>\n",
       "      <td>Cumings, Mrs. John Bradley (Florence Briggs Th...</td>\n",
       "      <td>female</td>\n",
       "      <td>38.0</td>\n",
       "      <td>1</td>\n",
       "      <td>0</td>\n",
       "      <td>PC 17599</td>\n",
       "      <td>71.2833</td>\n",
       "      <td>C85</td>\n",
       "      <td>C</td>\n",
       "    </tr>\n",
       "    <tr>\n",
       "      <th>2</th>\n",
       "      <td>3</td>\n",
       "      <td>1</td>\n",
       "      <td>3</td>\n",
       "      <td>Heikkinen, Miss. Laina</td>\n",
       "      <td>female</td>\n",
       "      <td>26.0</td>\n",
       "      <td>0</td>\n",
       "      <td>0</td>\n",
       "      <td>STON/O2. 3101282</td>\n",
       "      <td>7.9250</td>\n",
       "      <td>NaN</td>\n",
       "      <td>S</td>\n",
       "    </tr>\n",
       "    <tr>\n",
       "      <th>3</th>\n",
       "      <td>4</td>\n",
       "      <td>1</td>\n",
       "      <td>1</td>\n",
       "      <td>Futrelle, Mrs. Jacques Heath (Lily May Peel)</td>\n",
       "      <td>female</td>\n",
       "      <td>35.0</td>\n",
       "      <td>1</td>\n",
       "      <td>0</td>\n",
       "      <td>113803</td>\n",
       "      <td>53.1000</td>\n",
       "      <td>C123</td>\n",
       "      <td>S</td>\n",
       "    </tr>\n",
       "    <tr>\n",
       "      <th>4</th>\n",
       "      <td>5</td>\n",
       "      <td>0</td>\n",
       "      <td>3</td>\n",
       "      <td>Allen, Mr. William Henry</td>\n",
       "      <td>male</td>\n",
       "      <td>35.0</td>\n",
       "      <td>0</td>\n",
       "      <td>0</td>\n",
       "      <td>373450</td>\n",
       "      <td>8.0500</td>\n",
       "      <td>NaN</td>\n",
       "      <td>S</td>\n",
       "    </tr>\n",
       "  </tbody>\n",
       "</table>\n",
       "</div>"
      ],
      "text/plain": [
       "   PassengerId  Survived  Pclass  \\\n",
       "0            1         0       3   \n",
       "1            2         1       1   \n",
       "2            3         1       3   \n",
       "3            4         1       1   \n",
       "4            5         0       3   \n",
       "\n",
       "                                                Name     Sex   Age  SibSp  \\\n",
       "0                            Braund, Mr. Owen Harris    male  22.0      1   \n",
       "1  Cumings, Mrs. John Bradley (Florence Briggs Th...  female  38.0      1   \n",
       "2                             Heikkinen, Miss. Laina  female  26.0      0   \n",
       "3       Futrelle, Mrs. Jacques Heath (Lily May Peel)  female  35.0      1   \n",
       "4                           Allen, Mr. William Henry    male  35.0      0   \n",
       "\n",
       "   Parch            Ticket     Fare Cabin Embarked  \n",
       "0      0         A/5 21171   7.2500   NaN        S  \n",
       "1      0          PC 17599  71.2833   C85        C  \n",
       "2      0  STON/O2. 3101282   7.9250   NaN        S  \n",
       "3      0            113803  53.1000  C123        S  \n",
       "4      0            373450   8.0500   NaN        S  "
      ]
     },
     "execution_count": 2,
     "metadata": {},
     "output_type": "execute_result"
    }
   ],
   "source": [
    "train_data = pd.read_csv('/kaggle/input/titanic/train.csv')\n",
    "train_data.head()"
   ]
  },
  {
   "cell_type": "code",
   "execution_count": 3,
   "id": "370b4055",
   "metadata": {
    "execution": {
     "iopub.execute_input": "2022-02-11T16:51:10.707169Z",
     "iopub.status.busy": "2022-02-11T16:51:10.706526Z",
     "iopub.status.idle": "2022-02-11T16:51:10.713011Z",
     "shell.execute_reply": "2022-02-11T16:51:10.712378Z",
     "shell.execute_reply.started": "2022-02-11T16:50:39.485400Z"
    },
    "papermill": {
     "duration": 0.027666,
     "end_time": "2022-02-11T16:51:10.713175",
     "exception": false,
     "start_time": "2022-02-11T16:51:10.685509",
     "status": "completed"
    },
    "tags": []
   },
   "outputs": [
    {
     "data": {
      "text/plain": [
       "(891, 12)"
      ]
     },
     "execution_count": 3,
     "metadata": {},
     "output_type": "execute_result"
    }
   ],
   "source": [
    "train_data.shape"
   ]
  },
  {
   "cell_type": "code",
   "execution_count": 4,
   "id": "b53f76e4",
   "metadata": {
    "execution": {
     "iopub.execute_input": "2022-02-11T16:51:10.761388Z",
     "iopub.status.busy": "2022-02-11T16:51:10.760669Z",
     "iopub.status.idle": "2022-02-11T16:51:10.767104Z",
     "shell.execute_reply": "2022-02-11T16:51:10.767613Z",
     "shell.execute_reply.started": "2022-02-11T16:50:39.605585Z"
    },
    "papermill": {
     "duration": 0.035536,
     "end_time": "2022-02-11T16:51:10.767790",
     "exception": false,
     "start_time": "2022-02-11T16:51:10.732254",
     "status": "completed"
    },
    "tags": []
   },
   "outputs": [
    {
     "data": {
      "text/plain": [
       "347082      7\n",
       "CA. 2343    7\n",
       "1601        7\n",
       "3101295     6\n",
       "CA 2144     6\n",
       "           ..\n",
       "9234        1\n",
       "19988       1\n",
       "2693        1\n",
       "PC 17612    1\n",
       "370376      1\n",
       "Name: Ticket, Length: 681, dtype: int64"
      ]
     },
     "execution_count": 4,
     "metadata": {},
     "output_type": "execute_result"
    }
   ],
   "source": [
    "train_data.Ticket.value_counts()"
   ]
  },
  {
   "cell_type": "code",
   "execution_count": 5,
   "id": "76f908ef",
   "metadata": {
    "execution": {
     "iopub.execute_input": "2022-02-11T16:51:10.809890Z",
     "iopub.status.busy": "2022-02-11T16:51:10.809267Z",
     "iopub.status.idle": "2022-02-11T16:51:10.815996Z",
     "shell.execute_reply": "2022-02-11T16:51:10.816493Z",
     "shell.execute_reply.started": "2022-02-11T16:50:39.699101Z"
    },
    "papermill": {
     "duration": 0.029723,
     "end_time": "2022-02-11T16:51:10.816656",
     "exception": false,
     "start_time": "2022-02-11T16:51:10.786933",
     "status": "completed"
    },
    "tags": []
   },
   "outputs": [
    {
     "data": {
      "text/plain": [
       "B96 B98        4\n",
       "G6             4\n",
       "C23 C25 C27    4\n",
       "C22 C26        3\n",
       "F33            3\n",
       "              ..\n",
       "E34            1\n",
       "C7             1\n",
       "C54            1\n",
       "E36            1\n",
       "C148           1\n",
       "Name: Cabin, Length: 147, dtype: int64"
      ]
     },
     "execution_count": 5,
     "metadata": {},
     "output_type": "execute_result"
    }
   ],
   "source": [
    "train_data.Cabin.value_counts()"
   ]
  },
  {
   "cell_type": "code",
   "execution_count": 6,
   "id": "09c31e9b",
   "metadata": {
    "execution": {
     "iopub.execute_input": "2022-02-11T16:51:10.857980Z",
     "iopub.status.busy": "2022-02-11T16:51:10.857405Z",
     "iopub.status.idle": "2022-02-11T16:51:10.873484Z",
     "shell.execute_reply": "2022-02-11T16:51:10.872854Z",
     "shell.execute_reply.started": "2022-02-11T16:50:39.806160Z"
    },
    "papermill": {
     "duration": 0.037667,
     "end_time": "2022-02-11T16:51:10.873624",
     "exception": false,
     "start_time": "2022-02-11T16:51:10.835957",
     "status": "completed"
    },
    "tags": []
   },
   "outputs": [],
   "source": [
    "test_data = pd.read_csv('/kaggle/input/titanic/test.csv')"
   ]
  },
  {
   "cell_type": "code",
   "execution_count": 7,
   "id": "fc8096ef",
   "metadata": {
    "execution": {
     "iopub.execute_input": "2022-02-11T16:51:10.925990Z",
     "iopub.status.busy": "2022-02-11T16:51:10.925360Z",
     "iopub.status.idle": "2022-02-11T16:51:10.929197Z",
     "shell.execute_reply": "2022-02-11T16:51:10.928593Z",
     "shell.execute_reply.started": "2022-02-11T16:50:39.904002Z"
    },
    "papermill": {
     "duration": 0.036234,
     "end_time": "2022-02-11T16:51:10.929340",
     "exception": false,
     "start_time": "2022-02-11T16:51:10.893106",
     "status": "completed"
    },
    "tags": []
   },
   "outputs": [
    {
     "data": {
      "text/html": [
       "<div>\n",
       "<style scoped>\n",
       "    .dataframe tbody tr th:only-of-type {\n",
       "        vertical-align: middle;\n",
       "    }\n",
       "\n",
       "    .dataframe tbody tr th {\n",
       "        vertical-align: top;\n",
       "    }\n",
       "\n",
       "    .dataframe thead th {\n",
       "        text-align: right;\n",
       "    }\n",
       "</style>\n",
       "<table border=\"1\" class=\"dataframe\">\n",
       "  <thead>\n",
       "    <tr style=\"text-align: right;\">\n",
       "      <th></th>\n",
       "      <th>PassengerId</th>\n",
       "      <th>Pclass</th>\n",
       "      <th>Name</th>\n",
       "      <th>Sex</th>\n",
       "      <th>Age</th>\n",
       "      <th>SibSp</th>\n",
       "      <th>Parch</th>\n",
       "      <th>Ticket</th>\n",
       "      <th>Fare</th>\n",
       "      <th>Cabin</th>\n",
       "      <th>Embarked</th>\n",
       "    </tr>\n",
       "  </thead>\n",
       "  <tbody>\n",
       "    <tr>\n",
       "      <th>0</th>\n",
       "      <td>892</td>\n",
       "      <td>3</td>\n",
       "      <td>Kelly, Mr. James</td>\n",
       "      <td>male</td>\n",
       "      <td>34.5</td>\n",
       "      <td>0</td>\n",
       "      <td>0</td>\n",
       "      <td>330911</td>\n",
       "      <td>7.8292</td>\n",
       "      <td>NaN</td>\n",
       "      <td>Q</td>\n",
       "    </tr>\n",
       "    <tr>\n",
       "      <th>1</th>\n",
       "      <td>893</td>\n",
       "      <td>3</td>\n",
       "      <td>Wilkes, Mrs. James (Ellen Needs)</td>\n",
       "      <td>female</td>\n",
       "      <td>47.0</td>\n",
       "      <td>1</td>\n",
       "      <td>0</td>\n",
       "      <td>363272</td>\n",
       "      <td>7.0000</td>\n",
       "      <td>NaN</td>\n",
       "      <td>S</td>\n",
       "    </tr>\n",
       "    <tr>\n",
       "      <th>2</th>\n",
       "      <td>894</td>\n",
       "      <td>2</td>\n",
       "      <td>Myles, Mr. Thomas Francis</td>\n",
       "      <td>male</td>\n",
       "      <td>62.0</td>\n",
       "      <td>0</td>\n",
       "      <td>0</td>\n",
       "      <td>240276</td>\n",
       "      <td>9.6875</td>\n",
       "      <td>NaN</td>\n",
       "      <td>Q</td>\n",
       "    </tr>\n",
       "    <tr>\n",
       "      <th>3</th>\n",
       "      <td>895</td>\n",
       "      <td>3</td>\n",
       "      <td>Wirz, Mr. Albert</td>\n",
       "      <td>male</td>\n",
       "      <td>27.0</td>\n",
       "      <td>0</td>\n",
       "      <td>0</td>\n",
       "      <td>315154</td>\n",
       "      <td>8.6625</td>\n",
       "      <td>NaN</td>\n",
       "      <td>S</td>\n",
       "    </tr>\n",
       "    <tr>\n",
       "      <th>4</th>\n",
       "      <td>896</td>\n",
       "      <td>3</td>\n",
       "      <td>Hirvonen, Mrs. Alexander (Helga E Lindqvist)</td>\n",
       "      <td>female</td>\n",
       "      <td>22.0</td>\n",
       "      <td>1</td>\n",
       "      <td>1</td>\n",
       "      <td>3101298</td>\n",
       "      <td>12.2875</td>\n",
       "      <td>NaN</td>\n",
       "      <td>S</td>\n",
       "    </tr>\n",
       "  </tbody>\n",
       "</table>\n",
       "</div>"
      ],
      "text/plain": [
       "   PassengerId  Pclass                                          Name     Sex  \\\n",
       "0          892       3                              Kelly, Mr. James    male   \n",
       "1          893       3              Wilkes, Mrs. James (Ellen Needs)  female   \n",
       "2          894       2                     Myles, Mr. Thomas Francis    male   \n",
       "3          895       3                              Wirz, Mr. Albert    male   \n",
       "4          896       3  Hirvonen, Mrs. Alexander (Helga E Lindqvist)  female   \n",
       "\n",
       "    Age  SibSp  Parch   Ticket     Fare Cabin Embarked  \n",
       "0  34.5      0      0   330911   7.8292   NaN        Q  \n",
       "1  47.0      1      0   363272   7.0000   NaN        S  \n",
       "2  62.0      0      0   240276   9.6875   NaN        Q  \n",
       "3  27.0      0      0   315154   8.6625   NaN        S  \n",
       "4  22.0      1      1  3101298  12.2875   NaN        S  "
      ]
     },
     "execution_count": 7,
     "metadata": {},
     "output_type": "execute_result"
    }
   ],
   "source": [
    "test_data.head()"
   ]
  },
  {
   "cell_type": "code",
   "execution_count": 8,
   "id": "97e2430e",
   "metadata": {
    "execution": {
     "iopub.execute_input": "2022-02-11T16:51:10.971542Z",
     "iopub.status.busy": "2022-02-11T16:51:10.970957Z",
     "iopub.status.idle": "2022-02-11T16:51:10.980351Z",
     "shell.execute_reply": "2022-02-11T16:51:10.980994Z",
     "shell.execute_reply.started": "2022-02-11T16:50:39.990038Z"
    },
    "papermill": {
     "duration": 0.03213,
     "end_time": "2022-02-11T16:51:10.981222",
     "exception": false,
     "start_time": "2022-02-11T16:51:10.949092",
     "status": "completed"
    },
    "tags": []
   },
   "outputs": [
    {
     "name": "stdout",
     "output_type": "stream",
     "text": [
      "The percent of women who survived was 0.7420382165605095\n"
     ]
    }
   ],
   "source": [
    "women = train_data.loc[train_data['Sex']=='female']['Survived']\n",
    "rate_women = sum(women)/len(women)\n",
    "\n",
    "print('The percent of women who survived was ' + str(rate_women))"
   ]
  },
  {
   "cell_type": "code",
   "execution_count": 9,
   "id": "f01a479a",
   "metadata": {
    "execution": {
     "iopub.execute_input": "2022-02-11T16:51:11.025660Z",
     "iopub.status.busy": "2022-02-11T16:51:11.024717Z",
     "iopub.status.idle": "2022-02-11T16:51:11.031647Z",
     "shell.execute_reply": "2022-02-11T16:51:11.032307Z",
     "shell.execute_reply.started": "2022-02-11T16:50:40.102938Z"
    },
    "papermill": {
     "duration": 0.030683,
     "end_time": "2022-02-11T16:51:11.032534",
     "exception": false,
     "start_time": "2022-02-11T16:51:11.001851",
     "status": "completed"
    },
    "tags": []
   },
   "outputs": [
    {
     "name": "stdout",
     "output_type": "stream",
     "text": [
      "The percent of men who survived was 0.18890814558058924\n"
     ]
    }
   ],
   "source": [
    "men = train_data.loc[train_data.Sex == 'male']['Survived']\n",
    "rate_men = sum(men)/len(men)\n",
    "\n",
    "print('The percent of men who survived was ' + str(rate_men))"
   ]
  },
  {
   "cell_type": "code",
   "execution_count": 10,
   "id": "3e3c45b8",
   "metadata": {
    "execution": {
     "iopub.execute_input": "2022-02-11T16:51:11.077904Z",
     "iopub.status.busy": "2022-02-11T16:51:11.076977Z",
     "iopub.status.idle": "2022-02-11T16:51:11.083554Z",
     "shell.execute_reply": "2022-02-11T16:51:11.084294Z",
     "shell.execute_reply.started": "2022-02-11T16:50:40.195593Z"
    },
    "papermill": {
     "duration": 0.030243,
     "end_time": "2022-02-11T16:51:11.084513",
     "exception": false,
     "start_time": "2022-02-11T16:51:11.054270",
     "status": "completed"
    },
    "tags": []
   },
   "outputs": [
    {
     "name": "stdout",
     "output_type": "stream",
     "text": [
      "The percent of children who survived was 0.5398230088495575\n"
     ]
    }
   ],
   "source": [
    "children = train_data.loc[train_data['Age']<18]['Survived']\n",
    "rate_children = sum(children)/len(children)\n",
    "\n",
    "print('The percent of children who survived was ' + str(rate_children))"
   ]
  },
  {
   "cell_type": "code",
   "execution_count": 11,
   "id": "cabfd444",
   "metadata": {
    "execution": {
     "iopub.execute_input": "2022-02-11T16:51:11.132309Z",
     "iopub.status.busy": "2022-02-11T16:51:11.131491Z",
     "iopub.status.idle": "2022-02-11T16:51:11.136216Z",
     "shell.execute_reply": "2022-02-11T16:51:11.135178Z",
     "shell.execute_reply.started": "2022-02-11T16:50:40.290988Z"
    },
    "papermill": {
     "duration": 0.030213,
     "end_time": "2022-02-11T16:51:11.136473",
     "exception": false,
     "start_time": "2022-02-11T16:51:11.106260",
     "status": "completed"
    },
    "tags": []
   },
   "outputs": [
    {
     "name": "stdout",
     "output_type": "stream",
     "text": [
      "The percent of adults who survived was 0.3810316139767055\n"
     ]
    }
   ],
   "source": [
    "adults = train_data.loc[train_data['Age']>=18]['Survived']\n",
    "rate_adults = sum(adults)/len(adults)\n",
    "\n",
    "print('The percent of adults who survived was ' + str(rate_adults))"
   ]
  },
  {
   "cell_type": "code",
   "execution_count": null,
   "id": "13432e00",
   "metadata": {
    "papermill": {
     "duration": 0.020558,
     "end_time": "2022-02-11T16:51:11.179004",
     "exception": false,
     "start_time": "2022-02-11T16:51:11.158446",
     "status": "completed"
    },
    "tags": []
   },
   "outputs": [],
   "source": []
  },
  {
   "cell_type": "code",
   "execution_count": null,
   "id": "e2d2eece",
   "metadata": {
    "papermill": {
     "duration": 0.020009,
     "end_time": "2022-02-11T16:51:11.219730",
     "exception": false,
     "start_time": "2022-02-11T16:51:11.199721",
     "status": "completed"
    },
    "tags": []
   },
   "outputs": [],
   "source": []
  },
  {
   "cell_type": "markdown",
   "id": "c276bbad",
   "metadata": {
    "papermill": {
     "duration": 0.020596,
     "end_time": "2022-02-11T16:51:11.262297",
     "exception": false,
     "start_time": "2022-02-11T16:51:11.241701",
     "status": "completed"
    },
    "tags": []
   },
   "source": []
  },
  {
   "cell_type": "markdown",
   "id": "879d0fdd",
   "metadata": {
    "papermill": {
     "duration": 0.020084,
     "end_time": "2022-02-11T16:51:11.302824",
     "exception": false,
     "start_time": "2022-02-11T16:51:11.282740",
     "status": "completed"
    },
    "tags": []
   },
   "source": []
  },
  {
   "cell_type": "code",
   "execution_count": 12,
   "id": "4f0ddce7",
   "metadata": {
    "execution": {
     "iopub.execute_input": "2022-02-11T16:51:11.351009Z",
     "iopub.status.busy": "2022-02-11T16:51:11.346642Z",
     "iopub.status.idle": "2022-02-11T16:51:11.353222Z",
     "shell.execute_reply": "2022-02-11T16:51:11.353683Z",
     "shell.execute_reply.started": "2022-02-11T16:50:40.792672Z"
    },
    "papermill": {
     "duration": 0.030719,
     "end_time": "2022-02-11T16:51:11.353864",
     "exception": false,
     "start_time": "2022-02-11T16:51:11.323145",
     "status": "completed"
    },
    "tags": []
   },
   "outputs": [
    {
     "data": {
      "text/plain": [
       "B96 B98        4\n",
       "G6             4\n",
       "C23 C25 C27    4\n",
       "C22 C26        3\n",
       "F33            3\n",
       "              ..\n",
       "E34            1\n",
       "C7             1\n",
       "C54            1\n",
       "E36            1\n",
       "C148           1\n",
       "Name: Cabin, Length: 147, dtype: int64"
      ]
     },
     "execution_count": 12,
     "metadata": {},
     "output_type": "execute_result"
    }
   ],
   "source": [
    "train_data.Cabin.value_counts()"
   ]
  },
  {
   "cell_type": "code",
   "execution_count": 13,
   "id": "399277f7",
   "metadata": {
    "execution": {
     "iopub.execute_input": "2022-02-11T16:51:11.398566Z",
     "iopub.status.busy": "2022-02-11T16:51:11.397943Z",
     "iopub.status.idle": "2022-02-11T16:51:11.403975Z",
     "shell.execute_reply": "2022-02-11T16:51:11.404442Z",
     "shell.execute_reply.started": "2022-02-11T16:50:40.893081Z"
    },
    "papermill": {
     "duration": 0.03005,
     "end_time": "2022-02-11T16:51:11.404603",
     "exception": false,
     "start_time": "2022-02-11T16:51:11.374553",
     "status": "completed"
    },
    "tags": []
   },
   "outputs": [],
   "source": [
    "train_data['HasCabin'] = np.where(train_data.Cabin.isnull() == True, False, True)\n",
    "test_data['HasCabin'] = np.where(test_data.Cabin.isnull() == True, False, True)"
   ]
  },
  {
   "cell_type": "code",
   "execution_count": 14,
   "id": "cd0f01ae",
   "metadata": {
    "execution": {
     "iopub.execute_input": "2022-02-11T16:51:11.449614Z",
     "iopub.status.busy": "2022-02-11T16:51:11.448988Z",
     "iopub.status.idle": "2022-02-11T16:51:11.453486Z",
     "shell.execute_reply": "2022-02-11T16:51:11.454024Z",
     "shell.execute_reply.started": "2022-02-11T16:50:40.997157Z"
    },
    "papermill": {
     "duration": 0.028212,
     "end_time": "2022-02-11T16:51:11.454200",
     "exception": false,
     "start_time": "2022-02-11T16:51:11.425988",
     "status": "completed"
    },
    "tags": []
   },
   "outputs": [
    {
     "data": {
      "text/plain": [
       "204"
      ]
     },
     "execution_count": 14,
     "metadata": {},
     "output_type": "execute_result"
    }
   ],
   "source": [
    "train_data.HasCabin.sum()"
   ]
  },
  {
   "cell_type": "code",
   "execution_count": 15,
   "id": "bd4d2347",
   "metadata": {
    "execution": {
     "iopub.execute_input": "2022-02-11T16:51:11.503698Z",
     "iopub.status.busy": "2022-02-11T16:51:11.502703Z",
     "iopub.status.idle": "2022-02-11T16:51:11.514682Z",
     "shell.execute_reply": "2022-02-11T16:51:11.513928Z",
     "shell.execute_reply.started": "2022-02-11T16:50:41.093856Z"
    },
    "papermill": {
     "duration": 0.038506,
     "end_time": "2022-02-11T16:51:11.514903",
     "exception": false,
     "start_time": "2022-02-11T16:51:11.476397",
     "status": "completed"
    },
    "tags": []
   },
   "outputs": [],
   "source": [
    "features = ['Pclass', 'Sex', 'Age', 'SibSp', 'Parch', 'Fare','HasCabin', 'Embarked']\n",
    "\n",
    "y_train = train_data['Survived']\n",
    "train_data1 = train_data[features]\n",
    "test_data1 = test_data[features]"
   ]
  },
  {
   "cell_type": "code",
   "execution_count": 16,
   "id": "88906b6f",
   "metadata": {
    "execution": {
     "iopub.execute_input": "2022-02-11T16:51:11.582786Z",
     "iopub.status.busy": "2022-02-11T16:51:11.581807Z",
     "iopub.status.idle": "2022-02-11T16:51:11.606445Z",
     "shell.execute_reply": "2022-02-11T16:51:11.606986Z",
     "shell.execute_reply.started": "2022-02-11T16:50:41.198526Z"
    },
    "papermill": {
     "duration": 0.065283,
     "end_time": "2022-02-11T16:51:11.607175",
     "exception": false,
     "start_time": "2022-02-11T16:51:11.541892",
     "status": "completed"
    },
    "tags": []
   },
   "outputs": [],
   "source": [
    "# Convert the categorical features in the train and test sets independently\n",
    "train_data_d = pd.get_dummies(train_data1)\n",
    "test_data_d = pd.get_dummies(test_data1)\n",
    "\n",
    "# Replace all missing values in age & Fare with mean value\n",
    "train_data_d['Age'] = train_data_d['Age'].fillna(train_data_d['Age'].median())\n",
    "test_data_d['Age'] = test_data_d['Age'].fillna(test_data_d['Age'].median())\n",
    "train_data_d['Fare'] = train_data_d['Fare'].fillna(train_data_d['Fare'].median())\n",
    "test_data_d['Fare'] = test_data_d['Fare'].fillna(test_data_d['Fare'].median())\n",
    "\n",
    "\n",
    "# Reindex the columns of the test set aligning with the train set\n",
    "test_data_d = test_data_d.reindex(columns=train_data_d.columns, fill_value=0)"
   ]
  },
  {
   "cell_type": "code",
   "execution_count": 17,
   "id": "089b5fb5",
   "metadata": {
    "execution": {
     "iopub.execute_input": "2022-02-11T16:51:11.653341Z",
     "iopub.status.busy": "2022-02-11T16:51:11.652372Z",
     "iopub.status.idle": "2022-02-11T16:51:11.662034Z",
     "shell.execute_reply": "2022-02-11T16:51:11.661195Z",
     "shell.execute_reply.started": "2022-02-11T16:50:41.297434Z"
    },
    "papermill": {
     "duration": 0.033515,
     "end_time": "2022-02-11T16:51:11.662236",
     "exception": false,
     "start_time": "2022-02-11T16:51:11.628721",
     "status": "completed"
    },
    "tags": []
   },
   "outputs": [
    {
     "name": "stdout",
     "output_type": "stream",
     "text": [
      "(891, 11)\n",
      "Pclass        0\n",
      "Age           0\n",
      "SibSp         0\n",
      "Parch         0\n",
      "Fare          0\n",
      "HasCabin      0\n",
      "Sex_female    0\n",
      "Sex_male      0\n",
      "Embarked_C    0\n",
      "Embarked_Q    0\n",
      "Embarked_S    0\n",
      "dtype: int64\n"
     ]
    }
   ],
   "source": [
    "print(train_data_d.shape)\n",
    "print(test_data_d.isnull().sum())"
   ]
  },
  {
   "cell_type": "code",
   "execution_count": 18,
   "id": "b3b46ded",
   "metadata": {
    "execution": {
     "iopub.execute_input": "2022-02-11T16:51:11.712555Z",
     "iopub.status.busy": "2022-02-11T16:51:11.711923Z",
     "iopub.status.idle": "2022-02-11T16:51:12.700304Z",
     "shell.execute_reply": "2022-02-11T16:51:12.699164Z",
     "shell.execute_reply.started": "2022-02-11T16:50:41.396311Z"
    },
    "papermill": {
     "duration": 1.013774,
     "end_time": "2022-02-11T16:51:12.700488",
     "exception": false,
     "start_time": "2022-02-11T16:51:11.686714",
     "status": "completed"
    },
    "tags": []
   },
   "outputs": [],
   "source": [
    "# Import MinMaxScaler\n",
    "from sklearn.preprocessing import MinMaxScaler\n",
    "\n",
    "# Instantiate MinMaxScaler and use it to rescale X_train and X_test\n",
    "scaler = MinMaxScaler(feature_range=(0,1))\n",
    "train_data_rescaled = scaler.fit_transform(train_data_d)\n",
    "test_data_rescaled = scaler.fit_transform(test_data_d)"
   ]
  },
  {
   "cell_type": "code",
   "execution_count": null,
   "id": "c4ef5267",
   "metadata": {
    "papermill": {
     "duration": 0.021967,
     "end_time": "2022-02-11T16:51:12.744377",
     "exception": false,
     "start_time": "2022-02-11T16:51:12.722410",
     "status": "completed"
    },
    "tags": []
   },
   "outputs": [],
   "source": []
  },
  {
   "cell_type": "code",
   "execution_count": 19,
   "id": "6f36d0e9",
   "metadata": {
    "execution": {
     "iopub.execute_input": "2022-02-11T16:51:12.796432Z",
     "iopub.status.busy": "2022-02-11T16:51:12.795478Z",
     "iopub.status.idle": "2022-02-11T16:51:12.799312Z",
     "shell.execute_reply": "2022-02-11T16:51:12.798786Z",
     "shell.execute_reply.started": "2022-02-11T16:50:41.975959Z"
    },
    "papermill": {
     "duration": 0.033534,
     "end_time": "2022-02-11T16:51:12.799447",
     "exception": false,
     "start_time": "2022-02-11T16:51:12.765913",
     "status": "completed"
    },
    "tags": []
   },
   "outputs": [
    {
     "data": {
      "text/plain": [
       "Pclass        0\n",
       "Age           0\n",
       "SibSp         0\n",
       "Parch         0\n",
       "Fare          0\n",
       "HasCabin      0\n",
       "Sex_female    0\n",
       "Sex_male      0\n",
       "Embarked_C    0\n",
       "Embarked_Q    0\n",
       "Embarked_S    0\n",
       "dtype: int64"
      ]
     },
     "execution_count": 19,
     "metadata": {},
     "output_type": "execute_result"
    }
   ],
   "source": [
    "train_data_d.isnull().sum()"
   ]
  },
  {
   "cell_type": "code",
   "execution_count": 20,
   "id": "393edd7e",
   "metadata": {
    "execution": {
     "iopub.execute_input": "2022-02-11T16:51:12.847661Z",
     "iopub.status.busy": "2022-02-11T16:51:12.847078Z",
     "iopub.status.idle": "2022-02-11T16:51:13.015462Z",
     "shell.execute_reply": "2022-02-11T16:51:13.016290Z",
     "shell.execute_reply.started": "2022-02-11T16:50:42.184704Z"
    },
    "papermill": {
     "duration": 0.195212,
     "end_time": "2022-02-11T16:51:13.016564",
     "exception": false,
     "start_time": "2022-02-11T16:51:12.821352",
     "status": "completed"
    },
    "tags": []
   },
   "outputs": [
    {
     "data": {
      "text/plain": [
       "LogisticRegression()"
      ]
     },
     "execution_count": 20,
     "metadata": {},
     "output_type": "execute_result"
    }
   ],
   "source": [
    "# Import LogisticRegression\n",
    "from sklearn.linear_model import LogisticRegression\n",
    "\n",
    "# Instantiate a LogisticRegression classifier with default parameter values\n",
    "logreg = LogisticRegression()\n",
    "\n",
    "# Fit logreg to the train set\n",
    "logreg.fit(train_data_rescaled, y_train)"
   ]
  },
  {
   "cell_type": "code",
   "execution_count": 21,
   "id": "d04e5a26",
   "metadata": {
    "execution": {
     "iopub.execute_input": "2022-02-11T16:51:13.114128Z",
     "iopub.status.busy": "2022-02-11T16:51:13.112972Z",
     "iopub.status.idle": "2022-02-11T16:51:13.118785Z",
     "shell.execute_reply": "2022-02-11T16:51:13.119877Z",
     "shell.execute_reply.started": "2022-02-11T16:50:42.582347Z"
    },
    "papermill": {
     "duration": 0.059156,
     "end_time": "2022-02-11T16:51:13.120252",
     "exception": false,
     "start_time": "2022-02-11T16:51:13.061096",
     "status": "completed"
    },
    "tags": []
   },
   "outputs": [],
   "source": [
    "# Import GridSearchCV\n",
    "from sklearn.model_selection import GridSearchCV\n",
    "\n",
    "# Define the grid of values for tol and max_iter\n",
    "tol = [0.01,0.001,0.0001]\n",
    "max_iter = [100,150,200]\n",
    "\n",
    "# Create a dictionary where tol and max_iter are keys and the lists of their values are corresponding values\n",
    "param_grid = dict(tol=tol, max_iter=max_iter)"
   ]
  },
  {
   "cell_type": "code",
   "execution_count": 22,
   "id": "7e2b8744",
   "metadata": {
    "execution": {
     "iopub.execute_input": "2022-02-11T16:51:13.174262Z",
     "iopub.status.busy": "2022-02-11T16:51:13.173527Z",
     "iopub.status.idle": "2022-02-11T16:51:13.709214Z",
     "shell.execute_reply": "2022-02-11T16:51:13.710157Z",
     "shell.execute_reply.started": "2022-02-11T16:50:43.027434Z"
    },
    "papermill": {
     "duration": 0.564808,
     "end_time": "2022-02-11T16:51:13.710439",
     "exception": false,
     "start_time": "2022-02-11T16:51:13.145631",
     "status": "completed"
    },
    "tags": []
   },
   "outputs": [
    {
     "name": "stdout",
     "output_type": "stream",
     "text": [
      "Best: 0.794602 using {'max_iter': 100, 'tol': 0.01}\n",
      "LogisticRegression(tol=0.01)\n"
     ]
    }
   ],
   "source": [
    "# Instantiate GridSearchCV with the required parameters\n",
    "grid_model = GridSearchCV(estimator=logreg, param_grid=param_grid, cv=5)\n",
    "\n",
    "# Fit grid_model to the data\n",
    "grid_model_result = grid_model.fit(train_data_rescaled, y_train)\n",
    "\n",
    "# Summarize results\n",
    "best_score, best_params = grid_model_result.best_score_, grid_model_result.best_params_\n",
    "print(\"Best: %f using %s\" % (best_score, best_params))\n",
    "\n",
    "# Extract the best model and evaluate it on the test set\n",
    "best_model = grid_model_result.best_estimator_\n",
    "print(best_model)\n",
    "#print(\"Accuracy of logistic regression classifier: \", best_model.score(rescaledX_test,y_test))"
   ]
  },
  {
   "cell_type": "code",
   "execution_count": 23,
   "id": "e1d6ba15",
   "metadata": {
    "execution": {
     "iopub.execute_input": "2022-02-11T16:51:13.809985Z",
     "iopub.status.busy": "2022-02-11T16:51:13.808928Z",
     "iopub.status.idle": "2022-02-11T16:51:13.821874Z",
     "shell.execute_reply": "2022-02-11T16:51:13.823310Z",
     "shell.execute_reply.started": "2022-02-11T16:50:43.677155Z"
    },
    "papermill": {
     "duration": 0.068196,
     "end_time": "2022-02-11T16:51:13.823591",
     "exception": false,
     "start_time": "2022-02-11T16:51:13.755395",
     "status": "completed"
    },
    "tags": []
   },
   "outputs": [
    {
     "name": "stdout",
     "output_type": "stream",
     "text": [
      "Your test submission was successfully saved!!\n"
     ]
    }
   ],
   "source": [
    "# Final for output\n",
    "predictions = best_model.predict(test_data_rescaled)\n",
    "\n",
    "output = pd.DataFrame({'PassengerId': test_data.PassengerId, 'Survived': predictions})\n",
    "\n",
    "output.to_csv('Submission-Logistic-Regression-HasCabin-Median.csv', index=False)\n",
    "print('Your test submission was successfully saved!!')"
   ]
  },
  {
   "cell_type": "code",
   "execution_count": null,
   "id": "c9af4d11",
   "metadata": {
    "papermill": {
     "duration": 0.02212,
     "end_time": "2022-02-11T16:51:13.868638",
     "exception": false,
     "start_time": "2022-02-11T16:51:13.846518",
     "status": "completed"
    },
    "tags": []
   },
   "outputs": [],
   "source": []
  },
  {
   "cell_type": "code",
   "execution_count": null,
   "id": "c43656d9",
   "metadata": {
    "papermill": {
     "duration": 0.022133,
     "end_time": "2022-02-11T16:51:13.913311",
     "exception": false,
     "start_time": "2022-02-11T16:51:13.891178",
     "status": "completed"
    },
    "tags": []
   },
   "outputs": [],
   "source": []
  },
  {
   "cell_type": "code",
   "execution_count": null,
   "id": "bab5f202",
   "metadata": {
    "papermill": {
     "duration": 0.021982,
     "end_time": "2022-02-11T16:51:13.957592",
     "exception": false,
     "start_time": "2022-02-11T16:51:13.935610",
     "status": "completed"
    },
    "tags": []
   },
   "outputs": [],
   "source": []
  }
 ],
 "metadata": {
  "kernelspec": {
   "display_name": "Python 3",
   "language": "python",
   "name": "python3"
  },
  "language_info": {
   "codemirror_mode": {
    "name": "ipython",
    "version": 3
   },
   "file_extension": ".py",
   "mimetype": "text/x-python",
   "name": "python",
   "nbconvert_exporter": "python",
   "pygments_lexer": "ipython3",
   "version": "3.7.12"
  },
  "papermill": {
   "default_parameters": {},
   "duration": 12.640216,
   "end_time": "2022-02-11T16:51:14.691231",
   "environment_variables": {},
   "exception": null,
   "input_path": "__notebook__.ipynb",
   "output_path": "__notebook__.ipynb",
   "parameters": {},
   "start_time": "2022-02-11T16:51:02.051015",
   "version": "2.3.3"
  }
 },
 "nbformat": 4,
 "nbformat_minor": 5
}
