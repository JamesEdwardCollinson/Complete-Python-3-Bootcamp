{
 "cells": [
  {
   "cell_type": "code",
   "execution_count": 1,
   "id": "460e4e98",
   "metadata": {
    "_cell_guid": "b1076dfc-b9ad-4769-8c92-a6c4dae69d19",
    "_uuid": "8f2839f25d086af736a60e9eeb907d3b93b6e0e5",
    "execution": {
     "iopub.execute_input": "2022-02-11T16:27:17.469589Z",
     "iopub.status.busy": "2022-02-11T16:27:17.464813Z",
     "iopub.status.idle": "2022-02-11T16:27:17.478323Z",
     "shell.execute_reply": "2022-02-11T16:27:17.478851Z",
     "shell.execute_reply.started": "2022-02-11T16:26:27.494991Z"
    },
    "papermill": {
     "duration": 0.045698,
     "end_time": "2022-02-11T16:27:17.479176",
     "exception": false,
     "start_time": "2022-02-11T16:27:17.433478",
     "status": "completed"
    },
    "tags": []
   },
   "outputs": [
    {
     "name": "stdout",
     "output_type": "stream",
     "text": [
      "/kaggle/input/titanic/train.csv\n",
      "/kaggle/input/titanic/test.csv\n",
      "/kaggle/input/titanic/gender_submission.csv\n"
     ]
    }
   ],
   "source": [
    "# This Python 3 environment comes with many helpful analytics libraries installed\n",
    "# It is defined by the kaggle/python Docker image: https://github.com/kaggle/docker-python\n",
    "# For example, here's several helpful packages to load\n",
    "\n",
    "import numpy as np # linear algebra\n",
    "import pandas as pd # data processing, CSV file I/O (e.g. pd.read_csv)\n",
    "\n",
    "# Input data files are available in the read-only \"../input/\" directory\n",
    "# For example, running this (by clicking run or pressing Shift+Enter) will list all files under the input directory\n",
    "\n",
    "import os\n",
    "for dirname, _, filenames in os.walk('/kaggle/input'):\n",
    "    for filename in filenames:\n",
    "        print(os.path.join(dirname, filename))\n",
    "\n",
    "# You can write up to 20GB to the current directory (/kaggle/working/) that gets preserved as output when you create a version using \"Save & Run All\" \n",
    "# You can also write temporary files to /kaggle/temp/, but they won't be saved outside of the current session"
   ]
  },
  {
   "cell_type": "code",
   "execution_count": 2,
   "id": "b6dc6431",
   "metadata": {
    "execution": {
     "iopub.execute_input": "2022-02-11T16:27:17.532468Z",
     "iopub.status.busy": "2022-02-11T16:27:17.531864Z",
     "iopub.status.idle": "2022-02-11T16:27:17.566999Z",
     "shell.execute_reply": "2022-02-11T16:27:17.567781Z",
     "shell.execute_reply.started": "2022-02-11T16:26:28.057270Z"
    },
    "papermill": {
     "duration": 0.063125,
     "end_time": "2022-02-11T16:27:17.567986",
     "exception": false,
     "start_time": "2022-02-11T16:27:17.504861",
     "status": "completed"
    },
    "tags": []
   },
   "outputs": [
    {
     "data": {
      "text/html": [
       "<div>\n",
       "<style scoped>\n",
       "    .dataframe tbody tr th:only-of-type {\n",
       "        vertical-align: middle;\n",
       "    }\n",
       "\n",
       "    .dataframe tbody tr th {\n",
       "        vertical-align: top;\n",
       "    }\n",
       "\n",
       "    .dataframe thead th {\n",
       "        text-align: right;\n",
       "    }\n",
       "</style>\n",
       "<table border=\"1\" class=\"dataframe\">\n",
       "  <thead>\n",
       "    <tr style=\"text-align: right;\">\n",
       "      <th></th>\n",
       "      <th>PassengerId</th>\n",
       "      <th>Survived</th>\n",
       "      <th>Pclass</th>\n",
       "      <th>Name</th>\n",
       "      <th>Sex</th>\n",
       "      <th>Age</th>\n",
       "      <th>SibSp</th>\n",
       "      <th>Parch</th>\n",
       "      <th>Ticket</th>\n",
       "      <th>Fare</th>\n",
       "      <th>Cabin</th>\n",
       "      <th>Embarked</th>\n",
       "    </tr>\n",
       "  </thead>\n",
       "  <tbody>\n",
       "    <tr>\n",
       "      <th>0</th>\n",
       "      <td>1</td>\n",
       "      <td>0</td>\n",
       "      <td>3</td>\n",
       "      <td>Braund, Mr. Owen Harris</td>\n",
       "      <td>male</td>\n",
       "      <td>22.0</td>\n",
       "      <td>1</td>\n",
       "      <td>0</td>\n",
       "      <td>A/5 21171</td>\n",
       "      <td>7.2500</td>\n",
       "      <td>NaN</td>\n",
       "      <td>S</td>\n",
       "    </tr>\n",
       "    <tr>\n",
       "      <th>1</th>\n",
       "      <td>2</td>\n",
       "      <td>1</td>\n",
       "      <td>1</td>\n",
       "      <td>Cumings, Mrs. John Bradley (Florence Briggs Th...</td>\n",
       "      <td>female</td>\n",
       "      <td>38.0</td>\n",
       "      <td>1</td>\n",
       "      <td>0</td>\n",
       "      <td>PC 17599</td>\n",
       "      <td>71.2833</td>\n",
       "      <td>C85</td>\n",
       "      <td>C</td>\n",
       "    </tr>\n",
       "    <tr>\n",
       "      <th>2</th>\n",
       "      <td>3</td>\n",
       "      <td>1</td>\n",
       "      <td>3</td>\n",
       "      <td>Heikkinen, Miss. Laina</td>\n",
       "      <td>female</td>\n",
       "      <td>26.0</td>\n",
       "      <td>0</td>\n",
       "      <td>0</td>\n",
       "      <td>STON/O2. 3101282</td>\n",
       "      <td>7.9250</td>\n",
       "      <td>NaN</td>\n",
       "      <td>S</td>\n",
       "    </tr>\n",
       "    <tr>\n",
       "      <th>3</th>\n",
       "      <td>4</td>\n",
       "      <td>1</td>\n",
       "      <td>1</td>\n",
       "      <td>Futrelle, Mrs. Jacques Heath (Lily May Peel)</td>\n",
       "      <td>female</td>\n",
       "      <td>35.0</td>\n",
       "      <td>1</td>\n",
       "      <td>0</td>\n",
       "      <td>113803</td>\n",
       "      <td>53.1000</td>\n",
       "      <td>C123</td>\n",
       "      <td>S</td>\n",
       "    </tr>\n",
       "    <tr>\n",
       "      <th>4</th>\n",
       "      <td>5</td>\n",
       "      <td>0</td>\n",
       "      <td>3</td>\n",
       "      <td>Allen, Mr. William Henry</td>\n",
       "      <td>male</td>\n",
       "      <td>35.0</td>\n",
       "      <td>0</td>\n",
       "      <td>0</td>\n",
       "      <td>373450</td>\n",
       "      <td>8.0500</td>\n",
       "      <td>NaN</td>\n",
       "      <td>S</td>\n",
       "    </tr>\n",
       "  </tbody>\n",
       "</table>\n",
       "</div>"
      ],
      "text/plain": [
       "   PassengerId  Survived  Pclass  \\\n",
       "0            1         0       3   \n",
       "1            2         1       1   \n",
       "2            3         1       3   \n",
       "3            4         1       1   \n",
       "4            5         0       3   \n",
       "\n",
       "                                                Name     Sex   Age  SibSp  \\\n",
       "0                            Braund, Mr. Owen Harris    male  22.0      1   \n",
       "1  Cumings, Mrs. John Bradley (Florence Briggs Th...  female  38.0      1   \n",
       "2                             Heikkinen, Miss. Laina  female  26.0      0   \n",
       "3       Futrelle, Mrs. Jacques Heath (Lily May Peel)  female  35.0      1   \n",
       "4                           Allen, Mr. William Henry    male  35.0      0   \n",
       "\n",
       "   Parch            Ticket     Fare Cabin Embarked  \n",
       "0      0         A/5 21171   7.2500   NaN        S  \n",
       "1      0          PC 17599  71.2833   C85        C  \n",
       "2      0  STON/O2. 3101282   7.9250   NaN        S  \n",
       "3      0            113803  53.1000  C123        S  \n",
       "4      0            373450   8.0500   NaN        S  "
      ]
     },
     "execution_count": 2,
     "metadata": {},
     "output_type": "execute_result"
    }
   ],
   "source": [
    "train_data = pd.read_csv('/kaggle/input/titanic/train.csv')\n",
    "train_data.head()"
   ]
  },
  {
   "cell_type": "code",
   "execution_count": 3,
   "id": "c27904ec",
   "metadata": {
    "execution": {
     "iopub.execute_input": "2022-02-11T16:27:17.632412Z",
     "iopub.status.busy": "2022-02-11T16:27:17.631764Z",
     "iopub.status.idle": "2022-02-11T16:27:17.636364Z",
     "shell.execute_reply": "2022-02-11T16:27:17.636938Z",
     "shell.execute_reply.started": "2022-02-11T16:26:28.100966Z"
    },
    "papermill": {
     "duration": 0.038303,
     "end_time": "2022-02-11T16:27:17.637113",
     "exception": false,
     "start_time": "2022-02-11T16:27:17.598810",
     "status": "completed"
    },
    "tags": []
   },
   "outputs": [
    {
     "data": {
      "text/plain": [
       "(891, 12)"
      ]
     },
     "execution_count": 3,
     "metadata": {},
     "output_type": "execute_result"
    }
   ],
   "source": [
    "train_data.shape"
   ]
  },
  {
   "cell_type": "code",
   "execution_count": 4,
   "id": "a819086a",
   "metadata": {
    "execution": {
     "iopub.execute_input": "2022-02-11T16:27:17.689557Z",
     "iopub.status.busy": "2022-02-11T16:27:17.688945Z",
     "iopub.status.idle": "2022-02-11T16:27:17.704037Z",
     "shell.execute_reply": "2022-02-11T16:27:17.703422Z",
     "shell.execute_reply.started": "2022-02-11T16:26:28.284286Z"
    },
    "papermill": {
     "duration": 0.042253,
     "end_time": "2022-02-11T16:27:17.704201",
     "exception": false,
     "start_time": "2022-02-11T16:27:17.661948",
     "status": "completed"
    },
    "tags": []
   },
   "outputs": [
    {
     "data": {
      "text/plain": [
       "347082      7\n",
       "CA. 2343    7\n",
       "1601        7\n",
       "3101295     6\n",
       "CA 2144     6\n",
       "           ..\n",
       "9234        1\n",
       "19988       1\n",
       "2693        1\n",
       "PC 17612    1\n",
       "370376      1\n",
       "Name: Ticket, Length: 681, dtype: int64"
      ]
     },
     "execution_count": 4,
     "metadata": {},
     "output_type": "execute_result"
    }
   ],
   "source": [
    "train_data.Ticket.value_counts()"
   ]
  },
  {
   "cell_type": "code",
   "execution_count": 5,
   "id": "4362e4f2",
   "metadata": {
    "execution": {
     "iopub.execute_input": "2022-02-11T16:27:17.762507Z",
     "iopub.status.busy": "2022-02-11T16:27:17.759237Z",
     "iopub.status.idle": "2022-02-11T16:27:17.765434Z",
     "shell.execute_reply": "2022-02-11T16:27:17.765907Z",
     "shell.execute_reply.started": "2022-02-11T16:26:28.320467Z"
    },
    "papermill": {
     "duration": 0.036711,
     "end_time": "2022-02-11T16:27:17.766089",
     "exception": false,
     "start_time": "2022-02-11T16:27:17.729378",
     "status": "completed"
    },
    "tags": []
   },
   "outputs": [
    {
     "data": {
      "text/plain": [
       "B96 B98        4\n",
       "G6             4\n",
       "C23 C25 C27    4\n",
       "C22 C26        3\n",
       "F33            3\n",
       "              ..\n",
       "E34            1\n",
       "C7             1\n",
       "C54            1\n",
       "E36            1\n",
       "C148           1\n",
       "Name: Cabin, Length: 147, dtype: int64"
      ]
     },
     "execution_count": 5,
     "metadata": {},
     "output_type": "execute_result"
    }
   ],
   "source": [
    "train_data.Cabin.value_counts()"
   ]
  },
  {
   "cell_type": "code",
   "execution_count": 6,
   "id": "00092e35",
   "metadata": {
    "execution": {
     "iopub.execute_input": "2022-02-11T16:27:17.822215Z",
     "iopub.status.busy": "2022-02-11T16:27:17.821495Z",
     "iopub.status.idle": "2022-02-11T16:27:17.832566Z",
     "shell.execute_reply": "2022-02-11T16:27:17.831952Z",
     "shell.execute_reply.started": "2022-02-11T16:26:28.396634Z"
    },
    "papermill": {
     "duration": 0.041207,
     "end_time": "2022-02-11T16:27:17.832704",
     "exception": false,
     "start_time": "2022-02-11T16:27:17.791497",
     "status": "completed"
    },
    "tags": []
   },
   "outputs": [],
   "source": [
    "test_data = pd.read_csv('/kaggle/input/titanic/test.csv')"
   ]
  },
  {
   "cell_type": "code",
   "execution_count": 7,
   "id": "5c696f77",
   "metadata": {
    "execution": {
     "iopub.execute_input": "2022-02-11T16:27:17.898473Z",
     "iopub.status.busy": "2022-02-11T16:27:17.897503Z",
     "iopub.status.idle": "2022-02-11T16:27:17.901559Z",
     "shell.execute_reply": "2022-02-11T16:27:17.900896Z",
     "shell.execute_reply.started": "2022-02-11T16:26:28.510461Z"
    },
    "papermill": {
     "duration": 0.04335,
     "end_time": "2022-02-11T16:27:17.901694",
     "exception": false,
     "start_time": "2022-02-11T16:27:17.858344",
     "status": "completed"
    },
    "tags": []
   },
   "outputs": [
    {
     "data": {
      "text/html": [
       "<div>\n",
       "<style scoped>\n",
       "    .dataframe tbody tr th:only-of-type {\n",
       "        vertical-align: middle;\n",
       "    }\n",
       "\n",
       "    .dataframe tbody tr th {\n",
       "        vertical-align: top;\n",
       "    }\n",
       "\n",
       "    .dataframe thead th {\n",
       "        text-align: right;\n",
       "    }\n",
       "</style>\n",
       "<table border=\"1\" class=\"dataframe\">\n",
       "  <thead>\n",
       "    <tr style=\"text-align: right;\">\n",
       "      <th></th>\n",
       "      <th>PassengerId</th>\n",
       "      <th>Pclass</th>\n",
       "      <th>Name</th>\n",
       "      <th>Sex</th>\n",
       "      <th>Age</th>\n",
       "      <th>SibSp</th>\n",
       "      <th>Parch</th>\n",
       "      <th>Ticket</th>\n",
       "      <th>Fare</th>\n",
       "      <th>Cabin</th>\n",
       "      <th>Embarked</th>\n",
       "    </tr>\n",
       "  </thead>\n",
       "  <tbody>\n",
       "    <tr>\n",
       "      <th>0</th>\n",
       "      <td>892</td>\n",
       "      <td>3</td>\n",
       "      <td>Kelly, Mr. James</td>\n",
       "      <td>male</td>\n",
       "      <td>34.5</td>\n",
       "      <td>0</td>\n",
       "      <td>0</td>\n",
       "      <td>330911</td>\n",
       "      <td>7.8292</td>\n",
       "      <td>NaN</td>\n",
       "      <td>Q</td>\n",
       "    </tr>\n",
       "    <tr>\n",
       "      <th>1</th>\n",
       "      <td>893</td>\n",
       "      <td>3</td>\n",
       "      <td>Wilkes, Mrs. James (Ellen Needs)</td>\n",
       "      <td>female</td>\n",
       "      <td>47.0</td>\n",
       "      <td>1</td>\n",
       "      <td>0</td>\n",
       "      <td>363272</td>\n",
       "      <td>7.0000</td>\n",
       "      <td>NaN</td>\n",
       "      <td>S</td>\n",
       "    </tr>\n",
       "    <tr>\n",
       "      <th>2</th>\n",
       "      <td>894</td>\n",
       "      <td>2</td>\n",
       "      <td>Myles, Mr. Thomas Francis</td>\n",
       "      <td>male</td>\n",
       "      <td>62.0</td>\n",
       "      <td>0</td>\n",
       "      <td>0</td>\n",
       "      <td>240276</td>\n",
       "      <td>9.6875</td>\n",
       "      <td>NaN</td>\n",
       "      <td>Q</td>\n",
       "    </tr>\n",
       "    <tr>\n",
       "      <th>3</th>\n",
       "      <td>895</td>\n",
       "      <td>3</td>\n",
       "      <td>Wirz, Mr. Albert</td>\n",
       "      <td>male</td>\n",
       "      <td>27.0</td>\n",
       "      <td>0</td>\n",
       "      <td>0</td>\n",
       "      <td>315154</td>\n",
       "      <td>8.6625</td>\n",
       "      <td>NaN</td>\n",
       "      <td>S</td>\n",
       "    </tr>\n",
       "    <tr>\n",
       "      <th>4</th>\n",
       "      <td>896</td>\n",
       "      <td>3</td>\n",
       "      <td>Hirvonen, Mrs. Alexander (Helga E Lindqvist)</td>\n",
       "      <td>female</td>\n",
       "      <td>22.0</td>\n",
       "      <td>1</td>\n",
       "      <td>1</td>\n",
       "      <td>3101298</td>\n",
       "      <td>12.2875</td>\n",
       "      <td>NaN</td>\n",
       "      <td>S</td>\n",
       "    </tr>\n",
       "  </tbody>\n",
       "</table>\n",
       "</div>"
      ],
      "text/plain": [
       "   PassengerId  Pclass                                          Name     Sex  \\\n",
       "0          892       3                              Kelly, Mr. James    male   \n",
       "1          893       3              Wilkes, Mrs. James (Ellen Needs)  female   \n",
       "2          894       2                     Myles, Mr. Thomas Francis    male   \n",
       "3          895       3                              Wirz, Mr. Albert    male   \n",
       "4          896       3  Hirvonen, Mrs. Alexander (Helga E Lindqvist)  female   \n",
       "\n",
       "    Age  SibSp  Parch   Ticket     Fare Cabin Embarked  \n",
       "0  34.5      0      0   330911   7.8292   NaN        Q  \n",
       "1  47.0      1      0   363272   7.0000   NaN        S  \n",
       "2  62.0      0      0   240276   9.6875   NaN        Q  \n",
       "3  27.0      0      0   315154   8.6625   NaN        S  \n",
       "4  22.0      1      1  3101298  12.2875   NaN        S  "
      ]
     },
     "execution_count": 7,
     "metadata": {},
     "output_type": "execute_result"
    }
   ],
   "source": [
    "test_data.head()"
   ]
  },
  {
   "cell_type": "code",
   "execution_count": 8,
   "id": "31117949",
   "metadata": {
    "execution": {
     "iopub.execute_input": "2022-02-11T16:27:17.962709Z",
     "iopub.status.busy": "2022-02-11T16:27:17.961723Z",
     "iopub.status.idle": "2022-02-11T16:27:17.966553Z",
     "shell.execute_reply": "2022-02-11T16:27:17.967387Z",
     "shell.execute_reply.started": "2022-02-11T16:26:28.606550Z"
    },
    "papermill": {
     "duration": 0.039868,
     "end_time": "2022-02-11T16:27:17.967599",
     "exception": false,
     "start_time": "2022-02-11T16:27:17.927731",
     "status": "completed"
    },
    "tags": []
   },
   "outputs": [
    {
     "name": "stdout",
     "output_type": "stream",
     "text": [
      "The percent of women who survived was 0.7420382165605095\n"
     ]
    }
   ],
   "source": [
    "women = train_data.loc[train_data['Sex']=='female']['Survived']\n",
    "rate_women = sum(women)/len(women)\n",
    "\n",
    "print('The percent of women who survived was ' + str(rate_women))"
   ]
  },
  {
   "cell_type": "code",
   "execution_count": 9,
   "id": "e38523d8",
   "metadata": {
    "execution": {
     "iopub.execute_input": "2022-02-11T16:27:18.027705Z",
     "iopub.status.busy": "2022-02-11T16:27:18.026803Z",
     "iopub.status.idle": "2022-02-11T16:27:18.031128Z",
     "shell.execute_reply": "2022-02-11T16:27:18.031779Z",
     "shell.execute_reply.started": "2022-02-11T16:26:28.808619Z"
    },
    "papermill": {
     "duration": 0.03718,
     "end_time": "2022-02-11T16:27:18.031993",
     "exception": false,
     "start_time": "2022-02-11T16:27:17.994813",
     "status": "completed"
    },
    "tags": []
   },
   "outputs": [
    {
     "name": "stdout",
     "output_type": "stream",
     "text": [
      "The percent of men who survived was 0.18890814558058924\n"
     ]
    }
   ],
   "source": [
    "men = train_data.loc[train_data.Sex == 'male']['Survived']\n",
    "rate_men = sum(men)/len(men)\n",
    "\n",
    "print('The percent of men who survived was ' + str(rate_men))"
   ]
  },
  {
   "cell_type": "code",
   "execution_count": 10,
   "id": "dca8f682",
   "metadata": {
    "execution": {
     "iopub.execute_input": "2022-02-11T16:27:18.093283Z",
     "iopub.status.busy": "2022-02-11T16:27:18.092596Z",
     "iopub.status.idle": "2022-02-11T16:27:18.095805Z",
     "shell.execute_reply": "2022-02-11T16:27:18.095199Z",
     "shell.execute_reply.started": "2022-02-11T16:26:28.847228Z"
    },
    "papermill": {
     "duration": 0.036393,
     "end_time": "2022-02-11T16:27:18.095940",
     "exception": false,
     "start_time": "2022-02-11T16:27:18.059547",
     "status": "completed"
    },
    "tags": []
   },
   "outputs": [
    {
     "name": "stdout",
     "output_type": "stream",
     "text": [
      "The percent of children who survived was 0.5398230088495575\n"
     ]
    }
   ],
   "source": [
    "children = train_data.loc[train_data['Age']<18]['Survived']\n",
    "rate_children = sum(children)/len(children)\n",
    "\n",
    "print('The percent of children who survived was ' + str(rate_children))"
   ]
  },
  {
   "cell_type": "code",
   "execution_count": 11,
   "id": "495b7381",
   "metadata": {
    "execution": {
     "iopub.execute_input": "2022-02-11T16:27:18.157475Z",
     "iopub.status.busy": "2022-02-11T16:27:18.156676Z",
     "iopub.status.idle": "2022-02-11T16:27:18.160513Z",
     "shell.execute_reply": "2022-02-11T16:27:18.159946Z",
     "shell.execute_reply.started": "2022-02-11T16:26:28.909336Z"
    },
    "papermill": {
     "duration": 0.038068,
     "end_time": "2022-02-11T16:27:18.160652",
     "exception": false,
     "start_time": "2022-02-11T16:27:18.122584",
     "status": "completed"
    },
    "tags": []
   },
   "outputs": [
    {
     "name": "stdout",
     "output_type": "stream",
     "text": [
      "The percent of adults who survived was 0.3810316139767055\n"
     ]
    }
   ],
   "source": [
    "adults = train_data.loc[train_data['Age']>=18]['Survived']\n",
    "rate_adults = sum(adults)/len(adults)\n",
    "\n",
    "print('The percent of adults who survived was ' + str(rate_adults))"
   ]
  },
  {
   "cell_type": "code",
   "execution_count": null,
   "id": "f91b56c3",
   "metadata": {
    "papermill": {
     "duration": 0.02755,
     "end_time": "2022-02-11T16:27:18.215146",
     "exception": false,
     "start_time": "2022-02-11T16:27:18.187596",
     "status": "completed"
    },
    "tags": []
   },
   "outputs": [],
   "source": []
  },
  {
   "cell_type": "code",
   "execution_count": null,
   "id": "d1a29267",
   "metadata": {
    "papermill": {
     "duration": 0.026718,
     "end_time": "2022-02-11T16:27:18.268963",
     "exception": false,
     "start_time": "2022-02-11T16:27:18.242245",
     "status": "completed"
    },
    "tags": []
   },
   "outputs": [],
   "source": []
  },
  {
   "cell_type": "markdown",
   "id": "85fc441b",
   "metadata": {
    "papermill": {
     "duration": 0.02692,
     "end_time": "2022-02-11T16:27:18.324506",
     "exception": false,
     "start_time": "2022-02-11T16:27:18.297586",
     "status": "completed"
    },
    "tags": []
   },
   "source": []
  },
  {
   "cell_type": "markdown",
   "id": "47a6c83d",
   "metadata": {
    "papermill": {
     "duration": 0.026721,
     "end_time": "2022-02-11T16:27:18.378329",
     "exception": false,
     "start_time": "2022-02-11T16:27:18.351608",
     "status": "completed"
    },
    "tags": []
   },
   "source": []
  },
  {
   "cell_type": "code",
   "execution_count": 12,
   "id": "7e0f0622",
   "metadata": {
    "execution": {
     "iopub.execute_input": "2022-02-11T16:27:18.437236Z",
     "iopub.status.busy": "2022-02-11T16:27:18.436579Z",
     "iopub.status.idle": "2022-02-11T16:27:18.442385Z",
     "shell.execute_reply": "2022-02-11T16:27:18.442947Z",
     "shell.execute_reply.started": "2022-02-11T16:26:29.413861Z"
    },
    "papermill": {
     "duration": 0.037588,
     "end_time": "2022-02-11T16:27:18.443124",
     "exception": false,
     "start_time": "2022-02-11T16:27:18.405536",
     "status": "completed"
    },
    "tags": []
   },
   "outputs": [
    {
     "data": {
      "text/plain": [
       "B96 B98        4\n",
       "G6             4\n",
       "C23 C25 C27    4\n",
       "C22 C26        3\n",
       "F33            3\n",
       "              ..\n",
       "E34            1\n",
       "C7             1\n",
       "C54            1\n",
       "E36            1\n",
       "C148           1\n",
       "Name: Cabin, Length: 147, dtype: int64"
      ]
     },
     "execution_count": 12,
     "metadata": {},
     "output_type": "execute_result"
    }
   ],
   "source": [
    "train_data.Cabin.value_counts()"
   ]
  },
  {
   "cell_type": "code",
   "execution_count": 13,
   "id": "c571829a",
   "metadata": {
    "execution": {
     "iopub.execute_input": "2022-02-11T16:27:18.502445Z",
     "iopub.status.busy": "2022-02-11T16:27:18.501194Z",
     "iopub.status.idle": "2022-02-11T16:27:18.504123Z",
     "shell.execute_reply": "2022-02-11T16:27:18.504671Z",
     "shell.execute_reply.started": "2022-02-11T16:26:29.635146Z"
    },
    "papermill": {
     "duration": 0.033815,
     "end_time": "2022-02-11T16:27:18.504824",
     "exception": false,
     "start_time": "2022-02-11T16:27:18.471009",
     "status": "completed"
    },
    "tags": []
   },
   "outputs": [],
   "source": [
    "#train_data['HasCabin'] = np.where(train_data.Cabin.isnull() == True, False, True)\n",
    "#test_data['HasCabin'] = np.where(test_data.Cabin.isnull() == True, False, True)"
   ]
  },
  {
   "cell_type": "code",
   "execution_count": 14,
   "id": "b1bc7b2e",
   "metadata": {
    "execution": {
     "iopub.execute_input": "2022-02-11T16:27:18.563731Z",
     "iopub.status.busy": "2022-02-11T16:27:18.563122Z",
     "iopub.status.idle": "2022-02-11T16:27:18.565771Z",
     "shell.execute_reply": "2022-02-11T16:27:18.566278Z",
     "shell.execute_reply.started": "2022-02-11T16:26:29.641666Z"
    },
    "papermill": {
     "duration": 0.033776,
     "end_time": "2022-02-11T16:27:18.566447",
     "exception": false,
     "start_time": "2022-02-11T16:27:18.532671",
     "status": "completed"
    },
    "tags": []
   },
   "outputs": [],
   "source": [
    "#train_data.HasCabin.sum()"
   ]
  },
  {
   "cell_type": "code",
   "execution_count": 15,
   "id": "d6b4f0b4",
   "metadata": {
    "execution": {
     "iopub.execute_input": "2022-02-11T16:27:18.631188Z",
     "iopub.status.busy": "2022-02-11T16:27:18.627018Z",
     "iopub.status.idle": "2022-02-11T16:27:18.632746Z",
     "shell.execute_reply": "2022-02-11T16:27:18.633352Z",
     "shell.execute_reply.started": "2022-02-11T16:26:29.719198Z"
    },
    "papermill": {
     "duration": 0.038347,
     "end_time": "2022-02-11T16:27:18.633515",
     "exception": false,
     "start_time": "2022-02-11T16:27:18.595168",
     "status": "completed"
    },
    "tags": []
   },
   "outputs": [],
   "source": [
    "features = ['Pclass', 'Sex', 'SibSp', 'Parch', 'Cabin', 'Embarked']\n",
    "\n",
    "y_train = train_data['Survived']\n",
    "train_data1 = train_data[features]\n",
    "test_data1 = test_data[features]"
   ]
  },
  {
   "cell_type": "code",
   "execution_count": 16,
   "id": "75dba9d9",
   "metadata": {
    "execution": {
     "iopub.execute_input": "2022-02-11T16:27:18.698053Z",
     "iopub.status.busy": "2022-02-11T16:27:18.697028Z",
     "iopub.status.idle": "2022-02-11T16:27:18.711942Z",
     "shell.execute_reply": "2022-02-11T16:27:18.712497Z",
     "shell.execute_reply.started": "2022-02-11T16:26:29.916201Z"
    },
    "papermill": {
     "duration": 0.051341,
     "end_time": "2022-02-11T16:27:18.712662",
     "exception": false,
     "start_time": "2022-02-11T16:27:18.661321",
     "status": "completed"
    },
    "tags": []
   },
   "outputs": [],
   "source": [
    "# Convert the categorical features in the train and test sets independently\n",
    "train_data_d = pd.get_dummies(train_data1)\n",
    "test_data_d = pd.get_dummies(test_data1)\n",
    "\n",
    "# Replace all missing values in age & Fare with mean value\n",
    "#train_data_d['Age'] = train_data_d['Age'].fillna(train_data_d['Age'].mean())\n",
    "#test_data_d['Age'] = test_data_d['Age'].fillna(test_data_d['Age'].mean())\n",
    "#train_data_d['Fare'] = train_data_d['Fare'].fillna(train_data_d['Fare'].mean())\n",
    "#test_data_d['Fare'] = test_data_d['Fare'].fillna(test_data_d['Fare'].mean())\n",
    "\n",
    "\n",
    "# Reindex the columns of the test set aligning with the train set\n",
    "test_data_d = test_data_d.reindex(columns=train_data_d.columns, fill_value=0)"
   ]
  },
  {
   "cell_type": "code",
   "execution_count": 17,
   "id": "16e81327",
   "metadata": {
    "execution": {
     "iopub.execute_input": "2022-02-11T16:27:18.771420Z",
     "iopub.status.busy": "2022-02-11T16:27:18.770429Z",
     "iopub.status.idle": "2022-02-11T16:27:18.779184Z",
     "shell.execute_reply": "2022-02-11T16:27:18.779738Z",
     "shell.execute_reply.started": "2022-02-11T16:26:30.139783Z"
    },
    "papermill": {
     "duration": 0.039577,
     "end_time": "2022-02-11T16:27:18.779920",
     "exception": false,
     "start_time": "2022-02-11T16:27:18.740343",
     "status": "completed"
    },
    "tags": []
   },
   "outputs": [
    {
     "name": "stdout",
     "output_type": "stream",
     "text": [
      "(891, 155)\n",
      "Pclass        0\n",
      "SibSp         0\n",
      "Parch         0\n",
      "Sex_female    0\n",
      "Sex_male      0\n",
      "             ..\n",
      "Cabin_G6      0\n",
      "Cabin_T       0\n",
      "Embarked_C    0\n",
      "Embarked_Q    0\n",
      "Embarked_S    0\n",
      "Length: 155, dtype: int64\n"
     ]
    }
   ],
   "source": [
    "print(train_data_d.shape)\n",
    "print(test_data_d.isnull().sum())"
   ]
  },
  {
   "cell_type": "code",
   "execution_count": 18,
   "id": "536b6f3e",
   "metadata": {
    "execution": {
     "iopub.execute_input": "2022-02-11T16:27:18.839565Z",
     "iopub.status.busy": "2022-02-11T16:27:18.838882Z",
     "iopub.status.idle": "2022-02-11T16:27:19.841301Z",
     "shell.execute_reply": "2022-02-11T16:27:19.840697Z",
     "shell.execute_reply.started": "2022-02-11T16:26:30.301686Z"
    },
    "papermill": {
     "duration": 1.033563,
     "end_time": "2022-02-11T16:27:19.841454",
     "exception": false,
     "start_time": "2022-02-11T16:27:18.807891",
     "status": "completed"
    },
    "tags": []
   },
   "outputs": [],
   "source": [
    "# Import MinMaxScaler\n",
    "from sklearn.preprocessing import MinMaxScaler\n",
    "\n",
    "# Instantiate MinMaxScaler and use it to rescale X_train and X_test\n",
    "scaler = MinMaxScaler(feature_range=(0,1))\n",
    "train_data_rescaled = scaler.fit_transform(train_data_d)\n",
    "test_data_rescaled = scaler.fit_transform(test_data_d)"
   ]
  },
  {
   "cell_type": "code",
   "execution_count": null,
   "id": "eb3011c2",
   "metadata": {
    "papermill": {
     "duration": 0.027916,
     "end_time": "2022-02-11T16:27:19.898009",
     "exception": false,
     "start_time": "2022-02-11T16:27:19.870093",
     "status": "completed"
    },
    "tags": []
   },
   "outputs": [],
   "source": []
  },
  {
   "cell_type": "code",
   "execution_count": 19,
   "id": "4dc9804e",
   "metadata": {
    "execution": {
     "iopub.execute_input": "2022-02-11T16:27:19.963451Z",
     "iopub.status.busy": "2022-02-11T16:27:19.962761Z",
     "iopub.status.idle": "2022-02-11T16:27:19.965284Z",
     "shell.execute_reply": "2022-02-11T16:27:19.965740Z",
     "shell.execute_reply.started": "2022-02-11T16:26:30.887159Z"
    },
    "papermill": {
     "duration": 0.039502,
     "end_time": "2022-02-11T16:27:19.965899",
     "exception": false,
     "start_time": "2022-02-11T16:27:19.926397",
     "status": "completed"
    },
    "tags": []
   },
   "outputs": [
    {
     "data": {
      "text/plain": [
       "Pclass        0\n",
       "SibSp         0\n",
       "Parch         0\n",
       "Sex_female    0\n",
       "Sex_male      0\n",
       "             ..\n",
       "Cabin_G6      0\n",
       "Cabin_T       0\n",
       "Embarked_C    0\n",
       "Embarked_Q    0\n",
       "Embarked_S    0\n",
       "Length: 155, dtype: int64"
      ]
     },
     "execution_count": 19,
     "metadata": {},
     "output_type": "execute_result"
    }
   ],
   "source": [
    "train_data_d.isnull().sum()"
   ]
  },
  {
   "cell_type": "code",
   "execution_count": 20,
   "id": "040960c0",
   "metadata": {
    "execution": {
     "iopub.execute_input": "2022-02-11T16:27:20.027722Z",
     "iopub.status.busy": "2022-02-11T16:27:20.025899Z",
     "iopub.status.idle": "2022-02-11T16:27:20.185681Z",
     "shell.execute_reply": "2022-02-11T16:27:20.186466Z",
     "shell.execute_reply.started": "2022-02-11T16:26:31.096656Z"
    },
    "papermill": {
     "duration": 0.192607,
     "end_time": "2022-02-11T16:27:20.186754",
     "exception": false,
     "start_time": "2022-02-11T16:27:19.994147",
     "status": "completed"
    },
    "tags": []
   },
   "outputs": [
    {
     "data": {
      "text/plain": [
       "LogisticRegression()"
      ]
     },
     "execution_count": 20,
     "metadata": {},
     "output_type": "execute_result"
    }
   ],
   "source": [
    "# Import LogisticRegression\n",
    "from sklearn.linear_model import LogisticRegression\n",
    "\n",
    "# Instantiate a LogisticRegression classifier with default parameter values\n",
    "logreg = LogisticRegression()\n",
    "\n",
    "# Fit logreg to the train set\n",
    "logreg.fit(train_data_rescaled, y_train)"
   ]
  },
  {
   "cell_type": "code",
   "execution_count": 21,
   "id": "01fca1c6",
   "metadata": {
    "execution": {
     "iopub.execute_input": "2022-02-11T16:27:20.300208Z",
     "iopub.status.busy": "2022-02-11T16:27:20.299095Z",
     "iopub.status.idle": "2022-02-11T16:27:20.301848Z",
     "shell.execute_reply": "2022-02-11T16:27:20.301327Z",
     "shell.execute_reply.started": "2022-02-11T16:26:31.215621Z"
    },
    "papermill": {
     "duration": 0.062815,
     "end_time": "2022-02-11T16:27:20.301985",
     "exception": false,
     "start_time": "2022-02-11T16:27:20.239170",
     "status": "completed"
    },
    "tags": []
   },
   "outputs": [],
   "source": [
    "# Import GridSearchCV\n",
    "from sklearn.model_selection import GridSearchCV\n",
    "\n",
    "# Define the grid of values for tol and max_iter\n",
    "tol = [0.01,0.001,0.0001]\n",
    "max_iter = [100,150,200]\n",
    "\n",
    "# Create a dictionary where tol and max_iter are keys and the lists of their values are corresponding values\n",
    "param_grid = dict(tol=tol, max_iter=max_iter)"
   ]
  },
  {
   "cell_type": "code",
   "execution_count": 22,
   "id": "6f425475",
   "metadata": {
    "execution": {
     "iopub.execute_input": "2022-02-11T16:27:20.362463Z",
     "iopub.status.busy": "2022-02-11T16:27:20.361813Z",
     "iopub.status.idle": "2022-02-11T16:27:21.767259Z",
     "shell.execute_reply": "2022-02-11T16:27:21.768528Z",
     "shell.execute_reply.started": "2022-02-11T16:26:50.339757Z"
    },
    "papermill": {
     "duration": 1.438021,
     "end_time": "2022-02-11T16:27:21.768808",
     "exception": false,
     "start_time": "2022-02-11T16:27:20.330787",
     "status": "completed"
    },
    "tags": []
   },
   "outputs": [
    {
     "name": "stdout",
     "output_type": "stream",
     "text": [
      "Best: 0.782267 using {'max_iter': 100, 'tol': 0.01}\n",
      "LogisticRegression(tol=0.01)\n"
     ]
    }
   ],
   "source": [
    "# Instantiate GridSearchCV with the required parameters\n",
    "grid_model = GridSearchCV(estimator=logreg, param_grid=param_grid, cv=5)\n",
    "\n",
    "# Fit grid_model to the data\n",
    "grid_model_result = grid_model.fit(train_data_rescaled, y_train)\n",
    "\n",
    "# Summarize results\n",
    "best_score, best_params = grid_model_result.best_score_, grid_model_result.best_params_\n",
    "print(\"Best: %f using %s\" % (best_score, best_params))\n",
    "\n",
    "# Extract the best model and evaluate it on the test set\n",
    "best_model = grid_model_result.best_estimator_\n",
    "print(best_model)\n",
    "#print(\"Accuracy of logistic regression classifier: \", best_model.score(rescaledX_test,y_test))"
   ]
  },
  {
   "cell_type": "code",
   "execution_count": 23,
   "id": "5dabdaea",
   "metadata": {
    "execution": {
     "iopub.execute_input": "2022-02-11T16:27:21.883327Z",
     "iopub.status.busy": "2022-02-11T16:27:21.882234Z",
     "iopub.status.idle": "2022-02-11T16:27:21.896589Z",
     "shell.execute_reply": "2022-02-11T16:27:21.897910Z",
     "shell.execute_reply.started": "2022-02-11T16:26:51.807403Z"
    },
    "papermill": {
     "duration": 0.075547,
     "end_time": "2022-02-11T16:27:21.898212",
     "exception": false,
     "start_time": "2022-02-11T16:27:21.822665",
     "status": "completed"
    },
    "tags": []
   },
   "outputs": [
    {
     "name": "stdout",
     "output_type": "stream",
     "text": [
      "Your test submission was successfully saved!!\n"
     ]
    }
   ],
   "source": [
    "# Final for output\n",
    "predictions = best_model.predict(test_data_rescaled)\n",
    "\n",
    "output = pd.DataFrame({'PassengerId': test_data.PassengerId, 'Survived': predictions})\n",
    "\n",
    "output.to_csv('Submission-Logistic-Regression-Boolean.csv', index=False)\n",
    "print('Your test submission was successfully saved!!')"
   ]
  },
  {
   "cell_type": "code",
   "execution_count": null,
   "id": "675cbb6b",
   "metadata": {
    "papermill": {
     "duration": 0.052358,
     "end_time": "2022-02-11T16:27:22.005389",
     "exception": false,
     "start_time": "2022-02-11T16:27:21.953031",
     "status": "completed"
    },
    "tags": []
   },
   "outputs": [],
   "source": []
  },
  {
   "cell_type": "code",
   "execution_count": null,
   "id": "d87303a3",
   "metadata": {
    "papermill": {
     "duration": 0.029798,
     "end_time": "2022-02-11T16:27:22.065429",
     "exception": false,
     "start_time": "2022-02-11T16:27:22.035631",
     "status": "completed"
    },
    "tags": []
   },
   "outputs": [],
   "source": []
  },
  {
   "cell_type": "code",
   "execution_count": null,
   "id": "df9bd8c2",
   "metadata": {
    "papermill": {
     "duration": 0.029945,
     "end_time": "2022-02-11T16:27:22.125738",
     "exception": false,
     "start_time": "2022-02-11T16:27:22.095793",
     "status": "completed"
    },
    "tags": []
   },
   "outputs": [],
   "source": []
  }
 ],
 "metadata": {
  "kernelspec": {
   "display_name": "Python 3",
   "language": "python",
   "name": "python3"
  },
  "language_info": {
   "codemirror_mode": {
    "name": "ipython",
    "version": 3
   },
   "file_extension": ".py",
   "mimetype": "text/x-python",
   "name": "python",
   "nbconvert_exporter": "python",
   "pygments_lexer": "ipython3",
   "version": "3.7.12"
  },
  "papermill": {
   "default_parameters": {},
   "duration": 14.929121,
   "end_time": "2022-02-11T16:27:22.765021",
   "environment_variables": {},
   "exception": null,
   "input_path": "__notebook__.ipynb",
   "output_path": "__notebook__.ipynb",
   "parameters": {},
   "start_time": "2022-02-11T16:27:07.835900",
   "version": "2.3.3"
  }
 },
 "nbformat": 4,
 "nbformat_minor": 5
}
