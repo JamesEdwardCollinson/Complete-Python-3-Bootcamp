{
 "cells": [
  {
   "cell_type": "code",
   "execution_count": 1,
   "id": "2002767c",
   "metadata": {
    "_cell_guid": "b1076dfc-b9ad-4769-8c92-a6c4dae69d19",
    "_uuid": "8f2839f25d086af736a60e9eeb907d3b93b6e0e5",
    "execution": {
     "iopub.execute_input": "2022-02-11T16:58:20.701288Z",
     "iopub.status.busy": "2022-02-11T16:58:20.700234Z",
     "iopub.status.idle": "2022-02-11T16:58:20.711465Z",
     "shell.execute_reply": "2022-02-11T16:58:20.710761Z",
     "shell.execute_reply.started": "2022-02-11T16:57:45.758703Z"
    },
    "papermill": {
     "duration": 0.035691,
     "end_time": "2022-02-11T16:58:20.711628",
     "exception": false,
     "start_time": "2022-02-11T16:58:20.675937",
     "status": "completed"
    },
    "tags": []
   },
   "outputs": [
    {
     "name": "stdout",
     "output_type": "stream",
     "text": [
      "/kaggle/input/titanic/train.csv\n",
      "/kaggle/input/titanic/test.csv\n",
      "/kaggle/input/titanic/gender_submission.csv\n"
     ]
    }
   ],
   "source": [
    "# This Python 3 environment comes with many helpful analytics libraries installed\n",
    "# It is defined by the kaggle/python Docker image: https://github.com/kaggle/docker-python\n",
    "# For example, here's several helpful packages to load\n",
    "\n",
    "import numpy as np # linear algebra\n",
    "import pandas as pd # data processing, CSV file I/O (e.g. pd.read_csv)\n",
    "\n",
    "# Input data files are available in the read-only \"../input/\" directory\n",
    "# For example, running this (by clicking run or pressing Shift+Enter) will list all files under the input directory\n",
    "\n",
    "import os\n",
    "for dirname, _, filenames in os.walk('/kaggle/input'):\n",
    "    for filename in filenames:\n",
    "        print(os.path.join(dirname, filename))\n",
    "\n",
    "# You can write up to 20GB to the current directory (/kaggle/working/) that gets preserved as output when you create a version using \"Save & Run All\" \n",
    "# You can also write temporary files to /kaggle/temp/, but they won't be saved outside of the current session"
   ]
  },
  {
   "cell_type": "code",
   "execution_count": 2,
   "id": "e932f584",
   "metadata": {
    "execution": {
     "iopub.execute_input": "2022-02-11T16:58:20.758751Z",
     "iopub.status.busy": "2022-02-11T16:58:20.757650Z",
     "iopub.status.idle": "2022-02-11T16:58:20.799514Z",
     "shell.execute_reply": "2022-02-11T16:58:20.800010Z",
     "shell.execute_reply.started": "2022-02-11T16:57:46.337164Z"
    },
    "papermill": {
     "duration": 0.067931,
     "end_time": "2022-02-11T16:58:20.800220",
     "exception": false,
     "start_time": "2022-02-11T16:58:20.732289",
     "status": "completed"
    },
    "tags": []
   },
   "outputs": [
    {
     "data": {
      "text/html": [
       "<div>\n",
       "<style scoped>\n",
       "    .dataframe tbody tr th:only-of-type {\n",
       "        vertical-align: middle;\n",
       "    }\n",
       "\n",
       "    .dataframe tbody tr th {\n",
       "        vertical-align: top;\n",
       "    }\n",
       "\n",
       "    .dataframe thead th {\n",
       "        text-align: right;\n",
       "    }\n",
       "</style>\n",
       "<table border=\"1\" class=\"dataframe\">\n",
       "  <thead>\n",
       "    <tr style=\"text-align: right;\">\n",
       "      <th></th>\n",
       "      <th>PassengerId</th>\n",
       "      <th>Survived</th>\n",
       "      <th>Pclass</th>\n",
       "      <th>Name</th>\n",
       "      <th>Sex</th>\n",
       "      <th>Age</th>\n",
       "      <th>SibSp</th>\n",
       "      <th>Parch</th>\n",
       "      <th>Ticket</th>\n",
       "      <th>Fare</th>\n",
       "      <th>Cabin</th>\n",
       "      <th>Embarked</th>\n",
       "    </tr>\n",
       "  </thead>\n",
       "  <tbody>\n",
       "    <tr>\n",
       "      <th>0</th>\n",
       "      <td>1</td>\n",
       "      <td>0</td>\n",
       "      <td>3</td>\n",
       "      <td>Braund, Mr. Owen Harris</td>\n",
       "      <td>male</td>\n",
       "      <td>22.0</td>\n",
       "      <td>1</td>\n",
       "      <td>0</td>\n",
       "      <td>A/5 21171</td>\n",
       "      <td>7.2500</td>\n",
       "      <td>NaN</td>\n",
       "      <td>S</td>\n",
       "    </tr>\n",
       "    <tr>\n",
       "      <th>1</th>\n",
       "      <td>2</td>\n",
       "      <td>1</td>\n",
       "      <td>1</td>\n",
       "      <td>Cumings, Mrs. John Bradley (Florence Briggs Th...</td>\n",
       "      <td>female</td>\n",
       "      <td>38.0</td>\n",
       "      <td>1</td>\n",
       "      <td>0</td>\n",
       "      <td>PC 17599</td>\n",
       "      <td>71.2833</td>\n",
       "      <td>C85</td>\n",
       "      <td>C</td>\n",
       "    </tr>\n",
       "    <tr>\n",
       "      <th>2</th>\n",
       "      <td>3</td>\n",
       "      <td>1</td>\n",
       "      <td>3</td>\n",
       "      <td>Heikkinen, Miss. Laina</td>\n",
       "      <td>female</td>\n",
       "      <td>26.0</td>\n",
       "      <td>0</td>\n",
       "      <td>0</td>\n",
       "      <td>STON/O2. 3101282</td>\n",
       "      <td>7.9250</td>\n",
       "      <td>NaN</td>\n",
       "      <td>S</td>\n",
       "    </tr>\n",
       "    <tr>\n",
       "      <th>3</th>\n",
       "      <td>4</td>\n",
       "      <td>1</td>\n",
       "      <td>1</td>\n",
       "      <td>Futrelle, Mrs. Jacques Heath (Lily May Peel)</td>\n",
       "      <td>female</td>\n",
       "      <td>35.0</td>\n",
       "      <td>1</td>\n",
       "      <td>0</td>\n",
       "      <td>113803</td>\n",
       "      <td>53.1000</td>\n",
       "      <td>C123</td>\n",
       "      <td>S</td>\n",
       "    </tr>\n",
       "    <tr>\n",
       "      <th>4</th>\n",
       "      <td>5</td>\n",
       "      <td>0</td>\n",
       "      <td>3</td>\n",
       "      <td>Allen, Mr. William Henry</td>\n",
       "      <td>male</td>\n",
       "      <td>35.0</td>\n",
       "      <td>0</td>\n",
       "      <td>0</td>\n",
       "      <td>373450</td>\n",
       "      <td>8.0500</td>\n",
       "      <td>NaN</td>\n",
       "      <td>S</td>\n",
       "    </tr>\n",
       "  </tbody>\n",
       "</table>\n",
       "</div>"
      ],
      "text/plain": [
       "   PassengerId  Survived  Pclass  \\\n",
       "0            1         0       3   \n",
       "1            2         1       1   \n",
       "2            3         1       3   \n",
       "3            4         1       1   \n",
       "4            5         0       3   \n",
       "\n",
       "                                                Name     Sex   Age  SibSp  \\\n",
       "0                            Braund, Mr. Owen Harris    male  22.0      1   \n",
       "1  Cumings, Mrs. John Bradley (Florence Briggs Th...  female  38.0      1   \n",
       "2                             Heikkinen, Miss. Laina  female  26.0      0   \n",
       "3       Futrelle, Mrs. Jacques Heath (Lily May Peel)  female  35.0      1   \n",
       "4                           Allen, Mr. William Henry    male  35.0      0   \n",
       "\n",
       "   Parch            Ticket     Fare Cabin Embarked  \n",
       "0      0         A/5 21171   7.2500   NaN        S  \n",
       "1      0          PC 17599  71.2833   C85        C  \n",
       "2      0  STON/O2. 3101282   7.9250   NaN        S  \n",
       "3      0            113803  53.1000  C123        S  \n",
       "4      0            373450   8.0500   NaN        S  "
      ]
     },
     "execution_count": 2,
     "metadata": {},
     "output_type": "execute_result"
    }
   ],
   "source": [
    "train_data = pd.read_csv('/kaggle/input/titanic/train.csv')\n",
    "train_data.head()"
   ]
  },
  {
   "cell_type": "code",
   "execution_count": 3,
   "id": "6207c5f8",
   "metadata": {
    "execution": {
     "iopub.execute_input": "2022-02-11T16:58:20.848477Z",
     "iopub.status.busy": "2022-02-11T16:58:20.847834Z",
     "iopub.status.idle": "2022-02-11T16:58:20.851145Z",
     "shell.execute_reply": "2022-02-11T16:58:20.850538Z",
     "shell.execute_reply.started": "2022-02-11T16:57:46.434153Z"
    },
    "papermill": {
     "duration": 0.029768,
     "end_time": "2022-02-11T16:58:20.851282",
     "exception": false,
     "start_time": "2022-02-11T16:58:20.821514",
     "status": "completed"
    },
    "tags": []
   },
   "outputs": [
    {
     "data": {
      "text/plain": [
       "(891, 12)"
      ]
     },
     "execution_count": 3,
     "metadata": {},
     "output_type": "execute_result"
    }
   ],
   "source": [
    "train_data.shape"
   ]
  },
  {
   "cell_type": "code",
   "execution_count": 4,
   "id": "69d455ff",
   "metadata": {
    "execution": {
     "iopub.execute_input": "2022-02-11T16:58:20.902445Z",
     "iopub.status.busy": "2022-02-11T16:58:20.901505Z",
     "iopub.status.idle": "2022-02-11T16:58:20.908733Z",
     "shell.execute_reply": "2022-02-11T16:58:20.908169Z",
     "shell.execute_reply.started": "2022-02-11T16:57:46.561315Z"
    },
    "papermill": {
     "duration": 0.037225,
     "end_time": "2022-02-11T16:58:20.908909",
     "exception": false,
     "start_time": "2022-02-11T16:58:20.871684",
     "status": "completed"
    },
    "tags": []
   },
   "outputs": [
    {
     "data": {
      "text/plain": [
       "347082      7\n",
       "CA. 2343    7\n",
       "1601        7\n",
       "3101295     6\n",
       "CA 2144     6\n",
       "           ..\n",
       "9234        1\n",
       "19988       1\n",
       "2693        1\n",
       "PC 17612    1\n",
       "370376      1\n",
       "Name: Ticket, Length: 681, dtype: int64"
      ]
     },
     "execution_count": 4,
     "metadata": {},
     "output_type": "execute_result"
    }
   ],
   "source": [
    "train_data.Ticket.value_counts()"
   ]
  },
  {
   "cell_type": "code",
   "execution_count": 5,
   "id": "92ae2c14",
   "metadata": {
    "execution": {
     "iopub.execute_input": "2022-02-11T16:58:20.958423Z",
     "iopub.status.busy": "2022-02-11T16:58:20.955433Z",
     "iopub.status.idle": "2022-02-11T16:58:20.961984Z",
     "shell.execute_reply": "2022-02-11T16:58:20.962412Z",
     "shell.execute_reply.started": "2022-02-11T16:57:46.667483Z"
    },
    "papermill": {
     "duration": 0.032059,
     "end_time": "2022-02-11T16:58:20.962587",
     "exception": false,
     "start_time": "2022-02-11T16:58:20.930528",
     "status": "completed"
    },
    "tags": []
   },
   "outputs": [
    {
     "data": {
      "text/plain": [
       "B96 B98        4\n",
       "G6             4\n",
       "C23 C25 C27    4\n",
       "C22 C26        3\n",
       "F33            3\n",
       "              ..\n",
       "E34            1\n",
       "C7             1\n",
       "C54            1\n",
       "E36            1\n",
       "C148           1\n",
       "Name: Cabin, Length: 147, dtype: int64"
      ]
     },
     "execution_count": 5,
     "metadata": {},
     "output_type": "execute_result"
    }
   ],
   "source": [
    "train_data.Cabin.value_counts()"
   ]
  },
  {
   "cell_type": "code",
   "execution_count": 6,
   "id": "3013cb06",
   "metadata": {
    "execution": {
     "iopub.execute_input": "2022-02-11T16:58:21.010292Z",
     "iopub.status.busy": "2022-02-11T16:58:21.009581Z",
     "iopub.status.idle": "2022-02-11T16:58:21.018931Z",
     "shell.execute_reply": "2022-02-11T16:58:21.019446Z",
     "shell.execute_reply.started": "2022-02-11T16:57:46.762195Z"
    },
    "papermill": {
     "duration": 0.03593,
     "end_time": "2022-02-11T16:58:21.019619",
     "exception": false,
     "start_time": "2022-02-11T16:58:20.983689",
     "status": "completed"
    },
    "tags": []
   },
   "outputs": [],
   "source": [
    "test_data = pd.read_csv('/kaggle/input/titanic/test.csv')"
   ]
  },
  {
   "cell_type": "code",
   "execution_count": 7,
   "id": "d04c3d2b",
   "metadata": {
    "execution": {
     "iopub.execute_input": "2022-02-11T16:58:21.067321Z",
     "iopub.status.busy": "2022-02-11T16:58:21.066629Z",
     "iopub.status.idle": "2022-02-11T16:58:21.078861Z",
     "shell.execute_reply": "2022-02-11T16:58:21.078359Z",
     "shell.execute_reply.started": "2022-02-11T16:57:46.857987Z"
    },
    "papermill": {
     "duration": 0.038427,
     "end_time": "2022-02-11T16:58:21.078998",
     "exception": false,
     "start_time": "2022-02-11T16:58:21.040571",
     "status": "completed"
    },
    "tags": []
   },
   "outputs": [
    {
     "data": {
      "text/html": [
       "<div>\n",
       "<style scoped>\n",
       "    .dataframe tbody tr th:only-of-type {\n",
       "        vertical-align: middle;\n",
       "    }\n",
       "\n",
       "    .dataframe tbody tr th {\n",
       "        vertical-align: top;\n",
       "    }\n",
       "\n",
       "    .dataframe thead th {\n",
       "        text-align: right;\n",
       "    }\n",
       "</style>\n",
       "<table border=\"1\" class=\"dataframe\">\n",
       "  <thead>\n",
       "    <tr style=\"text-align: right;\">\n",
       "      <th></th>\n",
       "      <th>PassengerId</th>\n",
       "      <th>Pclass</th>\n",
       "      <th>Name</th>\n",
       "      <th>Sex</th>\n",
       "      <th>Age</th>\n",
       "      <th>SibSp</th>\n",
       "      <th>Parch</th>\n",
       "      <th>Ticket</th>\n",
       "      <th>Fare</th>\n",
       "      <th>Cabin</th>\n",
       "      <th>Embarked</th>\n",
       "    </tr>\n",
       "  </thead>\n",
       "  <tbody>\n",
       "    <tr>\n",
       "      <th>0</th>\n",
       "      <td>892</td>\n",
       "      <td>3</td>\n",
       "      <td>Kelly, Mr. James</td>\n",
       "      <td>male</td>\n",
       "      <td>34.5</td>\n",
       "      <td>0</td>\n",
       "      <td>0</td>\n",
       "      <td>330911</td>\n",
       "      <td>7.8292</td>\n",
       "      <td>NaN</td>\n",
       "      <td>Q</td>\n",
       "    </tr>\n",
       "    <tr>\n",
       "      <th>1</th>\n",
       "      <td>893</td>\n",
       "      <td>3</td>\n",
       "      <td>Wilkes, Mrs. James (Ellen Needs)</td>\n",
       "      <td>female</td>\n",
       "      <td>47.0</td>\n",
       "      <td>1</td>\n",
       "      <td>0</td>\n",
       "      <td>363272</td>\n",
       "      <td>7.0000</td>\n",
       "      <td>NaN</td>\n",
       "      <td>S</td>\n",
       "    </tr>\n",
       "    <tr>\n",
       "      <th>2</th>\n",
       "      <td>894</td>\n",
       "      <td>2</td>\n",
       "      <td>Myles, Mr. Thomas Francis</td>\n",
       "      <td>male</td>\n",
       "      <td>62.0</td>\n",
       "      <td>0</td>\n",
       "      <td>0</td>\n",
       "      <td>240276</td>\n",
       "      <td>9.6875</td>\n",
       "      <td>NaN</td>\n",
       "      <td>Q</td>\n",
       "    </tr>\n",
       "    <tr>\n",
       "      <th>3</th>\n",
       "      <td>895</td>\n",
       "      <td>3</td>\n",
       "      <td>Wirz, Mr. Albert</td>\n",
       "      <td>male</td>\n",
       "      <td>27.0</td>\n",
       "      <td>0</td>\n",
       "      <td>0</td>\n",
       "      <td>315154</td>\n",
       "      <td>8.6625</td>\n",
       "      <td>NaN</td>\n",
       "      <td>S</td>\n",
       "    </tr>\n",
       "    <tr>\n",
       "      <th>4</th>\n",
       "      <td>896</td>\n",
       "      <td>3</td>\n",
       "      <td>Hirvonen, Mrs. Alexander (Helga E Lindqvist)</td>\n",
       "      <td>female</td>\n",
       "      <td>22.0</td>\n",
       "      <td>1</td>\n",
       "      <td>1</td>\n",
       "      <td>3101298</td>\n",
       "      <td>12.2875</td>\n",
       "      <td>NaN</td>\n",
       "      <td>S</td>\n",
       "    </tr>\n",
       "  </tbody>\n",
       "</table>\n",
       "</div>"
      ],
      "text/plain": [
       "   PassengerId  Pclass                                          Name     Sex  \\\n",
       "0          892       3                              Kelly, Mr. James    male   \n",
       "1          893       3              Wilkes, Mrs. James (Ellen Needs)  female   \n",
       "2          894       2                     Myles, Mr. Thomas Francis    male   \n",
       "3          895       3                              Wirz, Mr. Albert    male   \n",
       "4          896       3  Hirvonen, Mrs. Alexander (Helga E Lindqvist)  female   \n",
       "\n",
       "    Age  SibSp  Parch   Ticket     Fare Cabin Embarked  \n",
       "0  34.5      0      0   330911   7.8292   NaN        Q  \n",
       "1  47.0      1      0   363272   7.0000   NaN        S  \n",
       "2  62.0      0      0   240276   9.6875   NaN        Q  \n",
       "3  27.0      0      0   315154   8.6625   NaN        S  \n",
       "4  22.0      1      1  3101298  12.2875   NaN        S  "
      ]
     },
     "execution_count": 7,
     "metadata": {},
     "output_type": "execute_result"
    }
   ],
   "source": [
    "test_data.head()"
   ]
  },
  {
   "cell_type": "code",
   "execution_count": 8,
   "id": "2078c76a",
   "metadata": {
    "execution": {
     "iopub.execute_input": "2022-02-11T16:58:21.133920Z",
     "iopub.status.busy": "2022-02-11T16:58:21.133298Z",
     "iopub.status.idle": "2022-02-11T16:58:21.136080Z",
     "shell.execute_reply": "2022-02-11T16:58:21.135519Z",
     "shell.execute_reply.started": "2022-02-11T16:57:46.938111Z"
    },
    "papermill": {
     "duration": 0.034038,
     "end_time": "2022-02-11T16:58:21.136237",
     "exception": false,
     "start_time": "2022-02-11T16:58:21.102199",
     "status": "completed"
    },
    "tags": []
   },
   "outputs": [
    {
     "name": "stdout",
     "output_type": "stream",
     "text": [
      "The percent of women who survived was 0.7420382165605095\n"
     ]
    }
   ],
   "source": [
    "women = train_data.loc[train_data['Sex']=='female']['Survived']\n",
    "rate_women = sum(women)/len(women)\n",
    "\n",
    "print('The percent of women who survived was ' + str(rate_women))"
   ]
  },
  {
   "cell_type": "code",
   "execution_count": 9,
   "id": "f7b4c933",
   "metadata": {
    "execution": {
     "iopub.execute_input": "2022-02-11T16:58:21.187199Z",
     "iopub.status.busy": "2022-02-11T16:58:21.186246Z",
     "iopub.status.idle": "2022-02-11T16:58:21.189183Z",
     "shell.execute_reply": "2022-02-11T16:58:21.189629Z",
     "shell.execute_reply.started": "2022-02-11T16:57:47.049410Z"
    },
    "papermill": {
     "duration": 0.031823,
     "end_time": "2022-02-11T16:58:21.189795",
     "exception": false,
     "start_time": "2022-02-11T16:58:21.157972",
     "status": "completed"
    },
    "tags": []
   },
   "outputs": [
    {
     "name": "stdout",
     "output_type": "stream",
     "text": [
      "The percent of men who survived was 0.18890814558058924\n"
     ]
    }
   ],
   "source": [
    "men = train_data.loc[train_data.Sex == 'male']['Survived']\n",
    "rate_men = sum(men)/len(men)\n",
    "\n",
    "print('The percent of men who survived was ' + str(rate_men))"
   ]
  },
  {
   "cell_type": "code",
   "execution_count": 10,
   "id": "a861ea7a",
   "metadata": {
    "execution": {
     "iopub.execute_input": "2022-02-11T16:58:21.241206Z",
     "iopub.status.busy": "2022-02-11T16:58:21.240577Z",
     "iopub.status.idle": "2022-02-11T16:58:21.242793Z",
     "shell.execute_reply": "2022-02-11T16:58:21.243239Z",
     "shell.execute_reply.started": "2022-02-11T16:57:47.139086Z"
    },
    "papermill": {
     "duration": 0.03088,
     "end_time": "2022-02-11T16:58:21.243418",
     "exception": false,
     "start_time": "2022-02-11T16:58:21.212538",
     "status": "completed"
    },
    "tags": []
   },
   "outputs": [
    {
     "name": "stdout",
     "output_type": "stream",
     "text": [
      "The percent of children who survived was 0.5398230088495575\n"
     ]
    }
   ],
   "source": [
    "children = train_data.loc[train_data['Age']<18]['Survived']\n",
    "rate_children = sum(children)/len(children)\n",
    "\n",
    "print('The percent of children who survived was ' + str(rate_children))"
   ]
  },
  {
   "cell_type": "code",
   "execution_count": 11,
   "id": "df094334",
   "metadata": {
    "execution": {
     "iopub.execute_input": "2022-02-11T16:58:21.291256Z",
     "iopub.status.busy": "2022-02-11T16:58:21.290591Z",
     "iopub.status.idle": "2022-02-11T16:58:21.296923Z",
     "shell.execute_reply": "2022-02-11T16:58:21.297410Z",
     "shell.execute_reply.started": "2022-02-11T16:57:47.233689Z"
    },
    "papermill": {
     "duration": 0.031619,
     "end_time": "2022-02-11T16:58:21.297589",
     "exception": false,
     "start_time": "2022-02-11T16:58:21.265970",
     "status": "completed"
    },
    "tags": []
   },
   "outputs": [
    {
     "name": "stdout",
     "output_type": "stream",
     "text": [
      "The percent of adults who survived was 0.3810316139767055\n"
     ]
    }
   ],
   "source": [
    "adults = train_data.loc[train_data['Age']>=18]['Survived']\n",
    "rate_adults = sum(adults)/len(adults)\n",
    "\n",
    "print('The percent of adults who survived was ' + str(rate_adults))"
   ]
  },
  {
   "cell_type": "code",
   "execution_count": null,
   "id": "99354164",
   "metadata": {
    "papermill": {
     "duration": 0.022925,
     "end_time": "2022-02-11T16:58:21.343369",
     "exception": false,
     "start_time": "2022-02-11T16:58:21.320444",
     "status": "completed"
    },
    "tags": []
   },
   "outputs": [],
   "source": []
  },
  {
   "cell_type": "code",
   "execution_count": null,
   "id": "c50b9c9c",
   "metadata": {
    "papermill": {
     "duration": 0.022152,
     "end_time": "2022-02-11T16:58:21.388394",
     "exception": false,
     "start_time": "2022-02-11T16:58:21.366242",
     "status": "completed"
    },
    "tags": []
   },
   "outputs": [],
   "source": []
  },
  {
   "cell_type": "markdown",
   "id": "1a851c91",
   "metadata": {
    "papermill": {
     "duration": 0.022166,
     "end_time": "2022-02-11T16:58:21.433002",
     "exception": false,
     "start_time": "2022-02-11T16:58:21.410836",
     "status": "completed"
    },
    "tags": []
   },
   "source": []
  },
  {
   "cell_type": "markdown",
   "id": "5203506c",
   "metadata": {
    "papermill": {
     "duration": 0.022106,
     "end_time": "2022-02-11T16:58:21.477747",
     "exception": false,
     "start_time": "2022-02-11T16:58:21.455641",
     "status": "completed"
    },
    "tags": []
   },
   "source": []
  },
  {
   "cell_type": "code",
   "execution_count": 12,
   "id": "4e6cf60d",
   "metadata": {
    "execution": {
     "iopub.execute_input": "2022-02-11T16:58:21.529966Z",
     "iopub.status.busy": "2022-02-11T16:58:21.529367Z",
     "iopub.status.idle": "2022-02-11T16:58:21.531967Z",
     "shell.execute_reply": "2022-02-11T16:58:21.532522Z",
     "shell.execute_reply.started": "2022-02-11T16:57:47.743513Z"
    },
    "papermill": {
     "duration": 0.032499,
     "end_time": "2022-02-11T16:58:21.532684",
     "exception": false,
     "start_time": "2022-02-11T16:58:21.500185",
     "status": "completed"
    },
    "tags": []
   },
   "outputs": [
    {
     "data": {
      "text/plain": [
       "B96 B98        4\n",
       "G6             4\n",
       "C23 C25 C27    4\n",
       "C22 C26        3\n",
       "F33            3\n",
       "              ..\n",
       "E34            1\n",
       "C7             1\n",
       "C54            1\n",
       "E36            1\n",
       "C148           1\n",
       "Name: Cabin, Length: 147, dtype: int64"
      ]
     },
     "execution_count": 12,
     "metadata": {},
     "output_type": "execute_result"
    }
   ],
   "source": [
    "train_data.Cabin.value_counts()"
   ]
  },
  {
   "cell_type": "code",
   "execution_count": 13,
   "id": "82d84dda",
   "metadata": {
    "execution": {
     "iopub.execute_input": "2022-02-11T16:58:21.585080Z",
     "iopub.status.busy": "2022-02-11T16:58:21.584471Z",
     "iopub.status.idle": "2022-02-11T16:58:21.587989Z",
     "shell.execute_reply": "2022-02-11T16:58:21.588545Z",
     "shell.execute_reply.started": "2022-02-11T16:57:47.842615Z"
    },
    "papermill": {
     "duration": 0.033235,
     "end_time": "2022-02-11T16:58:21.588710",
     "exception": false,
     "start_time": "2022-02-11T16:58:21.555475",
     "status": "completed"
    },
    "tags": []
   },
   "outputs": [],
   "source": [
    "train_data['HasCabin'] = np.where(train_data.Cabin.isnull() == True, False, True)\n",
    "test_data['HasCabin'] = np.where(test_data.Cabin.isnull() == True, False, True)"
   ]
  },
  {
   "cell_type": "code",
   "execution_count": 14,
   "id": "0ee99b27",
   "metadata": {
    "execution": {
     "iopub.execute_input": "2022-02-11T16:58:21.638301Z",
     "iopub.status.busy": "2022-02-11T16:58:21.637644Z",
     "iopub.status.idle": "2022-02-11T16:58:21.643661Z",
     "shell.execute_reply": "2022-02-11T16:58:21.643075Z",
     "shell.execute_reply.started": "2022-02-11T16:57:47.939527Z"
    },
    "papermill": {
     "duration": 0.031684,
     "end_time": "2022-02-11T16:58:21.643795",
     "exception": false,
     "start_time": "2022-02-11T16:58:21.612111",
     "status": "completed"
    },
    "tags": []
   },
   "outputs": [
    {
     "data": {
      "text/plain": [
       "204"
      ]
     },
     "execution_count": 14,
     "metadata": {},
     "output_type": "execute_result"
    }
   ],
   "source": [
    "train_data.HasCabin.sum()"
   ]
  },
  {
   "cell_type": "code",
   "execution_count": 15,
   "id": "9a6f06b7",
   "metadata": {
    "execution": {
     "iopub.execute_input": "2022-02-11T16:58:21.696945Z",
     "iopub.status.busy": "2022-02-11T16:58:21.696325Z",
     "iopub.status.idle": "2022-02-11T16:58:21.699309Z",
     "shell.execute_reply": "2022-02-11T16:58:21.698771Z",
     "shell.execute_reply.started": "2022-02-11T16:57:48.038990Z"
    },
    "papermill": {
     "duration": 0.032624,
     "end_time": "2022-02-11T16:58:21.699453",
     "exception": false,
     "start_time": "2022-02-11T16:58:21.666829",
     "status": "completed"
    },
    "tags": []
   },
   "outputs": [],
   "source": [
    "features = ['Pclass', 'Sex', 'Age', 'SibSp', 'Parch', 'Fare', 'Embarked']\n",
    "\n",
    "y_train = train_data['Survived']\n",
    "train_data1 = train_data[features]\n",
    "test_data1 = test_data[features]"
   ]
  },
  {
   "cell_type": "code",
   "execution_count": 16,
   "id": "b16e36d1",
   "metadata": {
    "execution": {
     "iopub.execute_input": "2022-02-11T16:58:21.748821Z",
     "iopub.status.busy": "2022-02-11T16:58:21.748195Z",
     "iopub.status.idle": "2022-02-11T16:58:21.767954Z",
     "shell.execute_reply": "2022-02-11T16:58:21.768458Z",
     "shell.execute_reply.started": "2022-02-11T16:57:48.142908Z"
    },
    "papermill": {
     "duration": 0.046137,
     "end_time": "2022-02-11T16:58:21.768625",
     "exception": false,
     "start_time": "2022-02-11T16:58:21.722488",
     "status": "completed"
    },
    "tags": []
   },
   "outputs": [],
   "source": [
    "# Convert the categorical features in the train and test sets independently\n",
    "train_data_d = pd.get_dummies(train_data1)\n",
    "test_data_d = pd.get_dummies(test_data1)\n",
    "\n",
    "# Replace all missing values in age & Fare with mean value\n",
    "train_data_d['Age'] = train_data_d['Age'].fillna(train_data_d['Age'].median())\n",
    "test_data_d['Age'] = test_data_d['Age'].fillna(test_data_d['Age'].median())\n",
    "train_data_d['Fare'] = train_data_d['Fare'].fillna(train_data_d['Fare'].median())\n",
    "test_data_d['Fare'] = test_data_d['Fare'].fillna(test_data_d['Fare'].median())\n",
    "\n",
    "\n",
    "# Reindex the columns of the test set aligning with the train set\n",
    "test_data_d = test_data_d.reindex(columns=train_data_d.columns, fill_value=0)"
   ]
  },
  {
   "cell_type": "code",
   "execution_count": 17,
   "id": "efa2d10a",
   "metadata": {
    "execution": {
     "iopub.execute_input": "2022-02-11T16:58:21.817020Z",
     "iopub.status.busy": "2022-02-11T16:58:21.816432Z",
     "iopub.status.idle": "2022-02-11T16:58:21.824735Z",
     "shell.execute_reply": "2022-02-11T16:58:21.824281Z",
     "shell.execute_reply.started": "2022-02-11T16:57:48.243092Z"
    },
    "papermill": {
     "duration": 0.033451,
     "end_time": "2022-02-11T16:58:21.824923",
     "exception": false,
     "start_time": "2022-02-11T16:58:21.791472",
     "status": "completed"
    },
    "tags": []
   },
   "outputs": [
    {
     "name": "stdout",
     "output_type": "stream",
     "text": [
      "(891, 10)\n",
      "Pclass        0\n",
      "Age           0\n",
      "SibSp         0\n",
      "Parch         0\n",
      "Fare          0\n",
      "Sex_female    0\n",
      "Sex_male      0\n",
      "Embarked_C    0\n",
      "Embarked_Q    0\n",
      "Embarked_S    0\n",
      "dtype: int64\n"
     ]
    }
   ],
   "source": [
    "print(train_data_d.shape)\n",
    "print(test_data_d.isnull().sum())"
   ]
  },
  {
   "cell_type": "code",
   "execution_count": 18,
   "id": "4eb4ca59",
   "metadata": {
    "execution": {
     "iopub.execute_input": "2022-02-11T16:58:21.874461Z",
     "iopub.status.busy": "2022-02-11T16:58:21.873867Z",
     "iopub.status.idle": "2022-02-11T16:58:22.903064Z",
     "shell.execute_reply": "2022-02-11T16:58:22.902487Z",
     "shell.execute_reply.started": "2022-02-11T16:57:48.343418Z"
    },
    "papermill": {
     "duration": 1.054903,
     "end_time": "2022-02-11T16:58:22.903235",
     "exception": false,
     "start_time": "2022-02-11T16:58:21.848332",
     "status": "completed"
    },
    "tags": []
   },
   "outputs": [],
   "source": [
    "# Import MinMaxScaler\n",
    "from sklearn.preprocessing import MinMaxScaler\n",
    "\n",
    "# Instantiate MinMaxScaler and use it to rescale X_train and X_test\n",
    "scaler = MinMaxScaler(feature_range=(0,1))\n",
    "train_data_rescaled = scaler.fit_transform(train_data_d)\n",
    "test_data_rescaled = scaler.fit_transform(test_data_d)"
   ]
  },
  {
   "cell_type": "code",
   "execution_count": null,
   "id": "a362c411",
   "metadata": {
    "papermill": {
     "duration": 0.022862,
     "end_time": "2022-02-11T16:58:22.950052",
     "exception": false,
     "start_time": "2022-02-11T16:58:22.927190",
     "status": "completed"
    },
    "tags": []
   },
   "outputs": [],
   "source": []
  },
  {
   "cell_type": "code",
   "execution_count": 19,
   "id": "7e77625f",
   "metadata": {
    "execution": {
     "iopub.execute_input": "2022-02-11T16:58:23.005382Z",
     "iopub.status.busy": "2022-02-11T16:58:23.000171Z",
     "iopub.status.idle": "2022-02-11T16:58:23.008257Z",
     "shell.execute_reply": "2022-02-11T16:58:23.008661Z",
     "shell.execute_reply.started": "2022-02-11T16:57:48.546293Z"
    },
    "papermill": {
     "duration": 0.035386,
     "end_time": "2022-02-11T16:58:23.008849",
     "exception": false,
     "start_time": "2022-02-11T16:58:22.973463",
     "status": "completed"
    },
    "tags": []
   },
   "outputs": [
    {
     "data": {
      "text/plain": [
       "Pclass        0\n",
       "Age           0\n",
       "SibSp         0\n",
       "Parch         0\n",
       "Fare          0\n",
       "Sex_female    0\n",
       "Sex_male      0\n",
       "Embarked_C    0\n",
       "Embarked_Q    0\n",
       "Embarked_S    0\n",
       "dtype: int64"
      ]
     },
     "execution_count": 19,
     "metadata": {},
     "output_type": "execute_result"
    }
   ],
   "source": [
    "train_data_d.isnull().sum()"
   ]
  },
  {
   "cell_type": "code",
   "execution_count": 20,
   "id": "baa24f4a",
   "metadata": {
    "execution": {
     "iopub.execute_input": "2022-02-11T16:58:23.061364Z",
     "iopub.status.busy": "2022-02-11T16:58:23.060590Z",
     "iopub.status.idle": "2022-02-11T16:58:23.210671Z",
     "shell.execute_reply": "2022-02-11T16:58:23.211081Z",
     "shell.execute_reply.started": "2022-02-11T16:57:48.654157Z"
    },
    "papermill": {
     "duration": 0.178538,
     "end_time": "2022-02-11T16:58:23.211270",
     "exception": false,
     "start_time": "2022-02-11T16:58:23.032732",
     "status": "completed"
    },
    "tags": []
   },
   "outputs": [
    {
     "data": {
      "text/plain": [
       "LogisticRegression()"
      ]
     },
     "execution_count": 20,
     "metadata": {},
     "output_type": "execute_result"
    }
   ],
   "source": [
    "# Import LogisticRegression\n",
    "from sklearn.linear_model import LogisticRegression\n",
    "\n",
    "# Instantiate a LogisticRegression classifier with default parameter values\n",
    "logreg = LogisticRegression()\n",
    "\n",
    "# Fit logreg to the train set\n",
    "logreg.fit(train_data_rescaled, y_train)"
   ]
  },
  {
   "cell_type": "code",
   "execution_count": 21,
   "id": "3d9cebda",
   "metadata": {
    "execution": {
     "iopub.execute_input": "2022-02-11T16:58:23.261933Z",
     "iopub.status.busy": "2022-02-11T16:58:23.261346Z",
     "iopub.status.idle": "2022-02-11T16:58:23.265401Z",
     "shell.execute_reply": "2022-02-11T16:58:23.265889Z",
     "shell.execute_reply.started": "2022-02-11T16:57:48.741509Z"
    },
    "papermill": {
     "duration": 0.031291,
     "end_time": "2022-02-11T16:58:23.266063",
     "exception": false,
     "start_time": "2022-02-11T16:58:23.234772",
     "status": "completed"
    },
    "tags": []
   },
   "outputs": [],
   "source": [
    "# Import GridSearchCV\n",
    "from sklearn.model_selection import GridSearchCV\n",
    "\n",
    "# Define the grid of values for tol and max_iter\n",
    "tol = [0.01,0.001,0.0001]\n",
    "max_iter = [100,150,200]\n",
    "\n",
    "# Create a dictionary where tol and max_iter are keys and the lists of their values are corresponding values\n",
    "param_grid = dict(tol=tol, max_iter=max_iter)"
   ]
  },
  {
   "cell_type": "code",
   "execution_count": 22,
   "id": "1e718e29",
   "metadata": {
    "execution": {
     "iopub.execute_input": "2022-02-11T16:58:23.316793Z",
     "iopub.status.busy": "2022-02-11T16:58:23.316222Z",
     "iopub.status.idle": "2022-02-11T16:58:23.816164Z",
     "shell.execute_reply": "2022-02-11T16:58:23.815621Z",
     "shell.execute_reply.started": "2022-02-11T16:57:48.848953Z"
    },
    "papermill": {
     "duration": 0.526427,
     "end_time": "2022-02-11T16:58:23.816308",
     "exception": false,
     "start_time": "2022-02-11T16:58:23.289881",
     "status": "completed"
    },
    "tags": []
   },
   "outputs": [
    {
     "name": "stdout",
     "output_type": "stream",
     "text": [
      "Best: 0.790126 using {'max_iter': 100, 'tol': 0.01}\n",
      "LogisticRegression(tol=0.01)\n"
     ]
    }
   ],
   "source": [
    "# Instantiate GridSearchCV with the required parameters\n",
    "grid_model = GridSearchCV(estimator=logreg, param_grid=param_grid, cv=5)\n",
    "\n",
    "# Fit grid_model to the data\n",
    "grid_model_result = grid_model.fit(train_data_rescaled, y_train)\n",
    "\n",
    "# Summarize results\n",
    "best_score, best_params = grid_model_result.best_score_, grid_model_result.best_params_\n",
    "print(\"Best: %f using %s\" % (best_score, best_params))\n",
    "\n",
    "# Extract the best model and evaluate it on the test set\n",
    "best_model = grid_model_result.best_estimator_\n",
    "print(best_model)\n",
    "#print(\"Accuracy of logistic regression classifier: \", best_model.score(rescaledX_test,y_test))"
   ]
  },
  {
   "cell_type": "code",
   "execution_count": 23,
   "id": "27c0986b",
   "metadata": {
    "execution": {
     "iopub.execute_input": "2022-02-11T16:58:23.867250Z",
     "iopub.status.busy": "2022-02-11T16:58:23.866644Z",
     "iopub.status.idle": "2022-02-11T16:58:23.876373Z",
     "shell.execute_reply": "2022-02-11T16:58:23.876764Z",
     "shell.execute_reply.started": "2022-02-11T16:57:49.443383Z"
    },
    "papermill": {
     "duration": 0.036546,
     "end_time": "2022-02-11T16:58:23.876954",
     "exception": false,
     "start_time": "2022-02-11T16:58:23.840408",
     "status": "completed"
    },
    "tags": []
   },
   "outputs": [
    {
     "name": "stdout",
     "output_type": "stream",
     "text": [
      "Your test submission was successfully saved!!\n"
     ]
    }
   ],
   "source": [
    "# Final for output\n",
    "predictions = best_model.predict(test_data_rescaled)\n",
    "\n",
    "output = pd.DataFrame({'PassengerId': test_data.PassengerId, 'Survived': predictions})\n",
    "\n",
    "output.to_csv('Submission-Logistic-Regression-Median.csv', index=False)\n",
    "print('Your test submission was successfully saved!!')"
   ]
  },
  {
   "cell_type": "code",
   "execution_count": null,
   "id": "132ee279",
   "metadata": {
    "papermill": {
     "duration": 0.023695,
     "end_time": "2022-02-11T16:58:23.924626",
     "exception": false,
     "start_time": "2022-02-11T16:58:23.900931",
     "status": "completed"
    },
    "tags": []
   },
   "outputs": [],
   "source": []
  },
  {
   "cell_type": "code",
   "execution_count": null,
   "id": "f2c7ead5",
   "metadata": {
    "papermill": {
     "duration": 0.024333,
     "end_time": "2022-02-11T16:58:23.973085",
     "exception": false,
     "start_time": "2022-02-11T16:58:23.948752",
     "status": "completed"
    },
    "tags": []
   },
   "outputs": [],
   "source": []
  },
  {
   "cell_type": "code",
   "execution_count": null,
   "id": "cab317c3",
   "metadata": {
    "papermill": {
     "duration": 0.023794,
     "end_time": "2022-02-11T16:58:24.021307",
     "exception": false,
     "start_time": "2022-02-11T16:58:23.997513",
     "status": "completed"
    },
    "tags": []
   },
   "outputs": [],
   "source": []
  },
  {
   "cell_type": "code",
   "execution_count": null,
   "id": "9720a3de",
   "metadata": {
    "papermill": {
     "duration": 0.023795,
     "end_time": "2022-02-11T16:58:24.069186",
     "exception": false,
     "start_time": "2022-02-11T16:58:24.045391",
     "status": "completed"
    },
    "tags": []
   },
   "outputs": [],
   "source": []
  },
  {
   "cell_type": "code",
   "execution_count": null,
   "id": "89e710da",
   "metadata": {
    "papermill": {
     "duration": 0.023582,
     "end_time": "2022-02-11T16:58:24.116828",
     "exception": false,
     "start_time": "2022-02-11T16:58:24.093246",
     "status": "completed"
    },
    "tags": []
   },
   "outputs": [],
   "source": []
  },
  {
   "cell_type": "code",
   "execution_count": null,
   "id": "62783f2d",
   "metadata": {
    "papermill": {
     "duration": 0.024384,
     "end_time": "2022-02-11T16:58:24.165438",
     "exception": false,
     "start_time": "2022-02-11T16:58:24.141054",
     "status": "completed"
    },
    "tags": []
   },
   "outputs": [],
   "source": []
  },
  {
   "cell_type": "code",
   "execution_count": null,
   "id": "4124b1d4",
   "metadata": {
    "papermill": {
     "duration": 0.023714,
     "end_time": "2022-02-11T16:58:24.213222",
     "exception": false,
     "start_time": "2022-02-11T16:58:24.189508",
     "status": "completed"
    },
    "tags": []
   },
   "outputs": [],
   "source": []
  }
 ],
 "metadata": {
  "kernelspec": {
   "display_name": "Python 3",
   "language": "python",
   "name": "python3"
  },
  "language_info": {
   "codemirror_mode": {
    "name": "ipython",
    "version": 3
   },
   "file_extension": ".py",
   "mimetype": "text/x-python",
   "name": "python",
   "nbconvert_exporter": "python",
   "pygments_lexer": "ipython3",
   "version": "3.7.12"
  },
  "papermill": {
   "default_parameters": {},
   "duration": 12.92911,
   "end_time": "2022-02-11T16:58:24.948544",
   "environment_variables": {},
   "exception": null,
   "input_path": "__notebook__.ipynb",
   "output_path": "__notebook__.ipynb",
   "parameters": {},
   "start_time": "2022-02-11T16:58:12.019434",
   "version": "2.3.3"
  }
 },
 "nbformat": 4,
 "nbformat_minor": 5
}
