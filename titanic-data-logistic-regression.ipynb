{
 "cells": [
  {
   "cell_type": "code",
   "execution_count": 1,
   "id": "ddaceeb4",
   "metadata": {
    "_cell_guid": "b1076dfc-b9ad-4769-8c92-a6c4dae69d19",
    "_uuid": "8f2839f25d086af736a60e9eeb907d3b93b6e0e5",
    "execution": {
     "iopub.execute_input": "2022-02-11T16:36:17.505603Z",
     "iopub.status.busy": "2022-02-11T16:36:17.504354Z",
     "iopub.status.idle": "2022-02-11T16:36:17.524051Z",
     "shell.execute_reply": "2022-02-11T16:36:17.522987Z",
     "shell.execute_reply.started": "2022-02-11T16:35:38.867508Z"
    },
    "papermill": {
     "duration": 0.055811,
     "end_time": "2022-02-11T16:36:17.524317",
     "exception": false,
     "start_time": "2022-02-11T16:36:17.468506",
     "status": "completed"
    },
    "tags": []
   },
   "outputs": [
    {
     "name": "stdout",
     "output_type": "stream",
     "text": [
      "/kaggle/input/titanic/train.csv\n",
      "/kaggle/input/titanic/test.csv\n",
      "/kaggle/input/titanic/gender_submission.csv\n"
     ]
    }
   ],
   "source": [
    "# This Python 3 environment comes with many helpful analytics libraries installed\n",
    "# It is defined by the kaggle/python Docker image: https://github.com/kaggle/docker-python\n",
    "# For example, here's several helpful packages to load\n",
    "\n",
    "import numpy as np # linear algebra\n",
    "import pandas as pd # data processing, CSV file I/O (e.g. pd.read_csv)\n",
    "\n",
    "# Input data files are available in the read-only \"../input/\" directory\n",
    "# For example, running this (by clicking run or pressing Shift+Enter) will list all files under the input directory\n",
    "\n",
    "import os\n",
    "for dirname, _, filenames in os.walk('/kaggle/input'):\n",
    "    for filename in filenames:\n",
    "        print(os.path.join(dirname, filename))\n",
    "\n",
    "# You can write up to 20GB to the current directory (/kaggle/working/) that gets preserved as output when you create a version using \"Save & Run All\" \n",
    "# You can also write temporary files to /kaggle/temp/, but they won't be saved outside of the current session"
   ]
  },
  {
   "cell_type": "code",
   "execution_count": 2,
   "id": "05014153",
   "metadata": {
    "execution": {
     "iopub.execute_input": "2022-02-11T16:36:17.590835Z",
     "iopub.status.busy": "2022-02-11T16:36:17.590136Z",
     "iopub.status.idle": "2022-02-11T16:36:17.624919Z",
     "shell.execute_reply": "2022-02-11T16:36:17.625454Z",
     "shell.execute_reply.started": "2022-02-11T16:35:39.412172Z"
    },
    "papermill": {
     "duration": 0.068383,
     "end_time": "2022-02-11T16:36:17.625627",
     "exception": false,
     "start_time": "2022-02-11T16:36:17.557244",
     "status": "completed"
    },
    "tags": []
   },
   "outputs": [
    {
     "data": {
      "text/html": [
       "<div>\n",
       "<style scoped>\n",
       "    .dataframe tbody tr th:only-of-type {\n",
       "        vertical-align: middle;\n",
       "    }\n",
       "\n",
       "    .dataframe tbody tr th {\n",
       "        vertical-align: top;\n",
       "    }\n",
       "\n",
       "    .dataframe thead th {\n",
       "        text-align: right;\n",
       "    }\n",
       "</style>\n",
       "<table border=\"1\" class=\"dataframe\">\n",
       "  <thead>\n",
       "    <tr style=\"text-align: right;\">\n",
       "      <th></th>\n",
       "      <th>PassengerId</th>\n",
       "      <th>Survived</th>\n",
       "      <th>Pclass</th>\n",
       "      <th>Name</th>\n",
       "      <th>Sex</th>\n",
       "      <th>Age</th>\n",
       "      <th>SibSp</th>\n",
       "      <th>Parch</th>\n",
       "      <th>Ticket</th>\n",
       "      <th>Fare</th>\n",
       "      <th>Cabin</th>\n",
       "      <th>Embarked</th>\n",
       "    </tr>\n",
       "  </thead>\n",
       "  <tbody>\n",
       "    <tr>\n",
       "      <th>0</th>\n",
       "      <td>1</td>\n",
       "      <td>0</td>\n",
       "      <td>3</td>\n",
       "      <td>Braund, Mr. Owen Harris</td>\n",
       "      <td>male</td>\n",
       "      <td>22.0</td>\n",
       "      <td>1</td>\n",
       "      <td>0</td>\n",
       "      <td>A/5 21171</td>\n",
       "      <td>7.2500</td>\n",
       "      <td>NaN</td>\n",
       "      <td>S</td>\n",
       "    </tr>\n",
       "    <tr>\n",
       "      <th>1</th>\n",
       "      <td>2</td>\n",
       "      <td>1</td>\n",
       "      <td>1</td>\n",
       "      <td>Cumings, Mrs. John Bradley (Florence Briggs Th...</td>\n",
       "      <td>female</td>\n",
       "      <td>38.0</td>\n",
       "      <td>1</td>\n",
       "      <td>0</td>\n",
       "      <td>PC 17599</td>\n",
       "      <td>71.2833</td>\n",
       "      <td>C85</td>\n",
       "      <td>C</td>\n",
       "    </tr>\n",
       "    <tr>\n",
       "      <th>2</th>\n",
       "      <td>3</td>\n",
       "      <td>1</td>\n",
       "      <td>3</td>\n",
       "      <td>Heikkinen, Miss. Laina</td>\n",
       "      <td>female</td>\n",
       "      <td>26.0</td>\n",
       "      <td>0</td>\n",
       "      <td>0</td>\n",
       "      <td>STON/O2. 3101282</td>\n",
       "      <td>7.9250</td>\n",
       "      <td>NaN</td>\n",
       "      <td>S</td>\n",
       "    </tr>\n",
       "    <tr>\n",
       "      <th>3</th>\n",
       "      <td>4</td>\n",
       "      <td>1</td>\n",
       "      <td>1</td>\n",
       "      <td>Futrelle, Mrs. Jacques Heath (Lily May Peel)</td>\n",
       "      <td>female</td>\n",
       "      <td>35.0</td>\n",
       "      <td>1</td>\n",
       "      <td>0</td>\n",
       "      <td>113803</td>\n",
       "      <td>53.1000</td>\n",
       "      <td>C123</td>\n",
       "      <td>S</td>\n",
       "    </tr>\n",
       "    <tr>\n",
       "      <th>4</th>\n",
       "      <td>5</td>\n",
       "      <td>0</td>\n",
       "      <td>3</td>\n",
       "      <td>Allen, Mr. William Henry</td>\n",
       "      <td>male</td>\n",
       "      <td>35.0</td>\n",
       "      <td>0</td>\n",
       "      <td>0</td>\n",
       "      <td>373450</td>\n",
       "      <td>8.0500</td>\n",
       "      <td>NaN</td>\n",
       "      <td>S</td>\n",
       "    </tr>\n",
       "  </tbody>\n",
       "</table>\n",
       "</div>"
      ],
      "text/plain": [
       "   PassengerId  Survived  Pclass  \\\n",
       "0            1         0       3   \n",
       "1            2         1       1   \n",
       "2            3         1       3   \n",
       "3            4         1       1   \n",
       "4            5         0       3   \n",
       "\n",
       "                                                Name     Sex   Age  SibSp  \\\n",
       "0                            Braund, Mr. Owen Harris    male  22.0      1   \n",
       "1  Cumings, Mrs. John Bradley (Florence Briggs Th...  female  38.0      1   \n",
       "2                             Heikkinen, Miss. Laina  female  26.0      0   \n",
       "3       Futrelle, Mrs. Jacques Heath (Lily May Peel)  female  35.0      1   \n",
       "4                           Allen, Mr. William Henry    male  35.0      0   \n",
       "\n",
       "   Parch            Ticket     Fare Cabin Embarked  \n",
       "0      0         A/5 21171   7.2500   NaN        S  \n",
       "1      0          PC 17599  71.2833   C85        C  \n",
       "2      0  STON/O2. 3101282   7.9250   NaN        S  \n",
       "3      0            113803  53.1000  C123        S  \n",
       "4      0            373450   8.0500   NaN        S  "
      ]
     },
     "execution_count": 2,
     "metadata": {},
     "output_type": "execute_result"
    }
   ],
   "source": [
    "train_data = pd.read_csv('/kaggle/input/titanic/train.csv')\n",
    "train_data.head()"
   ]
  },
  {
   "cell_type": "code",
   "execution_count": 3,
   "id": "288fb911",
   "metadata": {
    "execution": {
     "iopub.execute_input": "2022-02-11T16:36:17.682186Z",
     "iopub.status.busy": "2022-02-11T16:36:17.681522Z",
     "iopub.status.idle": "2022-02-11T16:36:17.685949Z",
     "shell.execute_reply": "2022-02-11T16:36:17.685250Z",
     "shell.execute_reply.started": "2022-02-11T16:35:39.506271Z"
    },
    "papermill": {
     "duration": 0.035385,
     "end_time": "2022-02-11T16:36:17.686089",
     "exception": false,
     "start_time": "2022-02-11T16:36:17.650704",
     "status": "completed"
    },
    "tags": []
   },
   "outputs": [
    {
     "data": {
      "text/plain": [
       "(891, 12)"
      ]
     },
     "execution_count": 3,
     "metadata": {},
     "output_type": "execute_result"
    }
   ],
   "source": [
    "train_data.shape"
   ]
  },
  {
   "cell_type": "code",
   "execution_count": 4,
   "id": "de974de9",
   "metadata": {
    "execution": {
     "iopub.execute_input": "2022-02-11T16:36:17.748713Z",
     "iopub.status.busy": "2022-02-11T16:36:17.748045Z",
     "iopub.status.idle": "2022-02-11T16:36:17.754466Z",
     "shell.execute_reply": "2022-02-11T16:36:17.753809Z",
     "shell.execute_reply.started": "2022-02-11T16:35:39.606971Z"
    },
    "papermill": {
     "duration": 0.042623,
     "end_time": "2022-02-11T16:36:17.754617",
     "exception": false,
     "start_time": "2022-02-11T16:36:17.711994",
     "status": "completed"
    },
    "tags": []
   },
   "outputs": [
    {
     "data": {
      "text/plain": [
       "347082      7\n",
       "CA. 2343    7\n",
       "1601        7\n",
       "3101295     6\n",
       "CA 2144     6\n",
       "           ..\n",
       "9234        1\n",
       "19988       1\n",
       "2693        1\n",
       "PC 17612    1\n",
       "370376      1\n",
       "Name: Ticket, Length: 681, dtype: int64"
      ]
     },
     "execution_count": 4,
     "metadata": {},
     "output_type": "execute_result"
    }
   ],
   "source": [
    "train_data.Ticket.value_counts()"
   ]
  },
  {
   "cell_type": "code",
   "execution_count": 5,
   "id": "10a4b57a",
   "metadata": {
    "execution": {
     "iopub.execute_input": "2022-02-11T16:36:17.812575Z",
     "iopub.status.busy": "2022-02-11T16:36:17.809909Z",
     "iopub.status.idle": "2022-02-11T16:36:17.816314Z",
     "shell.execute_reply": "2022-02-11T16:36:17.816769Z",
     "shell.execute_reply.started": "2022-02-11T16:35:39.708989Z"
    },
    "papermill": {
     "duration": 0.036965,
     "end_time": "2022-02-11T16:36:17.816930",
     "exception": false,
     "start_time": "2022-02-11T16:36:17.779965",
     "status": "completed"
    },
    "tags": []
   },
   "outputs": [
    {
     "data": {
      "text/plain": [
       "B96 B98        4\n",
       "G6             4\n",
       "C23 C25 C27    4\n",
       "C22 C26        3\n",
       "F33            3\n",
       "              ..\n",
       "E34            1\n",
       "C7             1\n",
       "C54            1\n",
       "E36            1\n",
       "C148           1\n",
       "Name: Cabin, Length: 147, dtype: int64"
      ]
     },
     "execution_count": 5,
     "metadata": {},
     "output_type": "execute_result"
    }
   ],
   "source": [
    "train_data.Cabin.value_counts()"
   ]
  },
  {
   "cell_type": "code",
   "execution_count": 6,
   "id": "b0628e4e",
   "metadata": {
    "execution": {
     "iopub.execute_input": "2022-02-11T16:36:17.873044Z",
     "iopub.status.busy": "2022-02-11T16:36:17.871606Z",
     "iopub.status.idle": "2022-02-11T16:36:17.885071Z",
     "shell.execute_reply": "2022-02-11T16:36:17.885733Z",
     "shell.execute_reply.started": "2022-02-11T16:35:39.802286Z"
    },
    "papermill": {
     "duration": 0.043467,
     "end_time": "2022-02-11T16:36:17.885899",
     "exception": false,
     "start_time": "2022-02-11T16:36:17.842432",
     "status": "completed"
    },
    "tags": []
   },
   "outputs": [],
   "source": [
    "test_data = pd.read_csv('/kaggle/input/titanic/test.csv')"
   ]
  },
  {
   "cell_type": "code",
   "execution_count": 7,
   "id": "34702fac",
   "metadata": {
    "execution": {
     "iopub.execute_input": "2022-02-11T16:36:17.940559Z",
     "iopub.status.busy": "2022-02-11T16:36:17.939896Z",
     "iopub.status.idle": "2022-02-11T16:36:17.954066Z",
     "shell.execute_reply": "2022-02-11T16:36:17.954658Z",
     "shell.execute_reply.started": "2022-02-11T16:35:39.917950Z"
    },
    "papermill": {
     "duration": 0.043142,
     "end_time": "2022-02-11T16:36:17.954850",
     "exception": false,
     "start_time": "2022-02-11T16:36:17.911708",
     "status": "completed"
    },
    "tags": []
   },
   "outputs": [
    {
     "data": {
      "text/html": [
       "<div>\n",
       "<style scoped>\n",
       "    .dataframe tbody tr th:only-of-type {\n",
       "        vertical-align: middle;\n",
       "    }\n",
       "\n",
       "    .dataframe tbody tr th {\n",
       "        vertical-align: top;\n",
       "    }\n",
       "\n",
       "    .dataframe thead th {\n",
       "        text-align: right;\n",
       "    }\n",
       "</style>\n",
       "<table border=\"1\" class=\"dataframe\">\n",
       "  <thead>\n",
       "    <tr style=\"text-align: right;\">\n",
       "      <th></th>\n",
       "      <th>PassengerId</th>\n",
       "      <th>Pclass</th>\n",
       "      <th>Name</th>\n",
       "      <th>Sex</th>\n",
       "      <th>Age</th>\n",
       "      <th>SibSp</th>\n",
       "      <th>Parch</th>\n",
       "      <th>Ticket</th>\n",
       "      <th>Fare</th>\n",
       "      <th>Cabin</th>\n",
       "      <th>Embarked</th>\n",
       "    </tr>\n",
       "  </thead>\n",
       "  <tbody>\n",
       "    <tr>\n",
       "      <th>0</th>\n",
       "      <td>892</td>\n",
       "      <td>3</td>\n",
       "      <td>Kelly, Mr. James</td>\n",
       "      <td>male</td>\n",
       "      <td>34.5</td>\n",
       "      <td>0</td>\n",
       "      <td>0</td>\n",
       "      <td>330911</td>\n",
       "      <td>7.8292</td>\n",
       "      <td>NaN</td>\n",
       "      <td>Q</td>\n",
       "    </tr>\n",
       "    <tr>\n",
       "      <th>1</th>\n",
       "      <td>893</td>\n",
       "      <td>3</td>\n",
       "      <td>Wilkes, Mrs. James (Ellen Needs)</td>\n",
       "      <td>female</td>\n",
       "      <td>47.0</td>\n",
       "      <td>1</td>\n",
       "      <td>0</td>\n",
       "      <td>363272</td>\n",
       "      <td>7.0000</td>\n",
       "      <td>NaN</td>\n",
       "      <td>S</td>\n",
       "    </tr>\n",
       "    <tr>\n",
       "      <th>2</th>\n",
       "      <td>894</td>\n",
       "      <td>2</td>\n",
       "      <td>Myles, Mr. Thomas Francis</td>\n",
       "      <td>male</td>\n",
       "      <td>62.0</td>\n",
       "      <td>0</td>\n",
       "      <td>0</td>\n",
       "      <td>240276</td>\n",
       "      <td>9.6875</td>\n",
       "      <td>NaN</td>\n",
       "      <td>Q</td>\n",
       "    </tr>\n",
       "    <tr>\n",
       "      <th>3</th>\n",
       "      <td>895</td>\n",
       "      <td>3</td>\n",
       "      <td>Wirz, Mr. Albert</td>\n",
       "      <td>male</td>\n",
       "      <td>27.0</td>\n",
       "      <td>0</td>\n",
       "      <td>0</td>\n",
       "      <td>315154</td>\n",
       "      <td>8.6625</td>\n",
       "      <td>NaN</td>\n",
       "      <td>S</td>\n",
       "    </tr>\n",
       "    <tr>\n",
       "      <th>4</th>\n",
       "      <td>896</td>\n",
       "      <td>3</td>\n",
       "      <td>Hirvonen, Mrs. Alexander (Helga E Lindqvist)</td>\n",
       "      <td>female</td>\n",
       "      <td>22.0</td>\n",
       "      <td>1</td>\n",
       "      <td>1</td>\n",
       "      <td>3101298</td>\n",
       "      <td>12.2875</td>\n",
       "      <td>NaN</td>\n",
       "      <td>S</td>\n",
       "    </tr>\n",
       "  </tbody>\n",
       "</table>\n",
       "</div>"
      ],
      "text/plain": [
       "   PassengerId  Pclass                                          Name     Sex  \\\n",
       "0          892       3                              Kelly, Mr. James    male   \n",
       "1          893       3              Wilkes, Mrs. James (Ellen Needs)  female   \n",
       "2          894       2                     Myles, Mr. Thomas Francis    male   \n",
       "3          895       3                              Wirz, Mr. Albert    male   \n",
       "4          896       3  Hirvonen, Mrs. Alexander (Helga E Lindqvist)  female   \n",
       "\n",
       "    Age  SibSp  Parch   Ticket     Fare Cabin Embarked  \n",
       "0  34.5      0      0   330911   7.8292   NaN        Q  \n",
       "1  47.0      1      0   363272   7.0000   NaN        S  \n",
       "2  62.0      0      0   240276   9.6875   NaN        Q  \n",
       "3  27.0      0      0   315154   8.6625   NaN        S  \n",
       "4  22.0      1      1  3101298  12.2875   NaN        S  "
      ]
     },
     "execution_count": 7,
     "metadata": {},
     "output_type": "execute_result"
    }
   ],
   "source": [
    "test_data.head()"
   ]
  },
  {
   "cell_type": "code",
   "execution_count": 8,
   "id": "9d9afdf6",
   "metadata": {
    "execution": {
     "iopub.execute_input": "2022-02-11T16:36:18.010159Z",
     "iopub.status.busy": "2022-02-11T16:36:18.009497Z",
     "iopub.status.idle": "2022-02-11T16:36:18.018975Z",
     "shell.execute_reply": "2022-02-11T16:36:18.019683Z",
     "shell.execute_reply.started": "2022-02-11T16:35:40.013773Z"
    },
    "papermill": {
     "duration": 0.039088,
     "end_time": "2022-02-11T16:36:18.019902",
     "exception": false,
     "start_time": "2022-02-11T16:36:17.980814",
     "status": "completed"
    },
    "tags": []
   },
   "outputs": [
    {
     "name": "stdout",
     "output_type": "stream",
     "text": [
      "The percent of women who survived was 0.7420382165605095\n"
     ]
    }
   ],
   "source": [
    "women = train_data.loc[train_data['Sex']=='female']['Survived']\n",
    "rate_women = sum(women)/len(women)\n",
    "\n",
    "print('The percent of women who survived was ' + str(rate_women))"
   ]
  },
  {
   "cell_type": "code",
   "execution_count": 9,
   "id": "eab9792f",
   "metadata": {
    "execution": {
     "iopub.execute_input": "2022-02-11T16:36:18.081031Z",
     "iopub.status.busy": "2022-02-11T16:36:18.080253Z",
     "iopub.status.idle": "2022-02-11T16:36:18.083469Z",
     "shell.execute_reply": "2022-02-11T16:36:18.084179Z",
     "shell.execute_reply.started": "2022-02-11T16:35:40.158448Z"
    },
    "papermill": {
     "duration": 0.037221,
     "end_time": "2022-02-11T16:36:18.084406",
     "exception": false,
     "start_time": "2022-02-11T16:36:18.047185",
     "status": "completed"
    },
    "tags": []
   },
   "outputs": [
    {
     "name": "stdout",
     "output_type": "stream",
     "text": [
      "The percent of men who survived was 0.18890814558058924\n"
     ]
    }
   ],
   "source": [
    "men = train_data.loc[train_data.Sex == 'male']['Survived']\n",
    "rate_men = sum(men)/len(men)\n",
    "\n",
    "print('The percent of men who survived was ' + str(rate_men))"
   ]
  },
  {
   "cell_type": "code",
   "execution_count": 10,
   "id": "48ce220a",
   "metadata": {
    "execution": {
     "iopub.execute_input": "2022-02-11T16:36:18.142770Z",
     "iopub.status.busy": "2022-02-11T16:36:18.142112Z",
     "iopub.status.idle": "2022-02-11T16:36:18.147602Z",
     "shell.execute_reply": "2022-02-11T16:36:18.148086Z",
     "shell.execute_reply.started": "2022-02-11T16:35:40.203929Z"
    },
    "papermill": {
     "duration": 0.035632,
     "end_time": "2022-02-11T16:36:18.148291",
     "exception": false,
     "start_time": "2022-02-11T16:36:18.112659",
     "status": "completed"
    },
    "tags": []
   },
   "outputs": [
    {
     "name": "stdout",
     "output_type": "stream",
     "text": [
      "The percent of children who survived was 0.5398230088495575\n"
     ]
    }
   ],
   "source": [
    "children = train_data.loc[train_data['Age']<18]['Survived']\n",
    "rate_children = sum(children)/len(children)\n",
    "\n",
    "print('The percent of children who survived was ' + str(rate_children))"
   ]
  },
  {
   "cell_type": "code",
   "execution_count": 11,
   "id": "da9a61de",
   "metadata": {
    "execution": {
     "iopub.execute_input": "2022-02-11T16:36:18.210438Z",
     "iopub.status.busy": "2022-02-11T16:36:18.209579Z",
     "iopub.status.idle": "2022-02-11T16:36:18.212504Z",
     "shell.execute_reply": "2022-02-11T16:36:18.212983Z",
     "shell.execute_reply.started": "2022-02-11T16:35:40.326693Z"
    },
    "papermill": {
     "duration": 0.038069,
     "end_time": "2022-02-11T16:36:18.213169",
     "exception": false,
     "start_time": "2022-02-11T16:36:18.175100",
     "status": "completed"
    },
    "tags": []
   },
   "outputs": [
    {
     "name": "stdout",
     "output_type": "stream",
     "text": [
      "The percent of adults who survived was 0.3810316139767055\n"
     ]
    }
   ],
   "source": [
    "adults = train_data.loc[train_data['Age']>=18]['Survived']\n",
    "rate_adults = sum(adults)/len(adults)\n",
    "\n",
    "print('The percent of adults who survived was ' + str(rate_adults))"
   ]
  },
  {
   "cell_type": "code",
   "execution_count": null,
   "id": "cf795b02",
   "metadata": {
    "papermill": {
     "duration": 0.027283,
     "end_time": "2022-02-11T16:36:18.267912",
     "exception": false,
     "start_time": "2022-02-11T16:36:18.240629",
     "status": "completed"
    },
    "tags": []
   },
   "outputs": [],
   "source": []
  },
  {
   "cell_type": "code",
   "execution_count": null,
   "id": "90e6839d",
   "metadata": {
    "papermill": {
     "duration": 0.027011,
     "end_time": "2022-02-11T16:36:18.322347",
     "exception": false,
     "start_time": "2022-02-11T16:36:18.295336",
     "status": "completed"
    },
    "tags": []
   },
   "outputs": [],
   "source": []
  },
  {
   "cell_type": "markdown",
   "id": "1d6e906e",
   "metadata": {
    "papermill": {
     "duration": 0.026925,
     "end_time": "2022-02-11T16:36:18.378483",
     "exception": false,
     "start_time": "2022-02-11T16:36:18.351558",
     "status": "completed"
    },
    "tags": []
   },
   "source": []
  },
  {
   "cell_type": "markdown",
   "id": "abcd54b9",
   "metadata": {
    "papermill": {
     "duration": 0.027193,
     "end_time": "2022-02-11T16:36:18.432944",
     "exception": false,
     "start_time": "2022-02-11T16:36:18.405751",
     "status": "completed"
    },
    "tags": []
   },
   "source": []
  },
  {
   "cell_type": "code",
   "execution_count": 12,
   "id": "55369faf",
   "metadata": {
    "execution": {
     "iopub.execute_input": "2022-02-11T16:36:18.496017Z",
     "iopub.status.busy": "2022-02-11T16:36:18.495112Z",
     "iopub.status.idle": "2022-02-11T16:36:18.498340Z",
     "shell.execute_reply": "2022-02-11T16:36:18.498923Z",
     "shell.execute_reply.started": "2022-02-11T16:35:40.877188Z"
    },
    "papermill": {
     "duration": 0.038542,
     "end_time": "2022-02-11T16:36:18.499082",
     "exception": false,
     "start_time": "2022-02-11T16:36:18.460540",
     "status": "completed"
    },
    "tags": []
   },
   "outputs": [
    {
     "data": {
      "text/plain": [
       "B96 B98        4\n",
       "G6             4\n",
       "C23 C25 C27    4\n",
       "C22 C26        3\n",
       "F33            3\n",
       "              ..\n",
       "E34            1\n",
       "C7             1\n",
       "C54            1\n",
       "E36            1\n",
       "C148           1\n",
       "Name: Cabin, Length: 147, dtype: int64"
      ]
     },
     "execution_count": 12,
     "metadata": {},
     "output_type": "execute_result"
    }
   ],
   "source": [
    "train_data.Cabin.value_counts()"
   ]
  },
  {
   "cell_type": "code",
   "execution_count": 13,
   "id": "84518cc3",
   "metadata": {
    "execution": {
     "iopub.execute_input": "2022-02-11T16:36:18.559403Z",
     "iopub.status.busy": "2022-02-11T16:36:18.558445Z",
     "iopub.status.idle": "2022-02-11T16:36:18.561584Z",
     "shell.execute_reply": "2022-02-11T16:36:18.562055Z",
     "shell.execute_reply.started": "2022-02-11T16:35:40.913638Z"
    },
    "papermill": {
     "duration": 0.034462,
     "end_time": "2022-02-11T16:36:18.562237",
     "exception": false,
     "start_time": "2022-02-11T16:36:18.527775",
     "status": "completed"
    },
    "tags": []
   },
   "outputs": [],
   "source": [
    "#train_data['HasCabin'] = np.where(train_data.Cabin.isnull() == True, False, True)\n",
    "#test_data['HasCabin'] = np.where(test_data.Cabin.isnull() == True, False, True)"
   ]
  },
  {
   "cell_type": "code",
   "execution_count": 14,
   "id": "37c3a856",
   "metadata": {
    "execution": {
     "iopub.execute_input": "2022-02-11T16:36:18.622684Z",
     "iopub.status.busy": "2022-02-11T16:36:18.621773Z",
     "iopub.status.idle": "2022-02-11T16:36:18.624799Z",
     "shell.execute_reply": "2022-02-11T16:36:18.625403Z",
     "shell.execute_reply.started": "2022-02-11T16:35:41.386149Z"
    },
    "papermill": {
     "duration": 0.035182,
     "end_time": "2022-02-11T16:36:18.625567",
     "exception": false,
     "start_time": "2022-02-11T16:36:18.590385",
     "status": "completed"
    },
    "tags": []
   },
   "outputs": [],
   "source": [
    "#train_data.HasCabin.sum()"
   ]
  },
  {
   "cell_type": "code",
   "execution_count": 15,
   "id": "5f7cd430",
   "metadata": {
    "execution": {
     "iopub.execute_input": "2022-02-11T16:36:18.685817Z",
     "iopub.status.busy": "2022-02-11T16:36:18.684833Z",
     "iopub.status.idle": "2022-02-11T16:36:18.690875Z",
     "shell.execute_reply": "2022-02-11T16:36:18.691356Z",
     "shell.execute_reply.started": "2022-02-11T16:35:41.616169Z"
    },
    "papermill": {
     "duration": 0.037865,
     "end_time": "2022-02-11T16:36:18.691524",
     "exception": false,
     "start_time": "2022-02-11T16:36:18.653659",
     "status": "completed"
    },
    "tags": []
   },
   "outputs": [],
   "source": [
    "features = ['Pclass', 'Sex', 'SibSp', 'Parch', 'Cabin', 'Embarked']\n",
    "\n",
    "y_train = train_data['Survived']\n",
    "train_data1 = train_data[features]\n",
    "test_data1 = test_data[features]"
   ]
  },
  {
   "cell_type": "code",
   "execution_count": 16,
   "id": "6e0dd9c9",
   "metadata": {
    "execution": {
     "iopub.execute_input": "2022-02-11T16:36:18.751150Z",
     "iopub.status.busy": "2022-02-11T16:36:18.750162Z",
     "iopub.status.idle": "2022-02-11T16:36:18.772618Z",
     "shell.execute_reply": "2022-02-11T16:36:18.772022Z",
     "shell.execute_reply.started": "2022-02-11T16:35:41.855343Z"
    },
    "papermill": {
     "duration": 0.053226,
     "end_time": "2022-02-11T16:36:18.772767",
     "exception": false,
     "start_time": "2022-02-11T16:36:18.719541",
     "status": "completed"
    },
    "tags": []
   },
   "outputs": [],
   "source": [
    "# Convert the categorical features in the train and test sets independently\n",
    "train_data_d = pd.get_dummies(train_data1)\n",
    "test_data_d = pd.get_dummies(test_data1)\n",
    "\n",
    "# Replace all missing values in age & Fare with mean value\n",
    "#train_data_d['Age'] = train_data_d['Age'].fillna(train_data_d['Age'].mean())\n",
    "#test_data_d['Age'] = test_data_d['Age'].fillna(test_data_d['Age'].mean())\n",
    "#train_data_d['Fare'] = train_data_d['Fare'].fillna(train_data_d['Fare'].mean())\n",
    "#test_data_d['Fare'] = test_data_d['Fare'].fillna(test_data_d['Fare'].mean())\n",
    "\n",
    "\n",
    "# Reindex the columns of the test set aligning with the train set\n",
    "test_data_d = test_data_d.reindex(columns=train_data_d.columns, fill_value=0)"
   ]
  },
  {
   "cell_type": "code",
   "execution_count": 17,
   "id": "239a8876",
   "metadata": {
    "execution": {
     "iopub.execute_input": "2022-02-11T16:36:18.832196Z",
     "iopub.status.busy": "2022-02-11T16:36:18.831511Z",
     "iopub.status.idle": "2022-02-11T16:36:18.840049Z",
     "shell.execute_reply": "2022-02-11T16:36:18.839200Z",
     "shell.execute_reply.started": "2022-02-11T16:35:42.041711Z"
    },
    "papermill": {
     "duration": 0.039201,
     "end_time": "2022-02-11T16:36:18.840246",
     "exception": false,
     "start_time": "2022-02-11T16:36:18.801045",
     "status": "completed"
    },
    "tags": []
   },
   "outputs": [
    {
     "name": "stdout",
     "output_type": "stream",
     "text": [
      "(891, 155)\n",
      "Pclass        0\n",
      "SibSp         0\n",
      "Parch         0\n",
      "Sex_female    0\n",
      "Sex_male      0\n",
      "             ..\n",
      "Cabin_G6      0\n",
      "Cabin_T       0\n",
      "Embarked_C    0\n",
      "Embarked_Q    0\n",
      "Embarked_S    0\n",
      "Length: 155, dtype: int64\n"
     ]
    }
   ],
   "source": [
    "print(train_data_d.shape)\n",
    "print(test_data_d.isnull().sum())"
   ]
  },
  {
   "cell_type": "code",
   "execution_count": 18,
   "id": "242c3042",
   "metadata": {
    "execution": {
     "iopub.execute_input": "2022-02-11T16:36:18.903028Z",
     "iopub.status.busy": "2022-02-11T16:36:18.900503Z",
     "iopub.status.idle": "2022-02-11T16:36:19.861755Z",
     "shell.execute_reply": "2022-02-11T16:36:19.861129Z",
     "shell.execute_reply.started": "2022-02-11T16:35:42.374710Z"
    },
    "papermill": {
     "duration": 0.992189,
     "end_time": "2022-02-11T16:36:19.861900",
     "exception": false,
     "start_time": "2022-02-11T16:36:18.869711",
     "status": "completed"
    },
    "tags": []
   },
   "outputs": [],
   "source": [
    "# Import MinMaxScaler\n",
    "from sklearn.preprocessing import MinMaxScaler\n",
    "\n",
    "# Instantiate MinMaxScaler and use it to rescale X_train and X_test\n",
    "scaler = MinMaxScaler(feature_range=(0,1))\n",
    "train_data_rescaled = scaler.fit_transform(train_data_d)\n",
    "test_data_rescaled = scaler.fit_transform(test_data_d)"
   ]
  },
  {
   "cell_type": "code",
   "execution_count": null,
   "id": "216de905",
   "metadata": {
    "papermill": {
     "duration": 0.027924,
     "end_time": "2022-02-11T16:36:19.918112",
     "exception": false,
     "start_time": "2022-02-11T16:36:19.890188",
     "status": "completed"
    },
    "tags": []
   },
   "outputs": [],
   "source": []
  },
  {
   "cell_type": "code",
   "execution_count": 19,
   "id": "c8cede90",
   "metadata": {
    "execution": {
     "iopub.execute_input": "2022-02-11T16:36:19.977271Z",
     "iopub.status.busy": "2022-02-11T16:36:19.976592Z",
     "iopub.status.idle": "2022-02-11T16:36:19.984471Z",
     "shell.execute_reply": "2022-02-11T16:36:19.984994Z",
     "shell.execute_reply.started": "2022-02-11T16:35:43.480068Z"
    },
    "papermill": {
     "duration": 0.038977,
     "end_time": "2022-02-11T16:36:19.985174",
     "exception": false,
     "start_time": "2022-02-11T16:36:19.946197",
     "status": "completed"
    },
    "tags": []
   },
   "outputs": [
    {
     "data": {
      "text/plain": [
       "Pclass        0\n",
       "SibSp         0\n",
       "Parch         0\n",
       "Sex_female    0\n",
       "Sex_male      0\n",
       "             ..\n",
       "Cabin_G6      0\n",
       "Cabin_T       0\n",
       "Embarked_C    0\n",
       "Embarked_Q    0\n",
       "Embarked_S    0\n",
       "Length: 155, dtype: int64"
      ]
     },
     "execution_count": 19,
     "metadata": {},
     "output_type": "execute_result"
    }
   ],
   "source": [
    "train_data_d.isnull().sum()"
   ]
  },
  {
   "cell_type": "code",
   "execution_count": 20,
   "id": "b0715888",
   "metadata": {
    "execution": {
     "iopub.execute_input": "2022-02-11T16:36:20.045457Z",
     "iopub.status.busy": "2022-02-11T16:36:20.044801Z",
     "iopub.status.idle": "2022-02-11T16:36:20.210878Z",
     "shell.execute_reply": "2022-02-11T16:36:20.212101Z",
     "shell.execute_reply.started": "2022-02-11T16:35:43.729407Z"
    },
    "papermill": {
     "duration": 0.198754,
     "end_time": "2022-02-11T16:36:20.212404",
     "exception": false,
     "start_time": "2022-02-11T16:36:20.013650",
     "status": "completed"
    },
    "tags": []
   },
   "outputs": [
    {
     "data": {
      "text/plain": [
       "LogisticRegression()"
      ]
     },
     "execution_count": 20,
     "metadata": {},
     "output_type": "execute_result"
    }
   ],
   "source": [
    "# Import LogisticRegression\n",
    "from sklearn.linear_model import LogisticRegression\n",
    "\n",
    "# Instantiate a LogisticRegression classifier with default parameter values\n",
    "logreg = LogisticRegression()\n",
    "\n",
    "# Fit logreg to the train set\n",
    "logreg.fit(train_data_rescaled, y_train)"
   ]
  },
  {
   "cell_type": "code",
   "execution_count": 21,
   "id": "a21d7e42",
   "metadata": {
    "execution": {
     "iopub.execute_input": "2022-02-11T16:36:20.323378Z",
     "iopub.status.busy": "2022-02-11T16:36:20.322315Z",
     "iopub.status.idle": "2022-02-11T16:36:20.324104Z",
     "shell.execute_reply": "2022-02-11T16:36:20.324606Z",
     "shell.execute_reply.started": "2022-02-11T16:35:44.009225Z"
    },
    "papermill": {
     "duration": 0.060619,
     "end_time": "2022-02-11T16:36:20.324793",
     "exception": false,
     "start_time": "2022-02-11T16:36:20.264174",
     "status": "completed"
    },
    "tags": []
   },
   "outputs": [],
   "source": [
    "# Import GridSearchCV\n",
    "from sklearn.model_selection import GridSearchCV\n",
    "\n",
    "# Define the grid of values for tol and max_iter\n",
    "tol = [0.01,0.001,0.0001]\n",
    "max_iter = [100,150,200]\n",
    "\n",
    "# Create a dictionary where tol and max_iter are keys and the lists of their values are corresponding values\n",
    "param_grid = dict(tol=tol, max_iter=max_iter)"
   ]
  },
  {
   "cell_type": "code",
   "execution_count": 22,
   "id": "696c1f8c",
   "metadata": {
    "execution": {
     "iopub.execute_input": "2022-02-11T16:36:20.385230Z",
     "iopub.status.busy": "2022-02-11T16:36:20.384585Z",
     "iopub.status.idle": "2022-02-11T16:36:21.739468Z",
     "shell.execute_reply": "2022-02-11T16:36:21.740592Z",
     "shell.execute_reply.started": "2022-02-11T16:35:44.383384Z"
    },
    "papermill": {
     "duration": 1.387459,
     "end_time": "2022-02-11T16:36:21.740888",
     "exception": false,
     "start_time": "2022-02-11T16:36:20.353429",
     "status": "completed"
    },
    "tags": []
   },
   "outputs": [
    {
     "name": "stdout",
     "output_type": "stream",
     "text": [
      "Best: 0.782267 using {'max_iter': 100, 'tol': 0.01}\n",
      "LogisticRegression(tol=0.01)\n"
     ]
    }
   ],
   "source": [
    "# Instantiate GridSearchCV with the required parameters\n",
    "grid_model = GridSearchCV(estimator=logreg, param_grid=param_grid, cv=5)\n",
    "\n",
    "# Fit grid_model to the data\n",
    "grid_model_result = grid_model.fit(train_data_rescaled, y_train)\n",
    "\n",
    "# Summarize results\n",
    "best_score, best_params = grid_model_result.best_score_, grid_model_result.best_params_\n",
    "print(\"Best: %f using %s\" % (best_score, best_params))\n",
    "\n",
    "# Extract the best model and evaluate it on the test set\n",
    "best_model = grid_model_result.best_estimator_\n",
    "print(best_model)\n",
    "#print(\"Accuracy of logistic regression classifier: \", best_model.score(rescaledX_test,y_test))"
   ]
  },
  {
   "cell_type": "code",
   "execution_count": 23,
   "id": "e18d0e29",
   "metadata": {
    "execution": {
     "iopub.execute_input": "2022-02-11T16:36:21.860927Z",
     "iopub.status.busy": "2022-02-11T16:36:21.859873Z",
     "iopub.status.idle": "2022-02-11T16:36:21.870376Z",
     "shell.execute_reply": "2022-02-11T16:36:21.871929Z",
     "shell.execute_reply.started": "2022-02-11T16:35:45.822956Z"
    },
    "papermill": {
     "duration": 0.070004,
     "end_time": "2022-02-11T16:36:21.872412",
     "exception": false,
     "start_time": "2022-02-11T16:36:21.802408",
     "status": "completed"
    },
    "tags": []
   },
   "outputs": [
    {
     "name": "stdout",
     "output_type": "stream",
     "text": [
      "Your test submission was successfully saved!!\n"
     ]
    }
   ],
   "source": [
    "# Final for output\n",
    "predictions = best_model.predict(test_data_rescaled)\n",
    "\n",
    "output = pd.DataFrame({'PassengerId': test_data.PassengerId, 'Survived': predictions})\n",
    "\n",
    "output.to_csv('Submission-Logistic-Regression-Boolean.csv', index=False)\n",
    "print('Your test submission was successfully saved!!')"
   ]
  },
  {
   "cell_type": "code",
   "execution_count": null,
   "id": "c2809463",
   "metadata": {
    "papermill": {
     "duration": 0.05144,
     "end_time": "2022-02-11T16:36:21.977246",
     "exception": false,
     "start_time": "2022-02-11T16:36:21.925806",
     "status": "completed"
    },
    "tags": []
   },
   "outputs": [],
   "source": []
  },
  {
   "cell_type": "code",
   "execution_count": null,
   "id": "979775ca",
   "metadata": {
    "papermill": {
     "duration": 0.030435,
     "end_time": "2022-02-11T16:36:22.038442",
     "exception": false,
     "start_time": "2022-02-11T16:36:22.008007",
     "status": "completed"
    },
    "tags": []
   },
   "outputs": [],
   "source": []
  },
  {
   "cell_type": "code",
   "execution_count": null,
   "id": "8ab8e5d4",
   "metadata": {
    "papermill": {
     "duration": 0.029449,
     "end_time": "2022-02-11T16:36:22.097745",
     "exception": false,
     "start_time": "2022-02-11T16:36:22.068296",
     "status": "completed"
    },
    "tags": []
   },
   "outputs": [],
   "source": []
  }
 ],
 "metadata": {
  "kernelspec": {
   "display_name": "Python 3",
   "language": "python",
   "name": "python3"
  },
  "language_info": {
   "codemirror_mode": {
    "name": "ipython",
    "version": 3
   },
   "file_extension": ".py",
   "mimetype": "text/x-python",
   "name": "python",
   "nbconvert_exporter": "python",
   "pygments_lexer": "ipython3",
   "version": "3.7.12"
  },
  "papermill": {
   "default_parameters": {},
   "duration": 17.553705,
   "end_time": "2022-02-11T16:36:25.513428",
   "environment_variables": {},
   "exception": null,
   "input_path": "__notebook__.ipynb",
   "output_path": "__notebook__.ipynb",
   "parameters": {},
   "start_time": "2022-02-11T16:36:07.959723",
   "version": "2.3.3"
  }
 },
 "nbformat": 4,
 "nbformat_minor": 5
}
