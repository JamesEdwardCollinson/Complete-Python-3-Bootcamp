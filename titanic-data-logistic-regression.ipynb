{
 "cells": [
  {
   "cell_type": "code",
   "execution_count": 1,
   "id": "e8772ea4",
   "metadata": {
    "_cell_guid": "b1076dfc-b9ad-4769-8c92-a6c4dae69d19",
    "_uuid": "8f2839f25d086af736a60e9eeb907d3b93b6e0e5",
    "execution": {
     "iopub.execute_input": "2022-02-11T16:23:54.298971Z",
     "iopub.status.busy": "2022-02-11T16:23:54.297740Z",
     "iopub.status.idle": "2022-02-11T16:23:54.313069Z",
     "shell.execute_reply": "2022-02-11T16:23:54.314157Z",
     "shell.execute_reply.started": "2022-02-11T16:04:23.703070Z"
    },
    "papermill": {
     "duration": 0.045812,
     "end_time": "2022-02-11T16:23:54.314685",
     "exception": false,
     "start_time": "2022-02-11T16:23:54.268873",
     "status": "completed"
    },
    "tags": []
   },
   "outputs": [
    {
     "name": "stdout",
     "output_type": "stream",
     "text": [
      "/kaggle/input/titanic/train.csv\n",
      "/kaggle/input/titanic/test.csv\n",
      "/kaggle/input/titanic/gender_submission.csv\n"
     ]
    }
   ],
   "source": [
    "# This Python 3 environment comes with many helpful analytics libraries installed\n",
    "# It is defined by the kaggle/python Docker image: https://github.com/kaggle/docker-python\n",
    "# For example, here's several helpful packages to load\n",
    "\n",
    "import numpy as np # linear algebra\n",
    "import pandas as pd # data processing, CSV file I/O (e.g. pd.read_csv)\n",
    "\n",
    "# Input data files are available in the read-only \"../input/\" directory\n",
    "# For example, running this (by clicking run or pressing Shift+Enter) will list all files under the input directory\n",
    "\n",
    "import os\n",
    "for dirname, _, filenames in os.walk('/kaggle/input'):\n",
    "    for filename in filenames:\n",
    "        print(os.path.join(dirname, filename))\n",
    "\n",
    "# You can write up to 20GB to the current directory (/kaggle/working/) that gets preserved as output when you create a version using \"Save & Run All\" \n",
    "# You can also write temporary files to /kaggle/temp/, but they won't be saved outside of the current session"
   ]
  },
  {
   "cell_type": "code",
   "execution_count": 2,
   "id": "a3e13f14",
   "metadata": {
    "execution": {
     "iopub.execute_input": "2022-02-11T16:23:54.367473Z",
     "iopub.status.busy": "2022-02-11T16:23:54.366774Z",
     "iopub.status.idle": "2022-02-11T16:23:54.407320Z",
     "shell.execute_reply": "2022-02-11T16:23:54.407941Z",
     "shell.execute_reply.started": "2022-02-11T16:04:24.364324Z"
    },
    "papermill": {
     "duration": 0.068006,
     "end_time": "2022-02-11T16:23:54.408131",
     "exception": false,
     "start_time": "2022-02-11T16:23:54.340125",
     "status": "completed"
    },
    "tags": []
   },
   "outputs": [
    {
     "data": {
      "text/html": [
       "<div>\n",
       "<style scoped>\n",
       "    .dataframe tbody tr th:only-of-type {\n",
       "        vertical-align: middle;\n",
       "    }\n",
       "\n",
       "    .dataframe tbody tr th {\n",
       "        vertical-align: top;\n",
       "    }\n",
       "\n",
       "    .dataframe thead th {\n",
       "        text-align: right;\n",
       "    }\n",
       "</style>\n",
       "<table border=\"1\" class=\"dataframe\">\n",
       "  <thead>\n",
       "    <tr style=\"text-align: right;\">\n",
       "      <th></th>\n",
       "      <th>PassengerId</th>\n",
       "      <th>Survived</th>\n",
       "      <th>Pclass</th>\n",
       "      <th>Name</th>\n",
       "      <th>Sex</th>\n",
       "      <th>Age</th>\n",
       "      <th>SibSp</th>\n",
       "      <th>Parch</th>\n",
       "      <th>Ticket</th>\n",
       "      <th>Fare</th>\n",
       "      <th>Cabin</th>\n",
       "      <th>Embarked</th>\n",
       "    </tr>\n",
       "  </thead>\n",
       "  <tbody>\n",
       "    <tr>\n",
       "      <th>0</th>\n",
       "      <td>1</td>\n",
       "      <td>0</td>\n",
       "      <td>3</td>\n",
       "      <td>Braund, Mr. Owen Harris</td>\n",
       "      <td>male</td>\n",
       "      <td>22.0</td>\n",
       "      <td>1</td>\n",
       "      <td>0</td>\n",
       "      <td>A/5 21171</td>\n",
       "      <td>7.2500</td>\n",
       "      <td>NaN</td>\n",
       "      <td>S</td>\n",
       "    </tr>\n",
       "    <tr>\n",
       "      <th>1</th>\n",
       "      <td>2</td>\n",
       "      <td>1</td>\n",
       "      <td>1</td>\n",
       "      <td>Cumings, Mrs. John Bradley (Florence Briggs Th...</td>\n",
       "      <td>female</td>\n",
       "      <td>38.0</td>\n",
       "      <td>1</td>\n",
       "      <td>0</td>\n",
       "      <td>PC 17599</td>\n",
       "      <td>71.2833</td>\n",
       "      <td>C85</td>\n",
       "      <td>C</td>\n",
       "    </tr>\n",
       "    <tr>\n",
       "      <th>2</th>\n",
       "      <td>3</td>\n",
       "      <td>1</td>\n",
       "      <td>3</td>\n",
       "      <td>Heikkinen, Miss. Laina</td>\n",
       "      <td>female</td>\n",
       "      <td>26.0</td>\n",
       "      <td>0</td>\n",
       "      <td>0</td>\n",
       "      <td>STON/O2. 3101282</td>\n",
       "      <td>7.9250</td>\n",
       "      <td>NaN</td>\n",
       "      <td>S</td>\n",
       "    </tr>\n",
       "    <tr>\n",
       "      <th>3</th>\n",
       "      <td>4</td>\n",
       "      <td>1</td>\n",
       "      <td>1</td>\n",
       "      <td>Futrelle, Mrs. Jacques Heath (Lily May Peel)</td>\n",
       "      <td>female</td>\n",
       "      <td>35.0</td>\n",
       "      <td>1</td>\n",
       "      <td>0</td>\n",
       "      <td>113803</td>\n",
       "      <td>53.1000</td>\n",
       "      <td>C123</td>\n",
       "      <td>S</td>\n",
       "    </tr>\n",
       "    <tr>\n",
       "      <th>4</th>\n",
       "      <td>5</td>\n",
       "      <td>0</td>\n",
       "      <td>3</td>\n",
       "      <td>Allen, Mr. William Henry</td>\n",
       "      <td>male</td>\n",
       "      <td>35.0</td>\n",
       "      <td>0</td>\n",
       "      <td>0</td>\n",
       "      <td>373450</td>\n",
       "      <td>8.0500</td>\n",
       "      <td>NaN</td>\n",
       "      <td>S</td>\n",
       "    </tr>\n",
       "  </tbody>\n",
       "</table>\n",
       "</div>"
      ],
      "text/plain": [
       "   PassengerId  Survived  Pclass  \\\n",
       "0            1         0       3   \n",
       "1            2         1       1   \n",
       "2            3         1       3   \n",
       "3            4         1       1   \n",
       "4            5         0       3   \n",
       "\n",
       "                                                Name     Sex   Age  SibSp  \\\n",
       "0                            Braund, Mr. Owen Harris    male  22.0      1   \n",
       "1  Cumings, Mrs. John Bradley (Florence Briggs Th...  female  38.0      1   \n",
       "2                             Heikkinen, Miss. Laina  female  26.0      0   \n",
       "3       Futrelle, Mrs. Jacques Heath (Lily May Peel)  female  35.0      1   \n",
       "4                           Allen, Mr. William Henry    male  35.0      0   \n",
       "\n",
       "   Parch            Ticket     Fare Cabin Embarked  \n",
       "0      0         A/5 21171   7.2500   NaN        S  \n",
       "1      0          PC 17599  71.2833   C85        C  \n",
       "2      0  STON/O2. 3101282   7.9250   NaN        S  \n",
       "3      0            113803  53.1000  C123        S  \n",
       "4      0            373450   8.0500   NaN        S  "
      ]
     },
     "execution_count": 2,
     "metadata": {},
     "output_type": "execute_result"
    }
   ],
   "source": [
    "train_data = pd.read_csv('/kaggle/input/titanic/train.csv')\n",
    "train_data.head()"
   ]
  },
  {
   "cell_type": "code",
   "execution_count": 3,
   "id": "45d93f02",
   "metadata": {
    "execution": {
     "iopub.execute_input": "2022-02-11T16:23:54.463807Z",
     "iopub.status.busy": "2022-02-11T16:23:54.463047Z",
     "iopub.status.idle": "2022-02-11T16:23:54.466699Z",
     "shell.execute_reply": "2022-02-11T16:23:54.467170Z",
     "shell.execute_reply.started": "2022-02-11T16:04:25.024091Z"
    },
    "papermill": {
     "duration": 0.033992,
     "end_time": "2022-02-11T16:23:54.467369",
     "exception": false,
     "start_time": "2022-02-11T16:23:54.433377",
     "status": "completed"
    },
    "tags": []
   },
   "outputs": [
    {
     "data": {
      "text/plain": [
       "(891, 12)"
      ]
     },
     "execution_count": 3,
     "metadata": {},
     "output_type": "execute_result"
    }
   ],
   "source": [
    "train_data.shape"
   ]
  },
  {
   "cell_type": "code",
   "execution_count": 4,
   "id": "2f444f0c",
   "metadata": {
    "execution": {
     "iopub.execute_input": "2022-02-11T16:23:54.526926Z",
     "iopub.status.busy": "2022-02-11T16:23:54.526190Z",
     "iopub.status.idle": "2022-02-11T16:23:54.533139Z",
     "shell.execute_reply": "2022-02-11T16:23:54.533622Z",
     "shell.execute_reply.started": "2022-02-11T16:04:25.310511Z"
    },
    "papermill": {
     "duration": 0.041424,
     "end_time": "2022-02-11T16:23:54.533801",
     "exception": false,
     "start_time": "2022-02-11T16:23:54.492377",
     "status": "completed"
    },
    "tags": []
   },
   "outputs": [
    {
     "data": {
      "text/plain": [
       "347082      7\n",
       "CA. 2343    7\n",
       "1601        7\n",
       "3101295     6\n",
       "CA 2144     6\n",
       "           ..\n",
       "9234        1\n",
       "19988       1\n",
       "2693        1\n",
       "PC 17612    1\n",
       "370376      1\n",
       "Name: Ticket, Length: 681, dtype: int64"
      ]
     },
     "execution_count": 4,
     "metadata": {},
     "output_type": "execute_result"
    }
   ],
   "source": [
    "train_data.Ticket.value_counts()"
   ]
  },
  {
   "cell_type": "code",
   "execution_count": 5,
   "id": "d4ee76bf",
   "metadata": {
    "execution": {
     "iopub.execute_input": "2022-02-11T16:23:54.592901Z",
     "iopub.status.busy": "2022-02-11T16:23:54.592200Z",
     "iopub.status.idle": "2022-02-11T16:23:54.599401Z",
     "shell.execute_reply": "2022-02-11T16:23:54.599987Z",
     "shell.execute_reply.started": "2022-02-11T16:04:28.488820Z"
    },
    "papermill": {
     "duration": 0.041316,
     "end_time": "2022-02-11T16:23:54.600168",
     "exception": false,
     "start_time": "2022-02-11T16:23:54.558852",
     "status": "completed"
    },
    "tags": []
   },
   "outputs": [
    {
     "data": {
      "text/plain": [
       "B96 B98        4\n",
       "G6             4\n",
       "C23 C25 C27    4\n",
       "C22 C26        3\n",
       "F33            3\n",
       "              ..\n",
       "E34            1\n",
       "C7             1\n",
       "C54            1\n",
       "E36            1\n",
       "C148           1\n",
       "Name: Cabin, Length: 147, dtype: int64"
      ]
     },
     "execution_count": 5,
     "metadata": {},
     "output_type": "execute_result"
    }
   ],
   "source": [
    "train_data.Cabin.value_counts()"
   ]
  },
  {
   "cell_type": "code",
   "execution_count": 6,
   "id": "a9852d58",
   "metadata": {
    "execution": {
     "iopub.execute_input": "2022-02-11T16:23:54.655899Z",
     "iopub.status.busy": "2022-02-11T16:23:54.654181Z",
     "iopub.status.idle": "2022-02-11T16:23:54.669439Z",
     "shell.execute_reply": "2022-02-11T16:23:54.668848Z",
     "shell.execute_reply.started": "2022-02-11T16:04:29.130216Z"
    },
    "papermill": {
     "duration": 0.0439,
     "end_time": "2022-02-11T16:23:54.669593",
     "exception": false,
     "start_time": "2022-02-11T16:23:54.625693",
     "status": "completed"
    },
    "tags": []
   },
   "outputs": [],
   "source": [
    "test_data = pd.read_csv('/kaggle/input/titanic/test.csv')"
   ]
  },
  {
   "cell_type": "code",
   "execution_count": 7,
   "id": "1fa441a0",
   "metadata": {
    "execution": {
     "iopub.execute_input": "2022-02-11T16:23:54.737345Z",
     "iopub.status.busy": "2022-02-11T16:23:54.736630Z",
     "iopub.status.idle": "2022-02-11T16:23:54.740449Z",
     "shell.execute_reply": "2022-02-11T16:23:54.739892Z",
     "shell.execute_reply.started": "2022-02-11T16:04:29.208791Z"
    },
    "papermill": {
     "duration": 0.044378,
     "end_time": "2022-02-11T16:23:54.740592",
     "exception": false,
     "start_time": "2022-02-11T16:23:54.696214",
     "status": "completed"
    },
    "tags": []
   },
   "outputs": [
    {
     "data": {
      "text/html": [
       "<div>\n",
       "<style scoped>\n",
       "    .dataframe tbody tr th:only-of-type {\n",
       "        vertical-align: middle;\n",
       "    }\n",
       "\n",
       "    .dataframe tbody tr th {\n",
       "        vertical-align: top;\n",
       "    }\n",
       "\n",
       "    .dataframe thead th {\n",
       "        text-align: right;\n",
       "    }\n",
       "</style>\n",
       "<table border=\"1\" class=\"dataframe\">\n",
       "  <thead>\n",
       "    <tr style=\"text-align: right;\">\n",
       "      <th></th>\n",
       "      <th>PassengerId</th>\n",
       "      <th>Pclass</th>\n",
       "      <th>Name</th>\n",
       "      <th>Sex</th>\n",
       "      <th>Age</th>\n",
       "      <th>SibSp</th>\n",
       "      <th>Parch</th>\n",
       "      <th>Ticket</th>\n",
       "      <th>Fare</th>\n",
       "      <th>Cabin</th>\n",
       "      <th>Embarked</th>\n",
       "    </tr>\n",
       "  </thead>\n",
       "  <tbody>\n",
       "    <tr>\n",
       "      <th>0</th>\n",
       "      <td>892</td>\n",
       "      <td>3</td>\n",
       "      <td>Kelly, Mr. James</td>\n",
       "      <td>male</td>\n",
       "      <td>34.5</td>\n",
       "      <td>0</td>\n",
       "      <td>0</td>\n",
       "      <td>330911</td>\n",
       "      <td>7.8292</td>\n",
       "      <td>NaN</td>\n",
       "      <td>Q</td>\n",
       "    </tr>\n",
       "    <tr>\n",
       "      <th>1</th>\n",
       "      <td>893</td>\n",
       "      <td>3</td>\n",
       "      <td>Wilkes, Mrs. James (Ellen Needs)</td>\n",
       "      <td>female</td>\n",
       "      <td>47.0</td>\n",
       "      <td>1</td>\n",
       "      <td>0</td>\n",
       "      <td>363272</td>\n",
       "      <td>7.0000</td>\n",
       "      <td>NaN</td>\n",
       "      <td>S</td>\n",
       "    </tr>\n",
       "    <tr>\n",
       "      <th>2</th>\n",
       "      <td>894</td>\n",
       "      <td>2</td>\n",
       "      <td>Myles, Mr. Thomas Francis</td>\n",
       "      <td>male</td>\n",
       "      <td>62.0</td>\n",
       "      <td>0</td>\n",
       "      <td>0</td>\n",
       "      <td>240276</td>\n",
       "      <td>9.6875</td>\n",
       "      <td>NaN</td>\n",
       "      <td>Q</td>\n",
       "    </tr>\n",
       "    <tr>\n",
       "      <th>3</th>\n",
       "      <td>895</td>\n",
       "      <td>3</td>\n",
       "      <td>Wirz, Mr. Albert</td>\n",
       "      <td>male</td>\n",
       "      <td>27.0</td>\n",
       "      <td>0</td>\n",
       "      <td>0</td>\n",
       "      <td>315154</td>\n",
       "      <td>8.6625</td>\n",
       "      <td>NaN</td>\n",
       "      <td>S</td>\n",
       "    </tr>\n",
       "    <tr>\n",
       "      <th>4</th>\n",
       "      <td>896</td>\n",
       "      <td>3</td>\n",
       "      <td>Hirvonen, Mrs. Alexander (Helga E Lindqvist)</td>\n",
       "      <td>female</td>\n",
       "      <td>22.0</td>\n",
       "      <td>1</td>\n",
       "      <td>1</td>\n",
       "      <td>3101298</td>\n",
       "      <td>12.2875</td>\n",
       "      <td>NaN</td>\n",
       "      <td>S</td>\n",
       "    </tr>\n",
       "  </tbody>\n",
       "</table>\n",
       "</div>"
      ],
      "text/plain": [
       "   PassengerId  Pclass                                          Name     Sex  \\\n",
       "0          892       3                              Kelly, Mr. James    male   \n",
       "1          893       3              Wilkes, Mrs. James (Ellen Needs)  female   \n",
       "2          894       2                     Myles, Mr. Thomas Francis    male   \n",
       "3          895       3                              Wirz, Mr. Albert    male   \n",
       "4          896       3  Hirvonen, Mrs. Alexander (Helga E Lindqvist)  female   \n",
       "\n",
       "    Age  SibSp  Parch   Ticket     Fare Cabin Embarked  \n",
       "0  34.5      0      0   330911   7.8292   NaN        Q  \n",
       "1  47.0      1      0   363272   7.0000   NaN        S  \n",
       "2  62.0      0      0   240276   9.6875   NaN        Q  \n",
       "3  27.0      0      0   315154   8.6625   NaN        S  \n",
       "4  22.0      1      1  3101298  12.2875   NaN        S  "
      ]
     },
     "execution_count": 7,
     "metadata": {},
     "output_type": "execute_result"
    }
   ],
   "source": [
    "test_data.head()"
   ]
  },
  {
   "cell_type": "code",
   "execution_count": 8,
   "id": "22a702c3",
   "metadata": {
    "execution": {
     "iopub.execute_input": "2022-02-11T16:23:54.803953Z",
     "iopub.status.busy": "2022-02-11T16:23:54.797658Z",
     "iopub.status.idle": "2022-02-11T16:23:54.808514Z",
     "shell.execute_reply": "2022-02-11T16:23:54.809004Z",
     "shell.execute_reply.started": "2022-02-11T16:04:29.838421Z"
    },
    "papermill": {
     "duration": 0.042539,
     "end_time": "2022-02-11T16:23:54.809199",
     "exception": false,
     "start_time": "2022-02-11T16:23:54.766660",
     "status": "completed"
    },
    "tags": []
   },
   "outputs": [
    {
     "name": "stdout",
     "output_type": "stream",
     "text": [
      "The percent of women who survived was 0.7420382165605095\n"
     ]
    }
   ],
   "source": [
    "women = train_data.loc[train_data['Sex']=='female']['Survived']\n",
    "rate_women = sum(women)/len(women)\n",
    "\n",
    "print('The percent of women who survived was ' + str(rate_women))"
   ]
  },
  {
   "cell_type": "code",
   "execution_count": 9,
   "id": "4662b570",
   "metadata": {
    "execution": {
     "iopub.execute_input": "2022-02-11T16:23:54.867545Z",
     "iopub.status.busy": "2022-02-11T16:23:54.864967Z",
     "iopub.status.idle": "2022-02-11T16:23:54.872127Z",
     "shell.execute_reply": "2022-02-11T16:23:54.871588Z",
     "shell.execute_reply.started": "2022-02-11T16:04:30.293885Z"
    },
    "papermill": {
     "duration": 0.036803,
     "end_time": "2022-02-11T16:23:54.872306",
     "exception": false,
     "start_time": "2022-02-11T16:23:54.835503",
     "status": "completed"
    },
    "tags": []
   },
   "outputs": [
    {
     "name": "stdout",
     "output_type": "stream",
     "text": [
      "The percent of men who survived was 0.18890814558058924\n"
     ]
    }
   ],
   "source": [
    "men = train_data.loc[train_data.Sex == 'male']['Survived']\n",
    "rate_men = sum(men)/len(men)\n",
    "\n",
    "print('The percent of men who survived was ' + str(rate_men))"
   ]
  },
  {
   "cell_type": "code",
   "execution_count": 10,
   "id": "2f5cda52",
   "metadata": {
    "execution": {
     "iopub.execute_input": "2022-02-11T16:23:54.934663Z",
     "iopub.status.busy": "2022-02-11T16:23:54.933906Z",
     "iopub.status.idle": "2022-02-11T16:23:54.941365Z",
     "shell.execute_reply": "2022-02-11T16:23:54.940779Z",
     "shell.execute_reply.started": "2022-02-11T16:04:30.822062Z"
    },
    "papermill": {
     "duration": 0.042204,
     "end_time": "2022-02-11T16:23:54.941524",
     "exception": false,
     "start_time": "2022-02-11T16:23:54.899320",
     "status": "completed"
    },
    "tags": []
   },
   "outputs": [
    {
     "name": "stdout",
     "output_type": "stream",
     "text": [
      "The percent of children who survived was 0.5398230088495575\n"
     ]
    }
   ],
   "source": [
    "children = train_data.loc[train_data['Age']<18]['Survived']\n",
    "rate_children = sum(children)/len(children)\n",
    "\n",
    "print('The percent of children who survived was ' + str(rate_children))"
   ]
  },
  {
   "cell_type": "code",
   "execution_count": 11,
   "id": "654a61d6",
   "metadata": {
    "execution": {
     "iopub.execute_input": "2022-02-11T16:23:55.004252Z",
     "iopub.status.busy": "2022-02-11T16:23:55.003560Z",
     "iopub.status.idle": "2022-02-11T16:23:55.009653Z",
     "shell.execute_reply": "2022-02-11T16:23:55.009070Z",
     "shell.execute_reply.started": "2022-02-11T16:04:34.210246Z"
    },
    "papermill": {
     "duration": 0.03994,
     "end_time": "2022-02-11T16:23:55.009810",
     "exception": false,
     "start_time": "2022-02-11T16:23:54.969870",
     "status": "completed"
    },
    "tags": []
   },
   "outputs": [
    {
     "name": "stdout",
     "output_type": "stream",
     "text": [
      "The percent of adults who survived was 0.3810316139767055\n"
     ]
    }
   ],
   "source": [
    "adults = train_data.loc[train_data['Age']>=18]['Survived']\n",
    "rate_adults = sum(adults)/len(adults)\n",
    "\n",
    "print('The percent of adults who survived was ' + str(rate_adults))"
   ]
  },
  {
   "cell_type": "code",
   "execution_count": null,
   "id": "691f1c6d",
   "metadata": {
    "execution": {
     "iopub.execute_input": "2022-02-10T19:07:47.624981Z",
     "iopub.status.busy": "2022-02-10T19:07:47.624444Z",
     "iopub.status.idle": "2022-02-10T19:07:47.631831Z",
     "shell.execute_reply": "2022-02-10T19:07:47.630637Z",
     "shell.execute_reply.started": "2022-02-10T19:07:47.624927Z"
    },
    "papermill": {
     "duration": 0.027819,
     "end_time": "2022-02-11T16:23:55.066247",
     "exception": false,
     "start_time": "2022-02-11T16:23:55.038428",
     "status": "completed"
    },
    "tags": []
   },
   "outputs": [],
   "source": []
  },
  {
   "cell_type": "code",
   "execution_count": null,
   "id": "2ff66ce6",
   "metadata": {
    "papermill": {
     "duration": 0.028332,
     "end_time": "2022-02-11T16:23:55.123473",
     "exception": false,
     "start_time": "2022-02-11T16:23:55.095141",
     "status": "completed"
    },
    "tags": []
   },
   "outputs": [],
   "source": []
  },
  {
   "cell_type": "markdown",
   "id": "8924c1b3",
   "metadata": {
    "papermill": {
     "duration": 0.029031,
     "end_time": "2022-02-11T16:23:55.182849",
     "exception": false,
     "start_time": "2022-02-11T16:23:55.153818",
     "status": "completed"
    },
    "tags": []
   },
   "source": []
  },
  {
   "cell_type": "markdown",
   "id": "95dc77f9",
   "metadata": {
    "papermill": {
     "duration": 0.029448,
     "end_time": "2022-02-11T16:23:55.245301",
     "exception": false,
     "start_time": "2022-02-11T16:23:55.215853",
     "status": "completed"
    },
    "tags": []
   },
   "source": []
  },
  {
   "cell_type": "code",
   "execution_count": 12,
   "id": "da5cc29b",
   "metadata": {
    "execution": {
     "iopub.execute_input": "2022-02-11T16:23:55.311239Z",
     "iopub.status.busy": "2022-02-11T16:23:55.310318Z",
     "iopub.status.idle": "2022-02-11T16:23:55.314045Z",
     "shell.execute_reply": "2022-02-11T16:23:55.313521Z",
     "shell.execute_reply.started": "2022-02-11T16:04:39.450282Z"
    },
    "papermill": {
     "duration": 0.039909,
     "end_time": "2022-02-11T16:23:55.314201",
     "exception": false,
     "start_time": "2022-02-11T16:23:55.274292",
     "status": "completed"
    },
    "tags": []
   },
   "outputs": [
    {
     "data": {
      "text/plain": [
       "B96 B98        4\n",
       "G6             4\n",
       "C23 C25 C27    4\n",
       "C22 C26        3\n",
       "F33            3\n",
       "              ..\n",
       "E34            1\n",
       "C7             1\n",
       "C54            1\n",
       "E36            1\n",
       "C148           1\n",
       "Name: Cabin, Length: 147, dtype: int64"
      ]
     },
     "execution_count": 12,
     "metadata": {},
     "output_type": "execute_result"
    }
   ],
   "source": [
    "train_data.Cabin.value_counts()"
   ]
  },
  {
   "cell_type": "code",
   "execution_count": 13,
   "id": "6487df92",
   "metadata": {
    "execution": {
     "iopub.execute_input": "2022-02-11T16:23:55.377481Z",
     "iopub.status.busy": "2022-02-11T16:23:55.376686Z",
     "iopub.status.idle": "2022-02-11T16:23:55.380670Z",
     "shell.execute_reply": "2022-02-11T16:23:55.380067Z",
     "shell.execute_reply.started": "2022-02-11T16:04:40.512901Z"
    },
    "papermill": {
     "duration": 0.036467,
     "end_time": "2022-02-11T16:23:55.380828",
     "exception": false,
     "start_time": "2022-02-11T16:23:55.344361",
     "status": "completed"
    },
    "tags": []
   },
   "outputs": [],
   "source": [
    "#train_data['HasCabin'] = np.where(train_data.Cabin.isnull() == True, False, True)\n",
    "#test_data['HasCabin'] = np.where(test_data.Cabin.isnull() == True, False, True)"
   ]
  },
  {
   "cell_type": "code",
   "execution_count": 14,
   "id": "0570f61c",
   "metadata": {
    "execution": {
     "iopub.execute_input": "2022-02-11T16:23:55.453975Z",
     "iopub.status.busy": "2022-02-11T16:23:55.452655Z",
     "iopub.status.idle": "2022-02-11T16:23:55.455945Z",
     "shell.execute_reply": "2022-02-11T16:23:55.456494Z",
     "shell.execute_reply.started": "2022-02-11T16:04:41.110022Z"
    },
    "papermill": {
     "duration": 0.044159,
     "end_time": "2022-02-11T16:23:55.456718",
     "exception": false,
     "start_time": "2022-02-11T16:23:55.412559",
     "status": "completed"
    },
    "tags": []
   },
   "outputs": [],
   "source": [
    "#train_data.HasCabin.sum()"
   ]
  },
  {
   "cell_type": "code",
   "execution_count": 15,
   "id": "b1556c86",
   "metadata": {
    "execution": {
     "iopub.execute_input": "2022-02-11T16:23:55.534574Z",
     "iopub.status.busy": "2022-02-11T16:23:55.533378Z",
     "iopub.status.idle": "2022-02-11T16:23:55.537739Z",
     "shell.execute_reply": "2022-02-11T16:23:55.536972Z",
     "shell.execute_reply.started": "2022-02-11T16:06:10.317983Z"
    },
    "papermill": {
     "duration": 0.049066,
     "end_time": "2022-02-11T16:23:55.537934",
     "exception": false,
     "start_time": "2022-02-11T16:23:55.488868",
     "status": "completed"
    },
    "tags": []
   },
   "outputs": [],
   "source": [
    "features = ['Pclass', 'Sex', 'Age', 'SibSp', 'Parch', 'Fare', 'Cabin', 'Embarked']\n",
    "\n",
    "y_train = train_data['Survived']\n",
    "train_data1 = train_data[features]\n",
    "test_data1 = test_data[features]"
   ]
  },
  {
   "cell_type": "code",
   "execution_count": 16,
   "id": "e6032c6d",
   "metadata": {
    "execution": {
     "iopub.execute_input": "2022-02-11T16:23:55.619943Z",
     "iopub.status.busy": "2022-02-11T16:23:55.615769Z",
     "iopub.status.idle": "2022-02-11T16:23:55.642496Z",
     "shell.execute_reply": "2022-02-11T16:23:55.643166Z",
     "shell.execute_reply.started": "2022-02-11T16:23:07.742191Z"
    },
    "papermill": {
     "duration": 0.073038,
     "end_time": "2022-02-11T16:23:55.643418",
     "exception": false,
     "start_time": "2022-02-11T16:23:55.570380",
     "status": "completed"
    },
    "tags": []
   },
   "outputs": [],
   "source": [
    "# Convert the categorical features in the train and test sets independently\n",
    "train_data_d = pd.get_dummies(train_data1)\n",
    "test_data_d = pd.get_dummies(test_data1)\n",
    "\n",
    "# Replace all missing values in age & Fare with mean value\n",
    "train_data_d['Age'] = train_data_d['Age'].fillna(train_data_d['Age'].mean())\n",
    "test_data_d['Age'] = test_data_d['Age'].fillna(test_data_d['Age'].mean())\n",
    "train_data_d['Fare'] = train_data_d['Fare'].fillna(train_data_d['Fare'].mean())\n",
    "test_data_d['Fare'] = test_data_d['Fare'].fillna(test_data_d['Fare'].mean())\n",
    "\n",
    "\n",
    "# Reindex the columns of the test set aligning with the train set\n",
    "test_data_d = test_data_d.reindex(columns=train_data_d.columns, fill_value=0)"
   ]
  },
  {
   "cell_type": "code",
   "execution_count": 17,
   "id": "2ef5abd9",
   "metadata": {
    "execution": {
     "iopub.execute_input": "2022-02-11T16:23:55.706587Z",
     "iopub.status.busy": "2022-02-11T16:23:55.705467Z",
     "iopub.status.idle": "2022-02-11T16:23:55.717527Z",
     "shell.execute_reply": "2022-02-11T16:23:55.718324Z",
     "shell.execute_reply.started": "2022-02-11T16:23:08.993914Z"
    },
    "papermill": {
     "duration": 0.047265,
     "end_time": "2022-02-11T16:23:55.718620",
     "exception": false,
     "start_time": "2022-02-11T16:23:55.671355",
     "status": "completed"
    },
    "tags": []
   },
   "outputs": [
    {
     "name": "stdout",
     "output_type": "stream",
     "text": [
      "(891, 157)\n",
      "Pclass        0\n",
      "Age           0\n",
      "SibSp         0\n",
      "Parch         0\n",
      "Fare          0\n",
      "             ..\n",
      "Cabin_G6      0\n",
      "Cabin_T       0\n",
      "Embarked_C    0\n",
      "Embarked_Q    0\n",
      "Embarked_S    0\n",
      "Length: 157, dtype: int64\n"
     ]
    }
   ],
   "source": [
    "print(train_data_d.shape)\n",
    "print(test_data_d.isnull().sum())"
   ]
  },
  {
   "cell_type": "code",
   "execution_count": 18,
   "id": "6116a458",
   "metadata": {
    "execution": {
     "iopub.execute_input": "2022-02-11T16:23:55.782958Z",
     "iopub.status.busy": "2022-02-11T16:23:55.781856Z",
     "iopub.status.idle": "2022-02-11T16:23:57.116196Z",
     "shell.execute_reply": "2022-02-11T16:23:57.115331Z",
     "shell.execute_reply.started": "2022-02-11T16:23:12.061468Z"
    },
    "papermill": {
     "duration": 1.367952,
     "end_time": "2022-02-11T16:23:57.116391",
     "exception": false,
     "start_time": "2022-02-11T16:23:55.748439",
     "status": "completed"
    },
    "tags": []
   },
   "outputs": [],
   "source": [
    "# Import MinMaxScaler\n",
    "from sklearn.preprocessing import MinMaxScaler\n",
    "\n",
    "# Instantiate MinMaxScaler and use it to rescale X_train and X_test\n",
    "scaler = MinMaxScaler(feature_range=(0,1))\n",
    "train_data_rescaled = scaler.fit_transform(train_data_d)\n",
    "test_data_rescaled = scaler.fit_transform(test_data_d)"
   ]
  },
  {
   "cell_type": "code",
   "execution_count": null,
   "id": "9fcf99f9",
   "metadata": {
    "papermill": {
     "duration": 0.030478,
     "end_time": "2022-02-11T16:23:57.176964",
     "exception": false,
     "start_time": "2022-02-11T16:23:57.146486",
     "status": "completed"
    },
    "tags": []
   },
   "outputs": [],
   "source": []
  },
  {
   "cell_type": "code",
   "execution_count": 19,
   "id": "4ce65fed",
   "metadata": {
    "execution": {
     "iopub.execute_input": "2022-02-11T16:23:57.241547Z",
     "iopub.status.busy": "2022-02-11T16:23:57.240527Z",
     "iopub.status.idle": "2022-02-11T16:23:57.253428Z",
     "shell.execute_reply": "2022-02-11T16:23:57.252784Z",
     "shell.execute_reply.started": "2022-02-11T16:23:12.388689Z"
    },
    "papermill": {
     "duration": 0.046687,
     "end_time": "2022-02-11T16:23:57.253592",
     "exception": false,
     "start_time": "2022-02-11T16:23:57.206905",
     "status": "completed"
    },
    "tags": []
   },
   "outputs": [
    {
     "data": {
      "text/plain": [
       "Pclass        0\n",
       "Age           0\n",
       "SibSp         0\n",
       "Parch         0\n",
       "Fare          0\n",
       "             ..\n",
       "Cabin_G6      0\n",
       "Cabin_T       0\n",
       "Embarked_C    0\n",
       "Embarked_Q    0\n",
       "Embarked_S    0\n",
       "Length: 157, dtype: int64"
      ]
     },
     "execution_count": 19,
     "metadata": {},
     "output_type": "execute_result"
    }
   ],
   "source": [
    "train_data_d.isnull().sum()"
   ]
  },
  {
   "cell_type": "code",
   "execution_count": 20,
   "id": "9c1b6ea3",
   "metadata": {
    "execution": {
     "iopub.execute_input": "2022-02-11T16:23:57.320137Z",
     "iopub.status.busy": "2022-02-11T16:23:57.319007Z",
     "iopub.status.idle": "2022-02-11T16:23:57.542693Z",
     "shell.execute_reply": "2022-02-11T16:23:57.543571Z",
     "shell.execute_reply.started": "2022-02-11T16:23:12.523165Z"
    },
    "papermill": {
     "duration": 0.260013,
     "end_time": "2022-02-11T16:23:57.543929",
     "exception": false,
     "start_time": "2022-02-11T16:23:57.283916",
     "status": "completed"
    },
    "tags": []
   },
   "outputs": [
    {
     "data": {
      "text/plain": [
       "LogisticRegression()"
      ]
     },
     "execution_count": 20,
     "metadata": {},
     "output_type": "execute_result"
    }
   ],
   "source": [
    "# Import LogisticRegression\n",
    "from sklearn.linear_model import LogisticRegression\n",
    "\n",
    "# Instantiate a LogisticRegression classifier with default parameter values\n",
    "logreg = LogisticRegression()\n",
    "\n",
    "# Fit logreg to the train set\n",
    "logreg.fit(train_data_rescaled, y_train)"
   ]
  },
  {
   "cell_type": "code",
   "execution_count": 21,
   "id": "0911538b",
   "metadata": {
    "execution": {
     "iopub.execute_input": "2022-02-11T16:23:57.662246Z",
     "iopub.status.busy": "2022-02-11T16:23:57.661560Z",
     "iopub.status.idle": "2022-02-11T16:23:57.664800Z",
     "shell.execute_reply": "2022-02-11T16:23:57.664209Z",
     "shell.execute_reply.started": "2022-02-11T16:23:12.679328Z"
    },
    "papermill": {
     "duration": 0.062949,
     "end_time": "2022-02-11T16:23:57.664966",
     "exception": false,
     "start_time": "2022-02-11T16:23:57.602017",
     "status": "completed"
    },
    "tags": []
   },
   "outputs": [],
   "source": [
    "# Import GridSearchCV\n",
    "from sklearn.model_selection import GridSearchCV\n",
    "\n",
    "# Define the grid of values for tol and max_iter\n",
    "tol = [0.01,0.001,0.0001]\n",
    "max_iter = [100,150,200]\n",
    "\n",
    "# Create a dictionary where tol and max_iter are keys and the lists of their values are corresponding values\n",
    "param_grid = dict(tol=tol, max_iter=max_iter)"
   ]
  },
  {
   "cell_type": "code",
   "execution_count": 22,
   "id": "7983980d",
   "metadata": {
    "execution": {
     "iopub.execute_input": "2022-02-11T16:23:57.735573Z",
     "iopub.status.busy": "2022-02-11T16:23:57.734235Z",
     "iopub.status.idle": "2022-02-11T16:23:59.399081Z",
     "shell.execute_reply": "2022-02-11T16:23:59.400512Z",
     "shell.execute_reply.started": "2022-02-11T16:23:13.062460Z"
    },
    "papermill": {
     "duration": 1.701145,
     "end_time": "2022-02-11T16:23:59.400812",
     "exception": false,
     "start_time": "2022-02-11T16:23:57.699667",
     "status": "completed"
    },
    "tags": []
   },
   "outputs": [
    {
     "name": "stdout",
     "output_type": "stream",
     "text": [
      "Best: 0.790120 using {'max_iter': 100, 'tol': 0.01}\n",
      "LogisticRegression(tol=0.01)\n"
     ]
    }
   ],
   "source": [
    "# Instantiate GridSearchCV with the required parameters\n",
    "grid_model = GridSearchCV(estimator=logreg, param_grid=param_grid, cv=5)\n",
    "\n",
    "# Fit grid_model to the data\n",
    "grid_model_result = grid_model.fit(train_data_rescaled, y_train)\n",
    "\n",
    "# Summarize results\n",
    "best_score, best_params = grid_model_result.best_score_, grid_model_result.best_params_\n",
    "print(\"Best: %f using %s\" % (best_score, best_params))\n",
    "\n",
    "# Extract the best model and evaluate it on the test set\n",
    "best_model = grid_model_result.best_estimator_\n",
    "print(best_model)\n",
    "#print(\"Accuracy of logistic regression classifier: \", best_model.score(rescaledX_test,y_test))"
   ]
  },
  {
   "cell_type": "code",
   "execution_count": 23,
   "id": "8f9fd0b4",
   "metadata": {
    "execution": {
     "iopub.execute_input": "2022-02-11T16:23:59.522252Z",
     "iopub.status.busy": "2022-02-11T16:23:59.521088Z",
     "iopub.status.idle": "2022-02-11T16:23:59.533571Z",
     "shell.execute_reply": "2022-02-11T16:23:59.536018Z",
     "shell.execute_reply.started": "2022-02-11T16:23:14.521537Z"
    },
    "papermill": {
     "duration": 0.078802,
     "end_time": "2022-02-11T16:23:59.536478",
     "exception": false,
     "start_time": "2022-02-11T16:23:59.457676",
     "status": "completed"
    },
    "tags": []
   },
   "outputs": [
    {
     "name": "stdout",
     "output_type": "stream",
     "text": [
      "Your test submission was successfully saved!!\n"
     ]
    }
   ],
   "source": [
    "# Final for output\n",
    "predictions = best_model.predict(test_data_rescaled)\n",
    "\n",
    "output = pd.DataFrame({'PassengerId': test_data.PassengerId, 'Survived': predictions})\n",
    "\n",
    "output.to_csv('Submission-Logistic-Regression.csv', index=False)\n",
    "print('Your test submission was successfully saved!!')"
   ]
  },
  {
   "cell_type": "code",
   "execution_count": null,
   "id": "61c55823",
   "metadata": {
    "papermill": {
     "duration": 0.052106,
     "end_time": "2022-02-11T16:23:59.647699",
     "exception": false,
     "start_time": "2022-02-11T16:23:59.595593",
     "status": "completed"
    },
    "tags": []
   },
   "outputs": [],
   "source": []
  },
  {
   "cell_type": "code",
   "execution_count": null,
   "id": "aa51a67e",
   "metadata": {
    "papermill": {
     "duration": 0.030714,
     "end_time": "2022-02-11T16:23:59.708406",
     "exception": false,
     "start_time": "2022-02-11T16:23:59.677692",
     "status": "completed"
    },
    "tags": []
   },
   "outputs": [],
   "source": []
  }
 ],
 "metadata": {
  "kernelspec": {
   "display_name": "Python 3",
   "language": "python",
   "name": "python3"
  },
  "language_info": {
   "codemirror_mode": {
    "name": "ipython",
    "version": 3
   },
   "file_extension": ".py",
   "mimetype": "text/x-python",
   "name": "python",
   "nbconvert_exporter": "python",
   "pygments_lexer": "ipython3",
   "version": "3.7.12"
  },
  "papermill": {
   "default_parameters": {},
   "duration": 17.264525,
   "end_time": "2022-02-11T16:24:00.550214",
   "environment_variables": {},
   "exception": null,
   "input_path": "__notebook__.ipynb",
   "output_path": "__notebook__.ipynb",
   "parameters": {},
   "start_time": "2022-02-11T16:23:43.285689",
   "version": "2.3.3"
  }
 },
 "nbformat": 4,
 "nbformat_minor": 5
}
