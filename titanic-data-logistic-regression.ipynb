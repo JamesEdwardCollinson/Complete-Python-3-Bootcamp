{
 "cells": [
  {
   "cell_type": "code",
   "execution_count": 1,
   "id": "4e3e0894",
   "metadata": {
    "_cell_guid": "b1076dfc-b9ad-4769-8c92-a6c4dae69d19",
    "_uuid": "8f2839f25d086af736a60e9eeb907d3b93b6e0e5",
    "execution": {
     "iopub.execute_input": "2022-02-11T17:44:27.458170Z",
     "iopub.status.busy": "2022-02-11T17:44:27.456067Z",
     "iopub.status.idle": "2022-02-11T17:44:27.471129Z",
     "shell.execute_reply": "2022-02-11T17:44:27.471732Z",
     "shell.execute_reply.started": "2022-02-11T17:40:47.263928Z"
    },
    "papermill": {
     "duration": 0.05651,
     "end_time": "2022-02-11T17:44:27.472186",
     "exception": false,
     "start_time": "2022-02-11T17:44:27.415676",
     "status": "completed"
    },
    "tags": []
   },
   "outputs": [
    {
     "name": "stdout",
     "output_type": "stream",
     "text": [
      "/kaggle/input/titanic/train.csv\n",
      "/kaggle/input/titanic/test.csv\n",
      "/kaggle/input/titanic/gender_submission.csv\n"
     ]
    }
   ],
   "source": [
    "# This Python 3 environment comes with many helpful analytics libraries installed\n",
    "# It is defined by the kaggle/python Docker image: https://github.com/kaggle/docker-python\n",
    "# For example, here's several helpful packages to load\n",
    "\n",
    "import numpy as np # linear algebra\n",
    "import pandas as pd # data processing, CSV file I/O (e.g. pd.read_csv)\n",
    "\n",
    "# Input data files are available in the read-only \"../input/\" directory\n",
    "# For example, running this (by clicking run or pressing Shift+Enter) will list all files under the input directory\n",
    "\n",
    "import os\n",
    "for dirname, _, filenames in os.walk('/kaggle/input'):\n",
    "    for filename in filenames:\n",
    "        print(os.path.join(dirname, filename))\n",
    "\n",
    "# You can write up to 20GB to the current directory (/kaggle/working/) that gets preserved as output when you create a version using \"Save & Run All\" \n",
    "# You can also write temporary files to /kaggle/temp/, but they won't be saved outside of the current session"
   ]
  },
  {
   "cell_type": "code",
   "execution_count": 2,
   "id": "29962f47",
   "metadata": {
    "execution": {
     "iopub.execute_input": "2022-02-11T17:44:27.554479Z",
     "iopub.status.busy": "2022-02-11T17:44:27.553613Z",
     "iopub.status.idle": "2022-02-11T17:44:27.590739Z",
     "shell.execute_reply": "2022-02-11T17:44:27.591379Z",
     "shell.execute_reply.started": "2022-02-11T17:40:47.519259Z"
    },
    "papermill": {
     "duration": 0.079751,
     "end_time": "2022-02-11T17:44:27.591599",
     "exception": false,
     "start_time": "2022-02-11T17:44:27.511848",
     "status": "completed"
    },
    "tags": []
   },
   "outputs": [
    {
     "data": {
      "text/html": [
       "<div>\n",
       "<style scoped>\n",
       "    .dataframe tbody tr th:only-of-type {\n",
       "        vertical-align: middle;\n",
       "    }\n",
       "\n",
       "    .dataframe tbody tr th {\n",
       "        vertical-align: top;\n",
       "    }\n",
       "\n",
       "    .dataframe thead th {\n",
       "        text-align: right;\n",
       "    }\n",
       "</style>\n",
       "<table border=\"1\" class=\"dataframe\">\n",
       "  <thead>\n",
       "    <tr style=\"text-align: right;\">\n",
       "      <th></th>\n",
       "      <th>PassengerId</th>\n",
       "      <th>Survived</th>\n",
       "      <th>Pclass</th>\n",
       "      <th>Name</th>\n",
       "      <th>Sex</th>\n",
       "      <th>Age</th>\n",
       "      <th>SibSp</th>\n",
       "      <th>Parch</th>\n",
       "      <th>Ticket</th>\n",
       "      <th>Fare</th>\n",
       "      <th>Cabin</th>\n",
       "      <th>Embarked</th>\n",
       "    </tr>\n",
       "  </thead>\n",
       "  <tbody>\n",
       "    <tr>\n",
       "      <th>0</th>\n",
       "      <td>1</td>\n",
       "      <td>0</td>\n",
       "      <td>3</td>\n",
       "      <td>Braund, Mr. Owen Harris</td>\n",
       "      <td>male</td>\n",
       "      <td>22.0</td>\n",
       "      <td>1</td>\n",
       "      <td>0</td>\n",
       "      <td>A/5 21171</td>\n",
       "      <td>7.2500</td>\n",
       "      <td>NaN</td>\n",
       "      <td>S</td>\n",
       "    </tr>\n",
       "    <tr>\n",
       "      <th>1</th>\n",
       "      <td>2</td>\n",
       "      <td>1</td>\n",
       "      <td>1</td>\n",
       "      <td>Cumings, Mrs. John Bradley (Florence Briggs Th...</td>\n",
       "      <td>female</td>\n",
       "      <td>38.0</td>\n",
       "      <td>1</td>\n",
       "      <td>0</td>\n",
       "      <td>PC 17599</td>\n",
       "      <td>71.2833</td>\n",
       "      <td>C85</td>\n",
       "      <td>C</td>\n",
       "    </tr>\n",
       "    <tr>\n",
       "      <th>2</th>\n",
       "      <td>3</td>\n",
       "      <td>1</td>\n",
       "      <td>3</td>\n",
       "      <td>Heikkinen, Miss. Laina</td>\n",
       "      <td>female</td>\n",
       "      <td>26.0</td>\n",
       "      <td>0</td>\n",
       "      <td>0</td>\n",
       "      <td>STON/O2. 3101282</td>\n",
       "      <td>7.9250</td>\n",
       "      <td>NaN</td>\n",
       "      <td>S</td>\n",
       "    </tr>\n",
       "    <tr>\n",
       "      <th>3</th>\n",
       "      <td>4</td>\n",
       "      <td>1</td>\n",
       "      <td>1</td>\n",
       "      <td>Futrelle, Mrs. Jacques Heath (Lily May Peel)</td>\n",
       "      <td>female</td>\n",
       "      <td>35.0</td>\n",
       "      <td>1</td>\n",
       "      <td>0</td>\n",
       "      <td>113803</td>\n",
       "      <td>53.1000</td>\n",
       "      <td>C123</td>\n",
       "      <td>S</td>\n",
       "    </tr>\n",
       "    <tr>\n",
       "      <th>4</th>\n",
       "      <td>5</td>\n",
       "      <td>0</td>\n",
       "      <td>3</td>\n",
       "      <td>Allen, Mr. William Henry</td>\n",
       "      <td>male</td>\n",
       "      <td>35.0</td>\n",
       "      <td>0</td>\n",
       "      <td>0</td>\n",
       "      <td>373450</td>\n",
       "      <td>8.0500</td>\n",
       "      <td>NaN</td>\n",
       "      <td>S</td>\n",
       "    </tr>\n",
       "  </tbody>\n",
       "</table>\n",
       "</div>"
      ],
      "text/plain": [
       "   PassengerId  Survived  Pclass  \\\n",
       "0            1         0       3   \n",
       "1            2         1       1   \n",
       "2            3         1       3   \n",
       "3            4         1       1   \n",
       "4            5         0       3   \n",
       "\n",
       "                                                Name     Sex   Age  SibSp  \\\n",
       "0                            Braund, Mr. Owen Harris    male  22.0      1   \n",
       "1  Cumings, Mrs. John Bradley (Florence Briggs Th...  female  38.0      1   \n",
       "2                             Heikkinen, Miss. Laina  female  26.0      0   \n",
       "3       Futrelle, Mrs. Jacques Heath (Lily May Peel)  female  35.0      1   \n",
       "4                           Allen, Mr. William Henry    male  35.0      0   \n",
       "\n",
       "   Parch            Ticket     Fare Cabin Embarked  \n",
       "0      0         A/5 21171   7.2500   NaN        S  \n",
       "1      0          PC 17599  71.2833   C85        C  \n",
       "2      0  STON/O2. 3101282   7.9250   NaN        S  \n",
       "3      0            113803  53.1000  C123        S  \n",
       "4      0            373450   8.0500   NaN        S  "
      ]
     },
     "execution_count": 2,
     "metadata": {},
     "output_type": "execute_result"
    }
   ],
   "source": [
    "train_data = pd.read_csv('/kaggle/input/titanic/train.csv')\n",
    "train_data.head()"
   ]
  },
  {
   "cell_type": "code",
   "execution_count": 3,
   "id": "eb7d1f89",
   "metadata": {
    "execution": {
     "iopub.execute_input": "2022-02-11T17:44:27.671362Z",
     "iopub.status.busy": "2022-02-11T17:44:27.670330Z",
     "iopub.status.idle": "2022-02-11T17:44:27.675768Z",
     "shell.execute_reply": "2022-02-11T17:44:27.676410Z",
     "shell.execute_reply.started": "2022-02-11T17:40:47.800802Z"
    },
    "papermill": {
     "duration": 0.047909,
     "end_time": "2022-02-11T17:44:27.676627",
     "exception": false,
     "start_time": "2022-02-11T17:44:27.628718",
     "status": "completed"
    },
    "tags": []
   },
   "outputs": [
    {
     "data": {
      "text/plain": [
       "(891, 12)"
      ]
     },
     "execution_count": 3,
     "metadata": {},
     "output_type": "execute_result"
    }
   ],
   "source": [
    "train_data.shape"
   ]
  },
  {
   "cell_type": "code",
   "execution_count": 4,
   "id": "ae898f61",
   "metadata": {
    "execution": {
     "iopub.execute_input": "2022-02-11T17:44:27.758753Z",
     "iopub.status.busy": "2022-02-11T17:44:27.757789Z",
     "iopub.status.idle": "2022-02-11T17:44:29.387800Z",
     "shell.execute_reply": "2022-02-11T17:44:29.388339Z",
     "shell.execute_reply.started": "2022-02-11T17:40:48.316271Z"
    },
    "papermill": {
     "duration": 1.674631,
     "end_time": "2022-02-11T17:44:29.388544",
     "exception": false,
     "start_time": "2022-02-11T17:44:27.713913",
     "status": "completed"
    },
    "tags": []
   },
   "outputs": [],
   "source": [
    "# Algorithms\n",
    "from sklearn import linear_model\n",
    "from sklearn.linear_model import LogisticRegression\n",
    "from sklearn.ensemble import RandomForestClassifier\n",
    "from sklearn.linear_model import Perceptron\n",
    "from sklearn.linear_model import SGDClassifier\n",
    "from sklearn.tree import DecisionTreeClassifier\n",
    "from sklearn.neighbors import KNeighborsClassifier\n",
    "from sklearn.svm import SVC, LinearSVC\n",
    "from sklearn.naive_bayes import GaussianNB"
   ]
  },
  {
   "cell_type": "code",
   "execution_count": 5,
   "id": "58074816",
   "metadata": {
    "execution": {
     "iopub.execute_input": "2022-02-11T17:44:29.462558Z",
     "iopub.status.busy": "2022-02-11T17:44:29.460507Z",
     "iopub.status.idle": "2022-02-11T17:44:29.474737Z",
     "shell.execute_reply": "2022-02-11T17:44:29.475237Z",
     "shell.execute_reply.started": "2022-02-11T17:40:48.494477Z"
    },
    "papermill": {
     "duration": 0.052237,
     "end_time": "2022-02-11T17:44:29.475423",
     "exception": false,
     "start_time": "2022-02-11T17:44:29.423186",
     "status": "completed"
    },
    "tags": []
   },
   "outputs": [],
   "source": [
    "test_data = pd.read_csv('/kaggle/input/titanic/test.csv')"
   ]
  },
  {
   "cell_type": "code",
   "execution_count": 6,
   "id": "c7b2e846",
   "metadata": {
    "execution": {
     "iopub.execute_input": "2022-02-11T17:44:29.562853Z",
     "iopub.status.busy": "2022-02-11T17:44:29.548035Z",
     "iopub.status.idle": "2022-02-11T17:44:29.566364Z",
     "shell.execute_reply": "2022-02-11T17:44:29.566910Z",
     "shell.execute_reply.started": "2022-02-11T17:40:48.650898Z"
    },
    "papermill": {
     "duration": 0.056241,
     "end_time": "2022-02-11T17:44:29.567086",
     "exception": false,
     "start_time": "2022-02-11T17:44:29.510845",
     "status": "completed"
    },
    "tags": []
   },
   "outputs": [
    {
     "data": {
      "text/html": [
       "<div>\n",
       "<style scoped>\n",
       "    .dataframe tbody tr th:only-of-type {\n",
       "        vertical-align: middle;\n",
       "    }\n",
       "\n",
       "    .dataframe tbody tr th {\n",
       "        vertical-align: top;\n",
       "    }\n",
       "\n",
       "    .dataframe thead th {\n",
       "        text-align: right;\n",
       "    }\n",
       "</style>\n",
       "<table border=\"1\" class=\"dataframe\">\n",
       "  <thead>\n",
       "    <tr style=\"text-align: right;\">\n",
       "      <th></th>\n",
       "      <th>PassengerId</th>\n",
       "      <th>Pclass</th>\n",
       "      <th>Name</th>\n",
       "      <th>Sex</th>\n",
       "      <th>Age</th>\n",
       "      <th>SibSp</th>\n",
       "      <th>Parch</th>\n",
       "      <th>Ticket</th>\n",
       "      <th>Fare</th>\n",
       "      <th>Cabin</th>\n",
       "      <th>Embarked</th>\n",
       "    </tr>\n",
       "  </thead>\n",
       "  <tbody>\n",
       "    <tr>\n",
       "      <th>0</th>\n",
       "      <td>892</td>\n",
       "      <td>3</td>\n",
       "      <td>Kelly, Mr. James</td>\n",
       "      <td>male</td>\n",
       "      <td>34.5</td>\n",
       "      <td>0</td>\n",
       "      <td>0</td>\n",
       "      <td>330911</td>\n",
       "      <td>7.8292</td>\n",
       "      <td>NaN</td>\n",
       "      <td>Q</td>\n",
       "    </tr>\n",
       "    <tr>\n",
       "      <th>1</th>\n",
       "      <td>893</td>\n",
       "      <td>3</td>\n",
       "      <td>Wilkes, Mrs. James (Ellen Needs)</td>\n",
       "      <td>female</td>\n",
       "      <td>47.0</td>\n",
       "      <td>1</td>\n",
       "      <td>0</td>\n",
       "      <td>363272</td>\n",
       "      <td>7.0000</td>\n",
       "      <td>NaN</td>\n",
       "      <td>S</td>\n",
       "    </tr>\n",
       "    <tr>\n",
       "      <th>2</th>\n",
       "      <td>894</td>\n",
       "      <td>2</td>\n",
       "      <td>Myles, Mr. Thomas Francis</td>\n",
       "      <td>male</td>\n",
       "      <td>62.0</td>\n",
       "      <td>0</td>\n",
       "      <td>0</td>\n",
       "      <td>240276</td>\n",
       "      <td>9.6875</td>\n",
       "      <td>NaN</td>\n",
       "      <td>Q</td>\n",
       "    </tr>\n",
       "    <tr>\n",
       "      <th>3</th>\n",
       "      <td>895</td>\n",
       "      <td>3</td>\n",
       "      <td>Wirz, Mr. Albert</td>\n",
       "      <td>male</td>\n",
       "      <td>27.0</td>\n",
       "      <td>0</td>\n",
       "      <td>0</td>\n",
       "      <td>315154</td>\n",
       "      <td>8.6625</td>\n",
       "      <td>NaN</td>\n",
       "      <td>S</td>\n",
       "    </tr>\n",
       "    <tr>\n",
       "      <th>4</th>\n",
       "      <td>896</td>\n",
       "      <td>3</td>\n",
       "      <td>Hirvonen, Mrs. Alexander (Helga E Lindqvist)</td>\n",
       "      <td>female</td>\n",
       "      <td>22.0</td>\n",
       "      <td>1</td>\n",
       "      <td>1</td>\n",
       "      <td>3101298</td>\n",
       "      <td>12.2875</td>\n",
       "      <td>NaN</td>\n",
       "      <td>S</td>\n",
       "    </tr>\n",
       "  </tbody>\n",
       "</table>\n",
       "</div>"
      ],
      "text/plain": [
       "   PassengerId  Pclass                                          Name     Sex  \\\n",
       "0          892       3                              Kelly, Mr. James    male   \n",
       "1          893       3              Wilkes, Mrs. James (Ellen Needs)  female   \n",
       "2          894       2                     Myles, Mr. Thomas Francis    male   \n",
       "3          895       3                              Wirz, Mr. Albert    male   \n",
       "4          896       3  Hirvonen, Mrs. Alexander (Helga E Lindqvist)  female   \n",
       "\n",
       "    Age  SibSp  Parch   Ticket     Fare Cabin Embarked  \n",
       "0  34.5      0      0   330911   7.8292   NaN        Q  \n",
       "1  47.0      1      0   363272   7.0000   NaN        S  \n",
       "2  62.0      0      0   240276   9.6875   NaN        Q  \n",
       "3  27.0      0      0   315154   8.6625   NaN        S  \n",
       "4  22.0      1      1  3101298  12.2875   NaN        S  "
      ]
     },
     "execution_count": 6,
     "metadata": {},
     "output_type": "execute_result"
    }
   ],
   "source": [
    "test_data.head()"
   ]
  },
  {
   "cell_type": "code",
   "execution_count": 7,
   "id": "8bff00e9",
   "metadata": {
    "execution": {
     "iopub.execute_input": "2022-02-11T17:44:29.639447Z",
     "iopub.status.busy": "2022-02-11T17:44:29.638729Z",
     "iopub.status.idle": "2022-02-11T17:44:29.654801Z",
     "shell.execute_reply": "2022-02-11T17:44:29.655443Z",
     "shell.execute_reply.started": "2022-02-11T17:40:48.906898Z"
    },
    "papermill": {
     "duration": 0.053897,
     "end_time": "2022-02-11T17:44:29.655632",
     "exception": false,
     "start_time": "2022-02-11T17:44:29.601735",
     "status": "completed"
    },
    "tags": []
   },
   "outputs": [
    {
     "name": "stdout",
     "output_type": "stream",
     "text": [
      "The percent of women who survived was 0.7420382165605095\n"
     ]
    }
   ],
   "source": [
    "women = train_data.loc[train_data['Sex']=='female']['Survived']\n",
    "rate_women = sum(women)/len(women)\n",
    "\n",
    "print('The percent of women who survived was ' + str(rate_women))"
   ]
  },
  {
   "cell_type": "code",
   "execution_count": 8,
   "id": "00c20f81",
   "metadata": {
    "execution": {
     "iopub.execute_input": "2022-02-11T17:44:29.734289Z",
     "iopub.status.busy": "2022-02-11T17:44:29.733564Z",
     "iopub.status.idle": "2022-02-11T17:44:29.738543Z",
     "shell.execute_reply": "2022-02-11T17:44:29.739613Z",
     "shell.execute_reply.started": "2022-02-11T17:40:49.475402Z"
    },
    "papermill": {
     "duration": 0.049524,
     "end_time": "2022-02-11T17:44:29.739922",
     "exception": false,
     "start_time": "2022-02-11T17:44:29.690398",
     "status": "completed"
    },
    "tags": []
   },
   "outputs": [
    {
     "name": "stdout",
     "output_type": "stream",
     "text": [
      "The percent of men who survived was 0.18890814558058924\n"
     ]
    }
   ],
   "source": [
    "men = train_data.loc[train_data.Sex == 'male']['Survived']\n",
    "rate_men = sum(men)/len(men)\n",
    "\n",
    "print('The percent of men who survived was ' + str(rate_men))"
   ]
  },
  {
   "cell_type": "code",
   "execution_count": 9,
   "id": "c316054c",
   "metadata": {
    "execution": {
     "iopub.execute_input": "2022-02-11T17:44:29.814611Z",
     "iopub.status.busy": "2022-02-11T17:44:29.813894Z",
     "iopub.status.idle": "2022-02-11T17:44:29.823665Z",
     "shell.execute_reply": "2022-02-11T17:44:29.824543Z",
     "shell.execute_reply.started": "2022-02-11T17:40:49.652996Z"
    },
    "papermill": {
     "duration": 0.049406,
     "end_time": "2022-02-11T17:44:29.824844",
     "exception": false,
     "start_time": "2022-02-11T17:44:29.775438",
     "status": "completed"
    },
    "tags": []
   },
   "outputs": [
    {
     "name": "stdout",
     "output_type": "stream",
     "text": [
      "The percent of children who survived was 0.5398230088495575\n"
     ]
    }
   ],
   "source": [
    "children = train_data.loc[train_data['Age']<18]['Survived']\n",
    "rate_children = sum(children)/len(children)\n",
    "\n",
    "print('The percent of children who survived was ' + str(rate_children))"
   ]
  },
  {
   "cell_type": "code",
   "execution_count": 10,
   "id": "22444230",
   "metadata": {
    "execution": {
     "iopub.execute_input": "2022-02-11T17:44:29.909694Z",
     "iopub.status.busy": "2022-02-11T17:44:29.908972Z",
     "iopub.status.idle": "2022-02-11T17:44:29.915465Z",
     "shell.execute_reply": "2022-02-11T17:44:29.914884Z",
     "shell.execute_reply.started": "2022-02-11T17:40:49.795858Z"
    },
    "papermill": {
     "duration": 0.051359,
     "end_time": "2022-02-11T17:44:29.915637",
     "exception": false,
     "start_time": "2022-02-11T17:44:29.864278",
     "status": "completed"
    },
    "tags": []
   },
   "outputs": [
    {
     "name": "stdout",
     "output_type": "stream",
     "text": [
      "The percent of adults who survived was 0.3810316139767055\n"
     ]
    }
   ],
   "source": [
    "adults = train_data.loc[train_data['Age']>=18]['Survived']\n",
    "rate_adults = sum(adults)/len(adults)\n",
    "\n",
    "print('The percent of adults who survived was ' + str(rate_adults))"
   ]
  },
  {
   "cell_type": "code",
   "execution_count": null,
   "id": "15f6c17e",
   "metadata": {
    "papermill": {
     "duration": 0.035536,
     "end_time": "2022-02-11T17:44:29.987131",
     "exception": false,
     "start_time": "2022-02-11T17:44:29.951595",
     "status": "completed"
    },
    "tags": []
   },
   "outputs": [],
   "source": []
  },
  {
   "cell_type": "code",
   "execution_count": null,
   "id": "84a75bd7",
   "metadata": {
    "papermill": {
     "duration": 0.035729,
     "end_time": "2022-02-11T17:44:30.058182",
     "exception": false,
     "start_time": "2022-02-11T17:44:30.022453",
     "status": "completed"
    },
    "tags": []
   },
   "outputs": [],
   "source": []
  },
  {
   "cell_type": "markdown",
   "id": "ac3e2069",
   "metadata": {
    "papermill": {
     "duration": 0.035015,
     "end_time": "2022-02-11T17:44:30.129044",
     "exception": false,
     "start_time": "2022-02-11T17:44:30.094029",
     "status": "completed"
    },
    "tags": []
   },
   "source": []
  },
  {
   "cell_type": "markdown",
   "id": "5cc3b82c",
   "metadata": {
    "papermill": {
     "duration": 0.04351,
     "end_time": "2022-02-11T17:44:30.216757",
     "exception": false,
     "start_time": "2022-02-11T17:44:30.173247",
     "status": "completed"
    },
    "tags": []
   },
   "source": []
  },
  {
   "cell_type": "code",
   "execution_count": 11,
   "id": "3c273b3f",
   "metadata": {
    "execution": {
     "iopub.execute_input": "2022-02-11T17:44:30.301163Z",
     "iopub.status.busy": "2022-02-11T17:44:30.295334Z",
     "iopub.status.idle": "2022-02-11T17:44:30.310257Z",
     "shell.execute_reply": "2022-02-11T17:44:30.309603Z",
     "shell.execute_reply.started": "2022-02-11T17:40:51.231416Z"
    },
    "papermill": {
     "duration": 0.054006,
     "end_time": "2022-02-11T17:44:30.310404",
     "exception": false,
     "start_time": "2022-02-11T17:44:30.256398",
     "status": "completed"
    },
    "tags": []
   },
   "outputs": [
    {
     "data": {
      "text/plain": [
       "B96 B98        4\n",
       "G6             4\n",
       "C23 C25 C27    4\n",
       "C22 C26        3\n",
       "F33            3\n",
       "              ..\n",
       "E34            1\n",
       "C7             1\n",
       "C54            1\n",
       "E36            1\n",
       "C148           1\n",
       "Name: Cabin, Length: 147, dtype: int64"
      ]
     },
     "execution_count": 11,
     "metadata": {},
     "output_type": "execute_result"
    }
   ],
   "source": [
    "train_data.Cabin.value_counts()"
   ]
  },
  {
   "cell_type": "code",
   "execution_count": 12,
   "id": "8427e782",
   "metadata": {
    "execution": {
     "iopub.execute_input": "2022-02-11T17:44:30.393132Z",
     "iopub.status.busy": "2022-02-11T17:44:30.392465Z",
     "iopub.status.idle": "2022-02-11T17:44:30.394412Z",
     "shell.execute_reply": "2022-02-11T17:44:30.394969Z",
     "shell.execute_reply.started": "2022-02-11T17:40:51.423309Z"
    },
    "papermill": {
     "duration": 0.048527,
     "end_time": "2022-02-11T17:44:30.395142",
     "exception": false,
     "start_time": "2022-02-11T17:44:30.346615",
     "status": "completed"
    },
    "tags": []
   },
   "outputs": [],
   "source": [
    "train_data['HasCabin'] = np.where(train_data.Cabin.isnull() == True, False, True)\n",
    "test_data['HasCabin'] = np.where(test_data.Cabin.isnull() == True, False, True)"
   ]
  },
  {
   "cell_type": "code",
   "execution_count": 13,
   "id": "b4862343",
   "metadata": {
    "execution": {
     "iopub.execute_input": "2022-02-11T17:44:30.470430Z",
     "iopub.status.busy": "2022-02-11T17:44:30.469778Z",
     "iopub.status.idle": "2022-02-11T17:44:30.476781Z",
     "shell.execute_reply": "2022-02-11T17:44:30.477247Z",
     "shell.execute_reply.started": "2022-02-11T17:40:51.572561Z"
    },
    "papermill": {
     "duration": 0.046472,
     "end_time": "2022-02-11T17:44:30.477421",
     "exception": false,
     "start_time": "2022-02-11T17:44:30.430949",
     "status": "completed"
    },
    "tags": []
   },
   "outputs": [
    {
     "data": {
      "text/plain": [
       "204"
      ]
     },
     "execution_count": 13,
     "metadata": {},
     "output_type": "execute_result"
    }
   ],
   "source": [
    "train_data.HasCabin.sum()"
   ]
  },
  {
   "cell_type": "code",
   "execution_count": 14,
   "id": "f9ef028a",
   "metadata": {
    "execution": {
     "iopub.execute_input": "2022-02-11T17:44:30.553309Z",
     "iopub.status.busy": "2022-02-11T17:44:30.552605Z",
     "iopub.status.idle": "2022-02-11T17:44:30.561544Z",
     "shell.execute_reply": "2022-02-11T17:44:30.562043Z",
     "shell.execute_reply.started": "2022-02-11T17:40:51.721988Z"
    },
    "papermill": {
     "duration": 0.048793,
     "end_time": "2022-02-11T17:44:30.562220",
     "exception": false,
     "start_time": "2022-02-11T17:44:30.513427",
     "status": "completed"
    },
    "tags": []
   },
   "outputs": [],
   "source": [
    "features = ['Pclass', 'Sex', 'Age', 'SibSp', 'Parch', 'Fare', 'Embarked']\n",
    "\n",
    "y_train = train_data['Survived']\n",
    "train_data1 = train_data[features]\n",
    "test_data1 = test_data[features]"
   ]
  },
  {
   "cell_type": "code",
   "execution_count": 15,
   "id": "06372bae",
   "metadata": {
    "execution": {
     "iopub.execute_input": "2022-02-11T17:44:30.651501Z",
     "iopub.status.busy": "2022-02-11T17:44:30.650636Z",
     "iopub.status.idle": "2022-02-11T17:44:30.666231Z",
     "shell.execute_reply": "2022-02-11T17:44:30.665617Z",
     "shell.execute_reply.started": "2022-02-11T17:40:51.835940Z"
    },
    "papermill": {
     "duration": 0.068125,
     "end_time": "2022-02-11T17:44:30.666382",
     "exception": false,
     "start_time": "2022-02-11T17:44:30.598257",
     "status": "completed"
    },
    "tags": []
   },
   "outputs": [],
   "source": [
    "# Convert the categorical features in the train and test sets independently\n",
    "train_data_d = pd.get_dummies(train_data1)\n",
    "test_data_d = pd.get_dummies(test_data1)\n",
    "\n",
    "# Replace all missing values in age & Fare with mean value\n",
    "train_data_d['Age'] = train_data_d['Age'].fillna(train_data_d['Age'].median())\n",
    "test_data_d['Age'] = test_data_d['Age'].fillna(test_data_d['Age'].median())\n",
    "train_data_d['Fare'] = train_data_d['Fare'].fillna(train_data_d['Fare'].median())\n",
    "test_data_d['Fare'] = test_data_d['Fare'].fillna(test_data_d['Fare'].median())\n",
    "\n",
    "\n",
    "# Reindex the columns of the test set aligning with the train set\n",
    "test_data_d = test_data_d.reindex(columns=train_data_d.columns, fill_value=0)"
   ]
  },
  {
   "cell_type": "code",
   "execution_count": 16,
   "id": "eaf61aec",
   "metadata": {
    "execution": {
     "iopub.execute_input": "2022-02-11T17:44:30.746099Z",
     "iopub.status.busy": "2022-02-11T17:44:30.745096Z",
     "iopub.status.idle": "2022-02-11T17:44:30.752409Z",
     "shell.execute_reply": "2022-02-11T17:44:30.753044Z",
     "shell.execute_reply.started": "2022-02-11T17:40:51.963640Z"
    },
    "papermill": {
     "duration": 0.050739,
     "end_time": "2022-02-11T17:44:30.753231",
     "exception": false,
     "start_time": "2022-02-11T17:44:30.702492",
     "status": "completed"
    },
    "tags": []
   },
   "outputs": [
    {
     "name": "stdout",
     "output_type": "stream",
     "text": [
      "(891, 10)\n",
      "Pclass        0\n",
      "Age           0\n",
      "SibSp         0\n",
      "Parch         0\n",
      "Fare          0\n",
      "Sex_female    0\n",
      "Sex_male      0\n",
      "Embarked_C    0\n",
      "Embarked_Q    0\n",
      "Embarked_S    0\n",
      "dtype: int64\n"
     ]
    }
   ],
   "source": [
    "print(train_data_d.shape)\n",
    "print(test_data_d.isnull().sum())"
   ]
  },
  {
   "cell_type": "code",
   "execution_count": 17,
   "id": "dbfc508d",
   "metadata": {
    "execution": {
     "iopub.execute_input": "2022-02-11T17:44:30.836236Z",
     "iopub.status.busy": "2022-02-11T17:44:30.835514Z",
     "iopub.status.idle": "2022-02-11T17:44:30.847689Z",
     "shell.execute_reply": "2022-02-11T17:44:30.847159Z",
     "shell.execute_reply.started": "2022-02-11T17:40:52.113414Z"
    },
    "papermill": {
     "duration": 0.057618,
     "end_time": "2022-02-11T17:44:30.847890",
     "exception": false,
     "start_time": "2022-02-11T17:44:30.790272",
     "status": "completed"
    },
    "tags": []
   },
   "outputs": [],
   "source": [
    "# Import MinMaxScaler\n",
    "from sklearn.preprocessing import MinMaxScaler\n",
    "\n",
    "# Instantiate MinMaxScaler and use it to rescale X_train and X_test\n",
    "scaler = MinMaxScaler(feature_range=(0,1))\n",
    "train_data_rescaled = scaler.fit_transform(train_data_d)\n",
    "test_data_rescaled = scaler.fit_transform(test_data_d)"
   ]
  },
  {
   "cell_type": "code",
   "execution_count": null,
   "id": "abf495ef",
   "metadata": {
    "papermill": {
     "duration": 0.036607,
     "end_time": "2022-02-11T17:44:30.920997",
     "exception": false,
     "start_time": "2022-02-11T17:44:30.884390",
     "status": "completed"
    },
    "tags": []
   },
   "outputs": [],
   "source": []
  },
  {
   "cell_type": "code",
   "execution_count": 18,
   "id": "460f4fe2",
   "metadata": {
    "execution": {
     "iopub.execute_input": "2022-02-11T17:44:31.005808Z",
     "iopub.status.busy": "2022-02-11T17:44:31.002462Z",
     "iopub.status.idle": "2022-02-11T17:44:31.009988Z",
     "shell.execute_reply": "2022-02-11T17:44:31.009301Z",
     "shell.execute_reply.started": "2022-02-11T17:40:52.390104Z"
    },
    "papermill": {
     "duration": 0.051864,
     "end_time": "2022-02-11T17:44:31.010148",
     "exception": false,
     "start_time": "2022-02-11T17:44:30.958284",
     "status": "completed"
    },
    "tags": []
   },
   "outputs": [
    {
     "data": {
      "text/plain": [
       "Pclass        0\n",
       "Age           0\n",
       "SibSp         0\n",
       "Parch         0\n",
       "Fare          0\n",
       "Sex_female    0\n",
       "Sex_male      0\n",
       "Embarked_C    0\n",
       "Embarked_Q    0\n",
       "Embarked_S    0\n",
       "dtype: int64"
      ]
     },
     "execution_count": 18,
     "metadata": {},
     "output_type": "execute_result"
    }
   ],
   "source": [
    "train_data_d.isnull().sum()"
   ]
  },
  {
   "cell_type": "code",
   "execution_count": 19,
   "id": "6baeacdc",
   "metadata": {
    "execution": {
     "iopub.execute_input": "2022-02-11T17:44:31.096855Z",
     "iopub.status.busy": "2022-02-11T17:44:31.095603Z",
     "iopub.status.idle": "2022-02-11T17:44:31.122364Z",
     "shell.execute_reply": "2022-02-11T17:44:31.123214Z",
     "shell.execute_reply.started": "2022-02-11T17:40:52.868007Z"
    },
    "papermill": {
     "duration": 0.074216,
     "end_time": "2022-02-11T17:44:31.123454",
     "exception": false,
     "start_time": "2022-02-11T17:44:31.049238",
     "status": "completed"
    },
    "tags": []
   },
   "outputs": [
    {
     "data": {
      "text/plain": [
       "LogisticRegression()"
      ]
     },
     "execution_count": 19,
     "metadata": {},
     "output_type": "execute_result"
    }
   ],
   "source": [
    "# Import LogisticRegression\n",
    "from sklearn.linear_model import LogisticRegression\n",
    "\n",
    "# Instantiate a LogisticRegression classifier with default parameter values\n",
    "logreg = LogisticRegression()\n",
    "\n",
    "# Fit logreg to the train set\n",
    "logreg.fit(train_data_rescaled, y_train)"
   ]
  },
  {
   "cell_type": "code",
   "execution_count": 20,
   "id": "6306f0e7",
   "metadata": {
    "execution": {
     "iopub.execute_input": "2022-02-11T17:44:31.209252Z",
     "iopub.status.busy": "2022-02-11T17:44:31.206121Z",
     "iopub.status.idle": "2022-02-11T17:44:31.212934Z",
     "shell.execute_reply": "2022-02-11T17:44:31.212359Z",
     "shell.execute_reply.started": "2022-02-11T17:40:53.485232Z"
    },
    "papermill": {
     "duration": 0.049977,
     "end_time": "2022-02-11T17:44:31.213094",
     "exception": false,
     "start_time": "2022-02-11T17:44:31.163117",
     "status": "completed"
    },
    "tags": []
   },
   "outputs": [],
   "source": [
    "# Import GridSearchCV\n",
    "from sklearn.model_selection import GridSearchCV\n",
    "\n",
    "# Define the grid of values for tol and max_iter\n",
    "tol = [0.01,0.001,0.0001]\n",
    "max_iter = [100,150,200]\n",
    "\n",
    "# Create a dictionary where tol and max_iter are keys and the lists of their values are corresponding values\n",
    "param_grid = dict(tol=tol, max_iter=max_iter)"
   ]
  },
  {
   "cell_type": "code",
   "execution_count": 21,
   "id": "443ca547",
   "metadata": {
    "execution": {
     "iopub.execute_input": "2022-02-11T17:44:31.301226Z",
     "iopub.status.busy": "2022-02-11T17:44:31.300440Z",
     "iopub.status.idle": "2022-02-11T17:44:31.879220Z",
     "shell.execute_reply": "2022-02-11T17:44:31.878429Z",
     "shell.execute_reply.started": "2022-02-11T17:40:53.960667Z"
    },
    "papermill": {
     "duration": 0.625289,
     "end_time": "2022-02-11T17:44:31.879403",
     "exception": false,
     "start_time": "2022-02-11T17:44:31.254114",
     "status": "completed"
    },
    "tags": []
   },
   "outputs": [
    {
     "name": "stdout",
     "output_type": "stream",
     "text": [
      "Best: 0.790126 using {'max_iter': 100, 'tol': 0.01}\n",
      "LogisticRegression(tol=0.01)\n"
     ]
    }
   ],
   "source": [
    "# Instantiate GridSearchCV with the required parameters\n",
    "grid_model = GridSearchCV(estimator=logreg, param_grid=param_grid, cv=5)\n",
    "\n",
    "# Fit grid_model to the data\n",
    "grid_model_result = grid_model.fit(train_data_rescaled, y_train)\n",
    "\n",
    "# Summarize results\n",
    "best_score, best_params = grid_model_result.best_score_, grid_model_result.best_params_\n",
    "print(\"Best: %f using %s\" % (best_score, best_params))\n",
    "\n",
    "# Extract the best model and evaluate it on the test set\n",
    "best_model = grid_model_result.best_estimator_\n",
    "print(best_model)\n",
    "#print(\"Accuracy of logistic regression classifier: \", best_model.score(rescaledX_test,y_test))"
   ]
  },
  {
   "cell_type": "code",
   "execution_count": 22,
   "id": "0b848b70",
   "metadata": {
    "execution": {
     "iopub.execute_input": "2022-02-11T17:44:31.968324Z",
     "iopub.status.busy": "2022-02-11T17:44:31.967600Z",
     "iopub.status.idle": "2022-02-11T17:44:31.977592Z",
     "shell.execute_reply": "2022-02-11T17:44:31.976478Z",
     "shell.execute_reply.started": "2022-02-11T17:40:54.576844Z"
    },
    "papermill": {
     "duration": 0.057869,
     "end_time": "2022-02-11T17:44:31.977769",
     "exception": false,
     "start_time": "2022-02-11T17:44:31.919900",
     "status": "completed"
    },
    "tags": []
   },
   "outputs": [
    {
     "name": "stdout",
     "output_type": "stream",
     "text": [
      "Your test submission was successfully saved!!\n"
     ]
    }
   ],
   "source": [
    "# Final for output\n",
    "predictions = best_model.predict(test_data_rescaled)\n",
    "\n",
    "output = pd.DataFrame({'PassengerId': test_data.PassengerId, 'Survived': predictions})\n",
    "\n",
    "output.to_csv('Submission-Logistic-Regression-Median.csv', index=False)\n",
    "print('Your test submission was successfully saved!!')"
   ]
  },
  {
   "cell_type": "code",
   "execution_count": 23,
   "id": "fafcebf0",
   "metadata": {
    "execution": {
     "iopub.execute_input": "2022-02-11T17:44:32.068644Z",
     "iopub.status.busy": "2022-02-11T17:44:32.067903Z",
     "iopub.status.idle": "2022-02-11T17:44:32.070180Z",
     "shell.execute_reply": "2022-02-11T17:44:32.069520Z",
     "shell.execute_reply.started": "2022-02-11T17:41:23.815177Z"
    },
    "papermill": {
     "duration": 0.048645,
     "end_time": "2022-02-11T17:44:32.070342",
     "exception": false,
     "start_time": "2022-02-11T17:44:32.021697",
     "status": "completed"
    },
    "tags": []
   },
   "outputs": [],
   "source": [
    "X_train = train_data_rescaled\n",
    "X_test = test_data_rescaled\n",
    "Y_train = y_train"
   ]
  },
  {
   "cell_type": "code",
   "execution_count": 24,
   "id": "861871de",
   "metadata": {
    "execution": {
     "iopub.execute_input": "2022-02-11T17:44:32.165611Z",
     "iopub.status.busy": "2022-02-11T17:44:32.164924Z",
     "iopub.status.idle": "2022-02-11T17:44:32.170951Z",
     "shell.execute_reply": "2022-02-11T17:44:32.170302Z",
     "shell.execute_reply.started": "2022-02-11T17:41:35.534402Z"
    },
    "papermill": {
     "duration": 0.05832,
     "end_time": "2022-02-11T17:44:32.171124",
     "exception": false,
     "start_time": "2022-02-11T17:44:32.112804",
     "status": "completed"
    },
    "tags": []
   },
   "outputs": [],
   "source": [
    "#Stochastic Gradient Descent (SGD):\n",
    "sgd = linear_model.SGDClassifier(max_iter=5, tol=None)\n",
    "sgd.fit(X_train, Y_train)\n",
    "Y_pred = sgd.predict(X_test)\n",
    "\n",
    "sgd.score(X_train, Y_train)\n",
    "\n",
    "acc_sgd = round(sgd.score(X_train, Y_train) * 100, 2)"
   ]
  },
  {
   "cell_type": "code",
   "execution_count": 25,
   "id": "3cdbc527",
   "metadata": {
    "execution": {
     "iopub.execute_input": "2022-02-11T17:44:32.257918Z",
     "iopub.status.busy": "2022-02-11T17:44:32.257231Z",
     "iopub.status.idle": "2022-02-11T17:44:32.553221Z",
     "shell.execute_reply": "2022-02-11T17:44:32.552459Z",
     "shell.execute_reply.started": "2022-02-11T17:41:38.619508Z"
    },
    "papermill": {
     "duration": 0.340729,
     "end_time": "2022-02-11T17:44:32.553410",
     "exception": false,
     "start_time": "2022-02-11T17:44:32.212681",
     "status": "completed"
    },
    "tags": []
   },
   "outputs": [],
   "source": [
    "#Random Forest:\n",
    "random_forest = RandomForestClassifier(n_estimators=100)\n",
    "random_forest.fit(X_train, Y_train)\n",
    "\n",
    "Y_prediction = random_forest.predict(X_test)\n",
    "\n",
    "random_forest.score(X_train, Y_train)\n",
    "acc_random_forest = round(random_forest.score(X_train, Y_train) * 100, 2)"
   ]
  },
  {
   "cell_type": "code",
   "execution_count": 26,
   "id": "6eb28ac7",
   "metadata": {
    "execution": {
     "iopub.execute_input": "2022-02-11T17:44:32.644674Z",
     "iopub.status.busy": "2022-02-11T17:44:32.643603Z",
     "iopub.status.idle": "2022-02-11T17:44:32.666116Z",
     "shell.execute_reply": "2022-02-11T17:44:32.665541Z",
     "shell.execute_reply.started": "2022-02-11T17:41:39.181433Z"
    },
    "papermill": {
     "duration": 0.067685,
     "end_time": "2022-02-11T17:44:32.666300",
     "exception": false,
     "start_time": "2022-02-11T17:44:32.598615",
     "status": "completed"
    },
    "tags": []
   },
   "outputs": [],
   "source": [
    "#Logistic Regression\n",
    "logreg = LogisticRegression()\n",
    "logreg.fit(X_train, Y_train)\n",
    "\n",
    "Y_pred = logreg.predict(X_test)\n",
    "\n",
    "acc_log = round(logreg.score(X_train, Y_train) * 100, 2)"
   ]
  },
  {
   "cell_type": "code",
   "execution_count": 27,
   "id": "9afdbe9b",
   "metadata": {
    "execution": {
     "iopub.execute_input": "2022-02-11T17:44:32.762549Z",
     "iopub.status.busy": "2022-02-11T17:44:32.761793Z",
     "iopub.status.idle": "2022-02-11T17:44:32.825375Z",
     "shell.execute_reply": "2022-02-11T17:44:32.824748Z",
     "shell.execute_reply.started": "2022-02-11T17:41:39.578804Z"
    },
    "papermill": {
     "duration": 0.115619,
     "end_time": "2022-02-11T17:44:32.825525",
     "exception": false,
     "start_time": "2022-02-11T17:44:32.709906",
     "status": "completed"
    },
    "tags": []
   },
   "outputs": [],
   "source": [
    "#K Nearest Neighbor:\n",
    "knn = KNeighborsClassifier(n_neighbors = 3) \n",
    "knn.fit(X_train, Y_train)  \n",
    "Y_pred = knn.predict(X_test)  \n",
    "acc_knn = round(knn.score(X_train, Y_train) * 100, 2)"
   ]
  },
  {
   "cell_type": "code",
   "execution_count": 28,
   "id": "60641d45",
   "metadata": {
    "execution": {
     "iopub.execute_input": "2022-02-11T17:44:32.917629Z",
     "iopub.status.busy": "2022-02-11T17:44:32.916976Z",
     "iopub.status.idle": "2022-02-11T17:44:32.923240Z",
     "shell.execute_reply": "2022-02-11T17:44:32.922542Z",
     "shell.execute_reply.started": "2022-02-11T17:41:40.005654Z"
    },
    "papermill": {
     "duration": 0.055966,
     "end_time": "2022-02-11T17:44:32.923397",
     "exception": false,
     "start_time": "2022-02-11T17:44:32.867431",
     "status": "completed"
    },
    "tags": []
   },
   "outputs": [],
   "source": [
    "# Gaussian Naive Bayes:\n",
    "gaussian = GaussianNB() \n",
    "gaussian.fit(X_train, Y_train)  \n",
    "Y_pred = gaussian.predict(X_test)  \n",
    "acc_gaussian = round(gaussian.score(X_train, Y_train) * 100, 2)"
   ]
  },
  {
   "cell_type": "code",
   "execution_count": 29,
   "id": "b6003f02",
   "metadata": {
    "execution": {
     "iopub.execute_input": "2022-02-11T17:44:33.007264Z",
     "iopub.status.busy": "2022-02-11T17:44:33.006297Z",
     "iopub.status.idle": "2022-02-11T17:44:33.018175Z",
     "shell.execute_reply": "2022-02-11T17:44:33.017537Z",
     "shell.execute_reply.started": "2022-02-11T17:41:40.709908Z"
    },
    "papermill": {
     "duration": 0.056897,
     "end_time": "2022-02-11T17:44:33.018331",
     "exception": false,
     "start_time": "2022-02-11T17:44:32.961434",
     "status": "completed"
    },
    "tags": []
   },
   "outputs": [
    {
     "name": "stderr",
     "output_type": "stream",
     "text": [
      "/opt/conda/lib/python3.7/site-packages/sklearn/linear_model/_stochastic_gradient.py:573: ConvergenceWarning: Maximum number of iteration reached before convergence. Consider increasing max_iter to improve the fit.\n",
      "  ConvergenceWarning)\n"
     ]
    }
   ],
   "source": [
    "# Perceptron:\n",
    "perceptron = Perceptron(max_iter=5)\n",
    "perceptron.fit(X_train, Y_train)\n",
    "\n",
    "Y_pred = perceptron.predict(X_test)\n",
    "\n",
    "acc_perceptron = round(perceptron.score(X_train, Y_train) * 100, 2)"
   ]
  },
  {
   "cell_type": "code",
   "execution_count": 30,
   "id": "f6694fd2",
   "metadata": {
    "execution": {
     "iopub.execute_input": "2022-02-11T17:44:33.099419Z",
     "iopub.status.busy": "2022-02-11T17:44:33.098723Z",
     "iopub.status.idle": "2022-02-11T17:44:33.111284Z",
     "shell.execute_reply": "2022-02-11T17:44:33.111852Z",
     "shell.execute_reply.started": "2022-02-11T17:41:49.137166Z"
    },
    "papermill": {
     "duration": 0.054674,
     "end_time": "2022-02-11T17:44:33.112031",
     "exception": false,
     "start_time": "2022-02-11T17:44:33.057357",
     "status": "completed"
    },
    "tags": []
   },
   "outputs": [],
   "source": [
    "#Linear Support Vector Machine:\n",
    "linear_svc = LinearSVC()\n",
    "linear_svc.fit(X_train, Y_train)\n",
    "\n",
    "Y_pred = linear_svc.predict(X_test)\n",
    "\n",
    "acc_linear_svc = round(linear_svc.score(X_train, Y_train) * 100, 2)"
   ]
  },
  {
   "cell_type": "code",
   "execution_count": 31,
   "id": "d26ba7f0",
   "metadata": {
    "execution": {
     "iopub.execute_input": "2022-02-11T17:44:33.199689Z",
     "iopub.status.busy": "2022-02-11T17:44:33.199034Z",
     "iopub.status.idle": "2022-02-11T17:44:33.208971Z",
     "shell.execute_reply": "2022-02-11T17:44:33.209440Z",
     "shell.execute_reply.started": "2022-02-11T17:41:49.712662Z"
    },
    "papermill": {
     "duration": 0.053748,
     "end_time": "2022-02-11T17:44:33.209628",
     "exception": false,
     "start_time": "2022-02-11T17:44:33.155880",
     "status": "completed"
    },
    "tags": []
   },
   "outputs": [],
   "source": [
    "#Decision Tree\n",
    "decision_tree = DecisionTreeClassifier() \n",
    "decision_tree.fit(X_train, Y_train)  \n",
    "Y_pred = decision_tree.predict(X_test)  \n",
    "acc_decision_tree = round(decision_tree.score(X_train, Y_train) * 100, 2)"
   ]
  },
  {
   "cell_type": "code",
   "execution_count": 32,
   "id": "dad0e717",
   "metadata": {
    "execution": {
     "iopub.execute_input": "2022-02-11T17:44:33.291161Z",
     "iopub.status.busy": "2022-02-11T17:44:33.290426Z",
     "iopub.status.idle": "2022-02-11T17:44:33.305501Z",
     "shell.execute_reply": "2022-02-11T17:44:33.306040Z",
     "shell.execute_reply.started": "2022-02-11T17:41:50.260102Z"
    },
    "papermill": {
     "duration": 0.057917,
     "end_time": "2022-02-11T17:44:33.306227",
     "exception": false,
     "start_time": "2022-02-11T17:44:33.248310",
     "status": "completed"
    },
    "tags": []
   },
   "outputs": [
    {
     "data": {
      "text/html": [
       "<div>\n",
       "<style scoped>\n",
       "    .dataframe tbody tr th:only-of-type {\n",
       "        vertical-align: middle;\n",
       "    }\n",
       "\n",
       "    .dataframe tbody tr th {\n",
       "        vertical-align: top;\n",
       "    }\n",
       "\n",
       "    .dataframe thead th {\n",
       "        text-align: right;\n",
       "    }\n",
       "</style>\n",
       "<table border=\"1\" class=\"dataframe\">\n",
       "  <thead>\n",
       "    <tr style=\"text-align: right;\">\n",
       "      <th></th>\n",
       "      <th>Model</th>\n",
       "    </tr>\n",
       "    <tr>\n",
       "      <th>Score</th>\n",
       "      <th></th>\n",
       "    </tr>\n",
       "  </thead>\n",
       "  <tbody>\n",
       "    <tr>\n",
       "      <th>97.98</th>\n",
       "      <td>Random Forest</td>\n",
       "    </tr>\n",
       "    <tr>\n",
       "      <th>97.98</th>\n",
       "      <td>Decision Tree</td>\n",
       "    </tr>\n",
       "    <tr>\n",
       "      <th>87.54</th>\n",
       "      <td>KNN</td>\n",
       "    </tr>\n",
       "    <tr>\n",
       "      <th>80.02</th>\n",
       "      <td>Support Vector Machines</td>\n",
       "    </tr>\n",
       "    <tr>\n",
       "      <th>80.02</th>\n",
       "      <td>Logistic Regression</td>\n",
       "    </tr>\n",
       "    <tr>\n",
       "      <th>79.01</th>\n",
       "      <td>Naive Bayes</td>\n",
       "    </tr>\n",
       "    <tr>\n",
       "      <th>77.33</th>\n",
       "      <td>Stochastic Gradient Decent</td>\n",
       "    </tr>\n",
       "    <tr>\n",
       "      <th>73.29</th>\n",
       "      <td>Perceptron</td>\n",
       "    </tr>\n",
       "  </tbody>\n",
       "</table>\n",
       "</div>"
      ],
      "text/plain": [
       "                            Model\n",
       "Score                            \n",
       "97.98               Random Forest\n",
       "97.98               Decision Tree\n",
       "87.54                         KNN\n",
       "80.02     Support Vector Machines\n",
       "80.02         Logistic Regression\n",
       "79.01                 Naive Bayes\n",
       "77.33  Stochastic Gradient Decent\n",
       "73.29                  Perceptron"
      ]
     },
     "execution_count": 32,
     "metadata": {},
     "output_type": "execute_result"
    }
   ],
   "source": [
    "# which is best?\n",
    "results = pd.DataFrame({\n",
    "    'Model': ['Support Vector Machines', 'KNN', 'Logistic Regression', \n",
    "              'Random Forest', 'Naive Bayes', 'Perceptron', \n",
    "              'Stochastic Gradient Decent', \n",
    "              'Decision Tree'],\n",
    "    'Score': [acc_linear_svc, acc_knn, acc_log, \n",
    "              acc_random_forest, acc_gaussian, acc_perceptron, \n",
    "              acc_sgd, acc_decision_tree]})\n",
    "result_df = results.sort_values(by='Score', ascending=False)\n",
    "result_df = result_df.set_index('Score')\n",
    "result_df.head(9)"
   ]
  },
  {
   "cell_type": "code",
   "execution_count": null,
   "id": "cd64c756",
   "metadata": {
    "papermill": {
     "duration": 0.039202,
     "end_time": "2022-02-11T17:44:33.384459",
     "exception": false,
     "start_time": "2022-02-11T17:44:33.345257",
     "status": "completed"
    },
    "tags": []
   },
   "outputs": [],
   "source": []
  },
  {
   "cell_type": "code",
   "execution_count": 33,
   "id": "3d1de2dc",
   "metadata": {
    "execution": {
     "iopub.execute_input": "2022-02-11T17:44:33.468717Z",
     "iopub.status.busy": "2022-02-11T17:44:33.467832Z",
     "iopub.status.idle": "2022-02-11T17:44:33.482083Z",
     "shell.execute_reply": "2022-02-11T17:44:33.482784Z",
     "shell.execute_reply.started": "2022-02-11T17:43:45.458529Z"
    },
    "papermill": {
     "duration": 0.059934,
     "end_time": "2022-02-11T17:44:33.483049",
     "exception": false,
     "start_time": "2022-02-11T17:44:33.423115",
     "status": "completed"
    },
    "tags": []
   },
   "outputs": [
    {
     "name": "stdout",
     "output_type": "stream",
     "text": [
      "Your test submission was successfully saved!!\n"
     ]
    }
   ],
   "source": [
    "# Final for output - Decsision Tree\n",
    "predictions = decision_tree.predict(X_test) \n",
    "\n",
    "output = pd.DataFrame({'PassengerId': test_data.PassengerId, 'Survived': predictions})\n",
    "\n",
    "output.to_csv('Submission-Decision-Tree.csv', index=False)\n",
    "print('Your test submission was successfully saved!!')"
   ]
  },
  {
   "cell_type": "code",
   "execution_count": null,
   "id": "e4b5a5c9",
   "metadata": {
    "papermill": {
     "duration": 0.039047,
     "end_time": "2022-02-11T17:44:33.562572",
     "exception": false,
     "start_time": "2022-02-11T17:44:33.523525",
     "status": "completed"
    },
    "tags": []
   },
   "outputs": [],
   "source": []
  },
  {
   "cell_type": "code",
   "execution_count": null,
   "id": "6fd2d534",
   "metadata": {
    "papermill": {
     "duration": 0.038722,
     "end_time": "2022-02-11T17:44:33.640305",
     "exception": false,
     "start_time": "2022-02-11T17:44:33.601583",
     "status": "completed"
    },
    "tags": []
   },
   "outputs": [],
   "source": []
  },
  {
   "cell_type": "code",
   "execution_count": null,
   "id": "1a56220d",
   "metadata": {
    "papermill": {
     "duration": 0.038828,
     "end_time": "2022-02-11T17:44:33.718317",
     "exception": false,
     "start_time": "2022-02-11T17:44:33.679489",
     "status": "completed"
    },
    "tags": []
   },
   "outputs": [],
   "source": []
  }
 ],
 "metadata": {
  "kernelspec": {
   "display_name": "Python 3",
   "language": "python",
   "name": "python3"
  },
  "language_info": {
   "codemirror_mode": {
    "name": "ipython",
    "version": 3
   },
   "file_extension": ".py",
   "mimetype": "text/x-python",
   "name": "python",
   "nbconvert_exporter": "python",
   "pygments_lexer": "ipython3",
   "version": "3.7.12"
  },
  "papermill": {
   "default_parameters": {},
   "duration": 18.304884,
   "end_time": "2022-02-11T17:44:34.571175",
   "environment_variables": {},
   "exception": null,
   "input_path": "__notebook__.ipynb",
   "output_path": "__notebook__.ipynb",
   "parameters": {},
   "start_time": "2022-02-11T17:44:16.266291",
   "version": "2.3.3"
  }
 },
 "nbformat": 4,
 "nbformat_minor": 5
}
